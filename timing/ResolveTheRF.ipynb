{
 "cells": [
  {
   "cell_type": "code",
   "execution_count": 1,
   "id": "0f488e14",
   "metadata": {},
   "outputs": [
    {
     "name": "stdout",
     "output_type": "stream",
     "text": [
      "Welcome to JupyROOT 6.26/06\n"
     ]
    }
   ],
   "source": [
    "import ROOT as r\n",
    "import math\n",
    "import array\n",
    "import os\n",
    "import sys\n",
    "import pandas as pd\n",
    "\n",
    "import matplotlib.pyplot as plt\n",
    "import matplotlib.colors as mcolors\n",
    "from matplotlib.backends.backend_pdf import PdfPages\n",
    "\n",
    "from scipy.optimize import minimize\n",
    "from scipy.signal import find_peaks\n",
    "\n",
    "import numpy as np\n",
    "from scipy.optimize import curve_fit\n",
    "\n",
    "#______________Add include directory_______________\n",
    "current_dir = os.getcwd()\n",
    "include_dir = os.path.join(current_dir, '../include')\n",
    "sys.path.insert(0, include_dir)\n",
    "#__________________________________________________\n",
    "\n",
    "import CONFIG\n",
    "import DBPARSE\n",
    "from UTILITIES import *\n",
    "from SIMFITS2D import DistributionFits2D\n",
    "from ROOT import gStyle, TChain, TH1F, TCanvas, TLegend\n"
   ]
  },
  {
   "cell_type": "code",
   "execution_count": 2,
   "id": "8f4ad664",
   "metadata": {},
   "outputs": [
    {
     "name": "stdout",
     "output_type": "stream",
     "text": [
      "W2min: -0.5\n",
      "W2max: 1.7\n",
      "dxmin: -0.4\n",
      "dxmax: 0.4\n",
      "dymin: -0.5\n",
      "dymax: 0.5\n",
      "dybgmin: -1.3\n",
      "dybgmax: 1.2\n",
      "Coin Min: 88 Coin Max: 100\n"
     ]
    }
   ],
   "source": [
    "pas=\"1\"\n",
    "config=\"3\"\n",
    "\n",
    "W2min=CONFIG.Function_JSON(\"W2min\",f\"../config/cuts{config}.cfg\")\n",
    "W2max=CONFIG.Function_JSON(\"W2max\",f\"../config/cuts{config}.cfg\")\n",
    "dxmin=CONFIG.Function_JSON(\"dxmin\",f\"../config/cuts{config}.cfg\")\n",
    "dxmax=CONFIG.Function_JSON(\"dxmax\",f\"../config/cuts{config}.cfg\")\n",
    "dymin=CONFIG.Function_JSON(\"dymin\",f\"../config/cuts{config}.cfg\")\n",
    "dymax=CONFIG.Function_JSON(\"dymax\",f\"../config/cuts{config}.cfg\")\n",
    "dybgmin=CONFIG.Function_JSON(\"dybgmin\",f\"../config/cuts{config}.cfg\")\n",
    "dybgmax=CONFIG.Function_JSON(\"dybgmax\",f\"../config/cuts{config}.cfg\")\n",
    "coinmin=CONFIG.Function_JSON(\"coinmin\",f\"../config/cuts{config}.cfg\")\n",
    "coinmax=CONFIG.Function_JSON(\"coinmax\",f\"../config/cuts{config}.cfg\")\n",
    "#dymin=-.984\n",
    "#dymax=.9\n",
    "#W2max=1.75\n",
    "#dybgmin=-1.2\n",
    "#dybgmax=1.2\n",
    "#dxmin=-2\n",
    "#dxmax=1\n",
    "print(f'W2min: {W2min}')\n",
    "print(f'W2max: {W2max}')\n",
    "print(f'dxmin: {dxmin}')\n",
    "print(f'dxmax: {dxmax}')\n",
    "print(f'dymin: {dymin}')\n",
    "print(f'dymax: {dymax}')\n",
    "print(f'dybgmin: {dybgmin}')\n",
    "print(f'dybgmax: {dybgmax}')\n",
    "print(f'Coin Min: {coinmin} Coin Max: {coinmax}')"
   ]
  },
  {
   "cell_type": "code",
   "execution_count": 3,
   "id": "c046126f",
   "metadata": {
    "scrolled": true
   },
   "outputs": [
    {
     "name": "stdout",
     "output_type": "stream",
     "text": [
      "Branches in tree 'Tout':\n",
      "runnum\n",
      "WCut\n",
      "pCut\n",
      "nCut\n",
      "fiduCut\n",
      "coinCut\n",
      "ebeam\n",
      "nu\n",
      "Q2\n",
      "W2\n",
      "dpel\n",
      "ephi\n",
      "etheta\n",
      "pcentral\n",
      "vz\n",
      "vx\n",
      "vy\n",
      "xtgt\n",
      "ytgt\n",
      "thtgt\n",
      "phtgt\n",
      "thetabend\n",
      "xfp\n",
      "yfp\n",
      "thfp\n",
      "phfp\n",
      "trP\n",
      "trPx\n",
      "trPy\n",
      "trPz\n",
      "ePS\n",
      "xPS\n",
      "eSH\n",
      "xSH\n",
      "ySH\n",
      "eHCAL\n",
      "xHCAL\n",
      "yHCAL\n",
      "xHCAL_exp\n",
      "yHCAL_exp\n",
      "dx\n",
      "dy\n",
      "ngrinch_hits\n",
      "xGRINCH\n",
      "yGRINCH\n",
      "coin_time\n",
      "hcal_time\n",
      "bbcal_time\n",
      "BPMAx\n",
      "BPMAy\n",
      "Rasterx\n",
      "Rastery\n",
      "Raster2x\n",
      "Raster2y\n",
      "helicity\n",
      "IHWP\n",
      "pblkid\n",
      "tdc\n",
      "atime\n",
      "nblk\n",
      "mag\n",
      "run\n",
      "tar\n",
      "cblkid\n",
      "cblkatime\n",
      "cblktime\n",
      "cblke\n",
      "nclus\n",
      "cid\n",
      "cx\n",
      "cy\n",
      "catime\n",
      "hodoTimes\n",
      "hodoIDs\n",
      "hodoTOT\n",
      "nbars\n",
      "meanTOT\n",
      "trigger\n",
      "triggerID\n",
      "NdataTriggerID\n",
      "hodoClusMean\n"
     ]
    },
    {
     "name": "stderr",
     "output_type": "stream",
     "text": [
      "Error in <TList::Clear>: A list is accessing an object (0x42504360) already deleted (list name = TList)\n",
      "Error in <TList::Clear>: A list is accessing an object (0x42609430) already deleted (list name = TList)\n",
      "Error in <TList::Clear>: A list is accessing an object (0x42609860) already deleted (list name = TList)\n",
      "Error in <TList::Clear>: A list is accessing an object (0x426610d0) already deleted (list name = TList)\n",
      "Error in <TList::Clear>: A list is accessing an object (0x42661440) already deleted (list name = TList)\n",
      "Error in <TList::Clear>: A list is accessing an object (0x426617b0) already deleted (list name = TList)\n",
      "Error in <TList::Clear>: A list is accessing an object (0x42661ce0) already deleted (list name = TList)\n",
      "Error in <TList::Clear>: A list is accessing an object (0x426620a0) already deleted (list name = TList)\n",
      "Error in <TList::Clear>: A list is accessing an object (0x42662a00) already deleted (list name = TList)\n",
      "Error in <TList::Clear>: A list is accessing an object (0x42662df0) already deleted (list name = TList)\n",
      "Error in <TList::Clear>: A list is accessing an object (0x426631e0) already deleted (list name = TList)\n",
      "Error in <TList::Clear>: A list is accessing an object (0x426637a0) already deleted (list name = TList)\n",
      "Error in <TList::Clear>: A list is accessing an object (0x42663b90) already deleted (list name = TList)\n",
      "Error in <TList::Clear>: A list is accessing an object (0x42663f50) already deleted (list name = TList)\n",
      "Error in <TList::Clear>: A list is accessing an object (0x42664650) already deleted (list name = TList)\n",
      "Error in <TList::Clear>: A list is accessing an object (0x42664a80) already deleted (list name = TList)\n",
      "Error in <TList::Clear>: A list is accessing an object (0x42664f30) already deleted (list name = TList)\n",
      "Error in <TList::Clear>: A list is accessing an object (0x4267d7f0) already deleted (list name = TList)\n",
      "Error in <TList::Clear>: A list is accessing an object (0x426890d0) already deleted (list name = TList)\n",
      "Error in <TList::Clear>: A list is accessing an object (0x426894a0) already deleted (list name = TList)\n",
      "Error in <TList::Clear>: A list is accessing an object (0x42689940) already deleted (list name = TList)\n",
      "Error in <TList::Clear>: A list is accessing an object (0x4268a860) already deleted (list name = TList)\n",
      "Error in <TList::Clear>: A list is accessing an object (0x4268b510) already deleted (list name = TList)\n",
      "Error in <TList::Clear>: A list is accessing an object (0x4268b740) already deleted (list name = TList)\n",
      "Error in <TList::Clear>: A list is accessing an object (0x4268be80) already deleted (list name = TList)\n",
      "Error in <TList::Clear>: A list is accessing an object (0x4268c300) already deleted (list name = TList)\n",
      "Error in <TList::Clear>: A list is accessing an object (0x4268e860) already deleted (list name = TList)\n",
      "Error in <TList::Clear>: A list is accessing an object (0x42690110) already deleted (list name = TList)\n",
      "Error in <TList::Clear>: A list is accessing an object (0x42690620) already deleted (list name = TList)\n",
      "Error in <TList::Clear>: A list is accessing an object (0x426910a0) already deleted (list name = TList)\n",
      "Error in <TList::Clear>: A list is accessing an object (0x42691640) already deleted (list name = TList)\n",
      "Error in <TList::Clear>: A list is accessing an object (0x42691aa0) already deleted (list name = TList)\n",
      "Error in <TList::Clear>: A list is accessing an object (0x42692b10) already deleted (list name = TList)\n",
      "Error in <TList::Clear>: A list is accessing an object (0x4269c670) already deleted (list name = TList)\n",
      "Error in <TList::Clear>: A list is accessing an object (0x4269caf0) already deleted (list name = TList)\n",
      "Error in <TList::Clear>: A list is accessing an object (0x4269ce20) already deleted (list name = TList)\n",
      "Error in <TList::Clear>: A list is accessing an object (0x4269d3c0) already deleted (list name = TList)\n",
      "Error in <TList::Clear>: A list is accessing an object (0x4269d8b0) already deleted (list name = TList)\n",
      "Error in <TList::Clear>: A list is accessing an object (0x426a1de0) already deleted (list name = TList)\n",
      "Error in <TList::Clear>: A list is accessing an object (0x426a2570) already deleted (list name = TList)\n",
      "Error in <TList::Clear>: A list is accessing an object (0x426a3910) already deleted (list name = TList)\n",
      "Error in <TList::Clear>: A list is accessing an object (0x426a3ab0) already deleted (list name = TList)\n",
      "Error in <TList::Clear>: A list is accessing an object (0x426212b0) already deleted (list name = TList)\n",
      "Error in <TList::Clear>: A list is accessing an object (0x42621bb0) already deleted (list name = TList)\n",
      "Error in <TList::Clear>: A list is accessing an object (0x42622520) already deleted (list name = TList)\n",
      "Error in <THashList::Delete>: A list is accessing an object (0x42518b10) already deleted (list name = THashList)\n"
     ]
    }
   ],
   "source": [
    "import ROOT as r\n",
    "\n",
    "\n",
    "def list_branches(rootfile_path, tree_name=\"Tout\"):\n",
    "    # Open the ROOT file\n",
    "    root_file = r.TFile.Open(rootfile_path)\n",
    "    \n",
    "    # Check if the file was successfully opened\n",
    "    if not root_file or root_file.IsZombie():\n",
    "        print(f\"Error: Could not open ROOT file '{rootfile_path}'.\")\n",
    "        return\n",
    "    \n",
    "    # Access the TTree\n",
    "    tree = root_file.Get(tree_name)\n",
    "    \n",
    "    # Check if the tree exists\n",
    "    if not tree:\n",
    "        print(f\"Error: Tree '{tree_name}' not found in file '{rootfile_path}'.\")\n",
    "        root_file.Close()\n",
    "        return\n",
    "    \n",
    "    # Get the list of branches\n",
    "    branch_list = tree.GetListOfBranches()\n",
    "    \n",
    "    # Print all branch names\n",
    "    print(f\"Branches in tree '{tree_name}':\")\n",
    "    for branch in branch_list:\n",
    "        print(branch.GetName())\n",
    "    \n",
    "    # Close the ROOT file\n",
    "    root_file.Close()\n",
    "\n",
    "# Example usage\n",
    "rootfile_path = \"../outfiles/HCal_data_GEN3_sbs100p_nucleon_np_model1.root\"\n",
    "list_branches(rootfile_path)\n"
   ]
  },
  {
   "cell_type": "code",
   "execution_count": null,
   "id": "dd8eddef",
   "metadata": {},
   "outputs": [],
   "source": []
  },
  {
   "cell_type": "code",
   "execution_count": 4,
   "id": "b99c2e21",
   "metadata": {},
   "outputs": [],
   "source": [
    "#Access data from toshiba external drive, data is chunked into 2000000 event arrays\n",
    "#directory: /media/research/TOSHIBA EXT/GEn/NumpyData/GEN3/HCal_data\n",
    "#                                                            ^prefix of farm trimming script\n",
    "\n",
    "#available array names: hodo{x}.npz hcal{x}.npz trigger{x}.npz"
   ]
  },
  {
   "cell_type": "code",
   "execution_count": 8,
   "id": "b5981166",
   "metadata": {},
   "outputs": [
    {
     "name": "stdout",
     "output_type": "stream",
     "text": [
      "['hodoTimes', 'hodoIDs', 'hodoTOT', 'nbars', 'hodoClusMean']\n",
      "['trigger', 'triggerID', 'NdataTriggerID']\n",
      "['nu', 'Q2', 'W2', 'vz', 'vx', 'vy', 'dx', 'dy']\n"
     ]
    }
   ],
   "source": [
    "hodo=np.load(f\"/media/research/TOSHIBA EXT/GEn/NumpyData/GEN{config}/HCal_data/hodo1.npz\")\n",
    "trigger=np.load(f\"/media/research/TOSHIBA EXT/GEn/NumpyData/GEN{config}/HCal_data/trigger1.npz\")\n",
    "generic=np.load(f\"/media/research/TOSHIBA EXT/GEn/NumpyData/GEN{config}/HCal_data/generic1.npz\")\n",
    "#hcal=np.load(f\"media/research/TOSHIBA EXT/GEn/NumpyData/GEN{config}/HCal_data/hcal.npz\")\n",
    "print(hodo.files)\n",
    "print(trigger.files)\n",
    "print(generic.files)\n",
    "#print(hcal.files)"
   ]
  },
  {
   "cell_type": "code",
   "execution_count": 8,
   "id": "e14c8000",
   "metadata": {},
   "outputs": [],
   "source": [
    "# Access variables using their names\n",
    "hodoTimes = hodo[\"hodoTimes\"]\n",
    "hodoIDs = hodo[\"hodoIDs\"]\n",
    "hodoClusMean=hodo[\"hodoClusMean\"]\n",
    "nbars = hodo[\"nbars\"]\n",
    "hodoTOT = hodo[\"hodoTOT\"]\n",
    "triggerT=trigger[\"trigger\"]\n",
    "triggerID=trigger[\"triggerID\"]\n",
    "NDatatrigger=trigger[\"NdataTriggerID\"]\n",
    "W2=generic[\"W2\"]\n",
    "\n"
   ]
  },
  {
   "cell_type": "code",
   "execution_count": 9,
   "id": "9f508446",
   "metadata": {},
   "outputs": [],
   "source": [
    "def compute_tot_weighted_average(time, ids, nbar, TOT):\n",
    "    tot_weighted_avg = []  # To store the results\n",
    "\n",
    "    for i in range(len(nbar)):\n",
    "        num_bars = nbar[i]  # Number of bars to consider for this event\n",
    "        if num_bars > 0:\n",
    "            # Select the first `num_bars` values for this event\n",
    "            selected_tot = TOT[i, :num_bars]\n",
    "            selected_time = time[i, :num_bars]\n",
    "\n",
    "            # Compute the weighted average\n",
    "            weights = selected_tot / np.sum(selected_tot)  # Normalize the weights\n",
    "            weighted_avg = np.sum(weights * selected_time)\n",
    "            tot_weighted_avg.append(weighted_avg)\n",
    "        else:\n",
    "            # If there are no bars, append NaN or 0 as needed\n",
    "            tot_weighted_avg.append(hodoTimes[i][0])\n",
    "\n",
    "    return np.array(tot_weighted_avg)"
   ]
  },
  {
   "cell_type": "code",
   "execution_count": 10,
   "id": "c73e5794",
   "metadata": {},
   "outputs": [],
   "source": [
    "hodoMeanTime=compute_tot_weighted_average(hodoTimes,hodoIDs,nbars,hodoTOT)"
   ]
  },
  {
   "cell_type": "markdown",
   "id": "b8012868",
   "metadata": {},
   "source": [
    "# RF structure using the TH"
   ]
  },
  {
   "cell_type": "code",
   "execution_count": 11,
   "id": "3a2c6f15",
   "metadata": {},
   "outputs": [],
   "source": [
    "#Cuts\n",
    "mask=np.where(np.transpose(hodoIDs)[0].astype(int)==44)\n"
   ]
  },
  {
   "cell_type": "code",
   "execution_count": 12,
   "id": "5e209e28",
   "metadata": {},
   "outputs": [
    {
     "data": {
      "text/plain": [
       "1.0576820560814095"
      ]
     },
     "execution_count": 12,
     "metadata": {},
     "output_type": "execute_result"
    }
   ],
   "source": [
    "\n",
    "hodoOffset=np.load(\"TDCOffsetHodo.npy\")\n",
    "hodoOffset[42]"
   ]
  },
  {
   "cell_type": "code",
   "execution_count": 13,
   "id": "23ddd9e0",
   "metadata": {},
   "outputs": [],
   "source": [
    "bbtrig=[]\n",
    "rftrig=[]\n",
    "hodoT=[]\n",
    "passedcut=[]\n",
    "for i in range(0,len(triggerT)):\n",
    "        #cutBAR=int(hodoIDs[i][0])==42\n",
    "        cutBAR=True\n",
    "        cutTRIG=4 in triggerID[i][:NDatatrigger[i]] and 5 in triggerID[i][:NDatatrigger[i]] \n",
    "        cut=cutBAR and cutTRIG\n",
    "        if cut:\n",
    "            hodoT.append(hodoMeanTime[i])\n",
    "            for j in range(0,NDatatrigger[i]):\n",
    "                if triggerID[i][j]==4: \n",
    "                    rftrig.append(triggerT[i][j])\n",
    "                    rf=True\n",
    "                if triggerID[i][j]==5:\n",
    "                    bbtrig.append(triggerT[i][j])\n",
    "                    bb=True\n",
    "            passedcut.append(i)"
   ]
  },
  {
   "cell_type": "code",
   "execution_count": 14,
   "id": "abdea4b6",
   "metadata": {},
   "outputs": [
    {
     "data": {
      "text/plain": [
       "'HodoMean=plt.hist(hodoMeanTime,bins=100,alpha=0.5,label=\\'(tot1*time1+tot2*time2)/(tot1+tot2)\\')\\nHodoMean=plt.hist(hodoClusMean,bins=100,alpha=0.5,label=\\'replay\\')\\n\\nplt.title(\"TOT weighted avg of primary cluster bar 45\")\\nplt.xlabel(\"ns\")'"
      ]
     },
     "execution_count": 14,
     "metadata": {},
     "output_type": "execute_result"
    }
   ],
   "source": [
    "\"\"\"HodoMean=plt.hist(hodoMeanTime,bins=100,alpha=0.5,label='(tot1*time1+tot2*time2)/(tot1+tot2)')\n",
    "HodoMean=plt.hist(hodoClusMean,bins=100,alpha=0.5,label='replay')\n",
    "\n",
    "plt.title(\"TOT weighted avg of primary cluster bar 45\")\n",
    "plt.xlabel(\"ns\")\"\"\""
   ]
  },
  {
   "cell_type": "code",
   "execution_count": 18,
   "id": "7b659b4a",
   "metadata": {},
   "outputs": [
    {
     "data": {
      "text/plain": [
       "446.1"
      ]
     },
     "execution_count": 18,
     "metadata": {},
     "output_type": "execute_result"
    },
    {
     "data": {
      "image/png": "[encoded data removed]",
      "text/plain": [
       "<Figure size 640x480 with 1 Axes>"
      ]
     },
     "metadata": {},
     "output_type": "display_data"
    }
   ],
   "source": [
    "\n",
    "\n",
    "\n",
    "test=plt.hist(np.array(hodoT)+np.array(bbtrig)-np.array(rftrig),bins=100,range=(200,220))\n",
    "plt.title(\"HodoMeantime+bbtrig-rftime\")\n",
    "hodoT = np.array(hodoT)\n",
    "bbtrig = np.array(bbtrig)\n",
    "rftrig = np.array(rftrig)\n",
    "combined_data = hodoT + bbtrig - rftrig\n",
    "counts, bin_edges = np.histogram(combined_data, bins=70, range=(200, 220))\n",
    "bin_centers = (bin_edges[:-1] + bin_edges[1:]) / 2  # Calculate bin centers\n",
    "plt.bar(bin_centers, counts, width=bin_edges[1] - bin_edges[0], label='Data')\n",
    "\n",
    "\n",
    "peaks, properties = find_peaks(counts, prominence=1)  # Adjust prominence threshold as needed\n",
    "prominences = properties[\"prominences\"]\n",
    "    \n",
    "    # Objective function: maximize peak prominence and minimize noise\n",
    "total_prominence = np.mean(prominences)\n",
    "noise_level = np.mean(counts)\n",
    "\n",
    "plt.axhline(noise_level,color='black',label=\"Noise: mean of all bins\")\n",
    "\n",
    "total_prominence"
   ]
  },
  {
   "cell_type": "code",
   "execution_count": 19,
   "id": "7508600b",
   "metadata": {},
   "outputs": [],
   "source": [
    "bbtrig=[]\n",
    "rftrig=[]\n",
    "hodoT=[]\n",
    "passedcut=[]\n",
    "for i in range(0,len(triggerT)):\n",
    "        #cutBAR=int(hodoIDs[i][0])==42\n",
    "        bar=int(hodoIDs[i][0])\n",
    "        cutBAR=True\n",
    "        cutTRIG=4 in triggerID[i][:NDatatrigger[i]] and 5 in triggerID[i][:NDatatrigger[i]] \n",
    "        cut=cutBAR and cutTRIG\n",
    "        if cut:\n",
    "            hodoT.append(hodoMeanTime[i]+hodoOffset[bar])\n",
    "            for j in range(0,NDatatrigger[i]):\n",
    "                if triggerID[i][j]==4: \n",
    "                    rftrig.append(triggerT[i][j])\n",
    "                    rf=True\n",
    "                if triggerID[i][j]==5:\n",
    "                    bbtrig.append(triggerT[i][j])\n",
    "                    bb=True\n",
    "            passedcut.append(i)"
   ]
  },
  {
   "cell_type": "code",
   "execution_count": 20,
   "id": "f0bb80e6",
   "metadata": {},
   "outputs": [
    {
     "data": {
      "text/plain": [
       "843.6"
      ]
     },
     "execution_count": 20,
     "metadata": {},
     "output_type": "execute_result"
    },
    {
     "data": {
      "image/png": "[encoded data removed]",
      "text/plain": [
       "<Figure size 640x480 with 1 Axes>"
      ]
     },
     "metadata": {},
     "output_type": "display_data"
    }
   ],
   "source": [
    "hodoT = np.array(hodoT)\n",
    "bbtrig = np.array(bbtrig)\n",
    "rftrig = np.array(rftrig)\n",
    "combined_data = hodoT + bbtrig - rftrig\n",
    "counts, bin_edges = np.histogram(combined_data, bins=70, range=(200, 220))\n",
    "bin_centers = (bin_edges[:-1] + bin_edges[1:]) / 2  # Calculate bin centers\n",
    "plt.bar(bin_centers, counts, width=bin_edges[1] - bin_edges[0], label='Data')\n",
    "\n",
    "\n",
    "peaks, properties = find_peaks(counts, prominence=1)  # Adjust prominence threshold as needed\n",
    "prominences = properties[\"prominences\"]\n",
    "    \n",
    "    # Objective function: maximize peak prominence and minimize noise\n",
    "total_prominence = np.mean(prominences)\n",
    "noise_level = np.mean(counts)\n",
    "\n",
    "plt.axhline(noise_level,color='black',label=\"Noise: mean of all bins\")\n",
    "\n",
    "total_prominence"
   ]
  },
  {
   "cell_type": "markdown",
   "id": "d315cc3f",
   "metadata": {},
   "source": [
    "# Optimization Algorithm"
   ]
  },
  {
   "cell_type": "code",
   "execution_count": null,
   "id": "0efc50d7",
   "metadata": {},
   "outputs": [],
   "source": []
  },
  {
   "cell_type": "code",
   "execution_count": 21,
   "id": "dd094080",
   "metadata": {},
   "outputs": [],
   "source": [
    "#First organize the arrays so everything has same size and is ready for optimization"
   ]
  },
  {
   "cell_type": "code",
   "execution_count": 22,
   "id": "770c214a",
   "metadata": {},
   "outputs": [],
   "source": [
    "bbtrig=[]\n",
    "rftrig=[]\n",
    "hodoT=[]\n",
    "passedcut=[]\n",
    "barIDS=[]\n",
    "#for i in range(0,len(triggerT)):\n",
    "for i in range(0,100000):\n",
    "    #cutBAR=int(hodoIDs[i][0])==42\n",
    "    bar=int(hodoIDs[i][0])\n",
    "    cutBAR=True\n",
    "    cutTRIG=4 in triggerID[i][:NDatatrigger[i]] and 5 in triggerID[i][:NDatatrigger[i]] \n",
    "    cut=cutBAR and cutTRIG\n",
    "    if cut:\n",
    "        hodoT.append(hodoMeanTime[i])\n",
    "        barIDS.append(bar)\n",
    "        for j in range(0,NDatatrigger[i]):\n",
    "            if triggerID[i][j]==4: \n",
    "                rftrig.append(triggerT[i][j])\n",
    "                rf=True\n",
    "            if triggerID[i][j]==5:\n",
    "                bbtrig.append(triggerT[i][j])\n",
    "                bb=True\n",
    "        passedcut.append(i)"
   ]
  },
  {
   "cell_type": "code",
   "execution_count": 23,
   "id": "cddc0ceb",
   "metadata": {},
   "outputs": [],
   "source": [
    "def objective_function(offsets, hodoT, bbtrig, rftrig,bars):\n",
    "    adjusted_times = []\n",
    "    \n",
    "    for i in range(0,len(hodoT)):\n",
    "        adjusted_times.append(hodoT[i]+bbtrig[i]-rftrig[i]+offsets[bars[i]])\n",
    "    \n",
    "    counts, bin_edges = np.histogram(adjusted_times, bins=50, range=(200, 220))\n",
    "    bin_centers = (bin_edges[:-1] + bin_edges[1:]) / 2\n",
    "    \n",
    "    peaks, properties = find_peaks(counts, prominence=1)  # Adjust prominence threshold as needed\n",
    "    prominences = properties[\"prominences\"]\n",
    "    \n",
    "    total_prominence = np.sum(prominences)\n",
    "    noise_level = np.mean(counts)  # Simple measure of background noise\n",
    "    lambda_weight = 0.5  # Weighting factor, adjust as needed\n",
    "    \n",
    "    return -total_prominence + lambda_weight * noise_level"
   ]
  },
  {
   "cell_type": "code",
   "execution_count": 24,
   "id": "eb3d9382",
   "metadata": {},
   "outputs": [
    {
     "data": {
      "text/plain": [
       "-551.12"
      ]
     },
     "execution_count": 24,
     "metadata": {},
     "output_type": "execute_result"
    }
   ],
   "source": [
    "objective_function(hodoOffset,hodoT,bbtrig,rftrig,barIDS)"
   ]
  },
  {
   "cell_type": "code",
   "execution_count": 52,
   "id": "e1ea4612",
   "metadata": {},
   "outputs": [],
   "source": [
    "def optimize_offsets_individually(objective_function, offsets, hodoT, bbtrig, rftrig, bars, step_size=.5, max_iterations=100):\n",
    "    best_offsets = np.copy(offsets)\n",
    "    for j in range(max_iterations):\n",
    "        print(f\"Iterations: {j}\")\n",
    "        improved = False\n",
    "        for i in range(len(offsets)):\n",
    "            # Store the current best score for comparison\n",
    "            best_score = objective_function(best_offsets, hodoT, bbtrig, rftrig, bars)\n",
    "            original_offset = best_offsets[i]\n",
    "            best_local_offset = original_offset\n",
    "\n",
    "            # Try different adjustments within the range [-2, 2]\n",
    "            for delta in np.arange(-1, 1 + step_size, step_size):\n",
    "                # Adjust only the current offset\n",
    "                best_offsets[i] = original_offset + delta\n",
    "                \n",
    "                # Evaluate the objective function\n",
    "                score = objective_function(best_offsets, hodoT, bbtrig, rftrig, bars)\n",
    "                # Update if we find a better score\n",
    "                if score < best_score:\n",
    "                    best_score = score\n",
    "                    print(best_score)\n",
    "                    best_local_offset = best_offsets[i]\n",
    "                    improved = True\n",
    "\n",
    "            # Set the offset to the best found in this iteration\n",
    "            best_offsets[i] = best_local_offset\n",
    "        print(best_offsets)\n",
    "        # If no improvement across all offsets, stop early\n",
    "        if not improved:\n",
    "            break\n",
    "\n",
    "    return best_offsets"
   ]
  },
  {
   "cell_type": "code",
   "execution_count": 53,
   "id": "d9e16d79",
   "metadata": {
    "scrolled": true
   },
   "outputs": [
    {
     "name": "stdout",
     "output_type": "stream",
     "text": [
      "Iterations: 0\n",
      "304.0500000000002\n",
      "302.07000000000016\n",
      "277.07000000000016\n",
      "269.02\n",
      "262.0500000000002\n",
      "260.03999999999996\n",
      "221.25\n",
      "201.13999999999987\n",
      "131.23999999999978\n",
      "131.23000000000002\n",
      "-35.80000000000018\n",
      "-44.80000000000018\n",
      "-84.82000000000016\n",
      "-121.86000000000013\n",
      "-266.98\n",
      "-412.1199999999999\n",
      "-450.17999999999984\n",
      "-539.0799999999999\n",
      "-767.0900000000001\n",
      "-858.1199999999999\n",
      "-1400.9899999999998\n",
      "-1443.0500000000002\n",
      "-1886.0700000000002\n",
      "-1941.08\n",
      "-1968.1999999999998\n",
      "-2186.37\n",
      "-2233.5\n",
      "-2825.79\n",
      "-3644.97\n",
      "-3671.52\n",
      "-4773.52\n",
      "-4791.49\n",
      "-5867.2\n",
      "-6006.09\n",
      "-6540.99\n",
      "-6840.25\n",
      "-7516.1\n",
      "-7693.030000000001\n",
      "-7878.75\n",
      "-8189.21\n",
      "-8650.9\n",
      "-9598.93\n",
      "-9647.83\n",
      "-10187.630000000001\n",
      "-10637.51\n",
      "-11277.5\n",
      "-11341.98\n",
      "-11448.95\n",
      "-12058.94\n",
      "-12709.17\n",
      "-12715.14\n",
      "-12964.07\n",
      "-14574.53\n",
      "-15120.51\n",
      "-15452.64\n",
      "-16431.46\n",
      "-17287.55\n",
      "-17293.39\n",
      "-17768.48\n",
      "-17807.67\n",
      "-18226.53\n",
      "-19329.82\n",
      "-19364.61\n",
      "-20408.86\n",
      "-20415.82\n",
      "-21153.44\n",
      "-22134.4\n",
      "-23246.35\n",
      "-24513.85\n",
      "-25987.7\n",
      "-26008.06\n",
      "-26468.91\n",
      "-26812.79\n",
      "-27274.03\n",
      "-27395.98\n",
      "-27405.07\n",
      "-27482.12\n",
      "-27583.06\n",
      "-27611.0\n",
      "-27622.02\n",
      "-27639.97\n",
      "-27998.94\n",
      "-28388.8\n",
      "-28389.8\n",
      "-28401.78\n",
      "-28408.77\n",
      "-28408.84\n",
      "-28425.89\n",
      "-28428.82\n",
      "-28442.86\n",
      "-28443.79\n",
      "-28447.760000000002\n",
      "-28453.75\n",
      "-28455.75\n",
      "-28456.75\n",
      "[-0.23451742  1.19847798  1.33888895 -2.11197089  1.92312337 -0.42380316\n",
      "  0.53680124 -2.29562224 -0.97795521 -0.6397011   0.69513374  0.56397918\n",
      " -1.9160034  -0.15051071 -1.10540197 -1.2442704  -0.5686851  -0.74024629\n",
      " -0.89333093 -1.21491966 -0.74153578 -1.5229279  -2.27975243 -0.22163366\n",
      " -0.23393748 -1.42278159 -2.47650211 -1.13106055 -1.1516516  -1.1539263\n",
      " -2.70354442 -1.15498059 -0.12639753 -0.74563607  0.98962874  1.08688091\n",
      "  1.28548984  1.29500506  1.20749009  1.18341729  0.79419291  0.86822948\n",
      "  1.05768206  1.29373744  1.06776752  1.         -0.29237064 -0.78807789\n",
      " -0.47836709 -0.23994616  1.87223776  1.34222524  1.19101147  1.45285309\n",
      " -0.13314883  1.56224682 -0.42242138  1.84853408  1.39725373  1.67898546\n",
      "  1.12612084  1.1963534   1.43175981  1.39765873  3.44781839  1.45033485\n",
      " -0.13139367 -0.30595536  0.15667456 -1.95948636 -2.75641325 -3.34173736\n",
      " -4.02871037 -3.54634517 -3.49614346 -3.52600112 -2.37525326 -5.29470076\n",
      " -3.28945425 -5.23730837 -3.03295491 -4.86459255 -5.05830659 -4.68142971\n",
      "  2.29270852  0.          0.         -0.5         0.        ]\n",
      "Iterations: 1\n",
      "-28461.739999999998\n",
      "-28461.75\n",
      "-28463.77\n",
      "-28470.73\n",
      "-28473.72\n"
     ]
    },
    {
     "ename": "KeyboardInterrupt",
     "evalue": "",
     "output_type": "error",
     "traceback": [
      "\u001b[0;31m---------------------------------------------------------------------------\u001b[0m",
      "\u001b[0;31mKeyboardInterrupt\u001b[0m                         Traceback (most recent call last)",
      "Cell \u001b[0;32mIn [53], line 1\u001b[0m\n\u001b[0;32m----> 1\u001b[0m newOffsets\u001b[38;5;241m=\u001b[39m\u001b[43moptimize_offsets_individually\u001b[49m\u001b[43m(\u001b[49m\u001b[43mobjective_function\u001b[49m\u001b[43m,\u001b[49m\u001b[43mhodoOffset\u001b[49m\u001b[43m,\u001b[49m\u001b[43mhodoT\u001b[49m\u001b[43m,\u001b[49m\u001b[43mbbtrig\u001b[49m\u001b[43m,\u001b[49m\u001b[43mrftrig\u001b[49m\u001b[43m,\u001b[49m\u001b[43mbarIDS\u001b[49m\u001b[43m)\u001b[49m\n",
      "Cell \u001b[0;32mIn [52], line 18\u001b[0m, in \u001b[0;36moptimize_offsets_individually\u001b[0;34m(objective_function, offsets, hodoT, bbtrig, rftrig, bars, step_size, max_iterations)\u001b[0m\n\u001b[1;32m     15\u001b[0m best_offsets[i] \u001b[38;5;241m=\u001b[39m original_offset \u001b[38;5;241m+\u001b[39m delta\n\u001b[1;32m     17\u001b[0m \u001b[38;5;66;03m# Evaluate the objective function\u001b[39;00m\n\u001b[0;32m---> 18\u001b[0m score \u001b[38;5;241m=\u001b[39m \u001b[43mobjective_function\u001b[49m\u001b[43m(\u001b[49m\u001b[43mbest_offsets\u001b[49m\u001b[43m,\u001b[49m\u001b[43m \u001b[49m\u001b[43mhodoT\u001b[49m\u001b[43m,\u001b[49m\u001b[43m \u001b[49m\u001b[43mbbtrig\u001b[49m\u001b[43m,\u001b[49m\u001b[43m \u001b[49m\u001b[43mrftrig\u001b[49m\u001b[43m,\u001b[49m\u001b[43m \u001b[49m\u001b[43mbars\u001b[49m\u001b[43m)\u001b[49m\n\u001b[1;32m     19\u001b[0m \u001b[38;5;66;03m# Update if we find a better score\u001b[39;00m\n\u001b[1;32m     20\u001b[0m \u001b[38;5;28;01mif\u001b[39;00m score \u001b[38;5;241m<\u001b[39m best_score:\n",
      "Cell \u001b[0;32mIn [23], line 5\u001b[0m, in \u001b[0;36mobjective_function\u001b[0;34m(offsets, hodoT, bbtrig, rftrig, bars)\u001b[0m\n\u001b[1;32m      2\u001b[0m adjusted_times \u001b[38;5;241m=\u001b[39m []\n\u001b[1;32m      4\u001b[0m \u001b[38;5;28;01mfor\u001b[39;00m i \u001b[38;5;129;01min\u001b[39;00m \u001b[38;5;28mrange\u001b[39m(\u001b[38;5;241m0\u001b[39m,\u001b[38;5;28mlen\u001b[39m(hodoT)):\n\u001b[0;32m----> 5\u001b[0m     \u001b[43madjusted_times\u001b[49m\u001b[38;5;241;43m.\u001b[39;49m\u001b[43mappend\u001b[49m(hodoT[i]\u001b[38;5;241m+\u001b[39mbbtrig[i]\u001b[38;5;241m-\u001b[39mrftrig[i]\u001b[38;5;241m+\u001b[39moffsets[bars[i]])\n\u001b[1;32m      7\u001b[0m counts, bin_edges \u001b[38;5;241m=\u001b[39m np\u001b[38;5;241m.\u001b[39mhistogram(adjusted_times, bins\u001b[38;5;241m=\u001b[39m\u001b[38;5;241m50\u001b[39m, \u001b[38;5;28mrange\u001b[39m\u001b[38;5;241m=\u001b[39m(\u001b[38;5;241m200\u001b[39m, \u001b[38;5;241m220\u001b[39m))\n\u001b[1;32m      8\u001b[0m bin_centers \u001b[38;5;241m=\u001b[39m (bin_edges[:\u001b[38;5;241m-\u001b[39m\u001b[38;5;241m1\u001b[39m] \u001b[38;5;241m+\u001b[39m bin_edges[\u001b[38;5;241m1\u001b[39m:]) \u001b[38;5;241m/\u001b[39m \u001b[38;5;241m2\u001b[39m\n",
      "\u001b[0;31mKeyboardInterrupt\u001b[0m: "
     ]
    }
   ],
   "source": [
    "newOffsets=optimize_offsets_individually(objective_function,hodoOffset,hodoT,bbtrig,rftrig,barIDS)"
   ]
  },
  {
   "cell_type": "code",
   "execution_count": null,
   "id": "bf3b9440",
   "metadata": {},
   "outputs": [],
   "source": [
    "#result = minimize(objective_function, hodoOffset, args=(hodoT, bbtrig, rftrig,barIDS), method='Nelder-Mead')"
   ]
  },
  {
   "cell_type": "code",
   "execution_count": 54,
   "id": "92beabd4",
   "metadata": {},
   "outputs": [],
   "source": [
    "newOffsets = [-0.23451742, 1.19847798, 1.33888895, -2.11197089, 1.92312337, -0.42380316,\n",
    " 0.53680124, -2.29562224, -0.97795521, -0.6397011, 0.69513374, 0.56397918,\n",
    " -1.9160034, -0.15051071, -1.10540197, -1.2442704, -0.5686851, -0.74024629,\n",
    " -0.89333093, -1.21491966, -0.74153578, -1.5229279, -2.27975243, -0.22163366,\n",
    " -0.23393748, -1.42278159, -2.47650211, -1.13106055, -1.1516516, -1.1539263,\n",
    " -2.70354442, -1.15498059, -0.12639753, -0.74563607, 0.98962874, 1.08688091,\n",
    " 1.28548984, 1.29500506, 1.20749009, 1.18341729, 0.79419291, 0.86822948,\n",
    " 1.05768206, 1.29373744, 1.06776752, 1.0, -0.29237064, -0.78807789,\n",
    " -0.47836709, -0.23994616, 1.87223776, 1.34222524, 1.19101147, 1.45285309,\n",
    " -0.13314883, 1.56224682, -0.42242138, 1.84853408, 1.39725373, 1.67898546,\n",
    " 1.12612084, 1.1963534, 1.43175981, 1.39765873, 3.44781839, 1.45033485,\n",
    " -0.13139367, -0.30595536, 0.15667456, -1.95948636, -2.75641325, -3.34173736,\n",
    " -4.02871037, -3.54634517, -3.49614346, -3.52600112, -2.37525326, -5.29470076,\n",
    " -3.28945425, -5.23730837, -3.03295491, -4.86459255, -5.05830659, -4.68142971,\n",
    " 2.29270852, 0.0, 0.0, -0.5, 0.0]\n"
   ]
  },
  {
   "cell_type": "code",
   "execution_count": 55,
   "id": "78dccffb",
   "metadata": {},
   "outputs": [],
   "source": [
    "bbtrig=[]\n",
    "rftrig=[]\n",
    "hodoT=[]\n",
    "passedcut=[]\n",
    "barIDS=[]\n",
    "for i in range(0,len(triggerT)):\n",
    "    #cutBAR=int(hodoIDs[i][0])==42\n",
    "    bar=int(hodoIDs[i][0])\n",
    "    cutBAR=True\n",
    "    cutTRIG=4 in triggerID[i][:NDatatrigger[i]] and 5 in triggerID[i][:NDatatrigger[i]] \n",
    "    cut=cutBAR and cutTRIG\n",
    "    if cut:\n",
    "        hodoT.append(hodoMeanTime[i]+newOffsets[bar])\n",
    "        barIDS.append(bar)\n",
    "        for j in range(0,NDatatrigger[i]):\n",
    "            if triggerID[i][j]==4: \n",
    "                rftrig.append(triggerT[i][j])\n",
    "                rf=True\n",
    "            if triggerID[i][j]==5:\n",
    "                bbtrig.append(triggerT[i][j])\n",
    "                bb=True\n",
    "        passedcut.append(i)"
   ]
  },
  {
   "cell_type": "code",
   "execution_count": 56,
   "id": "8f665650",
   "metadata": {},
   "outputs": [
    {
     "data": {
      "text/plain": [
       "205.2941176470588"
      ]
     },
     "execution_count": 56,
     "metadata": {},
     "output_type": "execute_result"
    },
    {
     "data": {
      "image/png": "[encoded data removed]",
      "text/plain": [
       "<Figure size 640x480 with 1 Axes>"
      ]
     },
     "metadata": {},
     "output_type": "display_data"
    }
   ],
   "source": [
    "hodoT = np.array(hodoT)\n",
    "bbtrig = np.array(bbtrig)\n",
    "rftrig = np.array(rftrig)\n",
    "combined_data = hodoT + bbtrig - rftrig\n",
    "counts, bin_edges = np.histogram(combined_data, bins=70, range=(200, 220))\n",
    "bin_centers = (bin_edges[:-1] + bin_edges[1:]) / 2  # Calculate bin centers\n",
    "plt.bar(bin_centers, counts, width=bin_edges[1] - bin_edges[0], label='Data')\n",
    "\n",
    "\n",
    "peaks, properties = find_peaks(counts, prominence=1)  # Adjust prominence threshold as needed\n",
    "prominences = properties[\"prominences\"]\n",
    "    \n",
    "    # Objective function: maximize peak prominence and minimize noise\n",
    "total_prominence = np.mean(prominences)\n",
    "noise_level = np.mean(counts)\n",
    "\n",
    "plt.axhline(noise_level,color='black',label=\"Noise: mean of all bins\")\n",
    "\n",
    "total_prominence"
   ]
  },
  {
   "cell_type": "markdown",
   "id": "ed43950b",
   "metadata": {},
   "source": [
    "# RF Structure using HCal"
   ]
  },
  {
   "cell_type": "code",
   "execution_count": null,
   "id": "2bc9795c",
   "metadata": {},
   "outputs": [],
   "source": [
    "\n",
    "hcal_rftime=[]\n",
    "hcal_time=[]\n",
    "passedcut=[]\n",
    "hcal_blockIDS=[]\n",
    "for i in range(0,len(hcalBlockIDS)):\n",
    "    #for i in range(0,100000):\n",
    "    #cutBAR=int(hodoIDs[i][0])==42\n",
    "    block=int(hcalBlockIDS[i][0])\n",
    "    cutBAR=True\n",
    "    cutTRIG=4 in triggerID[i][:NDatatrigger[i]] and 5 in triggerID[i][:NDatatrigger[i]] \n",
    "    cut=cutBAR and cutTRIG\n",
    "    if cut:\n",
    "        hcal_time.append(hcalADCTime[i])\n",
    "        hcal_blockIDS.append(bar)\n",
    "        for j in range(0,NDatatrigger[i]):\n",
    "            if triggerID[i][j]==4: \n",
    "                rftrig.append(triggerT[i][j])\n",
    "                rf=True\n",
    "            if triggerID[i][j]==5:\n",
    "                bbtrig.append(triggerT[i][j])\n",
    "                bb=True\n",
    "        passedcut.append(i)"
   ]
  }
 ],
 "metadata": {
  "kernelspec": {
   "display_name": "Python 3 (ipykernel)",
   "language": "python",
   "name": "python3"
  },
  "language_info": {
   "codemirror_mode": {
    "name": "ipython",
    "version": 3
   },
   "file_extension": ".py",
   "mimetype": "text/x-python",
   "name": "python",
   "nbconvert_exporter": "python",
   "pygments_lexer": "ipython3",
   "version": "3.8.10"
  }
 },
 "nbformat": 4,
 "nbformat_minor": 5
}
