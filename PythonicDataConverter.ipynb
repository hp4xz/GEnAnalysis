{
 "cells": [
  {
   "cell_type": "code",
   "execution_count": 1,
   "id": "6f23814d",
   "metadata": {},
   "outputs": [
    {
     "name": "stdout",
     "output_type": "stream",
     "text": [
      "Welcome to JupyROOT 6.26/06\n"
     ]
    }
   ],
   "source": [
    "import ROOT as r\n",
    "import math\n",
    "import array\n",
    "import os\n",
    "import sys\n",
    "import pandas as pd\n",
    "\n",
    "import matplotlib.pyplot as plt\n",
    "import matplotlib.colors as mcolors\n",
    "from matplotlib.backends.backend_pdf import PdfPages\n",
    "import uproot\n",
    "import numpy as np\n",
    "from scipy.optimize import curve_fit\n",
    "\n",
    "#______________Add include directory_______________\n",
    "current_dir = os.getcwd()\n",
    "include_dir = os.path.join(current_dir, 'include')\n",
    "sys.path.insert(0, include_dir)\n",
    "#__________________________________________________\n",
    "\n",
    "import CONFIG\n",
    "import DBPARSE\n",
    "from UTILITIES import *\n",
    "from SIMFITS2D import DistributionFits2D\n",
    "from ROOT import gStyle, TChain, TH1F, TCanvas, TLegend"
   ]
  },
  {
   "cell_type": "code",
   "execution_count": 2,
   "id": "4b2e187c",
   "metadata": {},
   "outputs": [],
   "source": [
    "\n",
    "GEN2Pathp1=f\"/media/research/TOSHIBA EXT/GEn/outfiles/pass1/Pass1_data_GEN2_sbs100p_nucleon_np_model2.root\"\n",
    "GEN3Pathp1=f\"/media/research/TOSHIBA EXT/GEn/outfiles/pass1/Pass1_data_GEN3_sbs100p_nucleon_np_model2.root\"\n",
    "GEN4aPathp1=f\"/media/research/TOSHIBA EXT/GEn/outfiles/pass1/Pass1_data_GEN4a_sbs100p_nucleon_np_model2.root\"\n",
    "GEN4bPathp1=f\"/media/research/TOSHIBA EXT/GEn/outfiles/pass1/Pass1_data_GEN4b_sbs100p_nucleon_np_model2.root\"\n",
    "\n",
    "\n",
    "\n",
    "GEN2Pathp2=f\"/media/research/TOSHIBA EXT/GEn/outfiles/pass2a/Final_data_GEN2_sbs100p_nucleon_np_model2.root\"\n",
    "GEN3Pathp2=f\"/media/research/TOSHIBA EXT/GEn/outfiles/pass2a/Final_data_GEN3_sbs100p_nucleon_np_model2.root\"\n",
    "GEN4aPathp2=f\"/media/research/TOSHIBA EXT/GEn/outfiles/pass2a/Final_data_GEN4a_sbs100p_nucleon_np_model2.root\"\n",
    "GEN4bPathp2=f\"/media/research/TOSHIBA EXT/GEn/outfiles/pass2a/Final_data_GEN4b_sbs100p_nucleon_np_model2.root\"\n",
    "\n",
    "GEN3PathTiming=f\"/media/research/TOSHIBA EXT/GEn/outfiles/pass2/Final_timing_GEN3_sbs100p_nucleon_np_model2.root\"\n",
    "GEN2PathTiming=f\"/media/research/TOSHIBA EXT/GEn/outfiles/pass2/Final_timing_GEN2_sbs100p_nucleon_np_model2.root\"\n",
    "\n",
    "GEN3PathTiming=f\"/media/research/TOSHIBA EXT/GEn/outfiles/pass2/Final_timing_GEN3_sbs100p_nucleon_np_model2.root\"\n",
    "GEN2PathTiming=f\"/media/research/TOSHIBA EXT/GEn/outfiles/pass2/Final_timing_GEN2_sbs100p_nucleon_np_model2.root\"\n",
    "GEN4aPathTiming=f\"/media/research/TOSHIBA EXT/GEn/outfiles/pass2/Final_timing_GEN4a_sbs100p_nucleon_np_model2.root\"\n",
    "GEN4bPathTiming=f\"/media/research/TOSHIBA EXT/GEn/outfiles/pass2/Final_timing_GEN4b_sbs100p_nucleon_np_model2.root\"\n",
    "\n",
    "GEN3InSim=f\"/media/research/TOSHIBA EXT/GEn/outfiles/insim/QE_Insim_GEN3_sbs100p_nucleon_np_model2.root\"\n",
    "GEN3InSimNEW=f\"/media/research/TOSHIBA EXT/GEn/outfiles/insim/newprobsamp/QE_Insim_GEN3_sbs100p_nucleon_np_model2.root\"\n",
    "GEN2InSim=f\"/media/research/TOSHIBA EXT/GEn/outfiles/insim/QE_Insim_GEN2_sbs100p_nucleon_np_model2.root\"\n",
    "GEN4InSim=f\"/media/research/TOSHIBA EXT/GEn/outfiles/insim/QE_Insim_GEN4_sbs100p_nucleon_np_model2.root\"\n",
    "\n",
    "\n",
    "GEN2InSimNEW=f\"/media/research/TOSHIBA EXT/GEn/outfiles/insim/newprobsamp/QE_Insim_GEN2_sbs100p_nucleon_np_model2.root\"\n",
    "GEN4InSimNEW=f\"/media/research/TOSHIBA EXT/GEn/outfiles/insim/newprobsamp/QE_Insim_GEN4_sbs100p_nucleon_np_model2.root\"\n",
    "\n",
    "\n"
   ]
  },
  {
   "cell_type": "code",
   "execution_count": 3,
   "id": "0f41ae50",
   "metadata": {
    "scrolled": false
   },
   "outputs": [
    {
     "name": "stdout",
     "output_type": "stream",
     "text": [
      "Branches in tree 'Tout':\n",
      "WCut\n",
      "pCut\n",
      "nCut\n",
      "weight\n",
      "mc_Aperp1\n",
      "mc_sig\n",
      "mc_sigOld\n",
      "mc_sigPol\n",
      "mc_BETA\n",
      "mc_THETA\n",
      "fnucl\n",
      "fiduCut\n",
      "coinCut\n",
      "ebeam\n",
      "nu\n",
      "Q2\n",
      "W2\n",
      "dpel\n",
      "ephi\n",
      "etheta\n",
      "pcentral\n",
      "vz\n",
      "vx\n",
      "vy\n",
      "xtgt\n",
      "ytgt\n",
      "thtgt\n",
      "phtgt\n",
      "xfp\n",
      "yfp\n",
      "thfp\n",
      "phfp\n",
      "trP\n",
      "trPx\n",
      "trPy\n",
      "trPz\n",
      "trX\n",
      "trY\n",
      "trTh\n",
      "trPh\n",
      "ePS\n",
      "eSH\n",
      "eHCAL\n",
      "xHCAL\n",
      "yHCAL\n",
      "xHCAL_exp\n",
      "yHCAL_exp\n",
      "dx\n",
      "dy\n",
      "grinch_track\n",
      "grinch_clus_size\n"
     ]
    },
    {
     "name": "stderr",
     "output_type": "stream",
     "text": [
      "Error in <TList::Clear>: A list is accessing an object (0x34577560) already deleted (list name = TList)\n",
      "Error in <TList::Clear>: A list is accessing an object (0x34642570) already deleted (list name = TList)\n",
      "Error in <TList::Clear>: A list is accessing an object (0x346429a0) already deleted (list name = TList)\n",
      "Error in <TList::Clear>: A list is accessing an object (0x346895e0) already deleted (list name = TList)\n",
      "Error in <TList::Clear>: A list is accessing an object (0x34689950) already deleted (list name = TList)\n",
      "Error in <TList::Clear>: A list is accessing an object (0x34689cc0) already deleted (list name = TList)\n",
      "Error in <TList::Clear>: A list is accessing an object (0x3468a1f0) already deleted (list name = TList)\n",
      "Error in <TList::Clear>: A list is accessing an object (0x346a7a60) already deleted (list name = TList)\n",
      "Error in <TList::Clear>: A list is accessing an object (0x346af050) already deleted (list name = TList)\n",
      "Error in <TList::Clear>: A list is accessing an object (0x346af3d0) already deleted (list name = TList)\n",
      "Error in <TList::Clear>: A list is accessing an object (0x346af870) already deleted (list name = TList)\n",
      "Error in <TList::Clear>: A list is accessing an object (0x346b10b0) already deleted (list name = TList)\n",
      "Error in <TList::Clear>: A list is accessing an object (0x346b15c0) already deleted (list name = TList)\n",
      "Error in <TList::Clear>: A list is accessing an object (0x346b2040) already deleted (list name = TList)\n",
      "Error in <TList::Clear>: A list is accessing an object (0x346b2270) already deleted (list name = TList)\n",
      "Error in <TList::Clear>: A list is accessing an object (0x346b26d0) already deleted (list name = TList)\n",
      "Error in <TList::Clear>: A list is accessing an object (0x346b36d0) already deleted (list name = TList)\n",
      "Error in <TList::Clear>: A list is accessing an object (0x346bcc20) already deleted (list name = TList)\n",
      "Error in <TList::Clear>: A list is accessing an object (0x346bea80) already deleted (list name = TList)\n",
      "Error in <TList::Clear>: A list is accessing an object (0x346bf910) already deleted (list name = TList)\n",
      "Error in <TList::Clear>: A list is accessing an object (0x346c05c0) already deleted (list name = TList)\n",
      "Error in <TList::Clear>: A list is accessing an object (0x346c0d00) already deleted (list name = TList)\n",
      "Error in <TList::Clear>: A list is accessing an object (0x346c11b0) already deleted (list name = TList)\n",
      "Error in <TList::Clear>: A list is accessing an object (0x346c14e0) already deleted (list name = TList)\n",
      "Error in <TList::Clear>: A list is accessing an object (0x346c5a10) already deleted (list name = TList)\n",
      "Error in <TList::Clear>: A list is accessing an object (0x346c61a0) already deleted (list name = TList)\n",
      "Error in <TList::Clear>: A list is accessing an object (0x346c7540) already deleted (list name = TList)\n",
      "Error in <TList::Clear>: A list is accessing an object (0x346c76e0) already deleted (list name = TList)\n",
      "Error in <TList::Clear>: A list is accessing an object (0x346c7b60) already deleted (list name = TList)\n",
      "Error in <TList::Clear>: A list is accessing an object (0x346c8900) already deleted (list name = TList)\n",
      "Error in <TList::Clear>: A list is accessing an object (0x346c8d80) already deleted (list name = TList)\n",
      "Error in <TList::Clear>: A list is accessing an object (0x346c9680) already deleted (list name = TList)\n",
      "Error in <TList::Clear>: A list is accessing an object (0x346c9ee0) already deleted (list name = TList)\n",
      "Error in <TList::Clear>: A list is accessing an object (0x346ca590) already deleted (list name = TList)\n",
      "Error in <THashList::Delete>: A list is accessing an object (0x34600470) already deleted (list name = THashList)\n"
     ]
    }
   ],
   "source": [
    "#available branches\n",
    "import ROOT as r\n",
    "\n",
    "\n",
    "def list_branches(rootfile_path, tree_name=\"Tout\"):\n",
    "    # Open the ROOT file\n",
    "    root_file = r.TFile.Open(rootfile_path)\n",
    "    \n",
    "    # Check if the file was successfully opened\n",
    "    if not root_file or root_file.IsZombie():\n",
    "        print(f\"Error: Could not open ROOT file '{rootfile_path}'.\")\n",
    "        return\n",
    "    \n",
    "    # Access the TTree\n",
    "    tree = root_file.Get(tree_name)\n",
    "    \n",
    "    # Check if the tree exists\n",
    "    if not tree:\n",
    "        print(f\"Error: Tree '{tree_name}' not found in file '{rootfile_path}'.\")\n",
    "        root_file.Close()\n",
    "        return\n",
    "    \n",
    "    # Get the list of branches\n",
    "    branch_list = tree.GetListOfBranches()\n",
    "    \n",
    "    # Print all branch names\n",
    "    print(f\"Branches in tree '{tree_name}':\")\n",
    "    for branch in branch_list:\n",
    "        print(branch.GetName())\n",
    "    \n",
    "    # Close the ROOT file\n",
    "    root_file.Close()\n",
    "\n",
    "# Example usage\n",
    "list_branches(GEN4InSimNEW)\n"
   ]
  },
  {
   "cell_type": "code",
   "execution_count": 3,
   "id": "3680e601",
   "metadata": {},
   "outputs": [
    {
     "data": {
      "text/plain": [
       "'\\n#inputs hodo\\nconfig=\"3\"\\nprefix=\"HCal_data\"\\ndetector=\"hodo\"\\n#inputs hcal\\nconfig=\"3\"\\nprefix=\"HCal_data\"\\ndetector=\"hcal\"\\n'"
      ]
     },
     "execution_count": 3,
     "metadata": {},
     "output_type": "execute_result"
    }
   ],
   "source": [
    "\"\"\"\n",
    "#inputs hodo\n",
    "config=\"3\"\n",
    "prefix=\"HCal_data\"\n",
    "detector=\"hodo\"\n",
    "#inputs hcal\n",
    "config=\"3\"\n",
    "prefix=\"HCal_data\"\n",
    "detector=\"hcal\"\n",
    "\"\"\""
   ]
  },
  {
   "cell_type": "code",
   "execution_count": 12,
   "id": "4fedb294",
   "metadata": {},
   "outputs": [],
   "source": [
    "#define branches\n",
    "branches=[\"ebeam\",\"nu\",\"Q2\",\"W2\",\"dpel\",\"ephi\",\"etheta\",\"pcentral\",\"vz\",\"vx\"\n",
    "          ,\"vy\",\"xtgt\",\"ytgt\",\"thtgt\",\"phtgt\",\"thetabend\",\"xfp\",\"yfp\",\"thfp\"\n",
    "          ,\"phfp\",\"trP\",\"trPx\",\"trPy\",\"trPz\",\"ePS\",\"xPS\",\"eSH\",\"xSH\",\"ySH\",\"eHCAL\"\n",
    "          ,\"xHCAL\",\"yHCAL\",\"xHCAL_exp\",\"yHCAL_exp\",\"dx\",\"dy\",\"ngrinch_hits\",\"xGRINCH\"\n",
    "          ,\"yGRINCH\",\"coin_time\",\"hcal_time\",\"bbcal_time\",\"BPMAx\",\"BPMAy\",\"Rasterx\"\n",
    "          ,\"Rastery\",\"Raster2x\",\"Raster2y\",\"helicity\",\"IHWP\",\"pblkid\",\"tdc\",\"atime\"\n",
    "          ,\"nblk\",\"mag\",\"runnum\",\"tar\",\"cblkid\",\"cblkatime\",\"cblktime\",\"cblke\",\"nclus\"\n",
    "          ,\"cid\",\"cx\",\"cy\",\"catime\",\"hodoTimes\",\"hodoIDs\",\"hodoTOT\",\"nbars\"]\n",
    "hodo_branches=[\"hodoTimes\",\"hodoIDs\",\"hodoTOT\",\"nbars\",\"hodoClusMean\"]\n",
    "hcal_branches=[\"cblkid\",\"cblkatime\",\"cblktime\",\"cblke\",\"nclus\"\n",
    "          ,\"cid\",\"cx\",\"cy\",\"catime\"]\n",
    "trigger_branches=[\"trigger\",\"triggerID\",\"NdataTriggerID\"]\n",
    "generic_branches=[\"nu\",\"Q2\",\"W2\",\"vz\",\"vx\",\"vy\",\"dx\",\"dy\",\"eSH\",\"ePS\",\"etheta\",\"ephi\",\"trP\",\"thtgt\",\"phtgt\",\n",
    "                  \"coin_time\",\"trPx\",\"trPy\",\"trPz\",\"ephi\",\"ebeam\",\"helicity\",\"IHWP\",\"runnum\",\"eHCAL\"]\n",
    "generic_branchesp2=[\"nu\",\"Q2\",\"W2\",\"vz\",\"vx\",\"vy\",\"dx\",\"dy\",\"eSH\",\"ePS\",\"etheta\",\"ephi\",\"trP\",\"thtgt\",\"phtgt\",\n",
    "                  \"coin_time\",\"new_coin_time\",\"trPx\",\"trPy\",\"trPz\",\"ephi\",\"ebeam\",\"helicity\",\"IHWP\",\"runnum\",\n",
    "                    \"grinch_clus_size\",\n",
    "                   \"grinch_clus_trackindex\",\"HCALtw\",\"HODOmeantime\",\"bb_rftime\",\"sbs_rftime\",\"eHCAL\"]\n",
    "sim_branches=[\"nu\",\"Q2\",\"W2\",\"vz\",\"vx\",\"vy\",\"dx\",\"dy\",\"eSH\",\"ePS\",\"etheta\",\"ephi\",\"trP\",\"fnucl\",\"weight\",\n",
    "             \"eHCAL\"]\n",
    "insim_branches=[\"nu\",\"Q2\",\"W2\",\"vz\",\"vx\",\"vy\",\"dx\",\"dy\",\"eSH\",\"ePS\",\"etheta\",\"trP\",\"fnucl\",\"weight\",\"mc_sig\",\n",
    "               \"mc_sigOld\",\n",
    "               \"mc_sigPol\",\n",
    "               \"mc_BETA\",\n",
    "               \"mc_THETA\",\n",
    "               \"eHCAL\"]\n",
    "\n",
    "\n",
    "ml_branches = [\n",
    "    \"ebeam\", \"nu\", \"Q2\", \"W2\", \"dpel\", \"ephi\", \"etheta\", \"pcentral\", \"vz\", \"vx\", \"vy\",\n",
    "    \"xtgt\", \"ytgt\", \"thtgt\", \"phtgt\", \"xfp\", \"yfp\", \"thfp\", \"phfp\", \"trP\",\n",
    "    \"ePS\", \"eSH\", \"eHCAL\", \"xHCAL\", \"yHCAL\", \"xHCAL_exp\", \"yHCAL_exp\",\n",
    "    \"dx\", \"dy\"\n",
    "]\n",
    "tofcal_branches = [\n",
    "    \"ePS\",\n",
    "    \"runnum\",\n",
    "    \"tleft\",\n",
    "    \"tright\",\n",
    "    \"totleft\",\n",
    "    \"totright\",\n",
    "    \"vpos\",\n",
    "    \"barid\",\n",
    "    \"nbars\",\n",
    "    \"nblk\",\n",
    "    \"bb_rftime\",\n",
    "    \"hodo_rftime\",\n",
    "    \"sbs_rftime\",\n",
    "    \"hcal_rftime\",\n",
    "    \"bb_trigtime\",\n",
    "    \"hodo_trigtime\",\n",
    "    \"sbs_trigtime\",\n",
    "    \"hcal_trigtime\",\n",
    "    \"cblke\",\n",
    "    \"cblkid\",\n",
    "    \"cblktime\",\n",
    "    \"vz\",\n",
    "    \"xHCAL\",\n",
    "    \"yHCAL\",\n",
    "    \"xSH\",\n",
    "    \"ySH\",\n",
    "    \"pathl\",\n",
    "    \"tr_y\",\n",
    "    \"tr_x\",\n",
    "    \"tr_th\",\n",
    "    \"tr_ph\",\n",
    "    \"meantime\",\n",
    "    \"HCALtw\",\n",
    "    \"W2\",\n",
    "    \"dx\",\n",
    "    \"dy\",\n",
    "    \"trPx\",\n",
    "    \"trPy\",\n",
    "    \"trPz\",\n",
    "    \"trP\",\n",
    "    \"cblkid\",\n",
    "    \"nblk\",\n",
    "    \"cblke\",\n",
    "    \"cblktime\",\n",
    "    \"pN_expected\",\n",
    "    \"npathl\"\n",
    "    \n",
    "]\n",
    "\n",
    "tofcal_branches2 = [\n",
    "    \"ePS\",\n",
    "    \"runnum\",\n",
    "    \"nblk\",\n",
    "    \"nblkB\",\n",
    "    \"cblke\",\n",
    "    \"cblkid\",\n",
    "    \"cblktime\",\n",
    "    \"cblkatime\",\n",
    "    \"cblkeB\",\n",
    "    \"cblkidB\",\n",
    "    \"cblkatimeB\",\n",
    "    \"vz\",\n",
    "    \"xHCAL\",\n",
    "    \"yHCAL\",\n",
    "    \"xSH\",\n",
    "    \"ySH\",\n",
    "    \"pathl\",\n",
    "    \"tr_y\",\n",
    "    \"tr_x\",\n",
    "    \"tr_th\",\n",
    "    \"tr_ph\",\n",
    "    \"W2\",\n",
    "    \"dx\",\n",
    "    \"dy\",\n",
    "    \"trPx\",\n",
    "    \"trPy\",\n",
    "    \"trPz\",\n",
    "    \"trP\",\n",
    "    \"pN_expected\",\n",
    "    \"npathl\"\n",
    "    \n",
    "]"
   ]
  },
  {
   "cell_type": "code",
   "execution_count": 6,
   "id": "15b7d3da",
   "metadata": {},
   "outputs": [],
   "source": [
    "\n",
    "def ConvertToNP(branches,config,prefix,detector,File,Pass):\n",
    "    # Open the ROOT file\n",
    "    with uproot.open(File) as file:\n",
    "        # Access the tree (replace 'Tout' with the actual name of your tree if different)\n",
    "        tree = file[\"Tout\"]\n",
    "\n",
    "        # Get all branch names\n",
    "        #branches = tree.keys()\n",
    "\n",
    "        chunk_size = 2000000  # Define the chunk size\n",
    "        total_entries = tree.num_entries  # Get the total number of entries\n",
    "        print(total_entries)\n",
    "        total_iterations = total_entries // chunk_size + (total_entries % chunk_size > 0)\n",
    "\n",
    "        for j in range(total_iterations):\n",
    "            print(f\"Processing Chunk {j+1} out of {total_iterations}\")\n",
    "\n",
    "            start = j * chunk_size\n",
    "            stop = min((j + 1) * chunk_size, total_entries)\n",
    "\n",
    "            # Read data for this chunk\n",
    "            data = tree.arrays(branches, entry_start=start, entry_stop=stop, library=\"np\")\n",
    "            \n",
    "            # Save all the branches as a dictionary to .npz\n",
    "            np.savez(f\"/media/research/TOSHIBA EXT/GEn/NumpyData/Pass{Pass}/GEN{config}/{prefix}/{detector}{j}.npz\", **data)\n"
   ]
  },
  {
   "cell_type": "code",
   "execution_count": null,
   "id": "3b0f5beb",
   "metadata": {},
   "outputs": [],
   "source": []
  },
  {
   "cell_type": "code",
   "execution_count": 13,
   "id": "08c88a63",
   "metadata": {},
   "outputs": [],
   "source": [
    "def ConvertToNPSim(branches,config,detector,N2=False):\n",
    "    # Open the ROOT file\n",
    "    if N2:\n",
    "        string=f\"/media/research/TOSHIBA EXT/GEn/outfiles/sim/QE_simN2_GEN{config}_sbs100p_nucleon_np_model2.root\"\n",
    "    else:\n",
    "        string=f\"/media/research/TOSHIBA EXT/GEn/outfiles/sim/QE_sim_GEN{config}_sbs100p_nucleon_np_model2.root\"\n",
    "    with uproot.open(string) as file:\n",
    "        # Access the tree (replace 'Tout' with the actual name of your tree if different)\n",
    "        tree = file[\"Tout\"]\n",
    "\n",
    "        # Get all branch names\n",
    "        #branches = tree.keys()\n",
    "\n",
    "        chunk_size = 2000000  # Define the chunk size\n",
    "        total_entries = tree.num_entries  # Get the total number of entries\n",
    "        total_iterations = total_entries // chunk_size + (total_entries % chunk_size > 0)\n",
    "        print(total_entries)\n",
    "        for j in range(total_iterations):\n",
    "            print(f\"Processing Chunk {j+1} out of {total_iterations}\")\n",
    "\n",
    "            start = j * chunk_size\n",
    "            stop = min((j + 1) * chunk_size, total_entries)\n",
    "\n",
    "            # Read data for this chunk\n",
    "            data = tree.arrays(branches, entry_start=start, entry_stop=stop, library=\"np\")\n",
    "\n",
    "            # Save all the branches as a dictionary to .npz\n",
    "            np.savez(f\"/media/research/TOSHIBA EXT/GEn/NumpySim/GEN{config}/{detector}{j}.npz\", **data)\n"
   ]
  },
  {
   "cell_type": "code",
   "execution_count": null,
   "id": "900ce799",
   "metadata": {},
   "outputs": [],
   "source": []
  },
  {
   "cell_type": "code",
   "execution_count": 8,
   "id": "42eec1a1",
   "metadata": {},
   "outputs": [],
   "source": [
    "def ConvertToNPInSim(branches,config,prefix,detector,File):\n",
    "    # Open the ROOT file\n",
    "    with uproot.open(File) as file:\n",
    "        # Access the tree (replace 'Tout' with the actual name of your tree if different)\n",
    "        tree = file[\"Tout\"]\n",
    "\n",
    "        # Get all branch names\n",
    "        #branches = tree.keys()\n",
    "\n",
    "        chunk_size = 2000000  # Define the chunk size\n",
    "        total_entries = tree.num_entries  # Get the total number of entries\n",
    "        total_iterations = total_entries // chunk_size + (total_entries % chunk_size > 0)\n",
    "        print(total_entries)\n",
    "        for j in range(total_iterations):\n",
    "            print(f\"Processing Chunk {j+1} out of {total_iterations}\")\n",
    "\n",
    "            start = j * chunk_size\n",
    "            stop = min((j + 1) * chunk_size, total_entries)\n",
    "\n",
    "            # Read data for this chunk\n",
    "            data = tree.arrays(branches, entry_start=start, entry_stop=stop, library=\"np\")\n",
    "\n",
    "            # Save all the branches as a dictionary to .npz\n",
    "            np.savez(f\"/media/research/TOSHIBA EXT/GEn/NumpySim/GEN{config}/{detector}{j}.npz\", **data)\n"
   ]
  },
  {
   "cell_type": "markdown",
   "id": "8314350f",
   "metadata": {},
   "source": [
    "# TIMING"
   ]
  },
  {
   "cell_type": "code",
   "execution_count": 11,
   "id": "b6ad1144",
   "metadata": {
    "scrolled": true
   },
   "outputs": [
    {
     "name": "stdout",
     "output_type": "stream",
     "text": [
      "3061438\n",
      "Processing Chunk 1 out of 2\n",
      "Processing Chunk 2 out of 2\n"
     ]
    }
   ],
   "source": [
    "ConvertToNP(tofcal_branches2,\"4b\",\"Timing\",\"timing2_\",GEN4bPathTiming,\"2\")"
   ]
  },
  {
   "cell_type": "code",
   "execution_count": 12,
   "id": "92ffe3df",
   "metadata": {},
   "outputs": [
    {
     "name": "stdout",
     "output_type": "stream",
     "text": [
      "4720157\n",
      "Processing Chunk 1 out of 3\n",
      "Processing Chunk 2 out of 3\n",
      "Processing Chunk 3 out of 3\n"
     ]
    }
   ],
   "source": [
    "ConvertToNP(tofcal_branches2,\"4a\",\"Timing\",\"timing2_\",GEN4aPathTiming,\"2\")"
   ]
  },
  {
   "cell_type": "code",
   "execution_count": 14,
   "id": "ac3b8962",
   "metadata": {},
   "outputs": [
    {
     "name": "stdout",
     "output_type": "stream",
     "text": [
      "30369162\n",
      "Processing Chunk 1 out of 16\n",
      "Processing Chunk 2 out of 16\n",
      "Processing Chunk 3 out of 16\n",
      "Processing Chunk 4 out of 16\n",
      "Processing Chunk 5 out of 16\n",
      "Processing Chunk 6 out of 16\n",
      "Processing Chunk 7 out of 16\n",
      "Processing Chunk 8 out of 16\n",
      "Processing Chunk 9 out of 16\n",
      "Processing Chunk 10 out of 16\n",
      "Processing Chunk 11 out of 16\n",
      "Processing Chunk 12 out of 16\n",
      "Processing Chunk 13 out of 16\n",
      "Processing Chunk 14 out of 16\n",
      "Processing Chunk 15 out of 16\n",
      "Processing Chunk 16 out of 16\n"
     ]
    }
   ],
   "source": [
    "ConvertToNP(tofcal_branches2,\"3\",\"Timing\",\"timing2_\",GEN3PathTiming,\"2\")"
   ]
  },
  {
   "cell_type": "code",
   "execution_count": 15,
   "id": "565dea6f",
   "metadata": {},
   "outputs": [
    {
     "name": "stdout",
     "output_type": "stream",
     "text": [
      "26082060\n",
      "Processing Chunk 1 out of 14\n",
      "Processing Chunk 2 out of 14\n",
      "Processing Chunk 3 out of 14\n",
      "Processing Chunk 4 out of 14\n",
      "Processing Chunk 5 out of 14\n",
      "Processing Chunk 6 out of 14\n",
      "Processing Chunk 7 out of 14\n",
      "Processing Chunk 8 out of 14\n",
      "Processing Chunk 9 out of 14\n",
      "Processing Chunk 10 out of 14\n",
      "Processing Chunk 11 out of 14\n",
      "Processing Chunk 12 out of 14\n",
      "Processing Chunk 13 out of 14\n",
      "Processing Chunk 14 out of 14\n"
     ]
    }
   ],
   "source": [
    "ConvertToNP(tofcal_branches2,\"2\",\"Timing\",\"timing2_\",GEN2PathTiming,\"2\")"
   ]
  },
  {
   "cell_type": "code",
   "execution_count": null,
   "id": "b1f82d56",
   "metadata": {},
   "outputs": [],
   "source": [
    "#HODO BELOW BBCAL ABOVE"
   ]
  },
  {
   "cell_type": "code",
   "execution_count": 8,
   "id": "7407e6e8",
   "metadata": {},
   "outputs": [
    {
     "name": "stdout",
     "output_type": "stream",
     "text": [
      "30506510\n",
      "Processing Chunk 1 out of 16\n",
      "Processing Chunk 2 out of 16\n",
      "Processing Chunk 3 out of 16\n",
      "Processing Chunk 4 out of 16\n",
      "Processing Chunk 5 out of 16\n",
      "Processing Chunk 6 out of 16\n",
      "Processing Chunk 7 out of 16\n",
      "Processing Chunk 8 out of 16\n",
      "Processing Chunk 9 out of 16\n",
      "Processing Chunk 10 out of 16\n",
      "Processing Chunk 11 out of 16\n",
      "Processing Chunk 12 out of 16\n",
      "Processing Chunk 13 out of 16\n",
      "Processing Chunk 14 out of 16\n",
      "Processing Chunk 15 out of 16\n",
      "Processing Chunk 16 out of 16\n"
     ]
    }
   ],
   "source": [
    "ConvertToNP(tofcal_branches,\"3\",\"Timing\",\"timing\",GEN3PathTiming,\"2\")"
   ]
  },
  {
   "cell_type": "code",
   "execution_count": 9,
   "id": "90f3d963",
   "metadata": {},
   "outputs": [
    {
     "name": "stdout",
     "output_type": "stream",
     "text": [
      "26082060\n",
      "Processing Chunk 1 out of 14\n",
      "Processing Chunk 2 out of 14\n",
      "Processing Chunk 3 out of 14\n",
      "Processing Chunk 4 out of 14\n",
      "Processing Chunk 5 out of 14\n",
      "Processing Chunk 6 out of 14\n",
      "Processing Chunk 7 out of 14\n",
      "Processing Chunk 8 out of 14\n",
      "Processing Chunk 9 out of 14\n",
      "Processing Chunk 10 out of 14\n",
      "Processing Chunk 11 out of 14\n",
      "Processing Chunk 12 out of 14\n",
      "Processing Chunk 13 out of 14\n",
      "Processing Chunk 14 out of 14\n"
     ]
    }
   ],
   "source": [
    "ConvertToNP(tofcal_branches,\"2\",\"Timing\",\"timing\",GEN2PathTiming,\"2\")"
   ]
  },
  {
   "cell_type": "code",
   "execution_count": null,
   "id": "72f35d3d",
   "metadata": {},
   "outputs": [],
   "source": []
  },
  {
   "cell_type": "code",
   "execution_count": null,
   "id": "30af7e70",
   "metadata": {},
   "outputs": [],
   "source": []
  },
  {
   "cell_type": "code",
   "execution_count": null,
   "id": "c1575666",
   "metadata": {},
   "outputs": [],
   "source": []
  },
  {
   "cell_type": "code",
   "execution_count": null,
   "id": "2f418067",
   "metadata": {},
   "outputs": [],
   "source": [
    "\n",
    "\n",
    "#Hodoscope\n",
    "ConvertToNP(hodo_branches,\"3\",\"HCal_data\",\"hodo\")\n",
    "\n",
    "#HCal\n",
    "ConvertToNP(hcal_branches,\"3\",\"HCal_data\",\"hcal\")\n",
    "\n",
    "#Trigger\n",
    "ConvertToNP(trigger_branches,\"3\",\"HCal_data\",\"trigger\")"
   ]
  },
  {
   "cell_type": "markdown",
   "id": "8ffc8bda",
   "metadata": {},
   "source": [
    "# Generic Pass1"
   ]
  },
  {
   "cell_type": "code",
   "execution_count": 12,
   "id": "e58ef87f",
   "metadata": {},
   "outputs": [
    {
     "name": "stdout",
     "output_type": "stream",
     "text": [
      "Processing Chunk 1 out of 14\n",
      "Processing Chunk 2 out of 14\n",
      "Processing Chunk 3 out of 14\n",
      "Processing Chunk 4 out of 14\n",
      "Processing Chunk 5 out of 14\n",
      "Processing Chunk 6 out of 14\n",
      "Processing Chunk 7 out of 14\n",
      "Processing Chunk 8 out of 14\n",
      "Processing Chunk 9 out of 14\n",
      "Processing Chunk 10 out of 14\n",
      "Processing Chunk 11 out of 14\n",
      "Processing Chunk 12 out of 14\n",
      "Processing Chunk 13 out of 14\n",
      "Processing Chunk 14 out of 14\n"
     ]
    }
   ],
   "source": [
    "#Generic\n",
    "ConvertToNP(generic_branches,\"2\",\"He3\",\"generic\",GEN2Pathp1,\"1\")"
   ]
  },
  {
   "cell_type": "code",
   "execution_count": 13,
   "id": "51c373a2",
   "metadata": {},
   "outputs": [
    {
     "name": "stdout",
     "output_type": "stream",
     "text": [
      "Processing Chunk 1 out of 13\n",
      "Processing Chunk 2 out of 13\n",
      "Processing Chunk 3 out of 13\n",
      "Processing Chunk 4 out of 13\n",
      "Processing Chunk 5 out of 13\n",
      "Processing Chunk 6 out of 13\n",
      "Processing Chunk 7 out of 13\n",
      "Processing Chunk 8 out of 13\n",
      "Processing Chunk 9 out of 13\n",
      "Processing Chunk 10 out of 13\n",
      "Processing Chunk 11 out of 13\n",
      "Processing Chunk 12 out of 13\n",
      "Processing Chunk 13 out of 13\n"
     ]
    }
   ],
   "source": [
    "#Generic\n",
    "ConvertToNP(generic_branches,\"3\",\"He3\",\"generic\",GEN3Pathp1,\"1\")"
   ]
  },
  {
   "cell_type": "code",
   "execution_count": 15,
   "id": "d9d5652b",
   "metadata": {},
   "outputs": [
    {
     "name": "stdout",
     "output_type": "stream",
     "text": [
      "Processing Chunk 1 out of 5\n",
      "Processing Chunk 2 out of 5\n",
      "Processing Chunk 3 out of 5\n",
      "Processing Chunk 4 out of 5\n",
      "Processing Chunk 5 out of 5\n"
     ]
    }
   ],
   "source": [
    "#Generic\n",
    "ConvertToNP(generic_branches,\"4a\",\"He3\",\"generic\",GEN4aPathp1,\"1\")"
   ]
  },
  {
   "cell_type": "markdown",
   "id": "51c65034",
   "metadata": {},
   "source": [
    "# Generic Pass 2"
   ]
  },
  {
   "cell_type": "code",
   "execution_count": 11,
   "id": "a95273ac",
   "metadata": {},
   "outputs": [
    {
     "name": "stdout",
     "output_type": "stream",
     "text": [
      "35786069\n",
      "Processing Chunk 1 out of 18\n",
      "Processing Chunk 2 out of 18\n",
      "Processing Chunk 3 out of 18\n",
      "Processing Chunk 4 out of 18\n",
      "Processing Chunk 5 out of 18\n",
      "Processing Chunk 6 out of 18\n",
      "Processing Chunk 7 out of 18\n",
      "Processing Chunk 8 out of 18\n",
      "Processing Chunk 9 out of 18\n",
      "Processing Chunk 10 out of 18\n",
      "Processing Chunk 11 out of 18\n",
      "Processing Chunk 12 out of 18\n",
      "Processing Chunk 13 out of 18\n",
      "Processing Chunk 14 out of 18\n",
      "Processing Chunk 15 out of 18\n",
      "Processing Chunk 16 out of 18\n",
      "Processing Chunk 17 out of 18\n",
      "Processing Chunk 18 out of 18\n"
     ]
    }
   ],
   "source": [
    "#Generic\n",
    "ConvertToNP(generic_branchesp2,\"2\",\"He3\",\"final_2_\",GEN2Pathp2,\"2\")"
   ]
  },
  {
   "cell_type": "code",
   "execution_count": 12,
   "id": "81fde2ff",
   "metadata": {},
   "outputs": [
    {
     "name": "stdout",
     "output_type": "stream",
     "text": [
      "64732891\n",
      "Processing Chunk 1 out of 33\n",
      "Processing Chunk 2 out of 33\n",
      "Processing Chunk 3 out of 33\n",
      "Processing Chunk 4 out of 33\n",
      "Processing Chunk 5 out of 33\n",
      "Processing Chunk 6 out of 33\n",
      "Processing Chunk 7 out of 33\n",
      "Processing Chunk 8 out of 33\n",
      "Processing Chunk 9 out of 33\n",
      "Processing Chunk 10 out of 33\n",
      "Processing Chunk 11 out of 33\n",
      "Processing Chunk 12 out of 33\n",
      "Processing Chunk 13 out of 33\n",
      "Processing Chunk 14 out of 33\n",
      "Processing Chunk 15 out of 33\n",
      "Processing Chunk 16 out of 33\n",
      "Processing Chunk 17 out of 33\n",
      "Processing Chunk 18 out of 33\n",
      "Processing Chunk 19 out of 33\n",
      "Processing Chunk 20 out of 33\n",
      "Processing Chunk 21 out of 33\n",
      "Processing Chunk 22 out of 33\n",
      "Processing Chunk 23 out of 33\n",
      "Processing Chunk 24 out of 33\n",
      "Processing Chunk 25 out of 33\n",
      "Processing Chunk 26 out of 33\n",
      "Processing Chunk 27 out of 33\n",
      "Processing Chunk 28 out of 33\n",
      "Processing Chunk 29 out of 33\n",
      "Processing Chunk 30 out of 33\n",
      "Processing Chunk 31 out of 33\n",
      "Processing Chunk 32 out of 33\n",
      "Processing Chunk 33 out of 33\n"
     ]
    }
   ],
   "source": [
    "#Generic\n",
    "ConvertToNP(generic_branchesp2,\"3\",\"He3\",\"final_2_\",GEN3Pathp2,\"2\")"
   ]
  },
  {
   "cell_type": "code",
   "execution_count": 13,
   "id": "f6e5e4fc",
   "metadata": {
    "scrolled": true
   },
   "outputs": [
    {
     "name": "stdout",
     "output_type": "stream",
     "text": [
      "19836450\n",
      "Processing Chunk 1 out of 10\n",
      "Processing Chunk 2 out of 10\n",
      "Processing Chunk 3 out of 10\n",
      "Processing Chunk 4 out of 10\n",
      "Processing Chunk 5 out of 10\n",
      "Processing Chunk 6 out of 10\n",
      "Processing Chunk 7 out of 10\n",
      "Processing Chunk 8 out of 10\n",
      "Processing Chunk 9 out of 10\n",
      "Processing Chunk 10 out of 10\n"
     ]
    }
   ],
   "source": [
    "#Generic\n",
    "ConvertToNP(generic_branchesp2,\"4a\",\"He3\",\"final_2_\",GEN4aPathp2,\"2\")"
   ]
  },
  {
   "cell_type": "code",
   "execution_count": 14,
   "id": "8045721d",
   "metadata": {},
   "outputs": [
    {
     "name": "stdout",
     "output_type": "stream",
     "text": [
      "18684232\n",
      "Processing Chunk 1 out of 10\n",
      "Processing Chunk 2 out of 10\n",
      "Processing Chunk 3 out of 10\n",
      "Processing Chunk 4 out of 10\n",
      "Processing Chunk 5 out of 10\n",
      "Processing Chunk 6 out of 10\n",
      "Processing Chunk 7 out of 10\n",
      "Processing Chunk 8 out of 10\n",
      "Processing Chunk 9 out of 10\n",
      "Processing Chunk 10 out of 10\n"
     ]
    }
   ],
   "source": [
    "ConvertToNP(generic_branchesp2,\"4b\",\"He3\",\"final_2_\",GEN4bPathp2,\"2\")"
   ]
  },
  {
   "cell_type": "code",
   "execution_count": null,
   "id": "aae3139d",
   "metadata": {},
   "outputs": [],
   "source": []
  },
  {
   "cell_type": "code",
   "execution_count": null,
   "id": "d065bd9a",
   "metadata": {},
   "outputs": [],
   "source": []
  },
  {
   "cell_type": "code",
   "execution_count": null,
   "id": "0ee06419",
   "metadata": {
    "scrolled": false
   },
   "outputs": [],
   "source": [
    "#MachineLearning Data/ElasticSim/InelasticSim\n",
    "ConvertToNP(ml_branches,\"3\",\"HCal_data\",\"machinelearningD\")\n",
    "ConvertToNPSim(ml_branches,\"3\",\"HCal_data\",\"machinelearningES\")\n",
    "ConvertToNPInSim(ml_branches,\"3\",\"HCal_data\",\"machinelearningIS\")"
   ]
  },
  {
   "cell_type": "code",
   "execution_count": 14,
   "id": "58f70a6b",
   "metadata": {},
   "outputs": [
    {
     "name": "stdout",
     "output_type": "stream",
     "text": [
      "129704\n",
      "Processing Chunk 1 out of 1\n",
      "264763\n",
      "Processing Chunk 1 out of 1\n",
      "450806\n",
      "Processing Chunk 1 out of 1\n"
     ]
    }
   ],
   "source": [
    "#Simulation\n",
    "ConvertToNPSim(sim_branches,\"2\",\"simulation\")\n",
    "ConvertToNPSim(sim_branches,\"3\",\"simulation\")\n",
    "ConvertToNPSim(sim_branches,\"4\",\"simulation\")"
   ]
  },
  {
   "cell_type": "code",
   "execution_count": 13,
   "id": "69ea13ed",
   "metadata": {},
   "outputs": [
    {
     "name": "stdout",
     "output_type": "stream",
     "text": [
      "82850\n",
      "Processing Chunk 1 out of 1\n",
      "265216\n",
      "Processing Chunk 1 out of 1\n",
      "367394\n",
      "Processing Chunk 1 out of 1\n"
     ]
    }
   ],
   "source": [
    "#Simulation N2\n",
    "ConvertToNPSim(sim_branches,\"2\",\"simulationN2\",True)\n",
    "ConvertToNPSim(sim_branches,\"3\",\"simulationN2\",True)\n",
    "ConvertToNPSim(sim_branches,\"4\",\"simulationN2\",True)"
   ]
  },
  {
   "cell_type": "code",
   "execution_count": null,
   "id": "f13d1fee",
   "metadata": {},
   "outputs": [],
   "source": [
    "ConvertToNPSim(sim_branches,\"2\",\"HCal_data\",\"simulation\",3)"
   ]
  },
  {
   "cell_type": "code",
   "execution_count": null,
   "id": "41e11d8a",
   "metadata": {},
   "outputs": [],
   "source": []
  },
  {
   "cell_type": "code",
   "execution_count": 9,
   "id": "54eb4606",
   "metadata": {},
   "outputs": [
    {
     "name": "stdout",
     "output_type": "stream",
     "text": [
      "13805\n",
      "Processing Chunk 1 out of 1\n"
     ]
    }
   ],
   "source": [
    "ConvertToNPInSim(insim_branches,\"3\",\"HCal_data\",\"insimulationNEW\",GEN3InSimNEW)"
   ]
  },
  {
   "cell_type": "code",
   "execution_count": 10,
   "id": "9d9fdbb2",
   "metadata": {},
   "outputs": [
    {
     "name": "stdout",
     "output_type": "stream",
     "text": [
      "11548\n",
      "Processing Chunk 1 out of 1\n"
     ]
    }
   ],
   "source": [
    "ConvertToNPInSim(insim_branches,\"2\",\"HCal_data\",\"insimulationNEW\",GEN2InSimNEW)"
   ]
  },
  {
   "cell_type": "code",
   "execution_count": 11,
   "id": "4777138f",
   "metadata": {},
   "outputs": [
    {
     "name": "stdout",
     "output_type": "stream",
     "text": [
      "45433\n",
      "Processing Chunk 1 out of 1\n"
     ]
    }
   ],
   "source": [
    "ConvertToNPInSim(insim_branches,\"4\",\"HCal_data\",\"insimulationNEW\",GEN4InSimNEW)"
   ]
  },
  {
   "cell_type": "code",
   "execution_count": 19,
   "id": "2c0da258",
   "metadata": {},
   "outputs": [
    {
     "name": "stdout",
     "output_type": "stream",
     "text": [
      "311751\n",
      "Processing Chunk 1 out of 1\n"
     ]
    }
   ],
   "source": [
    "#Simulation\n",
    "ConvertToNPInSim(insim_branches,\"3\",\"HCal_data\",\"insimulation\",GEN3InSim)"
   ]
  },
  {
   "cell_type": "code",
   "execution_count": 17,
   "id": "a55fcb27",
   "metadata": {},
   "outputs": [
    {
     "name": "stdout",
     "output_type": "stream",
     "text": [
      "73561\n",
      "Processing Chunk 1 out of 1\n"
     ]
    }
   ],
   "source": [
    "ConvertToNPInSim(insim_branches,\"2\",\"HCal_data\",\"insimulation\",GEN2InSim)"
   ]
  },
  {
   "cell_type": "code",
   "execution_count": 19,
   "id": "34e00129",
   "metadata": {},
   "outputs": [
    {
     "name": "stdout",
     "output_type": "stream",
     "text": [
      "223344\n",
      "Processing Chunk 1 out of 1\n"
     ]
    }
   ],
   "source": [
    "ConvertToNPInSim(insim_branches,\"4\",\"HCal_data\",\"insimulation\",GEN4InSim)"
   ]
  },
  {
   "cell_type": "code",
   "execution_count": null,
   "id": "1469d434",
   "metadata": {},
   "outputs": [],
   "source": []
  }
 ],
 "metadata": {
  "kernelspec": {
   "display_name": "Python 3 (ipykernel)",
   "language": "python",
   "name": "python3"
  },
  "language_info": {
   "codemirror_mode": {
    "name": "ipython",
    "version": 3
   },
   "file_extension": ".py",
   "mimetype": "text/x-python",
   "name": "python",
   "nbconvert_exporter": "python",
   "pygments_lexer": "ipython3",
   "version": "3.8.10"
  }
 },
 "nbformat": 4,
 "nbformat_minor": 5
}
