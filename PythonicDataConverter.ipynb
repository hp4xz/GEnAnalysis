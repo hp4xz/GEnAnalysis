{
 "cells": [
  {
   "cell_type": "code",
   "execution_count": 1,
   "id": "6f23814d",
   "metadata": {},
   "outputs": [
    {
     "name": "stdout",
     "output_type": "stream",
     "text": [
      "Welcome to JupyROOT 6.26/06\n"
     ]
    }
   ],
   "source": [
    "import ROOT as r\n",
    "import math\n",
    "import array\n",
    "import os\n",
    "import sys\n",
    "import pandas as pd\n",
    "\n",
    "import matplotlib.pyplot as plt\n",
    "import matplotlib.colors as mcolors\n",
    "from matplotlib.backends.backend_pdf import PdfPages\n",
    "import uproot\n",
    "import numpy as np\n",
    "from scipy.optimize import curve_fit\n",
    "\n",
    "#______________Add include directory_______________\n",
    "current_dir = os.getcwd()\n",
    "include_dir = os.path.join(current_dir, 'include')\n",
    "sys.path.insert(0, include_dir)\n",
    "#__________________________________________________\n",
    "\n",
    "import CONFIG\n",
    "import DBPARSE\n",
    "from UTILITIES import *\n",
    "from SIMFITS2D import DistributionFits2D\n",
    "from ROOT import gStyle, TChain, TH1F, TCanvas, TLegend"
   ]
  },
  {
   "cell_type": "code",
   "execution_count": 2,
   "id": "4b2e187c",
   "metadata": {},
   "outputs": [],
   "source": [
    "\n",
    "GEN2Pathp1=f\"/media/research/TOSHIBA EXT/GEn/outfiles/pass1/Pass1_data_GEN2_sbs100p_nucleon_np_model2.root\"\n",
    "GEN3Pathp1=f\"/media/research/TOSHIBA EXT/GEn/outfiles/pass1/Pass1_data_GEN3_sbs100p_nucleon_np_model2.root\"\n",
    "GEN4aPathp1=f\"/media/research/TOSHIBA EXT/GEn/outfiles/pass1/Pass1_data_GEN4a_sbs100p_nucleon_np_model2.root\"\n",
    "GEN4bPathp1=f\"/media/research/TOSHIBA EXT/GEn/outfiles/pass1/Pass1_data_GEN4b_sbs100p_nucleon_np_model2.root\"\n",
    "\n",
    "\n",
    "\n",
    "GEN2Pathp2=f\"/media/research/TOSHIBA EXT/GEn/outfiles/pass2/Final_data_GEN2_sbs100p_nucleon_np_model2.root\"\n",
    "GEN3Pathp2=f\"/media/research/TOSHIBA EXT/GEn/outfiles/pass2/Final_data_GEN3_sbs100p_nucleon_np_model2.root\"\n",
    "GEN4aPathp2=f\"/media/research/TOSHIBA EXT/GEn/outfiles/pass2/Final_data_GEN4a_sbs100p_nucleon_np_model2.root\"\n",
    "GEN4bPathp2=f\"/media/research/TOSHIBA EXT/GEn/outfiles/pass2/Final_data_GEN4b_sbs100p_nucleon_np_model2.root\"\n",
    "\n",
    "GEN3PathTiming=f\"/media/research/TOSHIBA EXT/GEn/outfiles/pass2/Final_timing_GEN3_sbs100p_nucleon_np_model2.root\"\n",
    "GEN2PathTiming=f\"/media/research/TOSHIBA EXT/GEn/outfiles/pass2/Final_timing_GEN2_sbs100p_nucleon_np_model2.root\"\n",
    "\n",
    "GEN3InSim=f\"/media/research/TOSHIBA EXT/GEn/outfiles/insim/QE_Insim_GEN3_sbs100p_nucleon_np_model2.root\"\n",
    "\n",
    "\n"
   ]
  },
  {
   "cell_type": "code",
   "execution_count": 3,
   "id": "0f41ae50",
   "metadata": {
    "scrolled": false
   },
   "outputs": [
    {
     "name": "stdout",
     "output_type": "stream",
     "text": [
      "Branches in tree 'Tout':\n",
      "runnum\n",
      "trigbits\n",
      "ebeam\n",
      "nu\n",
      "Q2\n",
      "W2\n",
      "dpel\n",
      "ephi\n",
      "etheta\n",
      "pcentral\n",
      "vz\n",
      "vx\n",
      "vy\n",
      "tr_y\n",
      "tr_x\n",
      "tr_th\n",
      "tr_ph\n",
      "xtgt\n",
      "ytgt\n",
      "thtgt\n",
      "phtgt\n",
      "thetabend\n",
      "xfp\n",
      "yfp\n",
      "thfp\n",
      "phfp\n",
      "trP\n",
      "trPx\n",
      "trPy\n",
      "trPz\n",
      "ePS\n",
      "xPS\n",
      "eSH\n",
      "xSH\n",
      "ySH\n",
      "eHCAL\n",
      "xHCAL\n",
      "yHCAL\n",
      "xHCAL_exp\n",
      "yHCAL_exp\n",
      "dx\n",
      "dy\n",
      "grinch_clus_size\n",
      "grinch_clus_trackindex\n",
      "coin_time\n",
      "new_coin_time\n",
      "hcal_time\n",
      "bbcal_time\n",
      "BPMAx\n",
      "BPMAy\n",
      "Rasterx\n",
      "Rastery\n",
      "Raster2x\n",
      "Raster2y\n",
      "helicity\n",
      "IHWP\n",
      "pNhat_x\n",
      "pNhat_y\n",
      "pNhat_z\n",
      "HCALtw\n",
      "HODOmeantime\n",
      "bb_rftime\n",
      "hodo_rftime\n",
      "sbs_rftime\n",
      "hcal_rftime\n",
      "bb_trigtime\n",
      "hodo_trigtime\n",
      "sbs_trigtime\n",
      "hcal_trigtime\n",
      "nblk\n",
      "cblkid\n",
      "cblke\n",
      "cblktime\n",
      "nbars\n",
      "meantime\n",
      "barid\n",
      "meantot\n",
      "tleft\n",
      "tright\n",
      "totleft\n",
      "totright\n",
      "vpos\n",
      "pathl\n",
      "npathl\n",
      "pN_expected\n"
     ]
    },
    {
     "name": "stderr",
     "output_type": "stream",
     "text": [
      "Error in <TList::Clear>: A list is accessing an object (0x33d5ae90) already deleted (list name = TList)\n",
      "Error in <TList::Clear>: A list is accessing an object (0x380d6fc0) already deleted (list name = TList)\n",
      "Error in <TList::Clear>: A list is accessing an object (0x380d73f0) already deleted (list name = TList)\n",
      "Error in <TList::Clear>: A list is accessing an object (0x38112370) already deleted (list name = TList)\n",
      "Error in <TList::Clear>: A list is accessing an object (0x381126e0) already deleted (list name = TList)\n",
      "Error in <TList::Clear>: A list is accessing an object (0x38112b50) already deleted (list name = TList)\n",
      "Error in <TList::Clear>: A list is accessing an object (0x38112ff0) already deleted (list name = TList)\n",
      "Error in <TList::Clear>: A list is accessing an object (0x381133c0) already deleted (list name = TList)\n",
      "Error in <TList::Clear>: A list is accessing an object (0x38113860) already deleted (list name = TList)\n",
      "Error in <TList::Clear>: A list is accessing an object (0x38113a90) already deleted (list name = TList)\n",
      "Error in <TList::Clear>: A list is accessing an object (0x38156670) already deleted (list name = TList)\n",
      "Error in <TList::Clear>: A list is accessing an object (0x3815efb0) already deleted (list name = TList)\n",
      "Error in <TList::Clear>: A list is accessing an object (0x3815f4c0) already deleted (list name = TList)\n",
      "Error in <TList::Clear>: A list is accessing an object (0x3815ff40) already deleted (list name = TList)\n",
      "Error in <TList::Clear>: A list is accessing an object (0x381603a0) already deleted (list name = TList)\n",
      "Error in <TList::Clear>: A list is accessing an object (0x381613a0) already deleted (list name = TList)\n",
      "Error in <TList::Clear>: A list is accessing an object (0x3816a8f0) already deleted (list name = TList)\n",
      "Error in <TList::Clear>: A list is accessing an object (0x3816ae90) already deleted (list name = TList)\n",
      "Error in <TList::Clear>: A list is accessing an object (0x3816b1c0) already deleted (list name = TList)\n",
      "Error in <TList::Clear>: A list is accessing an object (0x3816b870) already deleted (list name = TList)\n",
      "Error in <THashList::Delete>: A list is accessing an object (0x3800b530) already deleted (list name = THashList)\n"
     ]
    }
   ],
   "source": [
    "#available branches\n",
    "import ROOT as r\n",
    "\n",
    "\n",
    "def list_branches(rootfile_path, tree_name=\"Tout\"):\n",
    "    # Open the ROOT file\n",
    "    root_file = r.TFile.Open(rootfile_path)\n",
    "    \n",
    "    # Check if the file was successfully opened\n",
    "    if not root_file or root_file.IsZombie():\n",
    "        print(f\"Error: Could not open ROOT file '{rootfile_path}'.\")\n",
    "        return\n",
    "    \n",
    "    # Access the TTree\n",
    "    tree = root_file.Get(tree_name)\n",
    "    \n",
    "    # Check if the tree exists\n",
    "    if not tree:\n",
    "        print(f\"Error: Tree '{tree_name}' not found in file '{rootfile_path}'.\")\n",
    "        root_file.Close()\n",
    "        return\n",
    "    \n",
    "    # Get the list of branches\n",
    "    branch_list = tree.GetListOfBranches()\n",
    "    \n",
    "    # Print all branch names\n",
    "    print(f\"Branches in tree '{tree_name}':\")\n",
    "    for branch in branch_list:\n",
    "        print(branch.GetName())\n",
    "    \n",
    "    # Close the ROOT file\n",
    "    root_file.Close()\n",
    "\n",
    "# Example usage\n",
    "list_branches(GEN3PathTiming)\n"
   ]
  },
  {
   "cell_type": "code",
   "execution_count": 4,
   "id": "3680e601",
   "metadata": {},
   "outputs": [
    {
     "data": {
      "text/plain": [
       "'\\n#inputs hodo\\nconfig=\"3\"\\nprefix=\"HCal_data\"\\ndetector=\"hodo\"\\n#inputs hcal\\nconfig=\"3\"\\nprefix=\"HCal_data\"\\ndetector=\"hcal\"\\n'"
      ]
     },
     "execution_count": 4,
     "metadata": {},
     "output_type": "execute_result"
    }
   ],
   "source": [
    "\"\"\"\n",
    "#inputs hodo\n",
    "config=\"3\"\n",
    "prefix=\"HCal_data\"\n",
    "detector=\"hodo\"\n",
    "#inputs hcal\n",
    "config=\"3\"\n",
    "prefix=\"HCal_data\"\n",
    "detector=\"hcal\"\n",
    "\"\"\""
   ]
  },
  {
   "cell_type": "code",
   "execution_count": 4,
   "id": "4fedb294",
   "metadata": {},
   "outputs": [],
   "source": [
    "#define branches\n",
    "branches=[\"ebeam\",\"nu\",\"Q2\",\"W2\",\"dpel\",\"ephi\",\"etheta\",\"pcentral\",\"vz\",\"vx\"\n",
    "          ,\"vy\",\"xtgt\",\"ytgt\",\"thtgt\",\"phtgt\",\"thetabend\",\"xfp\",\"yfp\",\"thfp\"\n",
    "          ,\"phfp\",\"trP\",\"trPx\",\"trPy\",\"trPz\",\"ePS\",\"xPS\",\"eSH\",\"xSH\",\"ySH\",\"eHCAL\"\n",
    "          ,\"xHCAL\",\"yHCAL\",\"xHCAL_exp\",\"yHCAL_exp\",\"dx\",\"dy\",\"ngrinch_hits\",\"xGRINCH\"\n",
    "          ,\"yGRINCH\",\"coin_time\",\"hcal_time\",\"bbcal_time\",\"BPMAx\",\"BPMAy\",\"Rasterx\"\n",
    "          ,\"Rastery\",\"Raster2x\",\"Raster2y\",\"helicity\",\"IHWP\",\"pblkid\",\"tdc\",\"atime\"\n",
    "          ,\"nblk\",\"mag\",\"runnum\",\"tar\",\"cblkid\",\"cblkatime\",\"cblktime\",\"cblke\",\"nclus\"\n",
    "          ,\"cid\",\"cx\",\"cy\",\"catime\",\"hodoTimes\",\"hodoIDs\",\"hodoTOT\",\"nbars\"]\n",
    "hodo_branches=[\"hodoTimes\",\"hodoIDs\",\"hodoTOT\",\"nbars\",\"hodoClusMean\"]\n",
    "hcal_branches=[\"cblkid\",\"cblkatime\",\"cblktime\",\"cblke\",\"nclus\"\n",
    "          ,\"cid\",\"cx\",\"cy\",\"catime\"]\n",
    "trigger_branches=[\"trigger\",\"triggerID\",\"NdataTriggerID\"]\n",
    "generic_branches=[\"nu\",\"Q2\",\"W2\",\"vz\",\"vx\",\"vy\",\"dx\",\"dy\",\"eSH\",\"ePS\",\"etheta\",\"ephi\",\"trP\",\"thtgt\",\"phtgt\",\n",
    "                  \"coin_time\",\"trPx\",\"trPy\",\"trPz\",\"ephi\",\"ebeam\",\"helicity\",\"IHWP\",\"runnum\",]\n",
    "generic_branchesp2=[\"nu\",\"Q2\",\"W2\",\"vz\",\"vx\",\"vy\",\"dx\",\"dy\",\"eSH\",\"ePS\",\"etheta\",\"ephi\",\"trP\",\"thtgt\",\"phtgt\",\n",
    "                  \"coin_time\",\"new_coin_time\",\"trPx\",\"trPy\",\"trPz\",\"ephi\",\"ebeam\",\"helicity\",\"IHWP\",\"runnum\",\n",
    "                    \"grinch_clus_size\",\n",
    "                   \"grinch_clus_trackindex\",\"HCALtw\",\"HODOmeantime\",\"bb_rftime\",\"sbs_rftime\"]\n",
    "sim_branches=[\"nu\",\"Q2\",\"W2\",\"vz\",\"vx\",\"vy\",\"dx\",\"dy\",\"eSH\",\"ePS\",\"etheta\",\"ephi\",\"trP\",\"fnucl\",\"weight\"]\n",
    "insim_branches=[\"nu\",\"Q2\",\"W2\",\"vz\",\"vx\",\"vy\",\"dx\",\"dy\",\"eSH\",\"ePS\",\"etheta\",\"trP\",\"fnucl\",\"weight\",\"mc_sig\",\n",
    "               \"mc_sigOld\",\n",
    "               \"mc_sigPol\",\n",
    "               \"mc_BETA\",\n",
    "               \"mc_THETA\"]\n",
    "\n",
    "\n",
    "ml_branches = [\n",
    "    \"ebeam\", \"nu\", \"Q2\", \"W2\", \"dpel\", \"ephi\", \"etheta\", \"pcentral\", \"vz\", \"vx\", \"vy\",\n",
    "    \"xtgt\", \"ytgt\", \"thtgt\", \"phtgt\", \"xfp\", \"yfp\", \"thfp\", \"phfp\", \"trP\",\n",
    "    \"ePS\", \"eSH\", \"eHCAL\", \"xHCAL\", \"yHCAL\", \"xHCAL_exp\", \"yHCAL_exp\",\n",
    "    \"dx\", \"dy\"\n",
    "]\n",
    "tofcal_branches = [\n",
    "    \"ePS\",\n",
    "    \"runnum\",\n",
    "    \"tleft\",\n",
    "    \"tright\",\n",
    "    \"totleft\",\n",
    "    \"totright\",\n",
    "    \"vpos\",\n",
    "    \"barid\",\n",
    "    \"nbars\",\n",
    "    \"nblk\",\n",
    "    \"bb_rftime\",\n",
    "    \"hodo_rftime\",\n",
    "    \"sbs_rftime\",\n",
    "    \"hcal_rftime\",\n",
    "    \"bb_trigtime\",\n",
    "    \"hodo_trigtime\",\n",
    "    \"sbs_trigtime\",\n",
    "    \"hcal_trigtime\",\n",
    "    \"cblke\",\n",
    "    \"cblkid\",\n",
    "    \"cblktime\",\n",
    "    \"vz\",\n",
    "    \"xHCAL\",\n",
    "    \"yHCAL\",\n",
    "    \"xSH\",\n",
    "    \"ySH\",\n",
    "    \"pathl\",\n",
    "    \"tr_y\",\n",
    "    \"tr_x\",\n",
    "    \"tr_th\",\n",
    "    \"tr_ph\",\n",
    "    \"meantime\",\n",
    "    \"HCALtw\",\n",
    "    \"W2\",\n",
    "    \"dx\",\n",
    "    \"dy\",\n",
    "    \"trPx\",\n",
    "    \"trPy\",\n",
    "    \"trPz\",\n",
    "    \"trP\",\n",
    "    \"cblkid\",\n",
    "    \"nblk\",\n",
    "    \"cblke\",\n",
    "    \"cblktime\",\n",
    "    \"pN_expected\",\n",
    "    \"npathl\"\n",
    "    \n",
    "]\n"
   ]
  },
  {
   "cell_type": "code",
   "execution_count": 5,
   "id": "15b7d3da",
   "metadata": {},
   "outputs": [],
   "source": [
    "\n",
    "def ConvertToNP(branches,config,prefix,detector,File,Pass):\n",
    "    # Open the ROOT file\n",
    "    with uproot.open(File) as file:\n",
    "        # Access the tree (replace 'Tout' with the actual name of your tree if different)\n",
    "        tree = file[\"Tout\"]\n",
    "\n",
    "        # Get all branch names\n",
    "        #branches = tree.keys()\n",
    "\n",
    "        chunk_size = 2000000  # Define the chunk size\n",
    "        total_entries = tree.num_entries  # Get the total number of entries\n",
    "        print(total_entries)\n",
    "        total_iterations = total_entries // chunk_size + (total_entries % chunk_size > 0)\n",
    "\n",
    "        for j in range(total_iterations):\n",
    "            print(f\"Processing Chunk {j+1} out of {total_iterations}\")\n",
    "\n",
    "            start = j * chunk_size\n",
    "            stop = min((j + 1) * chunk_size, total_entries)\n",
    "\n",
    "            # Read data for this chunk\n",
    "            data = tree.arrays(branches, entry_start=start, entry_stop=stop, library=\"np\")\n",
    "            \n",
    "            # Save all the branches as a dictionary to .npz\n",
    "            np.savez(f\"/media/research/TOSHIBA EXT/GEn/NumpyData/Pass{Pass}/GEN{config}/{prefix}/{detector}{j}.npz\", **data)\n"
   ]
  },
  {
   "cell_type": "code",
   "execution_count": null,
   "id": "3b0f5beb",
   "metadata": {},
   "outputs": [],
   "source": []
  },
  {
   "cell_type": "code",
   "execution_count": 6,
   "id": "08c88a63",
   "metadata": {},
   "outputs": [],
   "source": [
    "def ConvertToNPSim(branches,config,detector):\n",
    "    # Open the ROOT file\n",
    "    with uproot.open(f\"/media/research/TOSHIBA EXT/GEn/outfiles/sim/QE_sim_GEN{config}_sbs100p_nucleon_np_model2.root\") as file:\n",
    "        # Access the tree (replace 'Tout' with the actual name of your tree if different)\n",
    "        tree = file[\"Tout\"]\n",
    "\n",
    "        # Get all branch names\n",
    "        #branches = tree.keys()\n",
    "\n",
    "        chunk_size = 2000000  # Define the chunk size\n",
    "        total_entries = tree.num_entries  # Get the total number of entries\n",
    "        total_iterations = total_entries // chunk_size + (total_entries % chunk_size > 0)\n",
    "        print(total_entries)\n",
    "        for j in range(total_iterations):\n",
    "            print(f\"Processing Chunk {j+1} out of {total_iterations}\")\n",
    "\n",
    "            start = j * chunk_size\n",
    "            stop = min((j + 1) * chunk_size, total_entries)\n",
    "\n",
    "            # Read data for this chunk\n",
    "            data = tree.arrays(branches, entry_start=start, entry_stop=stop, library=\"np\")\n",
    "\n",
    "            # Save all the branches as a dictionary to .npz\n",
    "            np.savez(f\"/media/research/TOSHIBA EXT/GEn/NumpySim/GEN{config}/{detector}{j}.npz\", **data)\n"
   ]
  },
  {
   "cell_type": "code",
   "execution_count": null,
   "id": "900ce799",
   "metadata": {},
   "outputs": [],
   "source": []
  },
  {
   "cell_type": "code",
   "execution_count": 7,
   "id": "42eec1a1",
   "metadata": {},
   "outputs": [],
   "source": [
    "def ConvertToNPInSim(branches,config,prefix,detector,File):\n",
    "    # Open the ROOT file\n",
    "    with uproot.open(File) as file:\n",
    "        # Access the tree (replace 'Tout' with the actual name of your tree if different)\n",
    "        tree = file[\"Tout\"]\n",
    "\n",
    "        # Get all branch names\n",
    "        #branches = tree.keys()\n",
    "\n",
    "        chunk_size = 2000000  # Define the chunk size\n",
    "        total_entries = tree.num_entries  # Get the total number of entries\n",
    "        total_iterations = total_entries // chunk_size + (total_entries % chunk_size > 0)\n",
    "        print(total_entries)\n",
    "        for j in range(total_iterations):\n",
    "            print(f\"Processing Chunk {j+1} out of {total_iterations}\")\n",
    "\n",
    "            start = j * chunk_size\n",
    "            stop = min((j + 1) * chunk_size, total_entries)\n",
    "\n",
    "            # Read data for this chunk\n",
    "            data = tree.arrays(branches, entry_start=start, entry_stop=stop, library=\"np\")\n",
    "\n",
    "            # Save all the branches as a dictionary to .npz\n",
    "            np.savez(f\"/media/research/TOSHIBA EXT/GEn/NumpySim/GEN{config}/{detector}{j}.npz\", **data)\n"
   ]
  },
  {
   "cell_type": "markdown",
   "id": "8314350f",
   "metadata": {},
   "source": [
    "# TIMING"
   ]
  },
  {
   "cell_type": "code",
   "execution_count": 8,
   "id": "7407e6e8",
   "metadata": {},
   "outputs": [
    {
     "name": "stdout",
     "output_type": "stream",
     "text": [
      "30506510\n",
      "Processing Chunk 1 out of 16\n",
      "Processing Chunk 2 out of 16\n",
      "Processing Chunk 3 out of 16\n",
      "Processing Chunk 4 out of 16\n",
      "Processing Chunk 5 out of 16\n",
      "Processing Chunk 6 out of 16\n",
      "Processing Chunk 7 out of 16\n",
      "Processing Chunk 8 out of 16\n",
      "Processing Chunk 9 out of 16\n",
      "Processing Chunk 10 out of 16\n",
      "Processing Chunk 11 out of 16\n",
      "Processing Chunk 12 out of 16\n",
      "Processing Chunk 13 out of 16\n",
      "Processing Chunk 14 out of 16\n",
      "Processing Chunk 15 out of 16\n",
      "Processing Chunk 16 out of 16\n"
     ]
    }
   ],
   "source": [
    "ConvertToNP(tofcal_branches,\"3\",\"Timing\",\"timing\",GEN3PathTiming,\"2\")"
   ]
  },
  {
   "cell_type": "code",
   "execution_count": 9,
   "id": "90f3d963",
   "metadata": {},
   "outputs": [
    {
     "name": "stdout",
     "output_type": "stream",
     "text": [
      "26082060\n",
      "Processing Chunk 1 out of 14\n",
      "Processing Chunk 2 out of 14\n",
      "Processing Chunk 3 out of 14\n",
      "Processing Chunk 4 out of 14\n",
      "Processing Chunk 5 out of 14\n",
      "Processing Chunk 6 out of 14\n",
      "Processing Chunk 7 out of 14\n",
      "Processing Chunk 8 out of 14\n",
      "Processing Chunk 9 out of 14\n",
      "Processing Chunk 10 out of 14\n",
      "Processing Chunk 11 out of 14\n",
      "Processing Chunk 12 out of 14\n",
      "Processing Chunk 13 out of 14\n",
      "Processing Chunk 14 out of 14\n"
     ]
    }
   ],
   "source": [
    "ConvertToNP(tofcal_branches,\"2\",\"Timing\",\"timing\",GEN2PathTiming,\"2\")"
   ]
  },
  {
   "cell_type": "code",
   "execution_count": null,
   "id": "72f35d3d",
   "metadata": {},
   "outputs": [],
   "source": []
  },
  {
   "cell_type": "code",
   "execution_count": null,
   "id": "30af7e70",
   "metadata": {},
   "outputs": [],
   "source": []
  },
  {
   "cell_type": "code",
   "execution_count": null,
   "id": "c1575666",
   "metadata": {},
   "outputs": [],
   "source": []
  },
  {
   "cell_type": "code",
   "execution_count": null,
   "id": "2f418067",
   "metadata": {},
   "outputs": [],
   "source": [
    "\n",
    "\n",
    "#Hodoscope\n",
    "ConvertToNP(hodo_branches,\"3\",\"HCal_data\",\"hodo\")\n",
    "\n",
    "#HCal\n",
    "ConvertToNP(hcal_branches,\"3\",\"HCal_data\",\"hcal\")\n",
    "\n",
    "#Trigger\n",
    "ConvertToNP(trigger_branches,\"3\",\"HCal_data\",\"trigger\")"
   ]
  },
  {
   "cell_type": "markdown",
   "id": "8ffc8bda",
   "metadata": {},
   "source": [
    "# Generic Pass1"
   ]
  },
  {
   "cell_type": "code",
   "execution_count": 12,
   "id": "e58ef87f",
   "metadata": {},
   "outputs": [
    {
     "name": "stdout",
     "output_type": "stream",
     "text": [
      "Processing Chunk 1 out of 14\n",
      "Processing Chunk 2 out of 14\n",
      "Processing Chunk 3 out of 14\n",
      "Processing Chunk 4 out of 14\n",
      "Processing Chunk 5 out of 14\n",
      "Processing Chunk 6 out of 14\n",
      "Processing Chunk 7 out of 14\n",
      "Processing Chunk 8 out of 14\n",
      "Processing Chunk 9 out of 14\n",
      "Processing Chunk 10 out of 14\n",
      "Processing Chunk 11 out of 14\n",
      "Processing Chunk 12 out of 14\n",
      "Processing Chunk 13 out of 14\n",
      "Processing Chunk 14 out of 14\n"
     ]
    }
   ],
   "source": [
    "#Generic\n",
    "ConvertToNP(generic_branches,\"2\",\"He3\",\"generic\",GEN2Pathp1,\"1\")"
   ]
  },
  {
   "cell_type": "code",
   "execution_count": 13,
   "id": "51c373a2",
   "metadata": {},
   "outputs": [
    {
     "name": "stdout",
     "output_type": "stream",
     "text": [
      "Processing Chunk 1 out of 13\n",
      "Processing Chunk 2 out of 13\n",
      "Processing Chunk 3 out of 13\n",
      "Processing Chunk 4 out of 13\n",
      "Processing Chunk 5 out of 13\n",
      "Processing Chunk 6 out of 13\n",
      "Processing Chunk 7 out of 13\n",
      "Processing Chunk 8 out of 13\n",
      "Processing Chunk 9 out of 13\n",
      "Processing Chunk 10 out of 13\n",
      "Processing Chunk 11 out of 13\n",
      "Processing Chunk 12 out of 13\n",
      "Processing Chunk 13 out of 13\n"
     ]
    }
   ],
   "source": [
    "#Generic\n",
    "ConvertToNP(generic_branches,\"3\",\"He3\",\"generic\",GEN3Pathp1,\"1\")"
   ]
  },
  {
   "cell_type": "code",
   "execution_count": 15,
   "id": "d9d5652b",
   "metadata": {},
   "outputs": [
    {
     "name": "stdout",
     "output_type": "stream",
     "text": [
      "Processing Chunk 1 out of 5\n",
      "Processing Chunk 2 out of 5\n",
      "Processing Chunk 3 out of 5\n",
      "Processing Chunk 4 out of 5\n",
      "Processing Chunk 5 out of 5\n"
     ]
    }
   ],
   "source": [
    "#Generic\n",
    "ConvertToNP(generic_branches,\"4a\",\"He3\",\"generic\",GEN4aPathp1,\"1\")"
   ]
  },
  {
   "cell_type": "markdown",
   "id": "51c65034",
   "metadata": {},
   "source": [
    "# Generic Pass 2"
   ]
  },
  {
   "cell_type": "code",
   "execution_count": 15,
   "id": "a95273ac",
   "metadata": {},
   "outputs": [
    {
     "name": "stdout",
     "output_type": "stream",
     "text": [
      "34712274\n",
      "Processing Chunk 1 out of 18\n",
      "Processing Chunk 2 out of 18\n",
      "Processing Chunk 3 out of 18\n",
      "Processing Chunk 4 out of 18\n",
      "Processing Chunk 5 out of 18\n",
      "Processing Chunk 6 out of 18\n",
      "Processing Chunk 7 out of 18\n",
      "Processing Chunk 8 out of 18\n",
      "Processing Chunk 9 out of 18\n",
      "Processing Chunk 10 out of 18\n",
      "Processing Chunk 11 out of 18\n",
      "Processing Chunk 12 out of 18\n",
      "Processing Chunk 13 out of 18\n",
      "Processing Chunk 14 out of 18\n",
      "Processing Chunk 15 out of 18\n",
      "Processing Chunk 16 out of 18\n",
      "Processing Chunk 17 out of 18\n",
      "Processing Chunk 18 out of 18\n"
     ]
    }
   ],
   "source": [
    "#Generic\n",
    "ConvertToNP(generic_branchesp2,\"2\",\"He3\",\"final\",GEN2Pathp2,\"2\")"
   ]
  },
  {
   "cell_type": "code",
   "execution_count": 16,
   "id": "81fde2ff",
   "metadata": {},
   "outputs": [
    {
     "name": "stdout",
     "output_type": "stream",
     "text": [
      "61582929\n",
      "Processing Chunk 1 out of 31\n",
      "Processing Chunk 2 out of 31\n",
      "Processing Chunk 3 out of 31\n",
      "Processing Chunk 4 out of 31\n",
      "Processing Chunk 5 out of 31\n",
      "Processing Chunk 6 out of 31\n",
      "Processing Chunk 7 out of 31\n",
      "Processing Chunk 8 out of 31\n",
      "Processing Chunk 9 out of 31\n",
      "Processing Chunk 10 out of 31\n",
      "Processing Chunk 11 out of 31\n",
      "Processing Chunk 12 out of 31\n",
      "Processing Chunk 13 out of 31\n",
      "Processing Chunk 14 out of 31\n",
      "Processing Chunk 15 out of 31\n",
      "Processing Chunk 16 out of 31\n",
      "Processing Chunk 17 out of 31\n",
      "Processing Chunk 18 out of 31\n",
      "Processing Chunk 19 out of 31\n",
      "Processing Chunk 20 out of 31\n",
      "Processing Chunk 21 out of 31\n",
      "Processing Chunk 22 out of 31\n",
      "Processing Chunk 23 out of 31\n",
      "Processing Chunk 24 out of 31\n",
      "Processing Chunk 25 out of 31\n",
      "Processing Chunk 26 out of 31\n",
      "Processing Chunk 27 out of 31\n",
      "Processing Chunk 28 out of 31\n",
      "Processing Chunk 29 out of 31\n",
      "Processing Chunk 30 out of 31\n",
      "Processing Chunk 31 out of 31\n"
     ]
    }
   ],
   "source": [
    "#Generic\n",
    "ConvertToNP(generic_branchesp2,\"3\",\"He3\",\"final\",GEN3Pathp2,\"2\")"
   ]
  },
  {
   "cell_type": "code",
   "execution_count": 18,
   "id": "f6e5e4fc",
   "metadata": {
    "scrolled": true
   },
   "outputs": [
    {
     "name": "stdout",
     "output_type": "stream",
     "text": [
      "8942070\n",
      "Processing Chunk 1 out of 5\n",
      "Processing Chunk 2 out of 5\n",
      "Processing Chunk 3 out of 5\n",
      "Processing Chunk 4 out of 5\n",
      "Processing Chunk 5 out of 5\n"
     ]
    }
   ],
   "source": [
    "#Generic\n",
    "ConvertToNP(generic_branchesp2,\"4a\",\"He3\",\"final\",GEN4aPathp2,\"2\")"
   ]
  },
  {
   "cell_type": "code",
   "execution_count": 19,
   "id": "8045721d",
   "metadata": {},
   "outputs": [
    {
     "name": "stdout",
     "output_type": "stream",
     "text": [
      "4934041\n",
      "Processing Chunk 1 out of 3\n",
      "Processing Chunk 2 out of 3\n",
      "Processing Chunk 3 out of 3\n"
     ]
    }
   ],
   "source": [
    "ConvertToNP(generic_branchesp2,\"4b\",\"He3\",\"final\",GEN4bPathp2,\"2\")"
   ]
  },
  {
   "cell_type": "code",
   "execution_count": null,
   "id": "aae3139d",
   "metadata": {},
   "outputs": [],
   "source": []
  },
  {
   "cell_type": "code",
   "execution_count": null,
   "id": "d065bd9a",
   "metadata": {},
   "outputs": [],
   "source": []
  },
  {
   "cell_type": "code",
   "execution_count": null,
   "id": "0ee06419",
   "metadata": {
    "scrolled": false
   },
   "outputs": [],
   "source": [
    "#MachineLearning Data/ElasticSim/InelasticSim\n",
    "ConvertToNP(ml_branches,\"3\",\"HCal_data\",\"machinelearningD\")\n",
    "ConvertToNPSim(ml_branches,\"3\",\"HCal_data\",\"machinelearningES\")\n",
    "ConvertToNPInSim(ml_branches,\"3\",\"HCal_data\",\"machinelearningIS\")"
   ]
  },
  {
   "cell_type": "code",
   "execution_count": 15,
   "id": "58f70a6b",
   "metadata": {},
   "outputs": [
    {
     "name": "stdout",
     "output_type": "stream",
     "text": [
      "129704\n",
      "Processing Chunk 1 out of 1\n",
      "264763\n",
      "Processing Chunk 1 out of 1\n",
      "450806\n",
      "Processing Chunk 1 out of 1\n"
     ]
    }
   ],
   "source": [
    "#Simulation\n",
    "ConvertToNPSim(sim_branches,\"2\",\"simulation\")\n",
    "ConvertToNPSim(sim_branches,\"3\",\"simulation\")\n",
    "ConvertToNPSim(sim_branches,\"4\",\"simulation\")"
   ]
  },
  {
   "cell_type": "code",
   "execution_count": null,
   "id": "f13d1fee",
   "metadata": {},
   "outputs": [],
   "source": [
    "ConvertToNPSim(sim_branches,\"2\",\"HCal_data\",\"simulation\",3)"
   ]
  },
  {
   "cell_type": "code",
   "execution_count": null,
   "id": "41e11d8a",
   "metadata": {},
   "outputs": [],
   "source": []
  },
  {
   "cell_type": "code",
   "execution_count": 9,
   "id": "2c0da258",
   "metadata": {},
   "outputs": [
    {
     "name": "stdout",
     "output_type": "stream",
     "text": [
      "311751\n",
      "Processing Chunk 1 out of 1\n"
     ]
    }
   ],
   "source": [
    "#Simulation\n",
    "ConvertToNPInSim(insim_branches,\"3\",\"HCal_data\",\"insimulation\",GEN3InSim)"
   ]
  },
  {
   "cell_type": "code",
   "execution_count": null,
   "id": "a55fcb27",
   "metadata": {},
   "outputs": [],
   "source": []
  }
 ],
 "metadata": {
  "kernelspec": {
   "display_name": "Python 3 (ipykernel)",
   "language": "python",
   "name": "python3"
  },
  "language_info": {
   "codemirror_mode": {
    "name": "ipython",
    "version": 3
   },
   "file_extension": ".py",
   "mimetype": "text/x-python",
   "name": "python",
   "nbconvert_exporter": "python",
   "pygments_lexer": "ipython3",
   "version": "3.8.10"
  }
 },
 "nbformat": 4,
 "nbformat_minor": 5
}
