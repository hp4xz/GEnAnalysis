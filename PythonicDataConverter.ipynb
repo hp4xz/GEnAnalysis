{
 "cells": [
  {
   "cell_type": "code",
   "execution_count": 7,
   "id": "6f23814d",
   "metadata": {},
   "outputs": [
    {
     "name": "stdout",
     "output_type": "stream",
     "text": [
      "Welcome to JupyROOT 6.26/06\n"
     ]
    }
   ],
   "source": [
    "import ROOT as r\n",
    "import math\n",
    "import array\n",
    "import os\n",
    "import sys\n",
    "import pandas as pd\n",
    "\n",
    "import matplotlib.pyplot as plt\n",
    "import matplotlib.colors as mcolors\n",
    "from matplotlib.backends.backend_pdf import PdfPages\n",
    "import uproot\n",
    "import numpy as np\n",
    "from scipy.optimize import curve_fit\n",
    "\n",
    "#______________Add include directory_______________\n",
    "current_dir = os.getcwd()\n",
    "include_dir = os.path.join(current_dir, 'include')\n",
    "sys.path.insert(0, include_dir)\n",
    "#__________________________________________________\n",
    "\n",
    "import CONFIG\n",
    "import DBPARSE\n",
    "from UTILITIES import *\n",
    "from SIMFITS2D import DistributionFits2D\n",
    "from ROOT import gStyle, TChain, TH1F, TCanvas, TLegend"
   ]
  },
  {
   "cell_type": "code",
   "execution_count": 8,
   "id": "0f41ae50",
   "metadata": {
    "scrolled": false
   },
   "outputs": [
    {
     "name": "stdout",
     "output_type": "stream",
     "text": [
      "Branches in tree 'Tout':\n",
      "runnum\n",
      "WCut\n",
      "pCut\n",
      "nCut\n",
      "fiduCut\n",
      "coinCut\n",
      "ebeam\n",
      "nu\n",
      "Q2\n",
      "W2\n",
      "dpel\n",
      "ephi\n",
      "etheta\n",
      "pcentral\n",
      "vz\n",
      "vx\n",
      "vy\n",
      "xtgt\n",
      "ytgt\n",
      "thtgt\n",
      "phtgt\n",
      "thetabend\n",
      "xfp\n",
      "yfp\n",
      "thfp\n",
      "phfp\n",
      "trP\n",
      "trPx\n",
      "trPy\n",
      "trPz\n",
      "ePS\n",
      "xPS\n",
      "eSH\n",
      "xSH\n",
      "ySH\n",
      "eHCAL\n",
      "xHCAL\n",
      "yHCAL\n",
      "xHCAL_exp\n",
      "yHCAL_exp\n",
      "dx\n",
      "dy\n",
      "ngrinch_hits\n",
      "xGRINCH\n",
      "yGRINCH\n",
      "coin_time\n",
      "hcal_time\n",
      "bbcal_time\n",
      "BPMAx\n",
      "BPMAy\n",
      "Rasterx\n",
      "Rastery\n",
      "Raster2x\n",
      "Raster2y\n",
      "helicity\n",
      "IHWP\n",
      "pblkid\n",
      "tdc\n",
      "atime\n",
      "nblk\n",
      "mag\n",
      "run\n",
      "tar\n",
      "cblkid\n",
      "cblkatime\n",
      "cblktime\n",
      "cblke\n",
      "nclus\n",
      "cid\n",
      "cx\n",
      "cy\n",
      "catime\n",
      "hodoTimes\n",
      "hodoIDs\n",
      "hodoTOT\n",
      "nbars\n",
      "meanTOT\n",
      "trigger\n",
      "triggerID\n",
      "NdataTriggerID\n",
      "hodoClusMean\n"
     ]
    },
    {
     "name": "stderr",
     "output_type": "stream",
     "text": [
      "Error in <TList::Clear>: A list is accessing an object (0x36741bb0) already deleted (list name = TList)\n",
      "Error in <TList::Clear>: A list is accessing an object (0x32450110) already deleted (list name = TList)\n",
      "Error in <TList::Clear>: A list is accessing an object (0x32450540) already deleted (list name = TList)\n",
      "Error in <TList::Clear>: A list is accessing an object (0x36797d70) already deleted (list name = TList)\n",
      "Error in <TList::Clear>: A list is accessing an object (0x367980e0) already deleted (list name = TList)\n",
      "Error in <TList::Clear>: A list is accessing an object (0x36798450) already deleted (list name = TList)\n",
      "Error in <TList::Clear>: A list is accessing an object (0x36798980) already deleted (list name = TList)\n",
      "Error in <TList::Clear>: A list is accessing an object (0x36798d40) already deleted (list name = TList)\n",
      "Error in <TList::Clear>: A list is accessing an object (0x367996a0) already deleted (list name = TList)\n",
      "Error in <TList::Clear>: A list is accessing an object (0x36799a90) already deleted (list name = TList)\n",
      "Error in <TList::Clear>: A list is accessing an object (0x36799e80) already deleted (list name = TList)\n",
      "Error in <TList::Clear>: A list is accessing an object (0x3679a440) already deleted (list name = TList)\n",
      "Error in <TList::Clear>: A list is accessing an object (0x3679a830) already deleted (list name = TList)\n",
      "Error in <TList::Clear>: A list is accessing an object (0x3679abf0) already deleted (list name = TList)\n",
      "Error in <TList::Clear>: A list is accessing an object (0x367c0410) already deleted (list name = TList)\n",
      "Error in <TList::Clear>: A list is accessing an object (0x367c0840) already deleted (list name = TList)\n",
      "Error in <TList::Clear>: A list is accessing an object (0x367c0cf0) already deleted (list name = TList)\n",
      "Error in <TList::Clear>: A list is accessing an object (0x367d95b0) already deleted (list name = TList)\n",
      "Error in <TList::Clear>: A list is accessing an object (0x367e4e90) already deleted (list name = TList)\n",
      "Error in <TList::Clear>: A list is accessing an object (0x367e5260) already deleted (list name = TList)\n",
      "Error in <TList::Clear>: A list is accessing an object (0x367e5700) already deleted (list name = TList)\n",
      "Error in <TList::Clear>: A list is accessing an object (0x367e6620) already deleted (list name = TList)\n",
      "Error in <TList::Clear>: A list is accessing an object (0x367e72d0) already deleted (list name = TList)\n",
      "Error in <TList::Clear>: A list is accessing an object (0x367e7500) already deleted (list name = TList)\n",
      "Error in <TList::Clear>: A list is accessing an object (0x367e7c40) already deleted (list name = TList)\n",
      "Error in <TList::Clear>: A list is accessing an object (0x367e80c0) already deleted (list name = TList)\n",
      "Error in <TList::Clear>: A list is accessing an object (0x367ea620) already deleted (list name = TList)\n",
      "Error in <TList::Clear>: A list is accessing an object (0x367ebed0) already deleted (list name = TList)\n",
      "Error in <TList::Clear>: A list is accessing an object (0x367ec3e0) already deleted (list name = TList)\n",
      "Error in <TList::Clear>: A list is accessing an object (0x367ece60) already deleted (list name = TList)\n",
      "Error in <TList::Clear>: A list is accessing an object (0x367ed400) already deleted (list name = TList)\n",
      "Error in <TList::Clear>: A list is accessing an object (0x367ed860) already deleted (list name = TList)\n",
      "Error in <TList::Clear>: A list is accessing an object (0x367ee8d0) already deleted (list name = TList)\n",
      "Error in <TList::Clear>: A list is accessing an object (0x367f8430) already deleted (list name = TList)\n",
      "Error in <TList::Clear>: A list is accessing an object (0x367f88b0) already deleted (list name = TList)\n",
      "Error in <TList::Clear>: A list is accessing an object (0x367f8be0) already deleted (list name = TList)\n",
      "Error in <TList::Clear>: A list is accessing an object (0x367f9180) already deleted (list name = TList)\n",
      "Error in <TList::Clear>: A list is accessing an object (0x367f9670) already deleted (list name = TList)\n",
      "Error in <TList::Clear>: A list is accessing an object (0x367fdba0) already deleted (list name = TList)\n",
      "Error in <TList::Clear>: A list is accessing an object (0x367fe330) already deleted (list name = TList)\n",
      "Error in <TList::Clear>: A list is accessing an object (0x367ff6d0) already deleted (list name = TList)\n",
      "Error in <TList::Clear>: A list is accessing an object (0x367ff870) already deleted (list name = TList)\n",
      "Error in <TList::Clear>: A list is accessing an object (0x36751700) already deleted (list name = TList)\n",
      "Error in <TList::Clear>: A list is accessing an object (0x36752000) already deleted (list name = TList)\n",
      "Error in <TList::Clear>: A list is accessing an object (0x36752970) already deleted (list name = TList)\n",
      "Error in <THashList::Delete>: A list is accessing an object (0x35662b60) already deleted (list name = THashList)\n"
     ]
    }
   ],
   "source": [
    "#available branches\n",
    "import ROOT as r\n",
    "\n",
    "\n",
    "def list_branches(rootfile_path, tree_name=\"Tout\"):\n",
    "    # Open the ROOT file\n",
    "    root_file = r.TFile.Open(rootfile_path)\n",
    "    \n",
    "    # Check if the file was successfully opened\n",
    "    if not root_file or root_file.IsZombie():\n",
    "        print(f\"Error: Could not open ROOT file '{rootfile_path}'.\")\n",
    "        return\n",
    "    \n",
    "    # Access the TTree\n",
    "    tree = root_file.Get(tree_name)\n",
    "    \n",
    "    # Check if the tree exists\n",
    "    if not tree:\n",
    "        print(f\"Error: Tree '{tree_name}' not found in file '{rootfile_path}'.\")\n",
    "        root_file.Close()\n",
    "        return\n",
    "    \n",
    "    # Get the list of branches\n",
    "    branch_list = tree.GetListOfBranches()\n",
    "    \n",
    "    # Print all branch names\n",
    "    print(f\"Branches in tree '{tree_name}':\")\n",
    "    for branch in branch_list:\n",
    "        print(branch.GetName())\n",
    "    \n",
    "    # Close the ROOT file\n",
    "    root_file.Close()\n",
    "\n",
    "# Example usage\n",
    "rootfile_path = \"outfiles/HCal_data_GEN3_sbs100p_nucleon_np_model1.root\"\n",
    "list_branches(rootfile_path)\n"
   ]
  },
  {
   "cell_type": "code",
   "execution_count": 9,
   "id": "036e5ce8",
   "metadata": {},
   "outputs": [
    {
     "name": "stdout",
     "output_type": "stream",
     "text": [
      "Branches in tree 'Tout':\n",
      "WCut\n",
      "pCut\n",
      "nCut\n",
      "weight\n",
      "fnucl\n",
      "fiduCut\n",
      "coinCut\n",
      "ebeam\n",
      "nu\n",
      "Q2\n",
      "W2\n",
      "dpel\n",
      "ephi\n",
      "etheta\n",
      "pcentral\n",
      "vz\n",
      "vx\n",
      "vy\n",
      "xtgt\n",
      "ytgt\n",
      "thtgt\n",
      "phtgt\n",
      "xfp\n",
      "yfp\n",
      "thfp\n",
      "phfp\n",
      "trP\n",
      "trX\n",
      "trY\n",
      "trTh\n",
      "trPh\n",
      "ePS\n",
      "eSH\n",
      "eHCAL\n",
      "xHCAL\n",
      "yHCAL\n",
      "xHCAL_exp\n",
      "yHCAL_exp\n",
      "dx\n",
      "dy\n",
      "grinch_track\n",
      "grinch_clus_size\n"
     ]
    },
    {
     "name": "stderr",
     "output_type": "stream",
     "text": [
      "Error in <TList::Clear>: A list is accessing an object (0x36e6e2a0) already deleted (list name = TList)\n",
      "Error in <TList::Clear>: A list is accessing an object (0x36e6e140) already deleted (list name = TList)\n",
      "Error in <TList::Clear>: A list is accessing an object (0x36e7c6b0) already deleted (list name = TList)\n",
      "Error in <TList::Clear>: A list is accessing an object (0x36e7c550) already deleted (list name = TList)\n",
      "Error in <TList::Clear>: A list is accessing an object (0x36e7c460) already deleted (list name = TList)\n",
      "Error in <TList::Clear>: A list is accessing an object (0x36e6dfe0) already deleted (list name = TList)\n",
      "Error in <TList::Clear>: A list is accessing an object (0x36e5c6c0) already deleted (list name = TList)\n",
      "Error in <TList::Clear>: A list is accessing an object (0x3675cfa0) already deleted (list name = TList)\n",
      "Error in <TList::Clear>: A list is accessing an object (0x36e475d0) already deleted (list name = TList)\n",
      "Error in <TList::Clear>: A list is accessing an object (0x36e3cb80) already deleted (list name = TList)\n",
      "Error in <TList::Clear>: A list is accessing an object (0x36e226f0) already deleted (list name = TList)\n",
      "Error in <TList::Clear>: A list is accessing an object (0x36e7bb30) already deleted (list name = TList)\n",
      "Error in <TList::Clear>: A list is accessing an object (0x36e630f0) already deleted (list name = TList)\n",
      "Error in <TList::Clear>: A list is accessing an object (0x36e66db0) already deleted (list name = TList)\n",
      "Error in <TList::Clear>: A list is accessing an object (0x36e21ca0) already deleted (list name = TList)\n",
      "Error in <TList::Clear>: A list is accessing an object (0x36e220a0) already deleted (list name = TList)\n",
      "Error in <TList::Clear>: A list is accessing an object (0x36494050) already deleted (list name = TList)\n",
      "Error in <TList::Clear>: A list is accessing an object (0x36494460) already deleted (list name = TList)\n",
      "Error in <TList::Clear>: A list is accessing an object (0x318242d0) already deleted (list name = TList)\n",
      "Error in <TList::Clear>: A list is accessing an object (0x31824770) already deleted (list name = TList)\n",
      "Error in <TList::Clear>: A list is accessing an object (0x36e746a0) already deleted (list name = TList)\n",
      "Error in <TList::Clear>: A list is accessing an object (0x36e5fff0) already deleted (list name = TList)\n",
      "Error in <TList::Clear>: A list is accessing an object (0x36e609e0) already deleted (list name = TList)\n",
      "Error in <TList::Clear>: A list is accessing an object (0x36e60c10) already deleted (list name = TList)\n",
      "Error in <TList::Clear>: A list is accessing an object (0x36e60de0) already deleted (list name = TList)\n",
      "Error in <TList::Clear>: A list is accessing an object (0x36e46b30) already deleted (list name = TList)\n",
      "Error in <TList::Clear>: A list is accessing an object (0x36e46fa0) already deleted (list name = TList)\n",
      "Error in <TList::Clear>: A list is accessing an object (0x36e24f90) already deleted (list name = TList)\n",
      "Error in <TList::Clear>: A list is accessing an object (0x31826d80) already deleted (list name = TList)\n",
      "Error in <TList::Clear>: A list is accessing an object (0x36e6a8a0) already deleted (list name = TList)\n",
      "Error in <TList::Clear>: A list is accessing an object (0x36e6af50) already deleted (list name = TList)\n",
      "Error in <TList::Clear>: A list is accessing an object (0x36e6b400) already deleted (list name = TList)\n",
      "Error in <TList::Clear>: A list is accessing an object (0x36e6b730) already deleted (list name = TList)\n",
      "Error in <TList::Clear>: A list is accessing an object (0x36e36160) already deleted (list name = TList)\n",
      "Error in <TList::Clear>: A list is accessing an object (0x36e36620) already deleted (list name = TList)\n",
      "Error in <TList::Clear>: A list is accessing an object (0x36e34020) already deleted (list name = TList)\n",
      "Error in <TList::Clear>: A list is accessing an object (0x36e347b0) already deleted (list name = TList)\n",
      "Error in <TList::Clear>: A list is accessing an object (0x36e2e7a0) already deleted (list name = TList)\n",
      "Error in <TList::Clear>: A list is accessing an object (0x36e2e940) already deleted (list name = TList)\n",
      "Error in <TList::Clear>: A list is accessing an object (0x36e2edc0) already deleted (list name = TList)\n",
      "Error in <TList::Clear>: A list is accessing an object (0x36e71aa0) already deleted (list name = TList)\n",
      "Error in <TList::Clear>: A list is accessing an object (0x36e71f20) already deleted (list name = TList)\n",
      "Error in <TList::Clear>: A list is accessing an object (0x36e72610) already deleted (list name = TList)\n",
      "Error in <TList::Clear>: A list is accessing an object (0x36e34e60) already deleted (list name = TList)\n",
      "Error in <THashList::Delete>: A list is accessing an object (0x36e47300) already deleted (list name = THashList)\n"
     ]
    }
   ],
   "source": [
    "#available branches\n",
    "import ROOT as r\n",
    "\n",
    "\n",
    "def list_branches(rootfile_path, tree_name=\"Tout\"):\n",
    "    # Open the ROOT file\n",
    "    root_file = r.TFile.Open(rootfile_path)\n",
    "    \n",
    "    # Check if the file was successfully opened\n",
    "    if not root_file or root_file.IsZombie():\n",
    "        print(f\"Error: Could not open ROOT file '{rootfile_path}'.\")\n",
    "        return\n",
    "    \n",
    "    # Access the TTree\n",
    "    tree = root_file.Get(tree_name)\n",
    "    \n",
    "    # Check if the tree exists\n",
    "    if not tree:\n",
    "        print(f\"Error: Tree '{tree_name}' not found in file '{rootfile_path}'.\")\n",
    "        root_file.Close()\n",
    "        return\n",
    "    \n",
    "    # Get the list of branches\n",
    "    branch_list = tree.GetListOfBranches()\n",
    "    \n",
    "    # Print all branch names\n",
    "    print(f\"Branches in tree '{tree_name}':\")\n",
    "    for branch in branch_list:\n",
    "        print(branch.GetName())\n",
    "    \n",
    "    # Close the ROOT file\n",
    "    root_file.Close()\n",
    "\n",
    "# Example usage\n",
    "rootfile_path = \"outfiles/Pass1/QE_sim_GEN3_sbs100p_nucleon_np_model2.root\"\n",
    "list_branches(rootfile_path)"
   ]
  },
  {
   "cell_type": "code",
   "execution_count": 10,
   "id": "3680e601",
   "metadata": {},
   "outputs": [
    {
     "data": {
      "text/plain": [
       "'\\n#inputs hodo\\nconfig=\"3\"\\nprefix=\"HCal_data\"\\ndetector=\"hodo\"\\n#inputs hcal\\nconfig=\"3\"\\nprefix=\"HCal_data\"\\ndetector=\"hcal\"\\n'"
      ]
     },
     "execution_count": 10,
     "metadata": {},
     "output_type": "execute_result"
    }
   ],
   "source": [
    "\"\"\"\n",
    "#inputs hodo\n",
    "config=\"3\"\n",
    "prefix=\"HCal_data\"\n",
    "detector=\"hodo\"\n",
    "#inputs hcal\n",
    "config=\"3\"\n",
    "prefix=\"HCal_data\"\n",
    "detector=\"hcal\"\n",
    "\"\"\""
   ]
  },
  {
   "cell_type": "code",
   "execution_count": 22,
   "id": "4fedb294",
   "metadata": {},
   "outputs": [],
   "source": [
    "#define branches\n",
    "branches=[\"ebeam\",\"nu\",\"Q2\",\"W2\",\"dpel\",\"ephi\",\"etheta\",\"pcentral\",\"vz\",\"vx\"\n",
    "          ,\"vy\",\"xtgt\",\"ytgt\",\"thtgt\",\"phtgt\",\"thetabend\",\"xfp\",\"yfp\",\"thfp\"\n",
    "          ,\"phfp\",\"trP\",\"trPx\",\"trPy\",\"trPz\",\"ePS\",\"xPS\",\"eSH\",\"xSH\",\"ySH\",\"eHCAL\"\n",
    "          ,\"xHCAL\",\"yHCAL\",\"xHCAL_exp\",\"yHCAL_exp\",\"dx\",\"dy\",\"ngrinch_hits\",\"xGRINCH\"\n",
    "          ,\"yGRINCH\",\"coin_time\",\"hcal_time\",\"bbcal_time\",\"BPMAx\",\"BPMAy\",\"Rasterx\"\n",
    "          ,\"Rastery\",\"Raster2x\",\"Raster2y\",\"helicity\",\"IHWP\",\"pblkid\",\"tdc\",\"atime\"\n",
    "          ,\"nblk\",\"mag\",\"run\",\"tar\",\"cblkid\",\"cblkatime\",\"cblktime\",\"cblke\",\"nclus\"\n",
    "          ,\"cid\",\"cx\",\"cy\",\"catime\",\"hodoTimes\",\"hodoIDs\",\"hodoTOT\",\"nbars\"]\n",
    "hodo_branches=[\"hodoTimes\",\"hodoIDs\",\"hodoTOT\",\"nbars\",\"hodoClusMean\"]\n",
    "hcal_branches=[\"cblkid\",\"cblkatime\",\"cblktime\",\"cblke\",\"nclus\"\n",
    "          ,\"cid\",\"cx\",\"cy\",\"catime\"]\n",
    "trigger_branches=[\"trigger\",\"triggerID\",\"NdataTriggerID\"]\n",
    "generic_branches=[\"nu\",\"Q2\",\"W2\",\"vz\",\"vx\",\"vy\",\"dx\",\"dy\",\"eSH\",\"ePS\",\"etheta\",\"trP\",\"coin_time\"]\n",
    "\n",
    "sim_branches=[\"nu\",\"Q2\",\"W2\",\"vz\",\"vx\",\"vy\",\"dx\",\"dy\",\"eSH\",\"ePS\",\"etheta\",\"trP\"]\n",
    "\n",
    "\n",
    "ml_branches = [\n",
    "    \"ebeam\", \"nu\", \"Q2\", \"W2\", \"dpel\", \"ephi\", \"etheta\", \"pcentral\", \"vz\", \"vx\", \"vy\",\n",
    "    \"xtgt\", \"ytgt\", \"thtgt\", \"phtgt\", \"xfp\", \"yfp\", \"thfp\", \"phfp\", \"trP\",\n",
    "    \"ePS\", \"eSH\", \"eHCAL\", \"xHCAL\", \"yHCAL\", \"xHCAL_exp\", \"yHCAL_exp\",\n",
    "    \"dx\", \"dy\"\n",
    "]\n"
   ]
  },
  {
   "cell_type": "code",
   "execution_count": 12,
   "id": "15b7d3da",
   "metadata": {},
   "outputs": [],
   "source": [
    "\n",
    "def ConvertToNP(branches,config,prefix,detector):\n",
    "    # Open the ROOT file\n",
    "    with uproot.open(f\"outfiles/HCal_data_GEN3_sbs100p_nucleon_np_model1.root\") as file:\n",
    "        # Access the tree (replace 'Tout' with the actual name of your tree if different)\n",
    "        tree = file[\"Tout\"]\n",
    "\n",
    "        # Get all branch names\n",
    "        #branches = tree.keys()\n",
    "\n",
    "        chunk_size = 2000000  # Define the chunk size\n",
    "        total_entries = tree.num_entries  # Get the total number of entries\n",
    "        total_iterations = total_entries // chunk_size + (total_entries % chunk_size > 0)\n",
    "\n",
    "        for j in range(total_iterations):\n",
    "            print(f\"Processing Chunk {j+1} out of {total_iterations}\")\n",
    "\n",
    "            start = j * chunk_size\n",
    "            stop = min((j + 1) * chunk_size, total_entries)\n",
    "\n",
    "            # Read data for this chunk\n",
    "            data = tree.arrays(branches, entry_start=start, entry_stop=stop, library=\"np\")\n",
    "\n",
    "            # Save all the branches as a dictionary to .npz\n",
    "            np.savez(f\"/media/research/TOSHIBA EXT/GEn/NumpyData/GEN{config}/{prefix}/{detector}{j}.npz\", **data)\n"
   ]
  },
  {
   "cell_type": "code",
   "execution_count": 13,
   "id": "08c88a63",
   "metadata": {},
   "outputs": [],
   "source": [
    "def ConvertToNPSim(branches,config,prefix,detector):\n",
    "    # Open the ROOT file\n",
    "    with uproot.open(f\"outfiles/Pass1/QE_sim_GEN3_sbs100p_nucleon_np_model2.root\") as file:\n",
    "        # Access the tree (replace 'Tout' with the actual name of your tree if different)\n",
    "        tree = file[\"Tout\"]\n",
    "\n",
    "        # Get all branch names\n",
    "        #branches = tree.keys()\n",
    "\n",
    "        chunk_size = 2000000  # Define the chunk size\n",
    "        total_entries = tree.num_entries  # Get the total number of entries\n",
    "        total_iterations = total_entries // chunk_size + (total_entries % chunk_size > 0)\n",
    "        print(total_entries)\n",
    "        for j in range(total_iterations):\n",
    "            print(f\"Processing Chunk {j+1} out of {total_iterations}\")\n",
    "\n",
    "            start = j * chunk_size\n",
    "            stop = min((j + 1) * chunk_size, total_entries)\n",
    "\n",
    "            # Read data for this chunk\n",
    "            data = tree.arrays(branches, entry_start=start, entry_stop=stop, library=\"np\")\n",
    "\n",
    "            # Save all the branches as a dictionary to .npz\n",
    "            np.savez(f\"/media/research/TOSHIBA EXT/GEn/NumpySim/GEN{config}/{detector}{j}.npz\", **data)\n"
   ]
  },
  {
   "cell_type": "code",
   "execution_count": 14,
   "id": "42eec1a1",
   "metadata": {},
   "outputs": [],
   "source": [
    "def ConvertToNPInSim(branches,config,prefix,detector):\n",
    "    # Open the ROOT file\n",
    "    with uproot.open(f\"outfiles/Pass1/QE_Insim_GEN3_sbs100p_nucleon_np_model2.root\") as file:\n",
    "        # Access the tree (replace 'Tout' with the actual name of your tree if different)\n",
    "        tree = file[\"Tout\"]\n",
    "\n",
    "        # Get all branch names\n",
    "        #branches = tree.keys()\n",
    "\n",
    "        chunk_size = 2000000  # Define the chunk size\n",
    "        total_entries = tree.num_entries  # Get the total number of entries\n",
    "        total_iterations = total_entries // chunk_size + (total_entries % chunk_size > 0)\n",
    "        print(total_entries)\n",
    "        for j in range(total_iterations):\n",
    "            print(f\"Processing Chunk {j+1} out of {total_iterations}\")\n",
    "\n",
    "            start = j * chunk_size\n",
    "            stop = min((j + 1) * chunk_size, total_entries)\n",
    "\n",
    "            # Read data for this chunk\n",
    "            data = tree.arrays(branches, entry_start=start, entry_stop=stop, library=\"np\")\n",
    "\n",
    "            # Save all the branches as a dictionary to .npz\n",
    "            np.savez(f\"/media/research/TOSHIBA EXT/GEn/NumpySim/GEN{config}/{detector}{j}.npz\", **data)\n"
   ]
  },
  {
   "cell_type": "code",
   "execution_count": 8,
   "id": "db28335e",
   "metadata": {},
   "outputs": [
    {
     "name": "stdout",
     "output_type": "stream",
     "text": [
      "Processing Chunk 1 out of 13\n",
      "Processing Chunk 2 out of 13\n",
      "Processing Chunk 3 out of 13\n",
      "Processing Chunk 4 out of 13\n",
      "Processing Chunk 5 out of 13\n",
      "Processing Chunk 6 out of 13\n",
      "Processing Chunk 7 out of 13\n",
      "Processing Chunk 8 out of 13\n",
      "Processing Chunk 9 out of 13\n",
      "Processing Chunk 10 out of 13\n",
      "Processing Chunk 11 out of 13\n",
      "Processing Chunk 12 out of 13\n",
      "Processing Chunk 13 out of 13\n"
     ]
    }
   ],
   "source": [
    "#Hodoscope\n",
    "ConvertToNP(hodo_branches,\"3\",\"HCal_data\",\"hodo\")"
   ]
  },
  {
   "cell_type": "code",
   "execution_count": 16,
   "id": "fcdeaa81",
   "metadata": {},
   "outputs": [
    {
     "name": "stdout",
     "output_type": "stream",
     "text": [
      "Processing Chunk 1 out of 13\n",
      "Processing Chunk 2 out of 13\n",
      "Processing Chunk 3 out of 13\n",
      "Processing Chunk 4 out of 13\n",
      "Processing Chunk 5 out of 13\n",
      "Processing Chunk 6 out of 13\n",
      "Processing Chunk 7 out of 13\n",
      "Processing Chunk 8 out of 13\n",
      "Processing Chunk 9 out of 13\n",
      "Processing Chunk 10 out of 13\n",
      "Processing Chunk 11 out of 13\n",
      "Processing Chunk 12 out of 13\n",
      "Processing Chunk 13 out of 13\n"
     ]
    }
   ],
   "source": [
    "#HCal\n",
    "ConvertToNP(hcal_branches,\"3\",\"HCal_data\",\"hcal\")"
   ]
  },
  {
   "cell_type": "code",
   "execution_count": 6,
   "id": "11e0f807",
   "metadata": {},
   "outputs": [
    {
     "name": "stdout",
     "output_type": "stream",
     "text": [
      "Processing Chunk 1 out of 13\n",
      "Processing Chunk 2 out of 13\n",
      "Processing Chunk 3 out of 13\n",
      "Processing Chunk 4 out of 13\n",
      "Processing Chunk 5 out of 13\n",
      "Processing Chunk 6 out of 13\n",
      "Processing Chunk 7 out of 13\n",
      "Processing Chunk 8 out of 13\n",
      "Processing Chunk 9 out of 13\n",
      "Processing Chunk 10 out of 13\n",
      "Processing Chunk 11 out of 13\n",
      "Processing Chunk 12 out of 13\n",
      "Processing Chunk 13 out of 13\n"
     ]
    }
   ],
   "source": [
    "#Trigger\n",
    "ConvertToNP(trigger_branches,\"3\",\"HCal_data\",\"trigger\")"
   ]
  },
  {
   "cell_type": "code",
   "execution_count": 25,
   "id": "f6e5e4fc",
   "metadata": {},
   "outputs": [
    {
     "name": "stdout",
     "output_type": "stream",
     "text": [
      "Processing Chunk 1 out of 13\n",
      "Processing Chunk 2 out of 13\n",
      "Processing Chunk 3 out of 13\n",
      "Processing Chunk 4 out of 13\n",
      "Processing Chunk 5 out of 13\n",
      "Processing Chunk 6 out of 13\n",
      "Processing Chunk 7 out of 13\n",
      "Processing Chunk 8 out of 13\n",
      "Processing Chunk 9 out of 13\n",
      "Processing Chunk 10 out of 13\n",
      "Processing Chunk 11 out of 13\n",
      "Processing Chunk 12 out of 13\n",
      "Processing Chunk 13 out of 13\n"
     ]
    }
   ],
   "source": [
    "#Generic\n",
    "ConvertToNP(generic_branches,\"3\",\"HCal_data\",\"generic\")"
   ]
  },
  {
   "cell_type": "code",
   "execution_count": 23,
   "id": "0ee06419",
   "metadata": {
    "scrolled": false
   },
   "outputs": [
    {
     "name": "stdout",
     "output_type": "stream",
     "text": [
      "Processing Chunk 1 out of 13\n",
      "Processing Chunk 2 out of 13\n",
      "Processing Chunk 3 out of 13\n",
      "Processing Chunk 4 out of 13\n",
      "Processing Chunk 5 out of 13\n",
      "Processing Chunk 6 out of 13\n",
      "Processing Chunk 7 out of 13\n",
      "Processing Chunk 8 out of 13\n",
      "Processing Chunk 9 out of 13\n",
      "Processing Chunk 10 out of 13\n",
      "Processing Chunk 11 out of 13\n",
      "Processing Chunk 12 out of 13\n",
      "Processing Chunk 13 out of 13\n",
      "264763\n",
      "Processing Chunk 1 out of 1\n",
      "74232\n",
      "Processing Chunk 1 out of 1\n"
     ]
    }
   ],
   "source": [
    "#MachineLearning Data/ElasticSim/InelasticSim\n",
    "ConvertToNP(ml_branches,\"3\",\"HCal_data\",\"machinelearningD\")\n",
    "ConvertToNPSim(ml_branches,\"3\",\"HCal_data\",\"machinelearningES\")\n",
    "ConvertToNPInSim(ml_branches,\"3\",\"HCal_data\",\"machinelearningIS\")"
   ]
  },
  {
   "cell_type": "code",
   "execution_count": 22,
   "id": "58f70a6b",
   "metadata": {},
   "outputs": [
    {
     "name": "stdout",
     "output_type": "stream",
     "text": [
      "264763\n",
      "Processing Chunk 1 out of 1\n"
     ]
    }
   ],
   "source": [
    "#Simulation\n",
    "ConvertToNPSim(sim_branches,\"3\",\"HCal_data\",\"simulation\")"
   ]
  },
  {
   "cell_type": "code",
   "execution_count": 12,
   "id": "2c0da258",
   "metadata": {},
   "outputs": [
    {
     "name": "stdout",
     "output_type": "stream",
     "text": [
      "74232\n",
      "Processing Chunk 1 out of 1\n"
     ]
    }
   ],
   "source": [
    "#Simulation\n",
    "ConvertToNPInSim(sim_branches,\"3\",\"HCal_data\",\"insimulation\")"
   ]
  },
  {
   "cell_type": "code",
   "execution_count": null,
   "id": "a55fcb27",
   "metadata": {},
   "outputs": [],
   "source": []
  }
 ],
 "metadata": {
  "kernelspec": {
   "display_name": "Python 3 (ipykernel)",
   "language": "python",
   "name": "python3"
  },
  "language_info": {
   "codemirror_mode": {
    "name": "ipython",
    "version": 3
   },
   "file_extension": ".py",
   "mimetype": "text/x-python",
   "name": "python",
   "nbconvert_exporter": "python",
   "pygments_lexer": "ipython3",
   "version": "3.8.10"
  }
 },
 "nbformat": 4,
 "nbformat_minor": 5
}
