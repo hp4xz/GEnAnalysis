{
 "cells": [
  {
   "cell_type": "code",
   "execution_count": 1,
   "id": "6f23814d",
   "metadata": {},
   "outputs": [
    {
     "name": "stdout",
     "output_type": "stream",
     "text": [
      "Welcome to JupyROOT 6.26/06\n"
     ]
    }
   ],
   "source": [
    "import ROOT as r\n",
    "import math\n",
    "import array\n",
    "import os\n",
    "import sys\n",
    "import pandas as pd\n",
    "\n",
    "import matplotlib.pyplot as plt\n",
    "import matplotlib.colors as mcolors\n",
    "from matplotlib.backends.backend_pdf import PdfPages\n",
    "import uproot\n",
    "import numpy as np\n",
    "from scipy.optimize import curve_fit\n",
    "\n",
    "#______________Add include directory_______________\n",
    "current_dir = os.getcwd()\n",
    "include_dir = os.path.join(current_dir, 'include')\n",
    "sys.path.insert(0, include_dir)\n",
    "#__________________________________________________\n",
    "\n",
    "import CONFIG\n",
    "import DBPARSE\n",
    "from UTILITIES import *\n",
    "from SIMFITS2D import DistributionFits2D\n",
    "from ROOT import gStyle, TChain, TH1F, TCanvas, TLegend"
   ]
  },
  {
   "cell_type": "code",
   "execution_count": 2,
   "id": "0f41ae50",
   "metadata": {
    "scrolled": false
   },
   "outputs": [
    {
     "name": "stdout",
     "output_type": "stream",
     "text": [
      "Branches in tree 'Tout':\n",
      "runnum\n",
      "WCut\n",
      "pCut\n",
      "nCut\n",
      "fiduCut\n",
      "coinCut\n",
      "ebeam\n",
      "nu\n",
      "Q2\n",
      "W2\n",
      "dpel\n",
      "ephi\n",
      "etheta\n",
      "pcentral\n",
      "vz\n",
      "vx\n",
      "vy\n",
      "xtgt\n",
      "ytgt\n",
      "thtgt\n",
      "phtgt\n",
      "thetabend\n",
      "xfp\n",
      "yfp\n",
      "thfp\n",
      "phfp\n",
      "trP\n",
      "trPx\n",
      "trPy\n",
      "trPz\n",
      "ePS\n",
      "xPS\n",
      "eSH\n",
      "xSH\n",
      "ySH\n",
      "eHCAL\n",
      "xHCAL\n",
      "yHCAL\n",
      "xHCAL_exp\n",
      "yHCAL_exp\n",
      "dx\n",
      "dy\n",
      "ngrinch_hits\n",
      "xGRINCH\n",
      "yGRINCH\n",
      "coin_time\n",
      "hcal_time\n",
      "bbcal_time\n",
      "BPMAx\n",
      "BPMAy\n",
      "Rasterx\n",
      "Rastery\n",
      "Raster2x\n",
      "Raster2y\n",
      "helicity\n",
      "IHWP\n",
      "pblkid\n",
      "tdc\n",
      "atime\n",
      "nblk\n",
      "mag\n",
      "run\n",
      "tar\n",
      "cblkid\n",
      "cblkatime\n",
      "cblktime\n",
      "cblke\n",
      "nclus\n",
      "cid\n",
      "cx\n",
      "cy\n",
      "catime\n",
      "hodoTimes\n",
      "hodoIDs\n",
      "hodoTOT\n",
      "nbars\n",
      "meanTOT\n",
      "trigger\n",
      "triggerID\n",
      "NdataTriggerID\n",
      "hodoClusMean\n"
     ]
    },
    {
     "name": "stderr",
     "output_type": "stream",
     "text": [
      "Error in <TList::Clear>: A list is accessing an object (0x1d2f5970) already deleted (list name = TList)\n",
      "Error in <TList::Clear>: A list is accessing an object (0x1c2c1860) already deleted (list name = TList)\n",
      "Error in <TList::Clear>: A list is accessing an object (0x1c2c1c90) already deleted (list name = TList)\n",
      "Error in <TList::Clear>: A list is accessing an object (0x2062ad20) already deleted (list name = TList)\n",
      "Error in <TList::Clear>: A list is accessing an object (0x2062b090) already deleted (list name = TList)\n",
      "Error in <TList::Clear>: A list is accessing an object (0x2062b400) already deleted (list name = TList)\n",
      "Error in <TList::Clear>: A list is accessing an object (0x2062b930) already deleted (list name = TList)\n",
      "Error in <TList::Clear>: A list is accessing an object (0x2062bcf0) already deleted (list name = TList)\n",
      "Error in <TList::Clear>: A list is accessing an object (0x2062c650) already deleted (list name = TList)\n",
      "Error in <TList::Clear>: A list is accessing an object (0x2062ca40) already deleted (list name = TList)\n",
      "Error in <TList::Clear>: A list is accessing an object (0x2062ce30) already deleted (list name = TList)\n",
      "Error in <TList::Clear>: A list is accessing an object (0x2062d3f0) already deleted (list name = TList)\n",
      "Error in <TList::Clear>: A list is accessing an object (0x2062d7e0) already deleted (list name = TList)\n",
      "Error in <TList::Clear>: A list is accessing an object (0x2062dba0) already deleted (list name = TList)\n",
      "Error in <TList::Clear>: A list is accessing an object (0x2062e2a0) already deleted (list name = TList)\n",
      "Error in <TList::Clear>: A list is accessing an object (0x2062e6d0) already deleted (list name = TList)\n",
      "Error in <TList::Clear>: A list is accessing an object (0x2062eb80) already deleted (list name = TList)\n",
      "Error in <TList::Clear>: A list is accessing an object (0x20647440) already deleted (list name = TList)\n",
      "Error in <TList::Clear>: A list is accessing an object (0x20652d20) already deleted (list name = TList)\n",
      "Error in <TList::Clear>: A list is accessing an object (0x206530f0) already deleted (list name = TList)\n",
      "Error in <TList::Clear>: A list is accessing an object (0x20653590) already deleted (list name = TList)\n",
      "Error in <TList::Clear>: A list is accessing an object (0x206544b0) already deleted (list name = TList)\n",
      "Error in <TList::Clear>: A list is accessing an object (0x20655160) already deleted (list name = TList)\n",
      "Error in <TList::Clear>: A list is accessing an object (0x20655390) already deleted (list name = TList)\n",
      "Error in <TList::Clear>: A list is accessing an object (0x20655ad0) already deleted (list name = TList)\n",
      "Error in <TList::Clear>: A list is accessing an object (0x20655f50) already deleted (list name = TList)\n",
      "Error in <TList::Clear>: A list is accessing an object (0x206584b0) already deleted (list name = TList)\n",
      "Error in <TList::Clear>: A list is accessing an object (0x20659d60) already deleted (list name = TList)\n",
      "Error in <TList::Clear>: A list is accessing an object (0x2065a270) already deleted (list name = TList)\n",
      "Error in <TList::Clear>: A list is accessing an object (0x2065acf0) already deleted (list name = TList)\n",
      "Error in <TList::Clear>: A list is accessing an object (0x2065b290) already deleted (list name = TList)\n",
      "Error in <TList::Clear>: A list is accessing an object (0x2065b6f0) already deleted (list name = TList)\n",
      "Error in <TList::Clear>: A list is accessing an object (0x2065c760) already deleted (list name = TList)\n",
      "Error in <TList::Clear>: A list is accessing an object (0x206662c0) already deleted (list name = TList)\n",
      "Error in <TList::Clear>: A list is accessing an object (0x20666740) already deleted (list name = TList)\n",
      "Error in <TList::Clear>: A list is accessing an object (0x20666a70) already deleted (list name = TList)\n",
      "Error in <TList::Clear>: A list is accessing an object (0x20667010) already deleted (list name = TList)\n",
      "Error in <TList::Clear>: A list is accessing an object (0x20667500) already deleted (list name = TList)\n",
      "Error in <TList::Clear>: A list is accessing an object (0x2066ba30) already deleted (list name = TList)\n",
      "Error in <TList::Clear>: A list is accessing an object (0x2066c1c0) already deleted (list name = TList)\n",
      "Error in <TList::Clear>: A list is accessing an object (0x2066d560) already deleted (list name = TList)\n",
      "Error in <TList::Clear>: A list is accessing an object (0x2066d700) already deleted (list name = TList)\n",
      "Error in <TList::Clear>: A list is accessing an object (0x205bf720) already deleted (list name = TList)\n",
      "Error in <TList::Clear>: A list is accessing an object (0x205c0020) already deleted (list name = TList)\n",
      "Error in <TList::Clear>: A list is accessing an object (0x205c0990) already deleted (list name = TList)\n",
      "Error in <THashList::Delete>: A list is accessing an object (0x204c61a0) already deleted (list name = THashList)\n"
     ]
    }
   ],
   "source": [
    "#available branches\n",
    "import ROOT as r\n",
    "\n",
    "\n",
    "def list_branches(rootfile_path, tree_name=\"Tout\"):\n",
    "    # Open the ROOT file\n",
    "    root_file = r.TFile.Open(rootfile_path)\n",
    "    \n",
    "    # Check if the file was successfully opened\n",
    "    if not root_file or root_file.IsZombie():\n",
    "        print(f\"Error: Could not open ROOT file '{rootfile_path}'.\")\n",
    "        return\n",
    "    \n",
    "    # Access the TTree\n",
    "    tree = root_file.Get(tree_name)\n",
    "    \n",
    "    # Check if the tree exists\n",
    "    if not tree:\n",
    "        print(f\"Error: Tree '{tree_name}' not found in file '{rootfile_path}'.\")\n",
    "        root_file.Close()\n",
    "        return\n",
    "    \n",
    "    # Get the list of branches\n",
    "    branch_list = tree.GetListOfBranches()\n",
    "    \n",
    "    # Print all branch names\n",
    "    print(f\"Branches in tree '{tree_name}':\")\n",
    "    for branch in branch_list:\n",
    "        print(branch.GetName())\n",
    "    \n",
    "    # Close the ROOT file\n",
    "    root_file.Close()\n",
    "\n",
    "# Example usage\n",
    "rootfile_path = \"outfiles/HCal_data_GEN3_sbs100p_nucleon_np_model1.root\"\n",
    "list_branches(rootfile_path)\n"
   ]
  },
  {
   "cell_type": "code",
   "execution_count": 3,
   "id": "036e5ce8",
   "metadata": {},
   "outputs": [
    {
     "name": "stdout",
     "output_type": "stream",
     "text": [
      "Branches in tree 'Tout':\n",
      "WCut\n",
      "pCut\n",
      "nCut\n",
      "weight\n",
      "fnucl\n",
      "fiduCut\n",
      "coinCut\n",
      "ebeam\n",
      "nu\n",
      "Q2\n",
      "W2\n",
      "dpel\n",
      "ephi\n",
      "etheta\n",
      "pcentral\n",
      "vz\n",
      "vx\n",
      "vy\n",
      "xtgt\n",
      "ytgt\n",
      "thtgt\n",
      "phtgt\n",
      "xfp\n",
      "yfp\n",
      "thfp\n",
      "phfp\n",
      "trP\n",
      "trX\n",
      "trY\n",
      "trTh\n",
      "trPh\n",
      "ePS\n",
      "eSH\n",
      "eHCAL\n",
      "xHCAL\n",
      "yHCAL\n",
      "xHCAL_exp\n",
      "yHCAL_exp\n",
      "dx\n",
      "dy\n",
      "grinch_track\n",
      "grinch_clus_size\n"
     ]
    },
    {
     "name": "stderr",
     "output_type": "stream",
     "text": [
      "Error in <TList::Clear>: A list is accessing an object (0x20ccd6d0) already deleted (list name = TList)\n",
      "Error in <TList::Clear>: A list is accessing an object (0x20cda010) already deleted (list name = TList)\n",
      "Error in <TList::Clear>: A list is accessing an object (0x20ceb170) already deleted (list name = TList)\n",
      "Error in <TList::Clear>: A list is accessing an object (0x20ceb060) already deleted (list name = TList)\n",
      "Error in <TList::Clear>: A list is accessing an object (0x20ceaf70) already deleted (list name = TList)\n",
      "Error in <TList::Clear>: A list is accessing an object (0x20cd9eb0) already deleted (list name = TList)\n",
      "Error in <TList::Clear>: A list is accessing an object (0x20cd9d50) already deleted (list name = TList)\n",
      "Error in <TList::Clear>: A list is accessing an object (0x20c92440) already deleted (list name = TList)\n",
      "Error in <TList::Clear>: A list is accessing an object (0x20cc7ba0) already deleted (list name = TList)\n",
      "Error in <TList::Clear>: A list is accessing an object (0x1ac63e30) already deleted (list name = TList)\n",
      "Error in <TList::Clear>: A list is accessing an object (0x1b67d3e0) already deleted (list name = TList)\n",
      "Error in <TList::Clear>: A list is accessing an object (0x20cac0b0) already deleted (list name = TList)\n",
      "Error in <TList::Clear>: A list is accessing an object (0x20cac440) already deleted (list name = TList)\n",
      "Error in <TList::Clear>: A list is accessing an object (0x1b67f290) already deleted (list name = TList)\n",
      "Error in <TList::Clear>: A list is accessing an object (0x20cd5970) already deleted (list name = TList)\n",
      "Error in <TList::Clear>: A list is accessing an object (0x20cab650) already deleted (list name = TList)\n",
      "Error in <TList::Clear>: A list is accessing an object (0x20c41880) already deleted (list name = TList)\n",
      "Error in <TList::Clear>: A list is accessing an object (0x20ccb510) already deleted (list name = TList)\n",
      "Error in <TList::Clear>: A list is accessing an object (0x20ccb8e0) already deleted (list name = TList)\n",
      "Error in <TList::Clear>: A list is accessing an object (0x20ca4ea0) already deleted (list name = TList)\n",
      "Error in <TList::Clear>: A list is accessing an object (0x20ca4010) already deleted (list name = TList)\n",
      "Error in <TList::Clear>: A list is accessing an object (0x20ca4520) already deleted (list name = TList)\n",
      "Error in <TList::Clear>: A list is accessing an object (0x20c91a70) already deleted (list name = TList)\n",
      "Error in <TList::Clear>: A list is accessing an object (0x20c91ca0) already deleted (list name = TList)\n",
      "Error in <TList::Clear>: A list is accessing an object (0x20c90970) already deleted (list name = TList)\n",
      "Error in <TList::Clear>: A list is accessing an object (0x20c9f0e0) already deleted (list name = TList)\n",
      "Error in <TList::Clear>: A list is accessing an object (0x20c9f550) already deleted (list name = TList)\n",
      "Error in <TList::Clear>: A list is accessing an object (0x20ca1270) already deleted (list name = TList)\n",
      "Error in <TList::Clear>: A list is accessing an object (0x20ce6d30) already deleted (list name = TList)\n",
      "Error in <TList::Clear>: A list is accessing an object (0x20ca32a0) already deleted (list name = TList)\n",
      "Error in <TList::Clear>: A list is accessing an object (0x20ca39e0) already deleted (list name = TList)\n",
      "Error in <TList::Clear>: A list is accessing an object (0x20cbbf70) already deleted (list name = TList)\n",
      "Error in <TList::Clear>: A list is accessing an object (0x20cbc2a0) already deleted (list name = TList)\n",
      "Error in <TList::Clear>: A list is accessing an object (0x20cbc840) already deleted (list name = TList)\n",
      "Error in <TList::Clear>: A list is accessing an object (0x20c9df70) already deleted (list name = TList)\n",
      "Error in <TList::Clear>: A list is accessing an object (0x20caecc0) already deleted (list name = TList)\n",
      "Error in <TList::Clear>: A list is accessing an object (0x20caf450) already deleted (list name = TList)\n",
      "Error in <TList::Clear>: A list is accessing an object (0x20cd7d30) already deleted (list name = TList)\n",
      "Error in <TList::Clear>: A list is accessing an object (0x20cd7ed0) already deleted (list name = TList)\n",
      "Error in <TList::Clear>: A list is accessing an object (0x20cd8320) already deleted (list name = TList)\n",
      "Error in <TList::Clear>: A list is accessing an object (0x20cd90c0) already deleted (list name = TList)\n",
      "Error in <TList::Clear>: A list is accessing an object (0x20cd9540) already deleted (list name = TList)\n",
      "Error in <TList::Clear>: A list is accessing an object (0x20cd9b60) already deleted (list name = TList)\n",
      "Error in <TList::Clear>: A list is accessing an object (0x1856bc90) already deleted (list name = TList)\n",
      "Error in <THashList::Delete>: A list is accessing an object (0x1ac63b60) already deleted (list name = THashList)\n"
     ]
    }
   ],
   "source": [
    "#available branches\n",
    "import ROOT as r\n",
    "\n",
    "\n",
    "def list_branches(rootfile_path, tree_name=\"Tout\"):\n",
    "    # Open the ROOT file\n",
    "    root_file = r.TFile.Open(rootfile_path)\n",
    "    \n",
    "    # Check if the file was successfully opened\n",
    "    if not root_file or root_file.IsZombie():\n",
    "        print(f\"Error: Could not open ROOT file '{rootfile_path}'.\")\n",
    "        return\n",
    "    \n",
    "    # Access the TTree\n",
    "    tree = root_file.Get(tree_name)\n",
    "    \n",
    "    # Check if the tree exists\n",
    "    if not tree:\n",
    "        print(f\"Error: Tree '{tree_name}' not found in file '{rootfile_path}'.\")\n",
    "        root_file.Close()\n",
    "        return\n",
    "    \n",
    "    # Get the list of branches\n",
    "    branch_list = tree.GetListOfBranches()\n",
    "    \n",
    "    # Print all branch names\n",
    "    print(f\"Branches in tree '{tree_name}':\")\n",
    "    for branch in branch_list:\n",
    "        print(branch.GetName())\n",
    "    \n",
    "    # Close the ROOT file\n",
    "    root_file.Close()\n",
    "\n",
    "# Example usage\n",
    "rootfile_path = \"outfiles/Pass1/QE_sim_GEN3_sbs100p_nucleon_np_model2.root\"\n",
    "list_branches(rootfile_path)"
   ]
  },
  {
   "cell_type": "code",
   "execution_count": 4,
   "id": "3680e601",
   "metadata": {},
   "outputs": [
    {
     "data": {
      "text/plain": [
       "'\\n#inputs hodo\\nconfig=\"3\"\\nprefix=\"HCal_data\"\\ndetector=\"hodo\"\\n#inputs hcal\\nconfig=\"3\"\\nprefix=\"HCal_data\"\\ndetector=\"hcal\"\\n'"
      ]
     },
     "execution_count": 4,
     "metadata": {},
     "output_type": "execute_result"
    }
   ],
   "source": [
    "\"\"\"\n",
    "#inputs hodo\n",
    "config=\"3\"\n",
    "prefix=\"HCal_data\"\n",
    "detector=\"hodo\"\n",
    "#inputs hcal\n",
    "config=\"3\"\n",
    "prefix=\"HCal_data\"\n",
    "detector=\"hcal\"\n",
    "\"\"\""
   ]
  },
  {
   "cell_type": "code",
   "execution_count": 5,
   "id": "4fedb294",
   "metadata": {},
   "outputs": [],
   "source": [
    "#define branches\n",
    "branches=[\"ebeam\",\"nu\",\"Q2\",\"W2\",\"dpel\",\"ephi\",\"etheta\",\"pcentral\",\"vz\",\"vx\"\n",
    "          ,\"vy\",\"xtgt\",\"ytgt\",\"thtgt\",\"phtgt\",\"thetabend\",\"xfp\",\"yfp\",\"thfp\"\n",
    "          ,\"phfp\",\"trP\",\"trPx\",\"trPy\",\"trPz\",\"ePS\",\"xPS\",\"eSH\",\"xSH\",\"ySH\",\"eHCAL\"\n",
    "          ,\"xHCAL\",\"yHCAL\",\"xHCAL_exp\",\"yHCAL_exp\",\"dx\",\"dy\",\"ngrinch_hits\",\"xGRINCH\"\n",
    "          ,\"yGRINCH\",\"coin_time\",\"hcal_time\",\"bbcal_time\",\"BPMAx\",\"BPMAy\",\"Rasterx\"\n",
    "          ,\"Rastery\",\"Raster2x\",\"Raster2y\",\"helicity\",\"IHWP\",\"pblkid\",\"tdc\",\"atime\"\n",
    "          ,\"nblk\",\"mag\",\"run\",\"tar\",\"cblkid\",\"cblkatime\",\"cblktime\",\"cblke\",\"nclus\"\n",
    "          ,\"cid\",\"cx\",\"cy\",\"catime\",\"hodoTimes\",\"hodoIDs\",\"hodoTOT\",\"nbars\"]\n",
    "hodo_branches=[\"hodoTimes\",\"hodoIDs\",\"hodoTOT\",\"nbars\",\"hodoClusMean\"]\n",
    "hcal_branches=[\"cblkid\",\"cblkatime\",\"cblktime\",\"cblke\",\"nclus\"\n",
    "          ,\"cid\",\"cx\",\"cy\",\"catime\"]\n",
    "trigger_branches=[\"trigger\",\"triggerID\",\"NdataTriggerID\"]\n",
    "generic_branches=[\"nu\",\"Q2\",\"W2\",\"vz\",\"vx\",\"vy\",\"dx\",\"dy\",\"eSH\",\"ePS\",\"etheta\",\"trP\",\"thtgt\",\"phtgt\",\n",
    "                  \"coin_time\",\"trPx\",\"trPy\",\"trPz\",\"ephi\",\"ebeam\"]\n",
    "\n",
    "sim_branches=[\"nu\",\"Q2\",\"W2\",\"vz\",\"vx\",\"vy\",\"dx\",\"dy\",\"eSH\",\"ePS\",\"etheta\",\"trP\"]\n",
    "\n",
    "\n",
    "ml_branches = [\n",
    "    \"ebeam\", \"nu\", \"Q2\", \"W2\", \"dpel\", \"ephi\", \"etheta\", \"pcentral\", \"vz\", \"vx\", \"vy\",\n",
    "    \"xtgt\", \"ytgt\", \"thtgt\", \"phtgt\", \"xfp\", \"yfp\", \"thfp\", \"phfp\", \"trP\",\n",
    "    \"ePS\", \"eSH\", \"eHCAL\", \"xHCAL\", \"yHCAL\", \"xHCAL_exp\", \"yHCAL_exp\",\n",
    "    \"dx\", \"dy\"\n",
    "]\n"
   ]
  },
  {
   "cell_type": "code",
   "execution_count": 6,
   "id": "15b7d3da",
   "metadata": {},
   "outputs": [],
   "source": [
    "\n",
    "def ConvertToNP(branches,config,prefix,detector):\n",
    "    # Open the ROOT file\n",
    "    with uproot.open(f\"outfiles/HCal_data_GEN3_sbs100p_nucleon_np_model1.root\") as file:\n",
    "        # Access the tree (replace 'Tout' with the actual name of your tree if different)\n",
    "        tree = file[\"Tout\"]\n",
    "\n",
    "        # Get all branch names\n",
    "        #branches = tree.keys()\n",
    "\n",
    "        chunk_size = 2000000  # Define the chunk size\n",
    "        total_entries = tree.num_entries  # Get the total number of entries\n",
    "        total_iterations = total_entries // chunk_size + (total_entries % chunk_size > 0)\n",
    "\n",
    "        for j in range(total_iterations):\n",
    "            print(f\"Processing Chunk {j+1} out of {total_iterations}\")\n",
    "\n",
    "            start = j * chunk_size\n",
    "            stop = min((j + 1) * chunk_size, total_entries)\n",
    "\n",
    "            # Read data for this chunk\n",
    "            data = tree.arrays(branches, entry_start=start, entry_stop=stop, library=\"np\")\n",
    "\n",
    "            # Save all the branches as a dictionary to .npz\n",
    "            np.savez(f\"/media/research/TOSHIBA EXT/GEn/NumpyData/GEN{config}/{prefix}/{detector}{j}.npz\", **data)\n"
   ]
  },
  {
   "cell_type": "code",
   "execution_count": 7,
   "id": "08c88a63",
   "metadata": {},
   "outputs": [],
   "source": [
    "def ConvertToNPSim(branches,config,prefix,detector):\n",
    "    # Open the ROOT file\n",
    "    with uproot.open(f\"outfiles/Pass1/QE_sim_GEN3_sbs100p_nucleon_np_model2.root\") as file:\n",
    "        # Access the tree (replace 'Tout' with the actual name of your tree if different)\n",
    "        tree = file[\"Tout\"]\n",
    "\n",
    "        # Get all branch names\n",
    "        #branches = tree.keys()\n",
    "\n",
    "        chunk_size = 2000000  # Define the chunk size\n",
    "        total_entries = tree.num_entries  # Get the total number of entries\n",
    "        total_iterations = total_entries // chunk_size + (total_entries % chunk_size > 0)\n",
    "        print(total_entries)\n",
    "        for j in range(total_iterations):\n",
    "            print(f\"Processing Chunk {j+1} out of {total_iterations}\")\n",
    "\n",
    "            start = j * chunk_size\n",
    "            stop = min((j + 1) * chunk_size, total_entries)\n",
    "\n",
    "            # Read data for this chunk\n",
    "            data = tree.arrays(branches, entry_start=start, entry_stop=stop, library=\"np\")\n",
    "\n",
    "            # Save all the branches as a dictionary to .npz\n",
    "            np.savez(f\"/media/research/TOSHIBA EXT/GEn/NumpySim/GEN{config}/{detector}{j}.npz\", **data)\n"
   ]
  },
  {
   "cell_type": "code",
   "execution_count": 8,
   "id": "42eec1a1",
   "metadata": {},
   "outputs": [],
   "source": [
    "def ConvertToNPInSim(branches,config,prefix,detector):\n",
    "    # Open the ROOT file\n",
    "    with uproot.open(f\"outfiles/Pass1/QE_Insim_GEN3_sbs100p_nucleon_np_model2.root\") as file:\n",
    "        # Access the tree (replace 'Tout' with the actual name of your tree if different)\n",
    "        tree = file[\"Tout\"]\n",
    "\n",
    "        # Get all branch names\n",
    "        #branches = tree.keys()\n",
    "\n",
    "        chunk_size = 2000000  # Define the chunk size\n",
    "        total_entries = tree.num_entries  # Get the total number of entries\n",
    "        total_iterations = total_entries // chunk_size + (total_entries % chunk_size > 0)\n",
    "        print(total_entries)\n",
    "        for j in range(total_iterations):\n",
    "            print(f\"Processing Chunk {j+1} out of {total_iterations}\")\n",
    "\n",
    "            start = j * chunk_size\n",
    "            stop = min((j + 1) * chunk_size, total_entries)\n",
    "\n",
    "            # Read data for this chunk\n",
    "            data = tree.arrays(branches, entry_start=start, entry_stop=stop, library=\"np\")\n",
    "\n",
    "            # Save all the branches as a dictionary to .npz\n",
    "            np.savez(f\"/media/research/TOSHIBA EXT/GEn/NumpySim/GEN{config}/{detector}{j}.npz\", **data)\n"
   ]
  },
  {
   "cell_type": "code",
   "execution_count": 9,
   "id": "db28335e",
   "metadata": {},
   "outputs": [
    {
     "name": "stdout",
     "output_type": "stream",
     "text": [
      "Processing Chunk 1 out of 13\n",
      "Processing Chunk 2 out of 13\n",
      "Processing Chunk 3 out of 13\n",
      "Processing Chunk 4 out of 13\n",
      "Processing Chunk 5 out of 13\n",
      "Processing Chunk 6 out of 13\n",
      "Processing Chunk 7 out of 13\n",
      "Processing Chunk 8 out of 13\n",
      "Processing Chunk 9 out of 13\n",
      "Processing Chunk 10 out of 13\n",
      "Processing Chunk 11 out of 13\n",
      "Processing Chunk 12 out of 13\n",
      "Processing Chunk 13 out of 13\n"
     ]
    }
   ],
   "source": [
    "#Hodoscope\n",
    "ConvertToNP(hodo_branches,\"3\",\"HCal_data\",\"hodo\")"
   ]
  },
  {
   "cell_type": "code",
   "execution_count": null,
   "id": "fcdeaa81",
   "metadata": {},
   "outputs": [
    {
     "name": "stdout",
     "output_type": "stream",
     "text": [
      "Processing Chunk 1 out of 13\n",
      "Processing Chunk 2 out of 13\n",
      "Processing Chunk 3 out of 13\n",
      "Processing Chunk 4 out of 13\n",
      "Processing Chunk 5 out of 13\n",
      "Processing Chunk 6 out of 13\n",
      "Processing Chunk 7 out of 13\n",
      "Processing Chunk 8 out of 13\n",
      "Processing Chunk 9 out of 13\n",
      "Processing Chunk 10 out of 13\n",
      "Processing Chunk 11 out of 13\n"
     ]
    }
   ],
   "source": [
    "#HCal\n",
    "ConvertToNP(hcal_branches,\"3\",\"HCal_data\",\"hcal\")"
   ]
  },
  {
   "cell_type": "code",
   "execution_count": null,
   "id": "11e0f807",
   "metadata": {},
   "outputs": [],
   "source": [
    "#Trigger\n",
    "ConvertToNP(trigger_branches,\"3\",\"HCal_data\",\"trigger\")"
   ]
  },
  {
   "cell_type": "code",
   "execution_count": 10,
   "id": "f6e5e4fc",
   "metadata": {},
   "outputs": [
    {
     "name": "stdout",
     "output_type": "stream",
     "text": [
      "Processing Chunk 1 out of 13\n"
     ]
    },
    {
     "ename": "KeyboardInterrupt",
     "evalue": "",
     "output_type": "error",
     "traceback": [
      "\u001b[0;31m---------------------------------------------------------------------------\u001b[0m",
      "\u001b[0;31mKeyboardInterrupt\u001b[0m                         Traceback (most recent call last)",
      "Cell \u001b[0;32mIn [10], line 2\u001b[0m\n\u001b[1;32m      1\u001b[0m \u001b[38;5;66;03m#Generic\u001b[39;00m\n\u001b[0;32m----> 2\u001b[0m \u001b[43mConvertToNP\u001b[49m\u001b[43m(\u001b[49m\u001b[43mgeneric_branches\u001b[49m\u001b[43m,\u001b[49m\u001b[38;5;124;43m\"\u001b[39;49m\u001b[38;5;124;43m3\u001b[39;49m\u001b[38;5;124;43m\"\u001b[39;49m\u001b[43m,\u001b[49m\u001b[38;5;124;43m\"\u001b[39;49m\u001b[38;5;124;43mHCal_data\u001b[39;49m\u001b[38;5;124;43m\"\u001b[39;49m\u001b[43m,\u001b[49m\u001b[38;5;124;43m\"\u001b[39;49m\u001b[38;5;124;43mgeneric\u001b[39;49m\u001b[38;5;124;43m\"\u001b[39;49m\u001b[43m)\u001b[49m\n",
      "Cell \u001b[0;32mIn [6], line 24\u001b[0m, in \u001b[0;36mConvertToNP\u001b[0;34m(branches, config, prefix, detector)\u001b[0m\n\u001b[1;32m     21\u001b[0m data \u001b[38;5;241m=\u001b[39m tree\u001b[38;5;241m.\u001b[39marrays(branches, entry_start\u001b[38;5;241m=\u001b[39mstart, entry_stop\u001b[38;5;241m=\u001b[39mstop, library\u001b[38;5;241m=\u001b[39m\u001b[38;5;124m\"\u001b[39m\u001b[38;5;124mnp\u001b[39m\u001b[38;5;124m\"\u001b[39m)\n\u001b[1;32m     23\u001b[0m \u001b[38;5;66;03m# Save all the branches as a dictionary to .npz\u001b[39;00m\n\u001b[0;32m---> 24\u001b[0m \u001b[43mnp\u001b[49m\u001b[38;5;241;43m.\u001b[39;49m\u001b[43msavez\u001b[49m\u001b[43m(\u001b[49m\u001b[38;5;124;43mf\u001b[39;49m\u001b[38;5;124;43m\"\u001b[39;49m\u001b[38;5;124;43m/media/research/TOSHIBA EXT/GEn/NumpyData/GEN\u001b[39;49m\u001b[38;5;132;43;01m{\u001b[39;49;00m\u001b[43mconfig\u001b[49m\u001b[38;5;132;43;01m}\u001b[39;49;00m\u001b[38;5;124;43m/\u001b[39;49m\u001b[38;5;132;43;01m{\u001b[39;49;00m\u001b[43mprefix\u001b[49m\u001b[38;5;132;43;01m}\u001b[39;49;00m\u001b[38;5;124;43m/\u001b[39;49m\u001b[38;5;132;43;01m{\u001b[39;49;00m\u001b[43mdetector\u001b[49m\u001b[38;5;132;43;01m}\u001b[39;49;00m\u001b[38;5;132;43;01m{\u001b[39;49;00m\u001b[43mj\u001b[49m\u001b[38;5;132;43;01m}\u001b[39;49;00m\u001b[38;5;124;43m.npz\u001b[39;49m\u001b[38;5;124;43m\"\u001b[39;49m\u001b[43m,\u001b[49m\u001b[43m \u001b[49m\u001b[38;5;241;43m*\u001b[39;49m\u001b[38;5;241;43m*\u001b[39;49m\u001b[43mdata\u001b[49m\u001b[43m)\u001b[49m\n",
      "File \u001b[0;32m<__array_function__ internals>:180\u001b[0m, in \u001b[0;36msavez\u001b[0;34m(*args, **kwargs)\u001b[0m\n",
      "File \u001b[0;32m~/.local/lib/python3.8/site-packages/numpy/lib/npyio.py:595\u001b[0m, in \u001b[0;36msavez\u001b[0;34m(file, *args, **kwds)\u001b[0m\n\u001b[1;32m    511\u001b[0m \u001b[38;5;129m@array_function_dispatch\u001b[39m(_savez_dispatcher)\n\u001b[1;32m    512\u001b[0m \u001b[38;5;28;01mdef\u001b[39;00m \u001b[38;5;21msavez\u001b[39m(file, \u001b[38;5;241m*\u001b[39margs, \u001b[38;5;241m*\u001b[39m\u001b[38;5;241m*\u001b[39mkwds):\n\u001b[1;32m    513\u001b[0m     \u001b[38;5;124;03m\"\"\"Save several arrays into a single file in uncompressed ``.npz`` format.\u001b[39;00m\n\u001b[1;32m    514\u001b[0m \n\u001b[1;32m    515\u001b[0m \u001b[38;5;124;03m    Provide arrays as keyword arguments to store them under the\u001b[39;00m\n\u001b[0;32m   (...)\u001b[0m\n\u001b[1;32m    593\u001b[0m \n\u001b[1;32m    594\u001b[0m \u001b[38;5;124;03m    \"\"\"\u001b[39;00m\n\u001b[0;32m--> 595\u001b[0m     \u001b[43m_savez\u001b[49m\u001b[43m(\u001b[49m\u001b[43mfile\u001b[49m\u001b[43m,\u001b[49m\u001b[43m \u001b[49m\u001b[43margs\u001b[49m\u001b[43m,\u001b[49m\u001b[43m \u001b[49m\u001b[43mkwds\u001b[49m\u001b[43m,\u001b[49m\u001b[43m \u001b[49m\u001b[38;5;28;43;01mFalse\u001b[39;49;00m\u001b[43m)\u001b[49m\n",
      "File \u001b[0;32m~/.local/lib/python3.8/site-packages/numpy/lib/npyio.py:699\u001b[0m, in \u001b[0;36m_savez\u001b[0;34m(file, args, kwds, compress, allow_pickle, pickle_kwargs)\u001b[0m\n\u001b[1;32m    697\u001b[0m     \u001b[38;5;66;03m# always force zip64, gh-10776\u001b[39;00m\n\u001b[1;32m    698\u001b[0m     \u001b[38;5;28;01mwith\u001b[39;00m zipf\u001b[38;5;241m.\u001b[39mopen(fname, \u001b[38;5;124m'\u001b[39m\u001b[38;5;124mw\u001b[39m\u001b[38;5;124m'\u001b[39m, force_zip64\u001b[38;5;241m=\u001b[39m\u001b[38;5;28;01mTrue\u001b[39;00m) \u001b[38;5;28;01mas\u001b[39;00m fid:\n\u001b[0;32m--> 699\u001b[0m         \u001b[38;5;28;43mformat\u001b[39;49m\u001b[38;5;241;43m.\u001b[39;49m\u001b[43mwrite_array\u001b[49m\u001b[43m(\u001b[49m\u001b[43mfid\u001b[49m\u001b[43m,\u001b[49m\u001b[43m \u001b[49m\u001b[43mval\u001b[49m\u001b[43m,\u001b[49m\n\u001b[1;32m    700\u001b[0m \u001b[43m                           \u001b[49m\u001b[43mallow_pickle\u001b[49m\u001b[38;5;241;43m=\u001b[39;49m\u001b[43mallow_pickle\u001b[49m\u001b[43m,\u001b[49m\n\u001b[1;32m    701\u001b[0m \u001b[43m                           \u001b[49m\u001b[43mpickle_kwargs\u001b[49m\u001b[38;5;241;43m=\u001b[39;49m\u001b[43mpickle_kwargs\u001b[49m\u001b[43m)\u001b[49m\n\u001b[1;32m    703\u001b[0m zipf\u001b[38;5;241m.\u001b[39mclose()\n",
      "File \u001b[0;32m~/.local/lib/python3.8/site-packages/numpy/lib/format.py:694\u001b[0m, in \u001b[0;36mwrite_array\u001b[0;34m(fp, array, version, allow_pickle, pickle_kwargs)\u001b[0m\n\u001b[1;32m    690\u001b[0m \u001b[38;5;28;01melse\u001b[39;00m:\n\u001b[1;32m    691\u001b[0m     \u001b[38;5;28;01mfor\u001b[39;00m chunk \u001b[38;5;129;01min\u001b[39;00m numpy\u001b[38;5;241m.\u001b[39mnditer(\n\u001b[1;32m    692\u001b[0m             array, flags\u001b[38;5;241m=\u001b[39m[\u001b[38;5;124m'\u001b[39m\u001b[38;5;124mexternal_loop\u001b[39m\u001b[38;5;124m'\u001b[39m, \u001b[38;5;124m'\u001b[39m\u001b[38;5;124mbuffered\u001b[39m\u001b[38;5;124m'\u001b[39m, \u001b[38;5;124m'\u001b[39m\u001b[38;5;124mzerosize_ok\u001b[39m\u001b[38;5;124m'\u001b[39m],\n\u001b[1;32m    693\u001b[0m             buffersize\u001b[38;5;241m=\u001b[39mbuffersize, order\u001b[38;5;241m=\u001b[39m\u001b[38;5;124m'\u001b[39m\u001b[38;5;124mC\u001b[39m\u001b[38;5;124m'\u001b[39m):\n\u001b[0;32m--> 694\u001b[0m         \u001b[43mfp\u001b[49m\u001b[38;5;241;43m.\u001b[39;49m\u001b[43mwrite\u001b[49m\u001b[43m(\u001b[49m\u001b[43mchunk\u001b[49m\u001b[38;5;241;43m.\u001b[39;49m\u001b[43mtobytes\u001b[49m\u001b[43m(\u001b[49m\u001b[38;5;124;43m'\u001b[39;49m\u001b[38;5;124;43mC\u001b[39;49m\u001b[38;5;124;43m'\u001b[39;49m\u001b[43m)\u001b[49m\u001b[43m)\u001b[49m\n",
      "File \u001b[0;32m/usr/lib/python3.8/zipfile.py:1143\u001b[0m, in \u001b[0;36m_ZipWriteFile.write\u001b[0;34m(self, data)\u001b[0m\n\u001b[1;32m   1141\u001b[0m     data \u001b[38;5;241m=\u001b[39m \u001b[38;5;28mself\u001b[39m\u001b[38;5;241m.\u001b[39m_compressor\u001b[38;5;241m.\u001b[39mcompress(data)\n\u001b[1;32m   1142\u001b[0m     \u001b[38;5;28mself\u001b[39m\u001b[38;5;241m.\u001b[39m_compress_size \u001b[38;5;241m+\u001b[39m\u001b[38;5;241m=\u001b[39m \u001b[38;5;28mlen\u001b[39m(data)\n\u001b[0;32m-> 1143\u001b[0m \u001b[38;5;28;43mself\u001b[39;49m\u001b[38;5;241;43m.\u001b[39;49m\u001b[43m_fileobj\u001b[49m\u001b[38;5;241;43m.\u001b[39;49m\u001b[43mwrite\u001b[49m\u001b[43m(\u001b[49m\u001b[43mdata\u001b[49m\u001b[43m)\u001b[49m\n\u001b[1;32m   1144\u001b[0m \u001b[38;5;28;01mreturn\u001b[39;00m nbytes\n",
      "\u001b[0;31mKeyboardInterrupt\u001b[0m: "
     ]
    }
   ],
   "source": [
    "#Generic\n",
    "ConvertToNP(generic_branches,\"3\",\"HCal_data\",\"generic\")"
   ]
  },
  {
   "cell_type": "code",
   "execution_count": null,
   "id": "0ee06419",
   "metadata": {
    "scrolled": false
   },
   "outputs": [],
   "source": [
    "#MachineLearning Data/ElasticSim/InelasticSim\n",
    "ConvertToNP(ml_branches,\"3\",\"HCal_data\",\"machinelearningD\")\n",
    "ConvertToNPSim(ml_branches,\"3\",\"HCal_data\",\"machinelearningES\")\n",
    "ConvertToNPInSim(ml_branches,\"3\",\"HCal_data\",\"machinelearningIS\")"
   ]
  },
  {
   "cell_type": "code",
   "execution_count": 22,
   "id": "58f70a6b",
   "metadata": {},
   "outputs": [
    {
     "name": "stdout",
     "output_type": "stream",
     "text": [
      "264763\n",
      "Processing Chunk 1 out of 1\n"
     ]
    }
   ],
   "source": [
    "#Simulation\n",
    "ConvertToNPSim(sim_branches,\"3\",\"HCal_data\",\"simulation\")"
   ]
  },
  {
   "cell_type": "code",
   "execution_count": 12,
   "id": "2c0da258",
   "metadata": {},
   "outputs": [
    {
     "name": "stdout",
     "output_type": "stream",
     "text": [
      "74232\n",
      "Processing Chunk 1 out of 1\n"
     ]
    }
   ],
   "source": [
    "#Simulation\n",
    "ConvertToNPInSim(sim_branches,\"3\",\"HCal_data\",\"insimulation\")"
   ]
  },
  {
   "cell_type": "code",
   "execution_count": null,
   "id": "a55fcb27",
   "metadata": {},
   "outputs": [],
   "source": []
  }
 ],
 "metadata": {
  "kernelspec": {
   "display_name": "Python 3 (ipykernel)",
   "language": "python",
   "name": "python3"
  },
  "language_info": {
   "codemirror_mode": {
    "name": "ipython",
    "version": 3
   },
   "file_extension": ".py",
   "mimetype": "text/x-python",
   "name": "python",
   "nbconvert_exporter": "python",
   "pygments_lexer": "ipython3",
   "version": "3.8.10"
  }
 },
 "nbformat": 4,
 "nbformat_minor": 5
}
