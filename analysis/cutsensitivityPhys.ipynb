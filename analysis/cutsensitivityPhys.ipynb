{
 "cells": [
  {
   "cell_type": "code",
   "execution_count": 19,
   "id": "116be570",
   "metadata": {},
   "outputs": [],
   "source": [
    "import ROOT as r\n",
    "import math\n",
    "import array\n",
    "import os\n",
    "import sys\n",
    "import matplotlib.pyplot as plt\n",
    "import numpy as np\n",
    "\n",
    "#______________Add include directory_______________\n",
    "current_dir = os.getcwd()\n",
    "include_dir = os.path.join(current_dir, '../include')\n",
    "sys.path.insert(0, include_dir)\n",
    "#__________________________________________________\n",
    "import ERROR\n",
    "import CONFIG\n",
    "import DBPARSE\n",
    "from ASYMMETRY import *\n",
    "from UTILITIES import *\n",
    "from SIMFITS import DistributionFits\n",
    "from ROOT import gStyle, TChain, TH1F, TCanvas, TLegend\n",
    "\n",
    "\n",
    "from joblib import Parallel, delayed"
   ]
  },
  {
   "cell_type": "code",
   "execution_count": 20,
   "id": "a5c19a5e",
   "metadata": {},
   "outputs": [],
   "source": [
    "pas=\"1\"\n",
    "config=\"3\""
   ]
  },
  {
   "cell_type": "markdown",
   "id": "50c4b5cf",
   "metadata": {},
   "source": [
    "# Cuts"
   ]
  },
  {
   "cell_type": "code",
   "execution_count": 21,
   "id": "e4834451",
   "metadata": {},
   "outputs": [
    {
     "name": "stdout",
     "output_type": "stream",
     "text": [
      "W2min: 0\n",
      "W2max: 1.4947\n",
      "dxmin: -0.4\n",
      "dxmax: 0.402\n",
      "dymin: -0.7895\n",
      "dymax: 0.7895\n",
      "dybgmin: -1.2\n",
      "dybgmax: 1.2\n",
      "Coin Min: 82 Coin Max: 106\n"
     ]
    }
   ],
   "source": [
    "W2min=CONFIG.Function_JSON(\"W2min\",f\"../config/cuts{config}.cfg\")\n",
    "W2max=CONFIG.Function_JSON(\"W2max\",f\"../config/cuts{config}.cfg\")\n",
    "dxmin=CONFIG.Function_JSON(\"dxmin\",f\"../config/cuts{config}.cfg\")\n",
    "dxmax=CONFIG.Function_JSON(\"dxmax\",f\"../config/cuts{config}.cfg\")\n",
    "dymin=CONFIG.Function_JSON(\"dymin\",f\"../config/cuts{config}.cfg\")\n",
    "dymax=CONFIG.Function_JSON(\"dymax\",f\"../config/cuts{config}.cfg\")\n",
    "dybgmin=CONFIG.Function_JSON(\"dybgmin\",f\"../config/cuts{config}.cfg\")\n",
    "dybgmax=CONFIG.Function_JSON(\"dybgmax\",f\"../config/cuts{config}.cfg\")\n",
    "coinmin=CONFIG.Function_JSON(\"coinmin\",f\"../config/cuts{config}.cfg\")\n",
    "coinmax=CONFIG.Function_JSON(\"coinmax\",f\"../config/cuts{config}.cfg\")\n",
    "\n",
    "print(f'W2min: {W2min}')\n",
    "print(f'W2max: {W2max}')\n",
    "print(f'dxmin: {dxmin}')\n",
    "print(f'dxmax: {dxmax}')\n",
    "print(f'dymin: {dymin}')\n",
    "print(f'dymax: {dymax}')\n",
    "print(f'dybgmin: {dybgmin}')\n",
    "print(f'dybgmax: {dybgmax}')\n",
    "print(f'Coin Min: {coinmin} Coin Max: {coinmax}')"
   ]
  },
  {
   "cell_type": "code",
   "execution_count": 22,
   "id": "9b201b1f",
   "metadata": {},
   "outputs": [],
   "source": [
    "cut=\"w2\"\n",
    "value=[W2min,W2max]"
   ]
  },
  {
   "cell_type": "code",
   "execution_count": 23,
   "id": "c00e0462",
   "metadata": {},
   "outputs": [],
   "source": [
    "#w2\n",
    "valuemax=np.linspace(.2,2,80)\n",
    "valuemin=np.linspace(0,0,80)\n",
    "\n",
    "value=np.transpose(np.stack([valuemin,valuemax],axis=0))"
   ]
  },
  {
   "cell_type": "markdown",
   "id": "83c08735",
   "metadata": {},
   "source": [
    "# Calculate Raw Asymmetry, Fit dx and determine fBG, Calc Aphys"
   ]
  },
  {
   "cell_type": "code",
   "execution_count": 24,
   "id": "e2fbbfd7",
   "metadata": {},
   "outputs": [],
   "source": [
    "def Function_APHYSSENS(config,cut,value):\n",
    "    import ROOT as r\n",
    "    import math\n",
    "    import array\n",
    "    import os\n",
    "    import sys\n",
    "    import matplotlib.pyplot as plt\n",
    "    import numpy as np\n",
    "\n",
    "    #______________Add include directory_______________\n",
    "    current_dir = os.getcwd()\n",
    "    include_dir = os.path.join(current_dir, '../include')\n",
    "    sys.path.insert(0, include_dir)\n",
    "    #__________________________________________________\n",
    "    import ERROR\n",
    "    import CONFIG\n",
    "    import DBPARSE\n",
    "    import ASYMMETRY \n",
    "    import UTILITIES \n",
    "    from SIMFITS import DistributionFits\n",
    "    from ROOT import gStyle, TChain, TH1F, TCanvas, TLegend\n",
    "\n",
    "\n",
    "    from joblib import Parallel, delayed\n",
    "    \n",
    "    dxmin=CONFIG.Function_JSON(\"dxmin\",f\"../config/cuts{config}.cfg\")\n",
    "    dxmax=CONFIG.Function_JSON(\"dxmax\",f\"../config/cuts{config}.cfg\")\n",
    "    lower_bound=dxmin\n",
    "    upper_bound=dxmax\n",
    "    Raw=ASYMMETRY.Function_ASYMMETRYSENS(config,cut,value)\n",
    "    print(\"Raw Asymmetry Calculated\")\n",
    "    \n",
    "    Fit=ASYMMETRY.Function_FITDXSENS(config,cut,value)\n",
    "    print(\"dx Histogram Fit Completed\")\n",
    "    \n",
    "    data,bg,totalFit,simp,simn=Fit\n",
    "    bin_centers,bin_contents=bg\n",
    "    numBG=np.sum(bin_contents[(bin_centers >= lower_bound) & (bin_centers <= upper_bound)])\n",
    "    bin_centers,bin_contents=data\n",
    "    numTotal=np.sum(bin_contents[(bin_centers >= lower_bound) & (bin_centers <= upper_bound)])\n",
    "    fbg=np.round(numBG/numTotal,5)\n",
    "    print(\"Background Fraction Determined\")\n",
    "    \n",
    "    Phys=ASYMMETRY.Function_APHYS(config,pas,Raw,fbg)\n",
    "    print(\"Aphys Calculated\")\n",
    "    \n",
    "    weighted_A,weighted_A_E,fbg=Phys\n",
    "    print('Returned: Aphys, Aphys_E, fbg, cut, cutvalue')\n",
    "    return weighted_A,weighted_A_E,fbg,cut,value"
   ]
  },
  {
   "cell_type": "code",
   "execution_count": 25,
   "id": "054db604",
   "metadata": {},
   "outputs": [],
   "source": [
    "#Results=Function_APHYSSENS(config,cut,value)"
   ]
  },
  {
   "cell_type": "code",
   "execution_count": null,
   "id": "705fe955",
   "metadata": {},
   "outputs": [],
   "source": [
    "%%time\n",
    "n_jobs = -1  # Use all available CPU cores\n",
    "Results = Parallel(n_jobs=n_jobs)(delayed(Function_APHYSSENS)(config,cut,val) for (val) in value)\n",
    "\n"
   ]
  },
  {
   "cell_type": "code",
   "execution_count": null,
   "id": "802b50d9",
   "metadata": {},
   "outputs": [],
   "source": []
  }
 ],
 "metadata": {
  "kernelspec": {
   "display_name": "Python 3 (ipykernel)",
   "language": "python",
   "name": "python3"
  },
  "language_info": {
   "codemirror_mode": {
    "name": "ipython",
    "version": 3
   },
   "file_extension": ".py",
   "mimetype": "text/x-python",
   "name": "python",
   "nbconvert_exporter": "python",
   "pygments_lexer": "ipython3",
   "version": "3.8.10"
  }
 },
 "nbformat": 4,
 "nbformat_minor": 5
}
