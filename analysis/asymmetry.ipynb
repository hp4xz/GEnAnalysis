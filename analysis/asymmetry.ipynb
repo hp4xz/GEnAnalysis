{
 "cells": [
  {
   "cell_type": "code",
   "execution_count": 26,
   "id": "cad70b1b",
   "metadata": {},
   "outputs": [],
   "source": [
    "import ROOT as r\n",
    "import math\n",
    "import array\n",
    "import os\n",
    "import sys\n",
    "import matplotlib.pyplot as plt\n",
    "import numpy as np\n",
    "\n",
    "#______________Add include directory_______________\n",
    "current_dir = os.getcwd()\n",
    "include_dir = os.path.join(current_dir, '../include')\n",
    "sys.path.insert(0, include_dir)\n",
    "#__________________________________________________\n",
    "\n",
    "import CONFIG\n",
    "import CORRECTIONS\n",
    "import DBPARSE"
   ]
  },
  {
   "cell_type": "code",
   "execution_count": 27,
   "id": "63bdb23b",
   "metadata": {},
   "outputs": [],
   "source": [
    "pas=\"1\"\n",
    "config=\"2\""
   ]
  },
  {
   "cell_type": "code",
   "execution_count": 28,
   "id": "e7652754",
   "metadata": {},
   "outputs": [
    {
     "name": "stdout",
     "output_type": "stream",
     "text": [
      "W2min: 0\n",
      "W2max: 1.5\n",
      "dxmin: -0.481\n",
      "dxmax: 0.498\n",
      "dymin: -0.822\n",
      "dymax: 0.8\n",
      "dybgmin: -1.4\n",
      "dybgmax: 1.4\n",
      "Coin Min: 91 Coin Max: 109\n"
     ]
    }
   ],
   "source": [
    "W2min=CONFIG.Function_JSON(\"W2min\",f\"../config/cuts{config}.cfg\")\n",
    "W2max=CONFIG.Function_JSON(\"W2max\",f\"../config/cuts{config}.cfg\")\n",
    "dxmin=CONFIG.Function_JSON(\"dxmin\",f\"../config/cuts{config}.cfg\")\n",
    "dxmax=CONFIG.Function_JSON(\"dxmax\",f\"../config/cuts{config}.cfg\")\n",
    "dymin=CONFIG.Function_JSON(\"dymin\",f\"../config/cuts{config}.cfg\")\n",
    "dymax=CONFIG.Function_JSON(\"dymax\",f\"../config/cuts{config}.cfg\")\n",
    "dybgmin=CONFIG.Function_JSON(\"dybgmin\",f\"../config/cuts{config}.cfg\")\n",
    "dybgmax=CONFIG.Function_JSON(\"dybgmax\",f\"../config/cuts{config}.cfg\")\n",
    "coinmin=CONFIG.Function_JSON(\"coinmin\",f\"../config/cuts{config}.cfg\")\n",
    "coinmax=CONFIG.Function_JSON(\"coinmax\",f\"../config/cuts{config}.cfg\")\n",
    "#dymin=-.984\n",
    "#dymax=.9\n",
    "#W2max=1.75\n",
    "#dybgmin=-1.2\n",
    "#dybgmax=1.2\n",
    "print(f'W2min: {W2min}')\n",
    "print(f'W2max: {W2max}')\n",
    "print(f'dxmin: {dxmin}')\n",
    "print(f'dxmax: {dxmax}')\n",
    "print(f'dymin: {dymin}')\n",
    "print(f'dymax: {dymax}')\n",
    "print(f'dybgmin: {dybgmin}')\n",
    "print(f'dybgmax: {dybgmax}')\n",
    "print(f'Coin Min: {coinmin} Coin Max: {coinmax}')"
   ]
  },
  {
   "cell_type": "code",
   "execution_count": 29,
   "id": "933c53ef",
   "metadata": {},
   "outputs": [
    {
     "name": "stdout",
     "output_type": "stream",
     "text": [
      "Resolved Path: /home/research/GEn/GEn Data Analysis/outfiles/Pass1/QE_data_GEN2_sbs100p_nucleon_np_model2.root\n",
      "File Exists: True\n"
     ]
    }
   ],
   "source": [
    "\n",
    "\n",
    "fileDIR=(f\"../outfiles/Pass1/QE_data_GEN{config}_sbs100p_nucleon_np_model2.root\")\n",
    "resolved_path = os.path.abspath(fileDIR)\n",
    "print(f\"Resolved Path: {resolved_path}\")\n",
    "print(f\"File Exists: {os.path.exists(resolved_path)}\")\n",
    "def Function_ASYMMETRY(config):\n",
    "    r.gErrorIgnoreLevel = r.kError  # Suppress Info and Warning messages\n",
    "\n",
    "    r.gStyle.SetOptStat(0)\n",
    "    r.gStyle.SetOptFit(1)\n",
    "    \n",
    "    #_____bring in config values______#\n",
    "    coinVector=CONFIG.Function_JSON(\"GEN\"+config,\"../config/coin.cfg\")\n",
    "    he3spot=CONFIG.Function_JSON(\"GEN\"+config+\"He3\",\"../config/spotsize.cfg\")\n",
    "    he3spotsim=CONFIG.Function_JSON(\"GEN\"+config+\"He3sim\",\"../config/spotsize.cfg\")\n",
    "    \n",
    "    \n",
    "    \n",
    "    #here, set coincidence cut and spot cut values\n",
    "    coinSigma=3\n",
    "    coin_low=coinVector[0]-coinSigma*coinVector[1]\n",
    "    coin_high=coinVector[0]+coinSigma*coinVector[1]\n",
    "\n",
    "    hix_n_3=he3spotsim[7];\n",
    "    lowx_n_3=he3spotsim[6];\n",
    "    hix_p_3=he3spotsim[5];\n",
    "    lowx_p_3=he3spotsim[4];\n",
    "    hiy_p3=he3spotsim[1];\n",
    "    lowy_p3=he3spotsim[0];\n",
    "    hiy_n3=he3spotsim[3];\n",
    "    lowy_n3=he3spotsim[2];\n",
    "    \n",
    "    \n",
    "    hiydata=he3spot[1];\n",
    "    lowydata=he3spot[0];\n",
    "    hixdatan=he3spot[7];\n",
    "    lowxdatan=he3spot[6];\n",
    "    hixdatap=he3spot[5];\n",
    "    lowxdatap=he3spot[4];\n",
    "   # hiydata=.5;\n",
    "    #lowydata=-.45;\n",
    "\n",
    "\n",
    "    \n",
    "    \n",
    "    \n",
    "    \n",
    "    \n",
    "    \n",
    "        # Define ROOT file paths\n",
    "    rootfilenp = f\"../outfiles/Pass1/QE_data_GEN{config}_sbs100p_nucleon_np_model2.root\"\n",
    "    rootfilep = f\"../outfiles/Pass1/QE_sim_GEN{config}_sbs100p_nucleon_np_model2.root\"\n",
    "\n",
    "    if config == \"4\":\n",
    "        config = \"4b\"\n",
    "\n",
    "        # Load the TTrees\n",
    "    B = r.TChain(\"Tout\")\n",
    "    C = r.TChain(\"Tout\")\n",
    "\n",
    "    dx_np = array.array('d', [0])\n",
    "    dx_p = array.array('d', [0])\n",
    "    dy_np = array.array('d', [0])\n",
    "    dy_p = array.array('d', [0])\n",
    "    W2_np = array.array('d', [0])\n",
    "    W2_p = array.array('d', [0])\n",
    "    coin_np = array.array('d', [0])\n",
    "    weight = array.array('d', [0])\n",
    "    helicity_p = array.array('i', [0])\n",
    "    IHWP_p = array.array('i', [0])\n",
    "    runnum_p = array.array('i', [0])\n",
    "    helicity_np = array.array('i', [0])\n",
    "    IHWP_np = array.array('i', [0])\n",
    "    runnum_np = array.array('i', [0])\n",
    "\n",
    "    # Load the TTrees\n",
    "\n",
    "    C.Add(rootfilenp)\n",
    "    B.Add(rootfilep)\n",
    "\n",
    "    # Disable all branches initially\n",
    "    C.SetBranchStatus(\"*\", 0)\n",
    "    B.SetBranchStatus(\"*\", 0)\n",
    "\n",
    "    # Enable specific branches\n",
    "    branches = [\"dx\", \"dy\", \"W2\", \"helicity\", \"IHWP\", \"runnum\", \"coinCut\", \"coin_time\"]\n",
    "    b2=[\"dx\", \"dy\", \"W2\"]\n",
    "    for branch in branches:\n",
    "        C.SetBranchStatus(branch, 1)\n",
    "    for branch in b2:\n",
    "        B.SetBranchStatus(branch, 1)\n",
    "\n",
    "    B.SetBranchStatus(\"weight\", 1)\n",
    "\n",
    "    # Set branch addresses\n",
    "    C.SetBranchAddress(\"dx\", dx_np)\n",
    "    B.SetBranchAddress(\"dx\", dx_p)\n",
    "    C.SetBranchAddress(\"dy\", dy_np)\n",
    "    B.SetBranchAddress(\"dy\", dy_p)\n",
    "    C.SetBranchAddress(\"W2\", W2_np)\n",
    "    B.SetBranchAddress(\"W2\", W2_p)\n",
    "    C.SetBranchAddress(\"helicity\", helicity_np)\n",
    "    #B.SetBranchAddress(\"helicity\", helicity_p)\n",
    "    C.SetBranchAddress(\"IHWP\", IHWP_np)\n",
    "    #B.SetBranchAddress(\"IHWP\", IHWP_p)\n",
    "    C.SetBranchAddress(\"coin_time\", coin_np)\n",
    "    #B.SetBranchAddress(\"coin_time\", coin_pp)\n",
    "    C.SetBranchAddress(\"runnum\", runnum_np)\n",
    "    #B.SetBranchAddress(\"runnum\", runnum_p)\n",
    "    B.SetBranchAddress(\"weight\", weight)\n",
    "    # Assuming the variables are already defined or loaded from the ROOT file\n",
    "    \n",
    "\n",
    "\n",
    "    \n",
    "    nEntries_np = C.GetEntries()\n",
    "    nEntries_p = B.GetEntries()\n",
    "    C.GetEntry(0)\n",
    "    thisnum = runnum_np[0]\n",
    "    nplus_np = 0\n",
    "    pplus_np = 0\n",
    "    nminus_np = 0\n",
    "    pminus_np = 0\n",
    "    pYield=[]\n",
    "    nYield=[]\n",
    "    runnumVec = []\n",
    "    runnumA_p = []\n",
    "    runnumA_n = []\n",
    "    runnumA_targetpol = []\n",
    "    runnumA_beampol = []\n",
    "    Err_A_n = []\n",
    "    Err_A_p = []\n",
    "    QE = 0\n",
    "    analyze=True\n",
    "    # Loop over the entries\n",
    "    \n",
    "    \n",
    "\n",
    "    for i in range(nEntries_np):\n",
    "        C.GetEntry(i)\n",
    "        if runnum_np[0] > 2165 and runnum_np[0]<4470:\n",
    "            if thisnum == runnum_np[0]:\n",
    "                if IHWP_np[0] == 1:\n",
    "                    helicity_np[0] *= 1\n",
    "\n",
    "                elif IHWP_np[0] == -1:\n",
    "                    helicity_np[0] *= -1\n",
    "                else:\n",
    "                    continue\n",
    "                #____________CUTS_______________________________      \n",
    "                ycut = dymin < dy_np[0] < dymax\n",
    "                bgycut=dybgmin<dy_np[0]<dybgmax\n",
    "                coin_cut = coinmin < coin_np[0] < coinmax\n",
    "                W2cut=W2min < W2_np[0] < W2max\n",
    "                xcutn = dxmin < dx_np[0] < dxmax\n",
    "                #________________________________________________ \n",
    "                \n",
    "               \n",
    "                xcutp = lowxdatap < dx_np[0] < hixdatap\n",
    "                \n",
    "                \n",
    "                if coin_cut and W2cut and runnum_np[0] > 2165 and ycut and xcutn:\n",
    "                    QE += 1\n",
    "\n",
    "                    if helicity_np[0] == 1:\n",
    "                        nplus_np += 1\n",
    "                    if helicity_np[0] == -1:\n",
    "                        nminus_np += 1\n",
    "                \n",
    "                #if coin_cut and W2cut and runnum_np[0] > 2165 and ycut and xcutp:\n",
    "                #    QE += 1\n",
    "                #    if helicity_np[0] == 1:\n",
    "                #        pplus_np += 1\n",
    "                #    if helicity_np[0] == -1:\n",
    "                 #       pminus_np += 1\n",
    "        \n",
    "            else:\n",
    "                analyze = True\n",
    "                #print(f\"{QE} Quasi elastic events.\")\n",
    "                if nplus_np<1:\n",
    "                    analyze = False\n",
    "                if analyze:\n",
    "                    #print(nplus_np+nminus_np)\n",
    "                    n_Asym = (nplus_np - nminus_np) * 1.0 / (nplus_np + nminus_np)\n",
    "                    #p_Asym = (pplus_np - pminus_np) * 1.0 / (pplus_np + pminus_np)\n",
    "                    #print(f\"Asymmetry for run number {thisnum}: {n_Asym} {p_Asym}\")\n",
    "                    if runnum_np[0] > 2165 and runnum_np[0]< 4470:\n",
    "                        runnumVec.append(runnum_np[0])\n",
    "                        runnumA_n.append(n_Asym)\n",
    "                        #runnumA_p.append(p_Asym)\n",
    "                        #pYield.append(pplus_np+pminus_np)\n",
    "                        nYield.append(nplus_np+nminus_np)\n",
    "                        Err_A_n.append(2 * math.sqrt(nplus_np * nminus_np) / (nplus_np + nminus_np)**(3/2))\n",
    "                        #Err_A_p.append(2 * math.sqrt(pplus_np * pminus_np) / (pplus_np + pminus_np)**(3/2))\n",
    "                        #Err_A_p.append(0)\n",
    "                        thisnum = runnum_np[0]\n",
    "                QE = 0\n",
    "                nminus_np = 0\n",
    "                nplus_np = 0\n",
    "            \n",
    "                thisnum = runnum_np[0]\n",
    "        else:\n",
    "            thisnum = runnum_np[0]\n",
    "            \n",
    "        runnumA_p=0\n",
    "        Err_A_p=0\n",
    "        pYield=0\n",
    "    return runnumVec,runnumA_n,runnumA_p,Err_A_n,Err_A_p,nYield,pYield\n",
    "   "
   ]
  },
  {
   "cell_type": "markdown",
   "id": "3333f7a2",
   "metadata": {},
   "source": [
    "# Calculate the asymmetry and get the errors, yields, and polarizations by run number"
   ]
  },
  {
   "cell_type": "code",
   "execution_count": 30,
   "id": "9f98f25c",
   "metadata": {
    "scrolled": true
   },
   "outputs": [
    {
     "ename": "KeyboardInterrupt",
     "evalue": "",
     "output_type": "error",
     "traceback": [
      "\u001b[0;31m---------------------------------------------------------------------------\u001b[0m",
      "\u001b[0;31mKeyboardInterrupt\u001b[0m                         Traceback (most recent call last)",
      "Cell \u001b[0;32mIn [30], line 1\u001b[0m\n\u001b[0;32m----> 1\u001b[0m runs,An,Ap,EAn,EAp,nYield,pYield\u001b[38;5;241m=\u001b[39m\u001b[43mFunction_ASYMMETRY\u001b[49m\u001b[43m(\u001b[49m\u001b[43mconfig\u001b[49m\u001b[43m)\u001b[49m\n",
      "Cell \u001b[0;32mIn [29], line 139\u001b[0m, in \u001b[0;36mFunction_ASYMMETRY\u001b[0;34m(config)\u001b[0m\n\u001b[1;32m    134\u001b[0m \u001b[38;5;66;03m# Loop over the entries\u001b[39;00m\n\u001b[1;32m    138\u001b[0m \u001b[38;5;28;01mfor\u001b[39;00m i \u001b[38;5;129;01min\u001b[39;00m \u001b[38;5;28mrange\u001b[39m(nEntries_np):\n\u001b[0;32m--> 139\u001b[0m     \u001b[43mC\u001b[49m\u001b[38;5;241;43m.\u001b[39;49m\u001b[43mGetEntry\u001b[49m\u001b[43m(\u001b[49m\u001b[43mi\u001b[49m\u001b[43m)\u001b[49m\n\u001b[1;32m    140\u001b[0m     \u001b[38;5;28;01mif\u001b[39;00m runnum_np[\u001b[38;5;241m0\u001b[39m] \u001b[38;5;241m>\u001b[39m \u001b[38;5;241m2165\u001b[39m \u001b[38;5;129;01mand\u001b[39;00m runnum_np[\u001b[38;5;241m0\u001b[39m]\u001b[38;5;241m<\u001b[39m\u001b[38;5;241m4470\u001b[39m:\n\u001b[1;32m    141\u001b[0m         \u001b[38;5;28;01mif\u001b[39;00m thisnum \u001b[38;5;241m==\u001b[39m runnum_np[\u001b[38;5;241m0\u001b[39m]:\n",
      "\u001b[0;31mKeyboardInterrupt\u001b[0m: "
     ]
    }
   ],
   "source": [
    "runs,An,Ap,EAn,EAp,nYield,pYield=Function_ASYMMETRY(config)"
   ]
  },
  {
   "cell_type": "code",
   "execution_count": null,
   "id": "5d598b01",
   "metadata": {},
   "outputs": [],
   "source": [
    "import numpy as np\n",
    "beamPol=np.empty(0);\n",
    "he3Pol=np.empty(0);\n",
    "for i in range(0,len(runs)):\n",
    "    beamPol=np.append(beamPol,DBPARSE.Function_RETURNPROCESSEDBEAMPOL(runs[i]))\n",
    "    he3Pol=np.append(he3Pol,DBPARSE.Function_RETURNPROCESSEDHE3POL(runs[i]))"
   ]
  },
  {
   "cell_type": "code",
   "execution_count": null,
   "id": "e365d752",
   "metadata": {},
   "outputs": [],
   "source": [
    "print(np.mean(he3Pol),np.mean(beamPol))"
   ]
  },
  {
   "cell_type": "markdown",
   "id": "d4003533",
   "metadata": {},
   "source": [
    "# Here we bring in all correction fractions and asymmetries"
   ]
  },
  {
   "cell_type": "markdown",
   "id": "b6406815",
   "metadata": {},
   "source": [
    "### Error for corrections"
   ]
  },
  {
   "cell_type": "code",
   "execution_count": null,
   "id": "f85cc940",
   "metadata": {},
   "outputs": [],
   "source": [
    "def fAE_calc(f, fE, A, AE):\n",
    "    #used to calculate error of fA= f1A1+f2A2+...\n",
    "    f = np.array(f)\n",
    "    fE = np.array(fE)\n",
    "    A = np.array(A)\n",
    "    AE = np.array(AE)\n",
    "    \n",
    "    error_terms = (f * AE)**2 + (A * fE)**2\n",
    "    return np.sqrt(np.sum(error_terms))\n",
    "def fE_calc(errors):\n",
    "    #used to calculate error of f=f1+f2+f3\n",
    "    errors = np.array(errors)\n",
    "    return np.sqrt(np.sum(errors**2))"
   ]
  },
  {
   "cell_type": "code",
   "execution_count": null,
   "id": "560dda97",
   "metadata": {},
   "outputs": [],
   "source": []
  },
  {
   "cell_type": "code",
   "execution_count": null,
   "id": "4f0fd43a",
   "metadata": {},
   "outputs": [],
   "source": [
    "#corr = Sum(f_i*A_i) i is type of correction f is fraction A is asymmetry\n",
    "#f=Sum(f_i)\n",
    "\n",
    "facc=np.sum(np.load(f'CorrectionArrays/Pass{pas}/facc{config}.npy'))\n",
    "Efacc=.05*facc\n",
    "Aacc=np.sum(np.load(f'CorrectionArrays/Pass{pas}/Aacc{config}.npy'))\n",
    "Eacc2=.05*Aacc\n",
    "Eacc=np.sum(np.load(f'CorrectionArrays/Pass{pas}/AaccE{config}.npy'))\n",
    "\n",
    "fproton=np.sum(np.load(f'CorrectionArrays/Pass{pas}/fproton{config}.npy'))\n",
    "Efproton=.005*fproton\n",
    "Aproton=np.sum(np.load(f'CorrectionArrays/Pass{pas}/Aproton{config}.npy'))\n",
    "Eproton=.005*Aproton\n",
    "\n",
    "fpion=0.01\n",
    "Efpion=.005*fpion\n",
    "Apion=0\n",
    "Epion=.005*Apion\n",
    "\n",
    "fFSI=0\n",
    "EfFSI=.005*fFSI\n",
    "AFSI=0\n",
    "EFSI=.005*AFSI\n",
    "\n",
    "fnitro=.0157\n",
    "Efnitro=.005*fnitro\n",
    "\n",
    "Pneutron=.95\n",
    "Eneutron=.005*Pneutron\n",
    "\n",
    "fbg=np.sum(np.load(f'CorrectionArrays/Pass{pas}/fbg{config}.npy'))-fpion-facc-fFSI-fnitro\n",
    "Efbg=0.05*fbg\n",
    "Abg=np.sum(np.load(f'CorrectionArrays/Pass{pas}/Abg{config}.npy'))\n",
    "Ebg=np.sum(np.load(f'CorrectionArrays/Pass{pas}/AbgE{config}.npy'))\n",
    "\n",
    "#----------------------------------------------------------\n",
    "farray=[facc,fproton,fbg,fpion,fFSI]\n",
    "Efarray1=[Efacc,Efproton,Efbg,Efpion,EfFSI]\n",
    "Efarray2=[Efacc,Efproton,Efbg,Efpion,EfFSI,Efnitro]\n",
    "\n",
    "Aarray=[Aacc,Aproton,Abg,Apion,AFSI]\n",
    "AEarray=[Eacc,Eproton,Ebg,Epion,EFSI]\n",
    "\n",
    "fAE=fAE_calc(farray,Efarray1,Aarray,AEarray)\n",
    "fE=fE_calc(Efarray2)\n",
    "#----------------------------------------------------------\n",
    "fA= facc*Aacc + fproton*Aproton + fbg*Abg + fpion*Apion + fFSI*AFSI\n",
    "\n",
    "f=facc + fproton + fbg + fpion + fFSI + fnitro\n"
   ]
  },
  {
   "cell_type": "code",
   "execution_count": null,
   "id": "b3042708",
   "metadata": {},
   "outputs": [],
   "source": [
    "#facc,bg,proton\n",
    "print(facc,fbg,fproton,f,Aacc,Abg)"
   ]
  },
  {
   "cell_type": "code",
   "execution_count": null,
   "id": "1936a374",
   "metadata": {},
   "outputs": [],
   "source": [
    "print(f'Accidentals f:{facc} A:{np.round(Aacc,3)} f*A:{np.round(facc*Aacc,5)}')\n",
    "print(f'Proton----- f:{fproton} A:{np.round(Aproton,6)} f*A:{np.round(fproton*Aproton,8)}')\n",
    "print(f'Background- f:{fbg} A:{np.round(Abg,3)} f*A:{np.round(fbg*Abg,5)}')\n",
    "print(f'Pion------- f:{fpion} A:{np.round(Apion,3)} f*A:{np.round(fpion*Apion,5)}')\n",
    "print(f'FSI-------- f:{fFSI} A:{np.round(AFSI,3)} f*A:{np.round(fFSI*AFSI,5)}')\n",
    "print(f'Nitrogen--- f:{fnitro}')\n",
    "print(f'Sum of all Correction fractions times Asymmetry: {np.round(fA,5)}')\n"
   ]
  },
  {
   "cell_type": "code",
   "execution_count": null,
   "id": "ee5db2d7",
   "metadata": {},
   "outputs": [],
   "source": [
    "#W = (A-C)/((1-f)*(1-n)*P_b*P_n*P_t)"
   ]
  },
  {
   "cell_type": "markdown",
   "id": "caeba214",
   "metadata": {},
   "source": [
    "# Hear we compute the weighted average"
   ]
  },
  {
   "cell_type": "code",
   "execution_count": null,
   "id": "f7f2c932",
   "metadata": {},
   "outputs": [],
   "source": [
    "#newAn[i],fA,f,fnitro,beamPol[i]/100,Pneutron,he3Pol[i]/100,EAn[i],fAE,fE,Efnitro,PbE,Eneutron,PtE"
   ]
  },
  {
   "cell_type": "code",
   "execution_count": null,
   "id": "b1f25874",
   "metadata": {},
   "outputs": [],
   "source": [
    "def weightedAverage(A, C, f, n, P_b, P_n, P_t, sigma_A, sigma_C, sigma_f, sigma_n, sigma_P_b, sigma_P_n, sigma_P_t):\n",
    "    #A is asymmetry, C is sum(f*A), f is fraction\n",
    "    #n is nitrogen fraction, Pb Pn Pt are beam, neutron, target polarizations\n",
    "    W = (A - C) / ((1 - f) * P_b * P_n * P_t)\n",
    "    \n",
    "    partial_A = 1 / ((1 - f)  * P_b * P_n * P_t)\n",
    "    partial_C = -1 / ((1 - f)  * P_b * P_n * P_t)\n",
    "    partial_f = (A - C) / (((1 - f)**2)  * P_b * P_n * P_t)\n",
    "    partial_P_b = (A - C) / ((1 - f) * (P_b**2) * P_n * P_t)\n",
    "    partial_P_n = (A - C) / ((1 - f) * P_b * (P_n**2) * P_t)\n",
    "    partial_P_t = (A - C) / ((1 - f) * P_b * P_n * (P_t**2))\n",
    "    \n",
    "    sigma_W = np.sqrt((partial_A * sigma_A)**2 + \n",
    "                      (partial_C * sigma_C)**2 + \n",
    "                      (partial_f * sigma_f)**2 + \n",
    "                      (partial_P_b * sigma_P_b)**2 + \n",
    "                      (partial_P_n * sigma_P_n)**2 + \n",
    "                      (partial_P_t * sigma_P_t)**2)\n",
    "    \n",
    "    return W, sigma_W"
   ]
  },
  {
   "cell_type": "code",
   "execution_count": null,
   "id": "1e516c93",
   "metadata": {},
   "outputs": [],
   "source": [
    "newAn=np.array(An)\n",
    "newAp=np.array(Ap)\n",
    "newnYield=np.array(nYield)\n",
    "newpYield=np.array(pYield)\n",
    "newAE=np.array(EAn)\n",
    "\n",
    "weightedSumN=0\n",
    "weightedSumP=0\n",
    "sumWeightsN=0\n",
    "sumWeightsP=0\n",
    "\n",
    "\n",
    "polsum=np.empty(0)\n",
    "counterBad=0\n",
    "counterGood=0\n",
    "\n",
    "precorrection=0\n",
    "precorrectionW=0\n",
    "for i in range(0,len(newAn)):\n",
    "    \n",
    "    PbE=.03*beamPol[i]/100\n",
    "    PtE=.03*he3Pol[i]/100\n",
    "    rawE=newAE[i]/(he3Pol[i]*beamPol[i]*Pneutron*(1-f)/10000)\n",
    "    precorrection+=newAn[i]/(rawE**2)\n",
    "    precorrectionW+=1/(rawE**2)\n",
    "    calculate=weightedAverage(newAn[i],fA,f,fnitro,beamPol[i]/100,Pneutron,he3Pol[i]/100,EAn[i],fAE,fE,Efnitro,PbE,Eneutron,PtE)\n",
    "    #print(w)\n",
    "    w=calculate[0]\n",
    "    w_sig= calculate[1] \n",
    "    weightedSumN+=(w/(w_sig**2))\n",
    "    sumWeightsN+=1/(w_sig**2)\n",
    "    \n",
    "\n",
    "\n",
    "    \n",
    "weighted_An=weightedSumN/sumWeightsN\n",
    "weighted_An_E=math.sqrt(1/sumWeightsN)\n"
   ]
  },
  {
   "cell_type": "code",
   "execution_count": null,
   "id": "876f375e",
   "metadata": {},
   "outputs": [],
   "source": [
    "-0.027889772892831118"
   ]
  },
  {
   "cell_type": "code",
   "execution_count": null,
   "id": "c4a1905d",
   "metadata": {},
   "outputs": [],
   "source": [
    "np.mean(newAn)"
   ]
  },
  {
   "cell_type": "code",
   "execution_count": null,
   "id": "aab66870",
   "metadata": {},
   "outputs": [],
   "source": [
    "precorrection/precorrectionW"
   ]
  },
  {
   "cell_type": "code",
   "execution_count": null,
   "id": "e4ac12e2",
   "metadata": {},
   "outputs": [],
   "source": [
    "-0.022500985638932155"
   ]
  },
  {
   "cell_type": "code",
   "execution_count": null,
   "id": "8a98a098",
   "metadata": {},
   "outputs": [],
   "source": [
    "-0.012814309930287001"
   ]
  },
  {
   "cell_type": "markdown",
   "id": "fcc07545",
   "metadata": {},
   "source": [
    "# Save Array Of Results"
   ]
  },
  {
   "cell_type": "code",
   "execution_count": null,
   "id": "f84c3bcd",
   "metadata": {},
   "outputs": [],
   "source": [
    "np.save(f'SavedArrays/GEN{config}/Pass{pas}/GEN{config}Pass1.npy', {\n",
    "    'An': newAn,\n",
    "    'Ap': newAp,\n",
    "    'EAn': EAn,\n",
    "    'EAp':EAp,\n",
    "    'nY':nYield,\n",
    "    'pY':pYield,\n",
    "    'beamPol':beamPol,\n",
    "    'he3Pol':he3Pol,   \n",
    "    'weightedAn':weighted_An,\n",
    "    'weightedAn_E':weighted_An_E,\n",
    "})"
   ]
  },
  {
   "cell_type": "code",
   "execution_count": null,
   "id": "bfe12035",
   "metadata": {},
   "outputs": [],
   "source": [
    "weighted_An_E"
   ]
  },
  {
   "cell_type": "code",
   "execution_count": null,
   "id": "e4f685e5",
   "metadata": {},
   "outputs": [],
   "source": [
    "weighted_An"
   ]
  },
  {
   "cell_type": "code",
   "execution_count": null,
   "id": "5defd6d4",
   "metadata": {},
   "outputs": [],
   "source": [
    "0.14006166132667508"
   ]
  },
  {
   "cell_type": "code",
   "execution_count": null,
   "id": "20e20a60",
   "metadata": {},
   "outputs": [],
   "source": [
    "np.mean(he3Pol)"
   ]
  },
  {
   "cell_type": "code",
   "execution_count": null,
   "id": "d0894ed3",
   "metadata": {},
   "outputs": [],
   "source": []
  },
  {
   "cell_type": "code",
   "execution_count": null,
   "id": "5af607f7",
   "metadata": {},
   "outputs": [],
   "source": []
  }
 ],
 "metadata": {
  "kernelspec": {
   "display_name": "Python 3 (ipykernel)",
   "language": "python",
   "name": "python3"
  },
  "language_info": {
   "codemirror_mode": {
    "name": "ipython",
    "version": 3
   },
   "file_extension": ".py",
   "mimetype": "text/x-python",
   "name": "python",
   "nbconvert_exporter": "python",
   "pygments_lexer": "ipython3",
   "version": "3.8.10"
  }
 },
 "nbformat": 4,
 "nbformat_minor": 5
}
