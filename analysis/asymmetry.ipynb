{
 "cells": [
  {
   "cell_type": "code",
   "execution_count": 56,
   "id": "cad70b1b",
   "metadata": {},
   "outputs": [],
   "source": [
    "import ROOT as r\n",
    "import math\n",
    "import array\n",
    "import os\n",
    "import sys\n",
    "import matplotlib.pyplot as plt\n",
    "import numpy as np\n",
    "\n",
    "#______________Add include directory_______________\n",
    "current_dir = os.getcwd()\n",
    "include_dir = os.path.join(current_dir, '../include')\n",
    "sys.path.insert(0, include_dir)\n",
    "#__________________________________________________\n",
    "\n",
    "import CONFIG\n",
    "import DBPARSE"
   ]
  },
  {
   "cell_type": "code",
   "execution_count": 57,
   "id": "933c53ef",
   "metadata": {},
   "outputs": [
    {
     "name": "stdout",
     "output_type": "stream",
     "text": [
      "Resolved Path: /home/research/GEn/GEn Data Analysis/outfiles/Pass1/QE_data_GEN3_sbs100p_nucleon_np_model2.root\n",
      "File Exists: True\n"
     ]
    }
   ],
   "source": [
    "config=\"3\"\n",
    "\n",
    "fileDIR=(f\"../outfiles/Pass1/QE_data_GEN{config}_sbs100p_nucleon_np_model2.root\")\n",
    "resolved_path = os.path.abspath(fileDIR)\n",
    "print(f\"Resolved Path: {resolved_path}\")\n",
    "print(f\"File Exists: {os.path.exists(resolved_path)}\")\n",
    "def Function_ASYMMETRY(config):\n",
    "    r.gStyle.SetOptStat(0)\n",
    "    r.gStyle.SetOptFit(1)\n",
    "    \n",
    "    #_____bring in config values______#\n",
    "    coinVector=CONFIG.Function_JSON(\"GEN\"+config,\"../config/coin.cfg\")\n",
    "    he3spot=CONFIG.Function_JSON(\"GEN\"+config+\"He3\",\"../config/spotsize.cfg\")\n",
    "    he3spotsim=CONFIG.Function_JSON(\"GEN\"+config+\"He3sim\",\"../config/spotsize.cfg\")\n",
    "    \n",
    "    \n",
    "    \n",
    "    #here, set coincidence cut and spot cut values\n",
    "    coinSigma=3\n",
    "    coin_low=coinVector[0]-coinSigma*coinVector[1]\n",
    "    coin_high=coinVector[0]+coinSigma*coinVector[1]\n",
    "\n",
    "    hix_n_3=he3spotsim[7];\n",
    "    lowx_n_3=he3spotsim[6];\n",
    "    hix_p_3=he3spotsim[5];\n",
    "    lowx_p_3=he3spotsim[4];\n",
    "    hiy_p3=he3spotsim[1];\n",
    "    lowy_p3=he3spotsim[0];\n",
    "    hiy_n3=he3spotsim[3];\n",
    "    lowy_n3=he3spotsim[2];\n",
    "    \n",
    "    \n",
    "    hiydata=he3spot[1]+.75;\n",
    "    lowydata=he3spot[0]-.75;\n",
    "    hixdatan=he3spot[7];\n",
    "    lowxdatan=he3spot[6];\n",
    "    hixdatap=he3spot[5];\n",
    "    lowxdatap=he3spot[4];\n",
    "\n",
    "\n",
    "    \n",
    "    \n",
    "    \n",
    "    \n",
    "    \n",
    "    \n",
    "        # Define ROOT file paths\n",
    "    rootfilenp = f\"../outfiles/Pass1/QE_data_GEN{config}_sbs100p_nucleon_np_model2.root\"\n",
    "    rootfilep = f\"../outfiles/Pass1/QE_sim_GEN{config}_sbs100p_nucleon_np_model2.root\"\n",
    "\n",
    "    if config == \"4\":\n",
    "        config = \"4b\"\n",
    "\n",
    "        # Load the TTrees\n",
    "    B = r.TChain(\"Tout\")\n",
    "    C = r.TChain(\"Tout\")\n",
    "\n",
    "    dx_np = array.array('d', [0])\n",
    "    dx_p = array.array('d', [0])\n",
    "    dy_np = array.array('d', [0])\n",
    "    dy_p = array.array('d', [0])\n",
    "    W2_np = array.array('d', [0])\n",
    "    W2_p = array.array('d', [0])\n",
    "    coin_np = array.array('d', [0])\n",
    "    weight = array.array('d', [0])\n",
    "    helicity_p = array.array('i', [0])\n",
    "    IHWP_p = array.array('i', [0])\n",
    "    runnum_p = array.array('i', [0])\n",
    "    helicity_np = array.array('i', [0])\n",
    "    IHWP_np = array.array('i', [0])\n",
    "    runnum_np = array.array('i', [0])\n",
    "\n",
    "    # Load the TTrees\n",
    "\n",
    "    C.Add(rootfilenp)\n",
    "    B.Add(rootfilep)\n",
    "\n",
    "    # Disable all branches initially\n",
    "    C.SetBranchStatus(\"*\", 0)\n",
    "    B.SetBranchStatus(\"*\", 0)\n",
    "\n",
    "    # Enable specific branches\n",
    "    branches = [\"dx\", \"dy\", \"W2\", \"helicity\", \"IHWP\", \"runnum\", \"coinCut\", \"coin_time\"]\n",
    "    b2=[\"dx\", \"dy\", \"W2\"]\n",
    "    for branch in branches:\n",
    "        C.SetBranchStatus(branch, 1)\n",
    "    for branch in b2:\n",
    "        B.SetBranchStatus(branch, 1)\n",
    "\n",
    "    B.SetBranchStatus(\"weight\", 1)\n",
    "\n",
    "    # Set branch addresses\n",
    "    C.SetBranchAddress(\"dx\", dx_np)\n",
    "    B.SetBranchAddress(\"dx\", dx_p)\n",
    "    C.SetBranchAddress(\"dy\", dy_np)\n",
    "    B.SetBranchAddress(\"dy\", dy_p)\n",
    "    C.SetBranchAddress(\"W2\", W2_np)\n",
    "    B.SetBranchAddress(\"W2\", W2_p)\n",
    "    C.SetBranchAddress(\"helicity\", helicity_np)\n",
    "    #B.SetBranchAddress(\"helicity\", helicity_p)\n",
    "    C.SetBranchAddress(\"IHWP\", IHWP_np)\n",
    "    #B.SetBranchAddress(\"IHWP\", IHWP_p)\n",
    "    C.SetBranchAddress(\"coin_time\", coin_np)\n",
    "    #B.SetBranchAddress(\"coin_time\", coin_pp)\n",
    "    C.SetBranchAddress(\"runnum\", runnum_np)\n",
    "    #B.SetBranchAddress(\"runnum\", runnum_p)\n",
    "    B.SetBranchAddress(\"weight\", weight)\n",
    "    # Assuming the variables are already defined or loaded from the ROOT file\n",
    "    \n",
    "\n",
    "    \n",
    "    W2max=1.7\n",
    "    W2min=-100\n",
    "    if config==\"4\":\n",
    "        W2max=2\n",
    "        W2min=-1.2\n",
    "        number=1.13\n",
    "        hiydata=number\n",
    "        lowydata=-number        \n",
    "\n",
    "    \n",
    "    nEntries_np = C.GetEntries()\n",
    "    nEntries_p = B.GetEntries()\n",
    "    C.GetEntry(0)\n",
    "    thisnum = runnum_np[0]\n",
    "    nplus_np = 0\n",
    "    pplus_np = 0\n",
    "    nminus_np = 0\n",
    "    pminus_np = 0\n",
    "    pYield=[]\n",
    "    nYield=[]\n",
    "    runnumVec = []\n",
    "    runnumA_p = []\n",
    "    runnumA_n = []\n",
    "    runnumA_targetpol = []\n",
    "    runnumA_beampol = []\n",
    "    Err_A_n = []\n",
    "    Err_A_p = []\n",
    "    QE = 0\n",
    "    analyze=True\n",
    "    # Loop over the entries\n",
    "    for i in range(nEntries_np):\n",
    "        C.GetEntry(i)\n",
    "        if runnum_np[0] > 2000:\n",
    "            if thisnum == runnum_np[0]:\n",
    "                if IHWP_np[0] == 1:\n",
    "                    helicity_np[0] *= -1 * -1\n",
    "\n",
    "                elif IHWP_np[0] == -1:\n",
    "                    helicity_np[0] *= 1 * -1\n",
    "                else:\n",
    "                    continue\n",
    "                \n",
    "                ycut = lowydata < dy_np[0] < hiydata\n",
    "                xcutn = lowxdatan < dx_np[0] < hixdatan\n",
    "                xcutp = lowxdatap < dx_np[0] < hixdatap\n",
    "                coin_cut_np = coin_low < coin_np[0] < coin_high and W2min < W2_np[0] < W2max\n",
    "                \n",
    "                if coin_cut_np and runnum_np[0] > 2165 and ycut and xcutn:\n",
    "                    QE += 1\n",
    "\n",
    "                    if helicity_np[0] == 1:\n",
    "                        nplus_np += 1\n",
    "                    if helicity_np[0] == -1:\n",
    "                        nminus_np += 1\n",
    "                \n",
    "                if coin_cut_np and runnum_np[0] > 2165 and ycut and xcutp:\n",
    "                    QE += 1\n",
    "                    if helicity_np[0] == 1:\n",
    "                        pplus_np += 1\n",
    "                    if helicity_np[0] == -1:\n",
    "                        pminus_np += 1\n",
    "        \n",
    "            else:\n",
    "                analyze = True\n",
    "                #print(f\"{QE} Quasi elastic events.\")\n",
    "                if QE < 100:\n",
    "                    analyze = False\n",
    "                if analyze:\n",
    "                    n_Asym = (nplus_np - nminus_np) * 1.0 / (nplus_np + nminus_np)\n",
    "                    p_Asym = (pplus_np - pminus_np) * 1.0 / (pplus_np + pminus_np)\n",
    "                    #print(f\"Asymmetry for run number {thisnum}: {n_Asym} {p_Asym}\")\n",
    "                    if runnum_np[0] > 2165:\n",
    "                        runnumVec.append(runnum_np[0])\n",
    "                        runnumA_n.append(n_Asym)\n",
    "                        runnumA_p.append(p_Asym)\n",
    "                        pYield.append(pplus_np+pminus_np)\n",
    "                        nYield.append(nplus_np+nminus_np)\n",
    "                        Err_A_n.append(2 * math.sqrt(nplus_np * nminus_np) / (nplus_np + nminus_np))\n",
    "                        Err_A_p.append(2 * math.sqrt(pplus_np * pminus_np) / (pplus_np + pminus_np))\n",
    "                        thisnum = runnum_np[0]\n",
    "                    QE = 0\n",
    "                    nminus_np = 0\n",
    "                    nplus_np = 0\n",
    "            \n",
    "                thisnum = runnum_np[0]\n",
    "        else:\n",
    "            thisnum = runnum_np[0]\n",
    "    return runnumVec,runnumA_n,runnumA_p,Err_A_n,Err_A_p,nYield,pYield\n",
    "   "
   ]
  },
  {
   "cell_type": "markdown",
   "id": "3333f7a2",
   "metadata": {},
   "source": [
    "# Calculate the asymmetry and get the errors, yields, and polarizations by run number"
   ]
  },
  {
   "cell_type": "code",
   "execution_count": 24,
   "id": "9f98f25c",
   "metadata": {},
   "outputs": [],
   "source": [
    "runs,An,Ap,EAn,EAp,nYield,pYield=Function_ASYMMETRY(\"3\")"
   ]
  },
  {
   "cell_type": "code",
   "execution_count": 8,
   "id": "5d598b01",
   "metadata": {},
   "outputs": [],
   "source": [
    "import numpy as np\n",
    "beamPol=np.empty(0);\n",
    "he3Pol=np.empty(0);\n",
    "for i in range(0,len(runs)):\n",
    "    beamPol=np.append(beamPol,DBPARSE.Function_RETURNBEAMPOL(runs[i],\"../DB/RunDates.csv\",\"../DB/Beam_pol.csv\"))\n",
    "    he3Pol=np.append(he3Pol,DBPARSE.Function_RETURNHE3POL(runs[i],\"../DB/RunDates.csv\",\"../DB/He3_pol.csv\"))"
   ]
  },
  {
   "cell_type": "markdown",
   "id": "caeba214",
   "metadata": {},
   "source": [
    "# Hear we compute the weighted average"
   ]
  },
  {
   "cell_type": "code",
   "execution_count": 30,
   "id": "1e516c93",
   "metadata": {},
   "outputs": [],
   "source": [
    "newAn=np.array(An)\n",
    "newAp=np.array(Ap)\n",
    "newnYield=np.array(nYield)\n",
    "newpYield=np.array(pYield)"
   ]
  },
  {
   "cell_type": "code",
   "execution_count": 47,
   "id": "3fc14795",
   "metadata": {},
   "outputs": [],
   "source": [
    "weightedSumN=0\n",
    "weightedSumP=0\n",
    "sumWeightsN=0\n",
    "sumWeightsP=0\n",
    "for i in range(0,len(newAn)):\n",
    "    weightedSumN+=newAn[i]*newnYield[i]*beamPol[i]*he3Pol[i]/100/100\n",
    "    sumWeightsN+=newnYield[i]\n",
    "    sumWeightsP+=newpYield[i]\n",
    "    weightedSumP+=newAp[i]*newpYield[i]*beamPol[i]*he3Pol[i]/100/100\n",
    "    \n",
    "weighted_An=weightedSumN/sumWeightsN\n",
    "weighted_Ap=weightedSumP/sumWeightsP"
   ]
  },
  {
   "cell_type": "markdown",
   "id": "fcc07545",
   "metadata": {},
   "source": [
    "# Save Array Of Results"
   ]
  },
  {
   "cell_type": "code",
   "execution_count": 58,
   "id": "f84c3bcd",
   "metadata": {},
   "outputs": [],
   "source": [
    "np.save(f'SavedArrays/GEN{config}/Pass1/GEN3Pass1.npy', {\n",
    "    'An': newAn,\n",
    "    'Ap': newAp,\n",
    "    'EAn': EAn,\n",
    "    'EAp':EAp,\n",
    "    'nY':nYield,\n",
    "    'pY':pYield,\n",
    "    'beamPol':beamPol,\n",
    "    'he3Pol':he3Pol,   \n",
    "    'weightedAn':weighted_An,\n",
    "    'weightedAp':weighted_Ap,\n",
    "})"
   ]
  },
  {
   "cell_type": "code",
   "execution_count": 48,
   "id": "bfe12035",
   "metadata": {},
   "outputs": [
    {
     "data": {
      "text/plain": [
       "0.03439255172584925"
      ]
     },
     "execution_count": 48,
     "metadata": {},
     "output_type": "execute_result"
    }
   ],
   "source": [
    "weighted_Ap*100"
   ]
  },
  {
   "cell_type": "code",
   "execution_count": 49,
   "id": "e4f685e5",
   "metadata": {},
   "outputs": [
    {
     "data": {
      "text/plain": [
       "-0.5427500416134725"
      ]
     },
     "execution_count": 49,
     "metadata": {},
     "output_type": "execute_result"
    }
   ],
   "source": [
    "weighted_An*100"
   ]
  },
  {
   "cell_type": "code",
   "execution_count": null,
   "id": "d6a2367c",
   "metadata": {},
   "outputs": [],
   "source": []
  }
 ],
 "metadata": {
  "kernelspec": {
   "display_name": "Python 3 (ipykernel)",
   "language": "python",
   "name": "python3"
  },
  "language_info": {
   "codemirror_mode": {
    "name": "ipython",
    "version": 3
   },
   "file_extension": ".py",
   "mimetype": "text/x-python",
   "name": "python",
   "nbconvert_exporter": "python",
   "pygments_lexer": "ipython3",
   "version": "3.8.10"
  }
 },
 "nbformat": 4,
 "nbformat_minor": 5
}
