{
 "cells": [
  {
   "cell_type": "code",
   "execution_count": 330,
   "id": "cad70b1b",
   "metadata": {},
   "outputs": [],
   "source": [
    "import ROOT as r\n",
    "import math\n",
    "import array\n",
    "import os\n",
    "import sys\n",
    "import matplotlib.pyplot as plt\n",
    "import numpy as np\n",
    "\n",
    "#______________Add include directory_______________\n",
    "current_dir = os.getcwd()\n",
    "include_dir = os.path.join(current_dir, '../include')\n",
    "sys.path.insert(0, include_dir)\n",
    "#__________________________________________________\n",
    "\n",
    "import CONFIG\n",
    "import DBPARSE"
   ]
  },
  {
   "cell_type": "code",
   "execution_count": 331,
   "id": "63bdb23b",
   "metadata": {},
   "outputs": [],
   "source": [
    "pas=\"1\"\n",
    "config=\"2\""
   ]
  },
  {
   "cell_type": "code",
   "execution_count": 332,
   "id": "e7652754",
   "metadata": {},
   "outputs": [
    {
     "name": "stdout",
     "output_type": "stream",
     "text": [
      "W2min: 0\n",
      "W2max: 1.35\n",
      "dxmin: -0.481\n",
      "dxmax: 0.498\n",
      "dymin: -0.822\n",
      "dymax: 1.155\n",
      "dybgmin: -1.4\n",
      "dybgmax: 1.4\n",
      "Coin Min: 91 Coin Max: 109\n"
     ]
    }
   ],
   "source": [
    "W2min=CONFIG.Function_JSON(\"W2min\",f\"../config/cuts{config}.cfg\")\n",
    "W2max=CONFIG.Function_JSON(\"W2max\",f\"../config/cuts{config}.cfg\")\n",
    "dxmin=CONFIG.Function_JSON(\"dxmin\",f\"../config/cuts{config}.cfg\")\n",
    "dxmax=CONFIG.Function_JSON(\"dxmax\",f\"../config/cuts{config}.cfg\")\n",
    "dymin=CONFIG.Function_JSON(\"dymin\",f\"../config/cuts{config}.cfg\")\n",
    "dymax=CONFIG.Function_JSON(\"dymax\",f\"../config/cuts{config}.cfg\")\n",
    "dybgmin=CONFIG.Function_JSON(\"dybgmin\",f\"../config/cuts{config}.cfg\")\n",
    "dybgmax=CONFIG.Function_JSON(\"dybgmax\",f\"../config/cuts{config}.cfg\")\n",
    "coinmin=CONFIG.Function_JSON(\"coinmin\",f\"../config/cuts{config}.cfg\")\n",
    "coinmax=CONFIG.Function_JSON(\"coinmax\",f\"../config/cuts{config}.cfg\")\n",
    "#dymin=-.9\n",
    "#dymax=.9\n",
    "#W2max=1.75\n",
    "#dybgmin=-1.2\n",
    "#dybgmax=1.2\n",
    "print(f'W2min: {W2min}')\n",
    "print(f'W2max: {W2max}')\n",
    "print(f'dxmin: {dxmin}')\n",
    "print(f'dxmax: {dxmax}')\n",
    "print(f'dymin: {dymin}')\n",
    "print(f'dymax: {dymax}')\n",
    "print(f'dybgmin: {dybgmin}')\n",
    "print(f'dybgmax: {dybgmax}')\n",
    "print(f'Coin Min: {coinmin} Coin Max: {coinmax}')"
   ]
  },
  {
   "cell_type": "code",
   "execution_count": 333,
   "id": "933c53ef",
   "metadata": {},
   "outputs": [
    {
     "name": "stdout",
     "output_type": "stream",
     "text": [
      "Resolved Path: /home/research/GEn/GEn Data Analysis/outfiles/Pass1/QE_data_GEN2_sbs100p_nucleon_np_model2.root\n",
      "File Exists: True\n"
     ]
    }
   ],
   "source": [
    "\n",
    "\n",
    "fileDIR=(f\"../outfiles/Pass1/QE_data_GEN{config}_sbs100p_nucleon_np_model2.root\")\n",
    "resolved_path = os.path.abspath(fileDIR)\n",
    "print(f\"Resolved Path: {resolved_path}\")\n",
    "print(f\"File Exists: {os.path.exists(resolved_path)}\")\n",
    "def Function_ASYMMETRY(config):\n",
    "    r.gErrorIgnoreLevel = r.kError  # Suppress Info and Warning messages\n",
    "\n",
    "    r.gStyle.SetOptStat(0)\n",
    "    r.gStyle.SetOptFit(1)\n",
    "    \n",
    "    #_____bring in config values______#\n",
    "    coinVector=CONFIG.Function_JSON(\"GEN\"+config,\"../config/coin.cfg\")\n",
    "    he3spot=CONFIG.Function_JSON(\"GEN\"+config+\"He3\",\"../config/spotsize.cfg\")\n",
    "    he3spotsim=CONFIG.Function_JSON(\"GEN\"+config+\"He3sim\",\"../config/spotsize.cfg\")\n",
    "    \n",
    "    \n",
    "    \n",
    "    #here, set coincidence cut and spot cut values\n",
    "    coinSigma=3\n",
    "    coin_low=coinVector[0]-coinSigma*coinVector[1]\n",
    "    coin_high=coinVector[0]+coinSigma*coinVector[1]\n",
    "\n",
    "    hix_n_3=he3spotsim[7];\n",
    "    lowx_n_3=he3spotsim[6];\n",
    "    hix_p_3=he3spotsim[5];\n",
    "    lowx_p_3=he3spotsim[4];\n",
    "    hiy_p3=he3spotsim[1];\n",
    "    lowy_p3=he3spotsim[0];\n",
    "    hiy_n3=he3spotsim[3];\n",
    "    lowy_n3=he3spotsim[2];\n",
    "    \n",
    "    \n",
    "    hiydata=he3spot[1];\n",
    "    lowydata=he3spot[0];\n",
    "    hixdatan=he3spot[7];\n",
    "    lowxdatan=he3spot[6];\n",
    "    hixdatap=he3spot[5];\n",
    "    lowxdatap=he3spot[4];\n",
    "   # hiydata=.5;\n",
    "    #lowydata=-.45;\n",
    "\n",
    "\n",
    "    \n",
    "    \n",
    "    \n",
    "    \n",
    "    \n",
    "    \n",
    "        # Define ROOT file paths\n",
    "    rootfilenp = f\"../outfiles/Pass1/QE_data_GEN{config}_sbs100p_nucleon_np_model2.root\"\n",
    "    rootfilep = f\"../outfiles/Pass1/QE_sim_GEN{config}_sbs100p_nucleon_np_model2.root\"\n",
    "\n",
    "    if config == \"4\":\n",
    "        config = \"4b\"\n",
    "\n",
    "        # Load the TTrees\n",
    "    B = r.TChain(\"Tout\")\n",
    "    C = r.TChain(\"Tout\")\n",
    "\n",
    "    dx_np = array.array('d', [0])\n",
    "    dx_p = array.array('d', [0])\n",
    "    dy_np = array.array('d', [0])\n",
    "    dy_p = array.array('d', [0])\n",
    "    W2_np = array.array('d', [0])\n",
    "    W2_p = array.array('d', [0])\n",
    "    coin_np = array.array('d', [0])\n",
    "    weight = array.array('d', [0])\n",
    "    helicity_p = array.array('i', [0])\n",
    "    IHWP_p = array.array('i', [0])\n",
    "    runnum_p = array.array('i', [0])\n",
    "    helicity_np = array.array('i', [0])\n",
    "    IHWP_np = array.array('i', [0])\n",
    "    runnum_np = array.array('i', [0])\n",
    "\n",
    "    # Load the TTrees\n",
    "\n",
    "    C.Add(rootfilenp)\n",
    "    B.Add(rootfilep)\n",
    "\n",
    "    # Disable all branches initially\n",
    "    C.SetBranchStatus(\"*\", 0)\n",
    "    B.SetBranchStatus(\"*\", 0)\n",
    "\n",
    "    # Enable specific branches\n",
    "    branches = [\"dx\", \"dy\", \"W2\", \"helicity\", \"IHWP\", \"runnum\", \"coinCut\", \"coin_time\"]\n",
    "    b2=[\"dx\", \"dy\", \"W2\"]\n",
    "    for branch in branches:\n",
    "        C.SetBranchStatus(branch, 1)\n",
    "    for branch in b2:\n",
    "        B.SetBranchStatus(branch, 1)\n",
    "\n",
    "    B.SetBranchStatus(\"weight\", 1)\n",
    "\n",
    "    # Set branch addresses\n",
    "    C.SetBranchAddress(\"dx\", dx_np)\n",
    "    B.SetBranchAddress(\"dx\", dx_p)\n",
    "    C.SetBranchAddress(\"dy\", dy_np)\n",
    "    B.SetBranchAddress(\"dy\", dy_p)\n",
    "    C.SetBranchAddress(\"W2\", W2_np)\n",
    "    B.SetBranchAddress(\"W2\", W2_p)\n",
    "    C.SetBranchAddress(\"helicity\", helicity_np)\n",
    "    #B.SetBranchAddress(\"helicity\", helicity_p)\n",
    "    C.SetBranchAddress(\"IHWP\", IHWP_np)\n",
    "    #B.SetBranchAddress(\"IHWP\", IHWP_p)\n",
    "    C.SetBranchAddress(\"coin_time\", coin_np)\n",
    "    #B.SetBranchAddress(\"coin_time\", coin_pp)\n",
    "    C.SetBranchAddress(\"runnum\", runnum_np)\n",
    "    #B.SetBranchAddress(\"runnum\", runnum_p)\n",
    "    B.SetBranchAddress(\"weight\", weight)\n",
    "    # Assuming the variables are already defined or loaded from the ROOT file\n",
    "    \n",
    "\n",
    "\n",
    "    \n",
    "    nEntries_np = C.GetEntries()\n",
    "    nEntries_p = B.GetEntries()\n",
    "    C.GetEntry(0)\n",
    "    thisnum = runnum_np[0]\n",
    "    nplus_np = 0\n",
    "    pplus_np = 0\n",
    "    nminus_np = 0\n",
    "    pminus_np = 0\n",
    "    pYield=[]\n",
    "    nYield=[]\n",
    "    runnumVec = []\n",
    "    runnumA_p = []\n",
    "    runnumA_n = []\n",
    "    runnumA_targetpol = []\n",
    "    runnumA_beampol = []\n",
    "    Err_A_n = []\n",
    "    Err_A_p = []\n",
    "    QE = 0\n",
    "    analyze=True\n",
    "    # Loop over the entries\n",
    "    \n",
    "    \n",
    "\n",
    "    for i in range(nEntries_np):\n",
    "        C.GetEntry(i)\n",
    "        if runnum_np[0] > 2165 and runnum_np[0]<4470:\n",
    "            if thisnum == runnum_np[0]:\n",
    "                if IHWP_np[0] == 1:\n",
    "                    helicity_np[0] *= 1\n",
    "\n",
    "                elif IHWP_np[0] == -1:\n",
    "                    helicity_np[0] *= -1\n",
    "                else:\n",
    "                    continue\n",
    "                #____________CUTS_______________________________      \n",
    "                ycut = dymin < dy_np[0] < dymax\n",
    "                bgycut=dybgmin<dy_np[0]<dybgmax\n",
    "                coin_cut = coinmin < coin_np[0] < coinmax\n",
    "                W2cut=W2min < W2_np[0] < W2max\n",
    "                xcutn = dxmin < dx_np[0] < dxmax\n",
    "                #________________________________________________ \n",
    "                \n",
    "               \n",
    "                xcutp = lowxdatap < dx_np[0] < hixdatap\n",
    "                \n",
    "                \n",
    "                if coin_cut and W2cut and runnum_np[0] > 2165 and ycut and xcutn:\n",
    "                    QE += 1\n",
    "\n",
    "                    if helicity_np[0] == 1:\n",
    "                        nplus_np += 1\n",
    "                    if helicity_np[0] == -1:\n",
    "                        nminus_np += 1\n",
    "                \n",
    "                if coin_cut and W2cut and runnum_np[0] > 2165 and ycut and xcutp:\n",
    "                    QE += 1\n",
    "                    if helicity_np[0] == 1:\n",
    "                        pplus_np += 1\n",
    "                    if helicity_np[0] == -1:\n",
    "                        pminus_np += 1\n",
    "        \n",
    "            else:\n",
    "                analyze = True\n",
    "                #print(f\"{QE} Quasi elastic events.\")\n",
    "                if nplus_np<1:\n",
    "                    analyze = False\n",
    "                if analyze:\n",
    "                    #print(nplus_np+nminus_np)\n",
    "                    n_Asym = (nplus_np - nminus_np) * 1.0 / (nplus_np + nminus_np)\n",
    "                    p_Asym = (pplus_np - pminus_np) * 1.0 / (pplus_np + pminus_np)\n",
    "                    #print(f\"Asymmetry for run number {thisnum}: {n_Asym} {p_Asym}\")\n",
    "                    if runnum_np[0] > 2165 and runnum_np[0]< 4470:\n",
    "                        runnumVec.append(runnum_np[0])\n",
    "                        runnumA_n.append(n_Asym)\n",
    "                        runnumA_p.append(p_Asym)\n",
    "                        pYield.append(pplus_np+pminus_np)\n",
    "                        nYield.append(nplus_np+nminus_np)\n",
    "                        Err_A_n.append(2 * math.sqrt(nplus_np * nminus_np) / (nplus_np + nminus_np)**(3/2))\n",
    "                        #Err_A_p.append(2 * math.sqrt(pplus_np * pminus_np) / (pplus_np + pminus_np)**(3/2))\n",
    "                        Err_A_p.append(0)\n",
    "                        thisnum = runnum_np[0]\n",
    "                QE = 0\n",
    "                nminus_np = 0\n",
    "                nplus_np = 0\n",
    "            \n",
    "                thisnum = runnum_np[0]\n",
    "        else:\n",
    "            thisnum = runnum_np[0]\n",
    "    return runnumVec,runnumA_n,runnumA_p,Err_A_n,Err_A_p,nYield,pYield\n",
    "   "
   ]
  },
  {
   "cell_type": "markdown",
   "id": "3333f7a2",
   "metadata": {},
   "source": [
    "# Calculate the asymmetry and get the errors, yields, and polarizations by run number"
   ]
  },
  {
   "cell_type": "code",
   "execution_count": 334,
   "id": "9f98f25c",
   "metadata": {
    "scrolled": true
   },
   "outputs": [
    {
     "name": "stderr",
     "output_type": "stream",
     "text": [
      "Error in <THashList::Delete>: A list is accessing an object (0x8a81810) already deleted (list name = THashList)\n"
     ]
    }
   ],
   "source": [
    "runs,An,Ap,EAn,EAp,nYield,pYield=Function_ASYMMETRY(config)"
   ]
  },
  {
   "cell_type": "code",
   "execution_count": 335,
   "id": "5d598b01",
   "metadata": {},
   "outputs": [],
   "source": [
    "import numpy as np\n",
    "beamPol=np.empty(0);\n",
    "he3Pol=np.empty(0);\n",
    "for i in range(0,len(runs)):\n",
    "    beamPol=np.append(beamPol,DBPARSE.Function_RETURNPROCESSEDBEAMPOL(runs[i]))\n",
    "    he3Pol=np.append(he3Pol,DBPARSE.Function_RETURNPROCESSEDHE3POL(runs[i]))"
   ]
  },
  {
   "cell_type": "code",
   "execution_count": 336,
   "id": "e365d752",
   "metadata": {},
   "outputs": [
    {
     "name": "stdout",
     "output_type": "stream",
     "text": [
      "37.84221869988814 84.08899999999998\n"
     ]
    }
   ],
   "source": [
    "print(np.mean(he3Pol),np.mean(beamPol))"
   ]
  },
  {
   "cell_type": "markdown",
   "id": "d4003533",
   "metadata": {},
   "source": [
    "# Here we bring in all correction fractions and asymmetries"
   ]
  },
  {
   "cell_type": "markdown",
   "id": "b6406815",
   "metadata": {},
   "source": [
    "### Error for corrections"
   ]
  },
  {
   "cell_type": "code",
   "execution_count": 337,
   "id": "45478f00",
   "metadata": {},
   "outputs": [
    {
     "data": {
      "text/plain": [
       "<ErrorbarContainer object of 3 artists>"
      ]
     },
     "execution_count": 337,
     "metadata": {},
     "output_type": "execute_result"
    },
    {
     "data": {
      "image/png": "[encoded data removed]",
      "text/plain": [
       "<Figure size 1100x400 with 1 Axes>"
      ]
     },
     "metadata": {},
     "output_type": "display_data"
    }
   ],
   "source": [
    "plt.figure(figsize=(11,4))\n",
    "plt.errorbar(runs,An,yerr=EAn,fmt='.',ecolor='black',color='red',lw=.8)"
   ]
  },
  {
   "cell_type": "code",
   "execution_count": 338,
   "id": "8d3135a5",
   "metadata": {},
   "outputs": [
    {
     "data": {
      "text/plain": [
       "(array([63., 10.,  4.,  1.,  2.,  2.,  1.,  0.,  0.,  1.]),\n",
       " array([0.01698593, 0.03130599, 0.04562605, 0.0599461 , 0.07426616,\n",
       "        0.08858622, 0.10290628, 0.11722633, 0.13154639, 0.14586645,\n",
       "        0.16018651]),\n",
       " <BarContainer object of 10 artists>)"
      ]
     },
     "execution_count": 338,
     "metadata": {},
     "output_type": "execute_result"
    },
    {
     "data": {
      "image/png": "[encoded data removed]",
      "text/plain": [
       "<Figure size 640x480 with 1 Axes>"
      ]
     },
     "metadata": {},
     "output_type": "display_data"
    }
   ],
   "source": [
    "plt.hist(EAn)"
   ]
  },
  {
   "cell_type": "code",
   "execution_count": 339,
   "id": "944bb440",
   "metadata": {},
   "outputs": [
    {
     "data": {
      "image/png": "[encoded data removed]",
      "text/plain": [
       "<Figure size 640x480 with 1 Axes>"
      ]
     },
     "metadata": {},
     "output_type": "display_data"
    }
   ],
   "source": [
    "yieldplot=plt.hist(nYield,bins=20)"
   ]
  },
  {
   "cell_type": "code",
   "execution_count": 340,
   "id": "e03bb3a3",
   "metadata": {},
   "outputs": [
    {
     "data": {
      "image/png": "[encoded data removed]",
      "text/plain": [
       "<Figure size 640x480 with 1 Axes>"
      ]
     },
     "metadata": {},
     "output_type": "display_data"
    }
   ],
   "source": [
    "k=plt.hist(An,bins=20)"
   ]
  },
  {
   "cell_type": "code",
   "execution_count": 341,
   "id": "f85cc940",
   "metadata": {},
   "outputs": [],
   "source": [
    "def fAE_calc(f, fE, A, AE):\n",
    "    #used to calculate error of fA= f1A1+f2A2+...\n",
    "    f = np.array(f)\n",
    "    fE = np.array(fE)\n",
    "    A = np.array(A)\n",
    "    AE = np.array(AE)\n",
    "    \n",
    "    error_terms = (f * AE)**2 + (A * fE)**2\n",
    "    return np.sqrt(np.sum(error_terms))\n",
    "def fE_calc(errors):\n",
    "    #used to calculate error of f=f1+f2+f3\n",
    "    errors = np.array(errors)\n",
    "    return np.sqrt(np.sum(errors**2))"
   ]
  },
  {
   "cell_type": "code",
   "execution_count": 342,
   "id": "4f0fd43a",
   "metadata": {},
   "outputs": [],
   "source": [
    "#corr = Sum(f_i*A_i) i is type of correction f is fraction A is asymmetry\n",
    "#f=Sum(f_i)\n",
    "\n",
    "facc=np.sum(np.load(f'CorrectionArrays/Pass{pas}/facc{config}.npy'))\n",
    "Efacc=.05*facc\n",
    "Aacc=np.sum(np.load(f'CorrectionArrays/Pass{pas}/Aacc{config}.npy'))\n",
    "Eacc=.05*Aacc\n",
    "\n",
    "fproton=np.sum(np.load(f'CorrectionArrays/Pass{pas}/fproton{config}.npy'))\n",
    "Efproton=.005*fproton\n",
    "Aproton=np.sum(np.load(f'CorrectionArrays/Pass{pas}/Aproton{config}.npy'))\n",
    "Eproton=.005*Aproton\n",
    "\n",
    "fpion=0\n",
    "Efpion=.005*fpion\n",
    "Apion=0\n",
    "Epion=.005*Apion\n",
    "\n",
    "fFSI=0\n",
    "EfFSI=.005*fFSI\n",
    "AFSI=0\n",
    "EFSI=.005*AFSI\n",
    "\n",
    "fnitro=.05\n",
    "Efnitro=.005*fnitro\n",
    "\n",
    "Pneutron=.85\n",
    "Eneutron=.005*Pneutron\n",
    "\n",
    "fbg=np.sum(np.load(f'CorrectionArrays/Pass{pas}/fbg{config}.npy'))-fpion-facc-fFSI-fnitro\n",
    "Efbg=0.05*fbg\n",
    "Abg=np.sum(np.load(f'CorrectionArrays/Pass{pas}/Abg{config}.npy'))\n",
    "Ebg=np.sum(np.load(f'CorrectionArrays/Pass{pas}/AbgE{config}.npy'))\n",
    "\n",
    "#----------------------------------------------------------\n",
    "farray=[facc,fproton,fbg,fpion,fFSI]\n",
    "Efarray1=[Efacc,Efproton,Efbg,Efpion,EfFSI]\n",
    "Efarray2=[Efacc,Efproton,Efbg,Efpion,EfFSI,Efnitro]\n",
    "\n",
    "Aarray=[Aacc,Aproton,Abg,Apion,AFSI]\n",
    "AEarray=[Eacc,Eproton,Ebg,Epion,EFSI]\n",
    "\n",
    "fAE=fAE_calc(farray,Efarray1,Aarray,AEarray)\n",
    "fE=fE_calc(Efarray2)\n",
    "#----------------------------------------------------------\n",
    "fA= facc*Aacc + fproton*Aproton + fbg*Abg + fpion*Apion + fFSI*AFSI\n",
    "\n",
    "f=facc + fproton + fbg + fpion + fFSI \n"
   ]
  },
  {
   "cell_type": "code",
   "execution_count": 343,
   "id": "1f7cea6e",
   "metadata": {},
   "outputs": [
    {
     "data": {
      "text/plain": [
       "-0.023"
      ]
     },
     "execution_count": 343,
     "metadata": {},
     "output_type": "execute_result"
    }
   ],
   "source": [
    "fbg"
   ]
  },
  {
   "cell_type": "code",
   "execution_count": 344,
   "id": "ec85b113",
   "metadata": {},
   "outputs": [
    {
     "data": {
      "text/plain": [
       "-0.023"
      ]
     },
     "execution_count": 344,
     "metadata": {},
     "output_type": "execute_result"
    }
   ],
   "source": [
    "fbg"
   ]
  },
  {
   "cell_type": "code",
   "execution_count": 345,
   "id": "242242eb",
   "metadata": {},
   "outputs": [
    {
     "data": {
      "text/plain": [
       "0.06099999999999999"
      ]
     },
     "execution_count": 345,
     "metadata": {},
     "output_type": "execute_result"
    }
   ],
   "source": [
    "f"
   ]
  },
  {
   "cell_type": "code",
   "execution_count": 346,
   "id": "60f0856f",
   "metadata": {},
   "outputs": [
    {
     "data": {
      "text/plain": [
       "0.9390000000000001"
      ]
     },
     "execution_count": 346,
     "metadata": {},
     "output_type": "execute_result"
    }
   ],
   "source": [
    "1-f"
   ]
  },
  {
   "cell_type": "code",
   "execution_count": 347,
   "id": "053037ff",
   "metadata": {},
   "outputs": [
    {
     "data": {
      "text/plain": [
       "0.06099999999999999"
      ]
     },
     "execution_count": 347,
     "metadata": {},
     "output_type": "execute_result"
    }
   ],
   "source": [
    "f"
   ]
  },
  {
   "cell_type": "code",
   "execution_count": 348,
   "id": "1936a374",
   "metadata": {},
   "outputs": [
    {
     "name": "stdout",
     "output_type": "stream",
     "text": [
      "Accidentals f:0.037 A:0.022 f*A:0.00082\n",
      "Proton----- f:0.047 A:3.7e-05 f*A:1.72e-06\n",
      "Background- f:-0.023 A:-0.009 f*A:0.0002\n",
      "Pion------- f:0 A:0 f*A:0\n",
      "FSI-------- f:0 A:0 f*A:0\n",
      "Nitrogen--- f:0.05\n",
      "Sum of all Correction fractions times Asymmetry: 0.00102\n"
     ]
    }
   ],
   "source": [
    "print(f'Accidentals f:{facc} A:{np.round(Aacc,3)} f*A:{np.round(facc*Aacc,5)}')\n",
    "print(f'Proton----- f:{fproton} A:{np.round(Aproton,6)} f*A:{np.round(fproton*Aproton,8)}')\n",
    "print(f'Background- f:{fbg} A:{np.round(Abg,3)} f*A:{np.round(fbg*Abg,5)}')\n",
    "print(f'Pion------- f:{fpion} A:{np.round(Apion,3)} f*A:{np.round(fpion*Apion,5)}')\n",
    "print(f'FSI-------- f:{fFSI} A:{np.round(AFSI,3)} f*A:{np.round(fFSI*AFSI,5)}')\n",
    "print(f'Nitrogen--- f:{fnitro}')\n",
    "print(f'Sum of all Correction fractions times Asymmetry: {np.round(fA,5)}')\n"
   ]
  },
  {
   "cell_type": "code",
   "execution_count": 349,
   "id": "ee5db2d7",
   "metadata": {},
   "outputs": [],
   "source": [
    "#W = (A-C)/((1-f)*(1-n)*P_b*P_n*P_t)"
   ]
  },
  {
   "cell_type": "markdown",
   "id": "caeba214",
   "metadata": {},
   "source": [
    "# Hear we compute the weighted average"
   ]
  },
  {
   "cell_type": "code",
   "execution_count": 350,
   "id": "f7f2c932",
   "metadata": {},
   "outputs": [],
   "source": [
    "#newAn[i],fA,f,fnitro,beamPol[i]/100,Pneutron,he3Pol[i]/100,EAn[i],fAE,fE,Efnitro,PbE,Eneutron,PtE"
   ]
  },
  {
   "cell_type": "code",
   "execution_count": 351,
   "id": "b1f25874",
   "metadata": {},
   "outputs": [],
   "source": [
    "def weightedAverage(A, C, f, n, P_b, P_n, P_t, sigma_A, sigma_C, sigma_f, sigma_n, sigma_P_b, sigma_P_n, sigma_P_t):\n",
    "    #A is asymmetry, C is sum(f*A), f is fraction\n",
    "    #n is nitrogen fraction, Pb Pn Pt are beam, neutron, target polarizations\n",
    "    W = (A - C) / ((1 - f) * (1 - n) * P_b * P_n * P_t)\n",
    "    \n",
    "    partial_A = 1 / ((1 - f) * (1 - n) * P_b * P_n * P_t)\n",
    "    partial_C = -1 / ((1 - f) * (1 - n) * P_b * P_n * P_t)\n",
    "    partial_f = (A - C) / (((1 - f)**2) * (1 - n) * P_b * P_n * P_t)\n",
    "    partial_n = (A - C) / ((1 - f) * ((1 - n)**2) * P_b * P_n * P_t)\n",
    "    partial_P_b = (A - C) / ((1 - f) * (1 - n) * (P_b**2) * P_n * P_t)\n",
    "    partial_P_n = (A - C) / ((1 - f) * (1 - n) * P_b * (P_n**2) * P_t)\n",
    "    partial_P_t = (A - C) / ((1 - f) * (1 - n) * P_b * P_n * (P_t**2))\n",
    "    \n",
    "    sigma_W = np.sqrt((partial_A * sigma_A)**2 + \n",
    "                      (partial_C * sigma_C)**2 + \n",
    "                      (partial_f * sigma_f)**2 + \n",
    "                      (partial_n * sigma_n)**2 + \n",
    "                      (partial_P_b * sigma_P_b)**2 + \n",
    "                      (partial_P_n * sigma_P_n)**2 + \n",
    "                      (partial_P_t * sigma_P_t)**2)\n",
    "    \n",
    "    return W, sigma_W"
   ]
  },
  {
   "cell_type": "code",
   "execution_count": 352,
   "id": "1e516c93",
   "metadata": {},
   "outputs": [],
   "source": [
    "newAn=np.array(An)\n",
    "newAp=np.array(Ap)\n",
    "newnYield=np.array(nYield)\n",
    "newpYield=np.array(pYield)\n",
    "\n",
    "weightedSumN=0\n",
    "weightedSumP=0\n",
    "sumWeightsN=0\n",
    "sumWeightsP=0\n",
    "\n",
    "\n",
    "polsum=np.empty(0)\n",
    "counterBad=0\n",
    "counterGood=0\n",
    "\n",
    "precorrection=0\n",
    "precorrectionW=0\n",
    "for i in range(0,len(newAn)):\n",
    "    \n",
    "    PbE=.03*beamPol[i]/100\n",
    "    PtE=.03*he3Pol[i]/100\n",
    "    precorrection+=newAn[i]*newnYield[i]\n",
    "    precorrectionW+=newnYield[i]\n",
    "    calculate=weightedAverage(newAn[i],fA,f,fnitro,beamPol[i]/100,Pneutron,he3Pol[i]/100,EAn[i],fAE,fE,Efnitro,PbE,Eneutron,PtE)\n",
    "    #print(w)\n",
    "    w=calculate[0]\n",
    "    w_sig= calculate[1] \n",
    "    weightedSumN+=(w/(w_sig**2))\n",
    "    sumWeightsN+=1/(w_sig**2)\n",
    "    \n",
    "\n",
    "\n",
    "    \n",
    "weighted_An=weightedSumN/sumWeightsN\n",
    "weighted_An_E=math.sqrt(1/sumWeightsN)\n"
   ]
  },
  {
   "cell_type": "markdown",
   "id": "fcc07545",
   "metadata": {},
   "source": [
    "# Save Array Of Results"
   ]
  },
  {
   "cell_type": "code",
   "execution_count": 353,
   "id": "f84c3bcd",
   "metadata": {},
   "outputs": [],
   "source": [
    "np.save(f'SavedArrays/GEN{config}/Pass{pas}/GEN{config}Pass1.npy', {\n",
    "    'An': newAn,\n",
    "    'Ap': newAp,\n",
    "    'EAn': EAn,\n",
    "    'EAp':EAp,\n",
    "    'nY':nYield,\n",
    "    'pY':pYield,\n",
    "    'beamPol':beamPol,\n",
    "    'he3Pol':he3Pol,   \n",
    "    'weightedAn':weighted_An,\n",
    "    'weightedAn_E':weighted_An_E,\n",
    "})"
   ]
  },
  {
   "cell_type": "code",
   "execution_count": 354,
   "id": "bfe12035",
   "metadata": {},
   "outputs": [
    {
     "data": {
      "text/plain": [
       "0.01114878873807845"
      ]
     },
     "execution_count": 354,
     "metadata": {},
     "output_type": "execute_result"
    }
   ],
   "source": [
    "weighted_An_E"
   ]
  },
  {
   "cell_type": "code",
   "execution_count": 355,
   "id": "e4f685e5",
   "metadata": {},
   "outputs": [
    {
     "data": {
      "text/plain": [
       "0.1548401492955928"
      ]
     },
     "execution_count": 355,
     "metadata": {},
     "output_type": "execute_result"
    }
   ],
   "source": [
    "weighted_An"
   ]
  },
  {
   "cell_type": "code",
   "execution_count": 356,
   "id": "20e20a60",
   "metadata": {},
   "outputs": [
    {
     "data": {
      "text/plain": [
       "37.84221869988814"
      ]
     },
     "execution_count": 356,
     "metadata": {},
     "output_type": "execute_result"
    }
   ],
   "source": [
    "np.mean(he3Pol)"
   ]
  },
  {
   "cell_type": "code",
   "execution_count": null,
   "id": "d0894ed3",
   "metadata": {},
   "outputs": [],
   "source": []
  },
  {
   "cell_type": "code",
   "execution_count": null,
   "id": "5af607f7",
   "metadata": {},
   "outputs": [],
   "source": []
  }
 ],
 "metadata": {
  "kernelspec": {
   "display_name": "Python 3 (ipykernel)",
   "language": "python",
   "name": "python3"
  },
  "language_info": {
   "codemirror_mode": {
    "name": "ipython",
    "version": 3
   },
   "file_extension": ".py",
   "mimetype": "text/x-python",
   "name": "python",
   "nbconvert_exporter": "python",
   "pygments_lexer": "ipython3",
   "version": "3.8.10"
  }
 },
 "nbformat": 4,
 "nbformat_minor": 5
}
