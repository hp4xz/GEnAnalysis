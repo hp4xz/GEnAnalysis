{
 "cells": [
  {
   "cell_type": "code",
   "execution_count": 106,
   "id": "12e100a7",
   "metadata": {},
   "outputs": [],
   "source": [
    "from math import sqrt, tan,sin, pi\n",
    "import numpy as np"
   ]
  },
  {
   "cell_type": "code",
   "execution_count": 119,
   "id": "ef0c93c6",
   "metadata": {},
   "outputs": [],
   "source": [
    "config=\"3\"\n",
    "pas=\"1\""
   ]
  },
  {
   "cell_type": "markdown",
   "id": "b6d25126",
   "metadata": {},
   "source": [
    "\\begin{equation}\n",
    "A_{\\perp} = -\\frac{G_{E}^n}{G_{M}^n} \\cdot \\frac{2\\sqrt{\\tau(\\tau+1)}\\tan{\\frac{\\theta}{2}}}{\\left(\\frac{G_{E}^n}{G_{M}^n}\\right)^2 + \\left(\\tau + 2\\tau(1+\\tau)\\tan^2\\frac{\\theta}{2}\\right)}\n",
    "\\end{equation}\n",
    "\\begin{equation}\n",
    "A_{\\perp} = -R \\cdot \\frac{2\\sqrt{\\tau(\\tau+1)}\\tan{\\frac{\\theta}{2}}}{R^2 + \\left(\\tau + 2\\tau(1+\\tau)\\tan^2\\frac{\\theta}{2}\\right)}\n",
    "\\end{equation}\n",
    "\\begin{equation}\n",
    "A_{\\perp} \\left(R^2 + \\tau + 2\\tau(1+\\tau)\\tan^2\\frac{\\theta}{2}\\right) = -2R\\sqrt{\\tau(\\tau+1)}\\tan{\\frac{\\theta}{2}}\n",
    "\\end{equation}\n",
    "\n",
    "\n",
    "\\begin{equation}\n",
    "A_{\\perp} R^2 + 2R\\sqrt{\\tau(\\tau+1)}\\tan{\\frac{\\theta}{2}} + A_{\\perp} \\left(\\tau + 2\\tau(1+\\tau)\\tan^2\\frac{\\theta}{2}\\right) = 0\n",
    "\\end{equation}\n",
    "\n",
    "\\begin{equation}\n",
    "R = \\frac{-b \\pm \\sqrt{b^2 - 4ac}}{2a}\n",
    "\\end{equation}\n",
    "\n",
    "\\begin{equation}\n",
    "    a = A_{\\perp}\n",
    "\\end{equation}\n",
    "\n",
    "\\begin{equation}\n",
    "b = 2\\sqrt{\\tau(\\tau+1)}\\tan{\\frac{\\theta}{2}}\n",
    "\\end{equation}\n",
    "\n",
    "\\begin{equation}\n",
    "c = A_{\\perp} \\left(\\tau + 2\\tau(1+\\tau)\\tan^2\\frac{\\theta}{2}\\right)\n",
    "\\end{equation}\n",
    "\n",
    "\n",
    "\\begin{equation}\n",
    "R = \\frac{-2\\sqrt{\\tau(\\tau+1)}\\tan{\\frac{\\theta}{2}} \\pm \\sqrt{\\left(2\\sqrt{\\tau(\\tau+1)}\\tan{\\frac{\\theta}{2}}\\right)^2 - 4A_{\\perp} \\cdot A_{\\perp} \\left(\\tau + 2\\tau(1+\\tau)\\tan^2\\frac{\\theta}{2}\\right)}}{2A_{\\perp}}\n",
    "\\end{equation}\n",
    "\n",
    "\\begin{equation}\n",
    "R = \\frac{-\\sqrt{\\tau(\\tau+1)}\\tan{\\frac{\\theta}{2}} \\pm \\sqrt{\\tau(\\tau+1)\\tan^2{\\frac{\\theta}{2}} - A_{\\perp}^2 \\left(\\tau + 2\\tau(1+\\tau)\\tan^2\\frac{\\theta}{2}\\right)}}{A_{\\perp}}\n",
    "\\end{equation}\n",
    "\n",
    "\n"
   ]
  },
  {
   "cell_type": "code",
   "execution_count": 120,
   "id": "916644e7",
   "metadata": {},
   "outputs": [],
   "source": [
    "#in GeV^2\n",
    "m=.939565\n",
    "if config==\"2\":\n",
    "    Q2=3\n",
    "    tau=Q2/(4*m**2)\n",
    "    theta=29.5*pi/180\n",
    "if config==\"3\":\n",
    "    Q2=6.83\n",
    "    tau=Q2/(4*m**2)\n",
    "    theta=36.5*pi/180\n",
    "if config==\"4\":\n",
    "    Q2=9.82\n",
    "    tau=Q2/(4*m**2)\n",
    "    theta=35*pi/180"
   ]
  },
  {
   "cell_type": "code",
   "execution_count": 121,
   "id": "a51f0f0a",
   "metadata": {},
   "outputs": [],
   "source": [
    "A=(np.load(f'SavedArrays/GEN{config}/Pass{pas}/GEN{config}Pass{pas}.npy',allow_pickle=True).item()['weightedAn'])"
   ]
  },
  {
   "cell_type": "code",
   "execution_count": 122,
   "id": "5fee3878",
   "metadata": {},
   "outputs": [
    {
     "data": {
      "text/plain": [
       "-0.3975866933608879"
      ]
     },
     "execution_count": 122,
     "metadata": {},
     "output_type": "execute_result"
    }
   ],
   "source": [
    "A"
   ]
  },
  {
   "cell_type": "code",
   "execution_count": 123,
   "id": "6734797c",
   "metadata": {},
   "outputs": [
    {
     "name": "stdout",
     "output_type": "stream",
     "text": [
      "R (plus case): 1.1182299745785482\n",
      "R (minus case): 2.8334697033580656\n"
     ]
    }
   ],
   "source": [
    "numerator_1 = -sqrt(tau * (tau + 1)) * tan(theta / 2)\n",
    "numerator_2 = sqrt(tau * (tau + 1) * tan(theta / 2)**2 - A**2 * (tau + 2 * tau * (1 + tau) * tan(theta / 2)**2))\n",
    "R_plus = (numerator_1 + numerator_2) / A\n",
    "R_minus = (numerator_1 - numerator_2) / A\n",
    "print(\"R (plus case):\", R_plus)\n",
    "print(\"R (minus case):\", R_minus)"
   ]
  },
  {
   "cell_type": "code",
   "execution_count": 124,
   "id": "a8244b74",
   "metadata": {},
   "outputs": [
    {
     "data": {
      "text/plain": [
       "2.139173941368763"
      ]
     },
     "execution_count": 124,
     "metadata": {},
     "output_type": "execute_result"
    }
   ],
   "source": [
    "R_plus*1.913"
   ]
  },
  {
   "cell_type": "code",
   "execution_count": null,
   "id": "b6bad5a5",
   "metadata": {},
   "outputs": [],
   "source": []
  }
 ],
 "metadata": {
  "kernelspec": {
   "display_name": "Python 3 (ipykernel)",
   "language": "python",
   "name": "python3"
  },
  "language_info": {
   "codemirror_mode": {
    "name": "ipython",
    "version": 3
   },
   "file_extension": ".py",
   "mimetype": "text/x-python",
   "name": "python",
   "nbconvert_exporter": "python",
   "pygments_lexer": "ipython3",
   "version": "3.8.10"
  }
 },
 "nbformat": 4,
 "nbformat_minor": 5
}
