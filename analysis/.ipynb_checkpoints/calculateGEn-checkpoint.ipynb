{
 "cells": [
  {
   "cell_type": "code",
   "execution_count": 34,
   "id": "12e100a7",
   "metadata": {},
   "outputs": [],
   "source": [
    "from math import sqrt, tan,sin, pi\n",
    "import numpy as np"
   ]
  },
  {
   "cell_type": "code",
   "execution_count": 41,
   "id": "ef0c93c6",
   "metadata": {},
   "outputs": [],
   "source": [
    "config=\"3\"\n",
    "pas=\"1\""
   ]
  },
  {
   "cell_type": "markdown",
   "id": "b6d25126",
   "metadata": {},
   "source": [
    "\\begin{equation}\n",
    "A_{\\perp} = -\\frac{G_{E}^n}{G_{M}^n} \\cdot \\frac{2\\sqrt{\\tau(\\tau+1)}\\tan{\\frac{\\theta}{2}}}{\\left(\\frac{G_{E}^n}{G_{M}^n}\\right)^2 + \\left(\\tau + 2\\tau(1+\\tau)\\tan^2\\frac{\\theta}{2}\\right)}\n",
    "\\end{equation}\n",
    "\\begin{equation}\n",
    "A_{\\perp} = -R \\cdot \\frac{2\\sqrt{\\tau(\\tau+1)}\\tan{\\frac{\\theta}{2}}}{R^2 + \\left(\\tau + 2\\tau(1+\\tau)\\tan^2\\frac{\\theta}{2}\\right)}\n",
    "\\end{equation}\n",
    "\\begin{equation}\n",
    "A_{\\perp} \\left(R^2 + \\tau + 2\\tau(1+\\tau)\\tan^2\\frac{\\theta}{2}\\right) = -2R\\sqrt{\\tau(\\tau+1)}\\tan{\\frac{\\theta}{2}}\n",
    "\\end{equation}\n",
    "\n",
    "\n",
    "\\begin{equation}\n",
    "A_{\\perp} R^2 + 2R\\sqrt{\\tau(\\tau+1)}\\tan{\\frac{\\theta}{2}} + A_{\\perp} \\left(\\tau + 2\\tau(1+\\tau)\\tan^2\\frac{\\theta}{2}\\right) = 0\n",
    "\\end{equation}\n",
    "\n",
    "\\begin{equation}\n",
    "R = \\frac{-b \\pm \\sqrt{b^2 - 4ac}}{2a}\n",
    "\\end{equation}\n",
    "\n",
    "\\begin{equation}\n",
    "    a = A_{\\perp}\n",
    "\\end{equation}\n",
    "\n",
    "\\begin{equation}\n",
    "b = 2\\sqrt{\\tau(\\tau+1)}\\tan{\\frac{\\theta}{2}}\n",
    "\\end{equation}\n",
    "\n",
    "\\begin{equation}\n",
    "c = A_{\\perp} \\left(\\tau + 2\\tau(1+\\tau)\\tan^2\\frac{\\theta}{2}\\right)\n",
    "\\end{equation}\n",
    "\n",
    "\n",
    "\\begin{equation}\n",
    "R = \\frac{-2\\sqrt{\\tau(\\tau+1)}\\tan{\\frac{\\theta}{2}} \\pm \\sqrt{\\left(2\\sqrt{\\tau(\\tau+1)}\\tan{\\frac{\\theta}{2}}\\right)^2 - 4A_{\\perp} \\cdot A_{\\perp} \\left(\\tau + 2\\tau(1+\\tau)\\tan^2\\frac{\\theta}{2}\\right)}}{2A_{\\perp}}\n",
    "\\end{equation}\n",
    "\n",
    "\\begin{equation}\n",
    "R = \\frac{-\\sqrt{\\tau(\\tau+1)}\\tan{\\frac{\\theta}{2}} \\pm \\sqrt{\\tau(\\tau+1)\\tan^2{\\frac{\\theta}{2}} - A_{\\perp}^2 \\left(\\tau + 2\\tau(1+\\tau)\\tan^2\\frac{\\theta}{2}\\right)}}{A_{\\perp}}\n",
    "\\end{equation}\n",
    "\n",
    "\n"
   ]
  },
  {
   "cell_type": "code",
   "execution_count": 42,
   "id": "916644e7",
   "metadata": {},
   "outputs": [],
   "source": [
    "#in GeV^2\n",
    "m=.939565\n",
    "if config==\"2\":\n",
    "    Q2=3\n",
    "    tau=Q2/(4*m**2)\n",
    "    theta=29.5*pi/180\n",
    "if config==\"3\":\n",
    "    Q2=6.83\n",
    "    tau=Q2/(4*m**2)\n",
    "    theta=36.5*pi/180\n",
    "if config==\"4\":\n",
    "    Q2=9.82\n",
    "    tau=Q2/(4*m**2)\n",
    "    theta=35*pi/180"
   ]
  },
  {
   "cell_type": "code",
   "execution_count": 43,
   "id": "a51f0f0a",
   "metadata": {},
   "outputs": [],
   "source": [
    "A=(np.load(f'SavedArrays/GEN{config}/Pass{pas}/GEN{config}Pass{pas}.npy',allow_pickle=True).item()['weightedAn'])"
   ]
  },
  {
   "cell_type": "code",
   "execution_count": 44,
   "id": "5fee3878",
   "metadata": {},
   "outputs": [
    {
     "data": {
      "text/plain": [
       "-0.46739614403615176"
      ]
     },
     "execution_count": 44,
     "metadata": {},
     "output_type": "execute_result"
    }
   ],
   "source": [
    "A"
   ]
  },
  {
   "cell_type": "code",
   "execution_count": 45,
   "id": "6734797c",
   "metadata": {},
   "outputs": [
    {
     "ename": "ValueError",
     "evalue": "math domain error",
     "output_type": "error",
     "traceback": [
      "\u001b[0;31m---------------------------------------------------------------------------\u001b[0m",
      "\u001b[0;31mValueError\u001b[0m                                Traceback (most recent call last)",
      "Cell \u001b[0;32mIn [45], line 2\u001b[0m\n\u001b[1;32m      1\u001b[0m numerator_1 \u001b[38;5;241m=\u001b[39m \u001b[38;5;241m-\u001b[39msqrt(tau \u001b[38;5;241m*\u001b[39m (tau \u001b[38;5;241m+\u001b[39m \u001b[38;5;241m1\u001b[39m)) \u001b[38;5;241m*\u001b[39m tan(theta \u001b[38;5;241m/\u001b[39m \u001b[38;5;241m2\u001b[39m)\n\u001b[0;32m----> 2\u001b[0m numerator_2 \u001b[38;5;241m=\u001b[39m \u001b[43msqrt\u001b[49m\u001b[43m(\u001b[49m\u001b[43mtau\u001b[49m\u001b[43m \u001b[49m\u001b[38;5;241;43m*\u001b[39;49m\u001b[43m \u001b[49m\u001b[43m(\u001b[49m\u001b[43mtau\u001b[49m\u001b[43m \u001b[49m\u001b[38;5;241;43m+\u001b[39;49m\u001b[43m \u001b[49m\u001b[38;5;241;43m1\u001b[39;49m\u001b[43m)\u001b[49m\u001b[43m \u001b[49m\u001b[38;5;241;43m*\u001b[39;49m\u001b[43m \u001b[49m\u001b[43mtan\u001b[49m\u001b[43m(\u001b[49m\u001b[43mtheta\u001b[49m\u001b[43m \u001b[49m\u001b[38;5;241;43m/\u001b[39;49m\u001b[43m \u001b[49m\u001b[38;5;241;43m2\u001b[39;49m\u001b[43m)\u001b[49m\u001b[38;5;241;43m*\u001b[39;49m\u001b[38;5;241;43m*\u001b[39;49m\u001b[38;5;241;43m2\u001b[39;49m\u001b[43m \u001b[49m\u001b[38;5;241;43m-\u001b[39;49m\u001b[43m \u001b[49m\u001b[43mA\u001b[49m\u001b[38;5;241;43m*\u001b[39;49m\u001b[38;5;241;43m*\u001b[39;49m\u001b[38;5;241;43m2\u001b[39;49m\u001b[43m \u001b[49m\u001b[38;5;241;43m*\u001b[39;49m\u001b[43m \u001b[49m\u001b[43m(\u001b[49m\u001b[43mtau\u001b[49m\u001b[43m \u001b[49m\u001b[38;5;241;43m+\u001b[39;49m\u001b[43m \u001b[49m\u001b[38;5;241;43m2\u001b[39;49m\u001b[43m \u001b[49m\u001b[38;5;241;43m*\u001b[39;49m\u001b[43m \u001b[49m\u001b[43mtau\u001b[49m\u001b[43m \u001b[49m\u001b[38;5;241;43m*\u001b[39;49m\u001b[43m \u001b[49m\u001b[43m(\u001b[49m\u001b[38;5;241;43m1\u001b[39;49m\u001b[43m \u001b[49m\u001b[38;5;241;43m+\u001b[39;49m\u001b[43m \u001b[49m\u001b[43mtau\u001b[49m\u001b[43m)\u001b[49m\u001b[43m \u001b[49m\u001b[38;5;241;43m*\u001b[39;49m\u001b[43m \u001b[49m\u001b[43mtan\u001b[49m\u001b[43m(\u001b[49m\u001b[43mtheta\u001b[49m\u001b[43m \u001b[49m\u001b[38;5;241;43m/\u001b[39;49m\u001b[43m \u001b[49m\u001b[38;5;241;43m2\u001b[39;49m\u001b[43m)\u001b[49m\u001b[38;5;241;43m*\u001b[39;49m\u001b[38;5;241;43m*\u001b[39;49m\u001b[38;5;241;43m2\u001b[39;49m\u001b[43m)\u001b[49m\u001b[43m)\u001b[49m\n\u001b[1;32m      3\u001b[0m R_plus \u001b[38;5;241m=\u001b[39m (numerator_1 \u001b[38;5;241m+\u001b[39m numerator_2) \u001b[38;5;241m/\u001b[39m A\n\u001b[1;32m      4\u001b[0m R_minus \u001b[38;5;241m=\u001b[39m (numerator_1 \u001b[38;5;241m-\u001b[39m numerator_2) \u001b[38;5;241m/\u001b[39m A\n",
      "\u001b[0;31mValueError\u001b[0m: math domain error"
     ]
    }
   ],
   "source": [
    "numerator_1 = -sqrt(tau * (tau + 1)) * tan(theta / 2)\n",
    "numerator_2 = sqrt(tau * (tau + 1) * tan(theta / 2)**2 - A**2 * (tau + 2 * tau * (1 + tau) * tan(theta / 2)**2))\n",
    "R_plus = (numerator_1 + numerator_2) / A\n",
    "R_minus = (numerator_1 - numerator_2) / A\n",
    "print(\"R (plus case):\", R_plus)\n",
    "print(\"R (minus case):\", R_minus)"
   ]
  },
  {
   "cell_type": "code",
   "execution_count": 46,
   "id": "a8244b74",
   "metadata": {},
   "outputs": [
    {
     "data": {
      "text/plain": [
       "-0.6431083852487107"
      ]
     },
     "execution_count": 46,
     "metadata": {},
     "output_type": "execute_result"
    }
   ],
   "source": [
    "R_plus*1.913"
   ]
  },
  {
   "cell_type": "code",
   "execution_count": null,
   "id": "b6bad5a5",
   "metadata": {},
   "outputs": [],
   "source": []
  }
 ],
 "metadata": {
  "kernelspec": {
   "display_name": "Python 3 (ipykernel)",
   "language": "python",
   "name": "python3"
  },
  "language_info": {
   "codemirror_mode": {
    "name": "ipython",
    "version": 3
   },
   "file_extension": ".py",
   "mimetype": "text/x-python",
   "name": "python",
   "nbconvert_exporter": "python",
   "pygments_lexer": "ipython3",
   "version": "3.8.10"
  }
 },
 "nbformat": 4,
 "nbformat_minor": 5
}
