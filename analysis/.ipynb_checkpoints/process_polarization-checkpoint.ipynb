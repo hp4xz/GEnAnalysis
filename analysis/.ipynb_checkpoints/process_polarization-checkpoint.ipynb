{
 "cells": [
  {
   "cell_type": "code",
   "execution_count": 4,
   "id": "f96167f9",
   "metadata": {},
   "outputs": [],
   "source": [
    "import pandas as pd\n",
    "from datetime import datetime, timedelta\n",
    "import ROOT as r\n",
    "import math\n",
    "import array\n",
    "import os\n",
    "import sys\n",
    "import matplotlib.pyplot as plt\n",
    "import numpy as np\n",
    "\n",
    "#______________Add include directory_______________\n",
    "current_dir = os.getcwd()\n",
    "include_dir = os.path.join(current_dir, '../include')\n",
    "sys.path.insert(0, include_dir)\n",
    "#__________________________________________________\n",
    "\n",
    "import CONFIG\n",
    "import DBPARSE"
   ]
  },
  {
   "cell_type": "code",
   "execution_count": 5,
   "id": "a1e82aae",
   "metadata": {},
   "outputs": [],
   "source": [
    "data = pd.read_csv(\"../DB/RunDates.csv\")\n",
    "\n",
    "# Extract the 'Run Number' column into an array\n",
    "run_numbers = data['Run Number'].values"
   ]
  },
  {
   "cell_type": "code",
   "execution_count": 6,
   "id": "5e7b0976",
   "metadata": {},
   "outputs": [],
   "source": [
    "runmin=2165\n",
    "runmax=4470\n",
    "he3Pol=np.empty(0)\n",
    "beamPol=np.empty(0)\n",
    "runnum=np.empty(0)\n",
    "for i in run_numbers:\n",
    "    if i<runmax and i>runmin:\n",
    "        beamPol=np.append(beamPol,DBPARSE.Function_RETURNBEAMPOL(i,\"../DB/RunDates.csv\",\"../DB/Beam_pol.csv\"))\n",
    "        he3Pol=np.append(he3Pol,DBPARSE.Function_RETURNHE3POL(i,\"../DB/RunDates.csv\",\"../DB/He3_pol.csv\"))"
   ]
  },
  {
   "cell_type": "code",
   "execution_count": 7,
   "id": "946b842d",
   "metadata": {},
   "outputs": [],
   "source": [
    "for i in run_numbers:\n",
    "    if i<runmax and i>runmin:\n",
    "        runnum=np.append(runnum,i)"
   ]
  },
  {
   "cell_type": "code",
   "execution_count": 8,
   "id": "54250779",
   "metadata": {},
   "outputs": [],
   "source": [
    "datahe3 = pd.DataFrame({\n",
    "    'Run Number': runnum,\n",
    "    'Polarization': he3Pol\n",
    "})\n",
    "\n",
    "# Save the DataFrame to a CSV file\n",
    "datahe3.to_csv('../DB/ProcessedHe3Pol.csv', index=False)\n"
   ]
  },
  {
   "cell_type": "code",
   "execution_count": 9,
   "id": "a5f647cb",
   "metadata": {},
   "outputs": [],
   "source": [
    "databeam = pd.DataFrame({\n",
    "    'Run Number': runnum,\n",
    "    'Polarization': he3Pol\n",
    "})\n",
    "\n",
    "# Save the DataFrame to a CSV file\n",
    "databeam.to_csv('../DB/ProcessedBeamPol.csv', index=False)"
   ]
  },
  {
   "cell_type": "code",
   "execution_count": 11,
   "id": "1db28b41",
   "metadata": {},
   "outputs": [
    {
     "data": {
      "text/plain": [
       "39.272444887287925"
      ]
     },
     "execution_count": 11,
     "metadata": {},
     "output_type": "execute_result"
    }
   ],
   "source": [
    "DBPARSE.Function_RETURNPROCESSEDBEAMPOL(2511)"
   ]
  },
  {
   "cell_type": "code",
   "execution_count": null,
   "id": "958c951e",
   "metadata": {},
   "outputs": [],
   "source": []
  }
 ],
 "metadata": {
  "kernelspec": {
   "display_name": "Python 3 (ipykernel)",
   "language": "python",
   "name": "python3"
  },
  "language_info": {
   "codemirror_mode": {
    "name": "ipython",
    "version": 3
   },
   "file_extension": ".py",
   "mimetype": "text/x-python",
   "name": "python",
   "nbconvert_exporter": "python",
   "pygments_lexer": "ipython3",
   "version": "3.8.10"
  }
 },
 "nbformat": 4,
 "nbformat_minor": 5
}
