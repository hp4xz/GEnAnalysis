{
 "cells": [
  {
   "cell_type": "code",
   "execution_count": null,
   "id": "be8d6053",
   "metadata": {},
   "outputs": [],
   "source": [
    "import ROOT as r\n",
    "import math\n",
    "import array\n",
    "import os\n",
    "import sys\n",
    "import matplotlib.pyplot as plt\n",
    "import numpy as np\n",
    "\n",
    "#______________Add include directory_______________\n",
    "current_dir = os.getcwd()\n",
    "include_dir = os.path.join(current_dir, '../include')\n",
    "sys.path.insert(0, include_dir)\n",
    "#__________________________________________________\n",
    "\n",
    "import CONFIG\n",
    "import DBPARSE\n",
    "from UTILITIES import *\n",
    "from SIMFITS import DistributionFits\n",
    "from ROOT import gStyle, TChain, TH1F, TCanvas, TLegend\n",
    "from matplotlib.lines import Line2D\n",
    "from matplotlib.patches import Patch\n",
    "from scipy.optimize import curve_fit\n",
    "from scipy.integrate import quad"
   ]
  },
  {
   "cell_type": "code",
   "execution_count": null,
   "id": "d11f5514",
   "metadata": {},
   "outputs": [],
   "source": [
    "config=\"3\""
   ]
  }
 ],
 "metadata": {
  "kernelspec": {
   "display_name": "Python 3 (ipykernel)",
   "language": "python",
   "name": "python3"
  },
  "language_info": {
   "codemirror_mode": {
    "name": "ipython",
    "version": 3
   },
   "file_extension": ".py",
   "mimetype": "text/x-python",
   "name": "python",
   "nbconvert_exporter": "python",
   "pygments_lexer": "ipython3",
   "version": "3.8.10"
  }
 },
 "nbformat": 4,
 "nbformat_minor": 5
}
