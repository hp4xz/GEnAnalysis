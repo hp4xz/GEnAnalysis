{
 "cells": [
  {
   "cell_type": "code",
   "execution_count": 133,
   "id": "12e100a7",
   "metadata": {},
   "outputs": [],
   "source": [
    "from math import sqrt, tan,sin, pi\n",
    "import numpy as np"
   ]
  },
  {
   "cell_type": "code",
   "execution_count": 134,
   "id": "ef0c93c6",
   "metadata": {},
   "outputs": [],
   "source": [
    "config=\"2\"\n",
    "pas=\"1\"\n",
    "#chi2 per degree of freedom"
   ]
  },
  {
   "cell_type": "markdown",
   "id": "b6d25126",
   "metadata": {},
   "source": [
    "\n",
    "\n"
   ]
  },
  {
   "cell_type": "code",
   "execution_count": 135,
   "id": "6039e1dd",
   "metadata": {},
   "outputs": [],
   "source": [
    "seankin2=.2198\n",
    "seankin2e=.01\n",
    "seankin3=.1697\n",
    "seankin3e=.05\n",
    "seankin4=.1623\n",
    "seankin4e=.16"
   ]
  },
  {
   "cell_type": "code",
   "execution_count": 136,
   "id": "916644e7",
   "metadata": {},
   "outputs": [],
   "source": [
    "#in GeV^2\n",
    "m=.939565\n",
    "muN=-1.9103\n",
    "if config==\"2\":\n",
    "    Q2=3\n",
    "    tau=Q2/(4*m**2)\n",
    "    theta=29.5*pi/180\n",
    "if config==\"3\":\n",
    "    Q2=6.83\n",
    "    #Q2=6.62 #seans number\n",
    "    tau=Q2/(4*m**2)\n",
    "    theta=36.5*pi/180\n",
    "if config==\"4\":\n",
    "    Q2=9.82\n",
    "    tau=Q2/(4*m**2)\n",
    "    theta=35*pi/180"
   ]
  },
  {
   "cell_type": "code",
   "execution_count": 137,
   "id": "a51f0f0a",
   "metadata": {},
   "outputs": [],
   "source": [
    "A=(np.load(f'SavedArrays/GEN{config}/Pass{pas}/GEN{config}Pass{pas}.npy',allow_pickle=True).item()['weightedAn'])\n",
    "AE=(np.load(f'SavedArrays/GEN{config}/Pass{pas}/GEN{config}Pass{pas}.npy',allow_pickle=True).item()['weightedAn_E'])"
   ]
  },
  {
   "cell_type": "code",
   "execution_count": 138,
   "id": "5fee3878",
   "metadata": {},
   "outputs": [
    {
     "name": "stdout",
     "output_type": "stream",
     "text": [
      "A: 0.1548 +/- 0.0111\n"
     ]
    }
   ],
   "source": [
    "print(f'A: {np.round(A,4)} +/- {np.round(AE,4)}')\n"
   ]
  },
  {
   "cell_type": "code",
   "execution_count": 139,
   "id": "efe2bdf9",
   "metadata": {},
   "outputs": [],
   "source": [
    "#A=seankin4\n",
    "#AE=seankin4e"
   ]
  },
  {
   "cell_type": "code",
   "execution_count": 140,
   "id": "518124d2",
   "metadata": {},
   "outputs": [],
   "source": [
    "def Rcalc(tau, theta, A, AE):\n",
    "    n1 = -np.sqrt(tau * (tau + 1)) * np.tan(theta / 2)\n",
    "    n2 = np.sqrt(tau * (tau + 1) * np.tan(theta / 2)**2 - A**2 * (tau + 2 * tau * (1 + tau) * np.tan(theta / 2)**2))\n",
    "    \n",
    "    R_plus = (n1 + n2) / A\n",
    "    R_minus = (n1 - n2) / A\n",
    "    \n",
    "    partial_n2_A = (-A * (tau + 2 * tau * (1 + tau) * np.tan(theta / 2)**2)) / n2\n",
    "    sigma_n2 = np.abs(partial_n2_A) * AE\n",
    "    \n",
    "    sigma_R_plus = R_plus * np.sqrt((sigma_n2 / (n1 + n2))**2 + (AE / A)**2)\n",
    "    sigma_R_minus = R_minus * np.sqrt((sigma_n2 / (n1 - n2))**2 + (AE / A)**2)\n",
    "    \n",
    "    return R_plus, sigma_R_plus, R_minus, sigma_R_minus\n"
   ]
  },
  {
   "cell_type": "code",
   "execution_count": 141,
   "id": "6960d7ca",
   "metadata": {},
   "outputs": [],
   "source": [
    "r=Rcalc(tau,theta,A,AE)"
   ]
  },
  {
   "cell_type": "code",
   "execution_count": 142,
   "id": "e37e8244",
   "metadata": {},
   "outputs": [
    {
     "name": "stdout",
     "output_type": "stream",
     "text": [
      "-0.26714239830630016\n",
      "-0.04549219612554378\n"
     ]
    }
   ],
   "source": [
    "R=r[0]\n",
    "RE=r[1]\n",
    "print(R)\n",
    "print(RE)"
   ]
  },
  {
   "cell_type": "code",
   "execution_count": 143,
   "id": "6734797c",
   "metadata": {},
   "outputs": [
    {
     "name": "stdout",
     "output_type": "stream",
     "text": [
      "R (plus case): -0.2671423983063005\n",
      "R (minus case): -3.9957282632778948\n"
     ]
    }
   ],
   "source": [
    "numerator_1 = -sqrt(tau * (tau + 1)) * tan(theta / 2)\n",
    "numerator_2 = sqrt(tau * (tau + 1) * tan(theta / 2)**2 - A**2 * (tau + 2 * tau * (1 + tau) * tan(theta / 2)**2))\n",
    "R_plus = (numerator_1 + numerator_2) / A\n",
    "R_minus = (numerator_1 - numerator_2) / A\n",
    "print(\"R (plus case):\", R_plus)\n",
    "print(\"R (minus case):\", R_minus)"
   ]
  },
  {
   "cell_type": "code",
   "execution_count": 144,
   "id": "a8244b74",
   "metadata": {},
   "outputs": [],
   "source": [
    "np.save(f'SavedArrays/GEN{config}/Pass{pas}/GEGM.npy',R)\n",
    "np.save(f'SavedArrays/GEN{config}/Pass{pas}/GEGME.npy',RE)"
   ]
  },
  {
   "cell_type": "markdown",
   "id": "db548a39",
   "metadata": {},
   "source": [
    "\\begin{equation}\n",
    "A_{\\perp} = -\\frac{G_{E}^n}{G_{M}^n} \\cdot \\frac{2\\sqrt{\\tau(\\tau+1)}\\tan{\\frac{\\theta}{2}}}{\\left(\\frac{G_{E}^n}{G_{M}^n}\\right)^2 + \\left(\\tau + 2\\tau(1+\\tau)\\tan^2\\frac{\\theta}{2}\\right)}\n",
    "\\end{equation}\n",
    "\\begin{equation}\n",
    "A_{\\perp} = -R \\cdot \\frac{2\\sqrt{\\tau(\\tau+1)}\\tan{\\frac{\\theta}{2}}}{R^2 + \\left(\\tau + 2\\tau(1+\\tau)\\tan^2\\frac{\\theta}{2}\\right)}\n",
    "\\end{equation}\n",
    "\\begin{equation}\n",
    "A_{\\perp} \\left(R^2 + \\tau + 2\\tau(1+\\tau)\\tan^2\\frac{\\theta}{2}\\right) = -2R\\sqrt{\\tau(\\tau+1)}\\tan{\\frac{\\theta}{2}}\n",
    "\\end{equation}\n",
    "\n",
    "\n",
    "\\begin{equation}\n",
    "A_{\\perp} R^2 + 2R\\sqrt{\\tau(\\tau+1)}\\tan{\\frac{\\theta}{2}} + A_{\\perp} \\left(\\tau + 2\\tau(1+\\tau)\\tan^2\\frac{\\theta}{2}\\right) = 0\n",
    "\\end{equation}\n",
    "\n",
    "\\begin{equation}\n",
    "R = \\frac{-b \\pm \\sqrt{b^2 - 4ac}}{2a}\n",
    "\\end{equation}\n",
    "\n",
    "\\begin{equation}\n",
    "    a = A_{\\perp}\n",
    "\\end{equation}\n",
    "\n",
    "\\begin{equation}\n",
    "b = 2\\sqrt{\\tau(\\tau+1)}\\tan{\\frac{\\theta}{2}}\n",
    "\\end{equation}\n",
    "\n",
    "\\begin{equation}\n",
    "c = A_{\\perp} \\left(\\tau + 2\\tau(1+\\tau)\\tan^2\\frac{\\theta}{2}\\right)\n",
    "\\end{equation}\n",
    "\n",
    "\n",
    "\\begin{equation}\n",
    "R = \\frac{-2\\sqrt{\\tau(\\tau+1)}\\tan{\\frac{\\theta}{2}} \\pm \\sqrt{\\left(2\\sqrt{\\tau(\\tau+1)}\\tan{\\frac{\\theta}{2}}\\right)^2 - 4A_{\\perp} \\cdot A_{\\perp} \\left(\\tau + 2\\tau(1+\\tau)\\tan^2\\frac{\\theta}{2}\\right)}}{2A_{\\perp}}\n",
    "\\end{equation}\n",
    "\n",
    "\\begin{equation}\n",
    "R = \\frac{-\\sqrt{\\tau(\\tau+1)}\\tan{\\frac{\\theta}{2}} \\pm \\sqrt{\\tau(\\tau+1)\\tan^2{\\frac{\\theta}{2}} - A_{\\perp}^2 \\left(\\tau + 2\\tau(1+\\tau)\\tan^2\\frac{\\theta}{2}\\right)}}{A_{\\perp}}\n",
    "\\end{equation}\n"
   ]
  },
  {
   "cell_type": "code",
   "execution_count": null,
   "id": "bab0bc92",
   "metadata": {},
   "outputs": [],
   "source": []
  },
  {
   "cell_type": "code",
   "execution_count": null,
   "id": "7fe1520e",
   "metadata": {},
   "outputs": [],
   "source": []
  }
 ],
 "metadata": {
  "kernelspec": {
   "display_name": "Python 3 (ipykernel)",
   "language": "python",
   "name": "python3"
  },
  "language_info": {
   "codemirror_mode": {
    "name": "ipython",
    "version": 3
   },
   "file_extension": ".py",
   "mimetype": "text/x-python",
   "name": "python",
   "nbconvert_exporter": "python",
   "pygments_lexer": "ipython3",
   "version": "3.8.10"
  }
 },
 "nbformat": 4,
 "nbformat_minor": 5
}
