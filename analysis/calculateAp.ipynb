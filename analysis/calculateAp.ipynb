{
 "cells": [
  {
   "cell_type": "code",
   "execution_count": 5,
   "id": "7bb8a1e9",
   "metadata": {},
   "outputs": [],
   "source": [
    "from math import sqrt, tan,sin, pi\n",
    "import numpy as np"
   ]
  },
  {
   "cell_type": "code",
   "execution_count": 6,
   "id": "8e1afbdf",
   "metadata": {},
   "outputs": [],
   "source": [
    "config=\"2\"\n",
    "pas=\"1\""
   ]
  },
  {
   "cell_type": "markdown",
   "id": "153a0d2b",
   "metadata": {},
   "source": [
    "<span style=\"font-size:1.5em;\">\n",
    "\\begin{equation}\n",
    "A_{\\perp} = -\\frac{G_{E}^n}{G_{M}^n} \\cdot \\frac{2\\sqrt{\\tau(\\tau+1)}\\tan{\\frac{\\theta}{2}}}{\\left(\\frac{G_{E}^n}{G_{M}^n}\\right)^2 + \\left(\\tau + 2\\tau(1+\\tau)\\tan^2\\frac{\\theta}{2}\\right)}\n",
    "\\end{equation}\n",
    "    </span>"
   ]
  },
  {
   "cell_type": "markdown",
   "id": "4bdcb2c3",
   "metadata": {},
   "source": [
    "<span style=\"font-size:3.5em;\">\n",
    "\\begin{equation}\n",
    "A_p=P_{^3He}P_{beam}P_p A_{\\perp}(Q^2)\n",
    "\\end{equation}\n",
    "    </span>"
   ]
  },
  {
   "cell_type": "code",
   "execution_count": null,
   "id": "3119b55a",
   "metadata": {},
   "outputs": [],
   "source": [
    "Pp=.04 # Freddy's thesis\n"
   ]
  },
  {
   "cell_type": "code",
   "execution_count": 7,
   "id": "7e09149c",
   "metadata": {},
   "outputs": [],
   "source": [
    "#in GeV^2\n",
    "m=.939565\n",
    "if config==\"2\":\n",
    "    Q2=3\n",
    "    tau=Q2/(4*m**2)\n",
    "    theta=29.5*pi/180\n",
    "if config==\"3\":\n",
    "    Q2=6.83\n",
    "    tau=Q2/(4*m**2)\n",
    "    theta=36.5*pi/180\n",
    "if config==\"4\":\n",
    "    Q2=9.82\n",
    "    tau=Q2/(4*m**2)\n",
    "    theta=35*pi/180"
   ]
  },
  {
   "cell_type": "code",
   "execution_count": null,
   "id": "70e3ade3",
   "metadata": {},
   "outputs": [],
   "source": []
  }
 ],
 "metadata": {
  "kernelspec": {
   "display_name": "Python 3 (ipykernel)",
   "language": "python",
   "name": "python3"
  },
  "language_info": {
   "codemirror_mode": {
    "name": "ipython",
    "version": 3
   },
   "file_extension": ".py",
   "mimetype": "text/x-python",
   "name": "python",
   "nbconvert_exporter": "python",
   "pygments_lexer": "ipython3",
   "version": "3.8.10"
  }
 },
 "nbformat": 4,
 "nbformat_minor": 5
}
