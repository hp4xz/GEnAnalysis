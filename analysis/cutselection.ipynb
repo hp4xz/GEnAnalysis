{
 "cells": [
  {
   "cell_type": "code",
   "execution_count": 1,
   "id": "2af4978a",
   "metadata": {},
   "outputs": [
    {
     "name": "stdout",
     "output_type": "stream",
     "text": [
      "Welcome to JupyROOT 6.26/06\n"
     ]
    }
   ],
   "source": [
    "import ROOT as r\n",
    "import math\n",
    "import array\n",
    "import os\n",
    "import sys\n",
    "import matplotlib.pyplot as plt\n",
    "import numpy as np\n",
    "\n",
    "#______________Add include directory_______________\n",
    "current_dir = os.getcwd()\n",
    "include_dir = os.path.join(current_dir, '../include')\n",
    "sys.path.insert(0, include_dir)\n",
    "#__________________________________________________\n",
    "\n",
    "import CONFIG\n",
    "import DBPARSE\n",
    "from UTILITIES import *\n",
    "from SIMFITS import DistributionFits\n",
    "from ROOT import gStyle, TChain, TH1F, TCanvas, TLegend\n"
   ]
  },
  {
   "cell_type": "code",
   "execution_count": 3,
   "id": "d54a1e24",
   "metadata": {},
   "outputs": [],
   "source": [
    "pas=\"1\"\n",
    "config=\"2\""
   ]
  },
  {
   "cell_type": "markdown",
   "id": "797d1298",
   "metadata": {},
   "source": [
    "# Current cuts"
   ]
  },
  {
   "cell_type": "code",
   "execution_count": 9,
   "id": "c7dc384a",
   "metadata": {},
   "outputs": [
    {
     "name": "stdout",
     "output_type": "stream",
     "text": [
      "W2min: 0\n",
      "W2max: 1.35\n",
      "dxmin: -0.481\n",
      "dxmax: 0.498\n",
      "dymin: -0.822\n",
      "dymax: 1.155\n",
      "dybgmin: -1.4\n",
      "dybgmax: 1.4\n",
      "Coin Min: 91 Coin Max: 109\n"
     ]
    }
   ],
   "source": [
    "W2min=CONFIG.Function_JSON(\"W2min\",f\"../config/cuts{config}.cfg\")\n",
    "W2max=CONFIG.Function_JSON(\"W2max\",f\"../config/cuts{config}.cfg\")\n",
    "dxmin=CONFIG.Function_JSON(\"dxmin\",f\"../config/cuts{config}.cfg\")\n",
    "dxmax=CONFIG.Function_JSON(\"dxmax\",f\"../config/cuts{config}.cfg\")\n",
    "dymin=CONFIG.Function_JSON(\"dymin\",f\"../config/cuts{config}.cfg\")\n",
    "dymax=CONFIG.Function_JSON(\"dymax\",f\"../config/cuts{config}.cfg\")\n",
    "dybgmin=CONFIG.Function_JSON(\"dybgmin\",f\"../config/cuts{config}.cfg\")\n",
    "dybgmax=CONFIG.Function_JSON(\"dybgmax\",f\"../config/cuts{config}.cfg\")\n",
    "coinmin=CONFIG.Function_JSON(\"coinmin\",f\"../config/cuts{config}.cfg\")\n",
    "coinmax=CONFIG.Function_JSON(\"coinmax\",f\"../config/cuts{config}.cfg\")\n",
    "\n",
    "print(f'W2min: {W2min}')\n",
    "print(f'W2max: {W2max}')\n",
    "print(f'dxmin: {dxmin}')\n",
    "print(f'dxmax: {dxmax}')\n",
    "print(f'dymin: {dymin}')\n",
    "print(f'dymax: {dymax}')\n",
    "print(f'dybgmin: {dybgmin}')\n",
    "print(f'dybgmax: {dybgmax}')\n",
    "print(f'Coin Min: {coinmin} Coin Max: {coinmax}')"
   ]
  },
  {
   "cell_type": "markdown",
   "id": "de4e651e",
   "metadata": {},
   "source": [
    "# Load the root file"
   ]
  },
  {
   "cell_type": "code",
   "execution_count": 4,
   "id": "ad6e26ae",
   "metadata": {},
   "outputs": [
    {
     "name": "stdout",
     "output_type": "stream",
     "text": [
      "Resolved Path: /home/research/GEn/GEn Data Analysis/outfiles/Pass1/QE_data_GEN2_sbs100p_nucleon_np_model2.root\n",
      "File Exists: True\n"
     ]
    },
    {
     "name": "stderr",
     "output_type": "stream",
     "text": [
      "Error in <TList::Clear>: A list is accessing an object (0x92c8900) already deleted (list name = TList)\n",
      "Error in <TList::Clear>: A list is accessing an object (0x92c8dd0) already deleted (list name = TList)\n",
      "Error in <TList::Clear>: A list is accessing an object (0x92c9010) already deleted (list name = TList)\n",
      "Error in <TList::Clear>: A list is accessing an object (0x92fb2f0) already deleted (list name = TList)\n",
      "Error in <TList::Clear>: A list is accessing an object (0x92fb660) already deleted (list name = TList)\n",
      "Error in <TList::Clear>: A list is accessing an object (0x92fb9d0) already deleted (list name = TList)\n",
      "Error in <TList::Clear>: A list is accessing an object (0x92fbe30) already deleted (list name = TList)\n",
      "Error in <TList::Clear>: A list is accessing an object (0x9506ff0) already deleted (list name = TList)\n",
      "Error in <TList::Clear>: A list is accessing an object (0x9507400) already deleted (list name = TList)\n",
      "Error in <TList::Clear>: A list is accessing an object (0x9507810) already deleted (list name = TList)\n",
      "Error in <TList::Clear>: A list is accessing an object (0x9507cb0) already deleted (list name = TList)\n",
      "Error in <TList::Clear>: A list is accessing an object (0x9509700) already deleted (list name = TList)\n",
      "Error in <TList::Clear>: A list is accessing an object (0x9509c10) already deleted (list name = TList)\n",
      "Error in <TList::Clear>: A list is accessing an object (0x950a690) already deleted (list name = TList)\n",
      "Error in <TList::Clear>: A list is accessing an object (0x950a8c0) already deleted (list name = TList)\n",
      "Error in <TList::Clear>: A list is accessing an object (0x950ad20) already deleted (list name = TList)\n",
      "Error in <TList::Clear>: A list is accessing an object (0x950b5d0) already deleted (list name = TList)\n",
      "Error in <TList::Clear>: A list is accessing an object (0x950ba40) already deleted (list name = TList)\n",
      "Error in <TList::Clear>: A list is accessing an object (0x950d7e0) already deleted (list name = TList)\n",
      "Error in <TList::Clear>: A list is accessing an object (0x950e690) already deleted (list name = TList)\n",
      "Error in <TList::Clear>: A list is accessing an object (0x950f380) already deleted (list name = TList)\n",
      "Error in <TList::Clear>: A list is accessing an object (0x950fac0) already deleted (list name = TList)\n",
      "Error in <TList::Clear>: A list is accessing an object (0x950ff70) already deleted (list name = TList)\n",
      "Error in <TList::Clear>: A list is accessing an object (0x95102e0) already deleted (list name = TList)\n",
      "Error in <TList::Clear>: A list is accessing an object (0x9514810) already deleted (list name = TList)\n",
      "Error in <TList::Clear>: A list is accessing an object (0x9514fa0) already deleted (list name = TList)\n",
      "Error in <TList::Clear>: A list is accessing an object (0x95163c0) already deleted (list name = TList)\n",
      "Error in <TList::Clear>: A list is accessing an object (0x9516560) already deleted (list name = TList)\n",
      "Error in <TList::Clear>: A list is accessing an object (0x9516a00) already deleted (list name = TList)\n",
      "Error in <TList::Clear>: A list is accessing an object (0x95177c0) already deleted (list name = TList)\n",
      "Error in <TList::Clear>: A list is accessing an object (0x9517c60) already deleted (list name = TList)\n",
      "Error in <TList::Clear>: A list is accessing an object (0x9518580) already deleted (list name = TList)\n",
      "Error in <TList::Clear>: A list is accessing an object (0x9518de0) already deleted (list name = TList)\n",
      "Error in <TList::Clear>: A list is accessing an object (0x9519490) already deleted (list name = TList)\n"
     ]
    }
   ],
   "source": [
    "fileDIR=(f\"../outfiles/Pass1/QE_data_GEN{config}_sbs100p_nucleon_np_model2.root\")\n",
    "resolved_path = os.path.abspath(fileDIR)\n",
    "print(f\"Resolved Path: {resolved_path}\")\n",
    "print(f\"File Exists: {os.path.exists(resolved_path)}\")\n",
    "\n",
    "\n",
    "r.gErrorIgnoreLevel = r.kError  # Suppress Info and Warning messages\n",
    "\n",
    "r.gStyle.SetOptStat(0)\n",
    "r.gStyle.SetOptFit(1)\n",
    "\n",
    "\n",
    "rootfilenp = f\"../outfiles/Pass1/QE_data_GEN{config}_sbs100p_nucleon_np_model2.root\"\n",
    "rootfilep = f\"../outfiles/Pass1/QE_sim_GEN{config}_sbs100p_nucleon_np_model2.root\"\n",
    "\n",
    "\n",
    "B = r.TChain(\"Tout\")\n",
    "C = r.TChain(\"Tout\")\n",
    "#_________________________________________Define Variables\n",
    "dx_np = array.array('d', [0])\n",
    "dx_p = array.array('d', [0])\n",
    "dy_np = array.array('d', [0])\n",
    "dy_p = array.array('d', [0])\n",
    "W2_np = array.array('d', [0])\n",
    "W2_p = array.array('d', [0])\n",
    "coin_np = array.array('d', [0])\n",
    "weight = array.array('d', [0])\n",
    "helicity_p = array.array('i', [0])\n",
    "IHWP_p = array.array('i', [0])\n",
    "runnum_p = array.array('i', [0])\n",
    "helicity_np = array.array('i', [0])\n",
    "IHWP_np = array.array('i', [0])\n",
    "runnum_np = array.array('i', [0])\n",
    "#_________________________________________Define Variables\n",
    "\n",
    "C.Add(rootfilenp)\n",
    "B.Add(rootfilep)\n",
    "C.SetBranchStatus(\"*\", 0)\n",
    "B.SetBranchStatus(\"*\", 0)\n",
    "branches = [\"dx\", \"dy\", \"W2\", \"helicity\", \"IHWP\", \"runnum\", \"coinCut\", \"coin_time\"]\n",
    "b2=[\"dx\", \"dy\", \"W2\",\"fnucl\"]\n",
    "for branch in branches:\n",
    "    C.SetBranchStatus(branch, 1)\n",
    "for branch in b2:\n",
    "    B.SetBranchStatus(branch, 1)\n",
    "B.SetBranchStatus(\"weight\", 1)\n",
    "C.SetBranchAddress(\"dx\", dx_np)\n",
    "B.SetBranchAddress(\"dx\", dx_p)\n",
    "C.SetBranchAddress(\"dy\", dy_np)\n",
    "B.SetBranchAddress(\"dy\", dy_p)\n",
    "C.SetBranchAddress(\"W2\", W2_np)\n",
    "B.SetBranchAddress(\"W2\", W2_p)\n",
    "C.SetBranchAddress(\"helicity\", helicity_np)\n",
    "C.SetBranchAddress(\"IHWP\", IHWP_np)\n",
    "C.SetBranchAddress(\"coin_time\", coin_np)\n",
    "C.SetBranchAddress(\"runnum\", runnum_np)\n",
    "B.SetBranchAddress(\"weight\", weight)\n",
    "B.SetBranchAddress(\"fnucl\", fnucl)\n",
    "\n",
    "\n",
    "\n",
    "\n",
    "nEntries_np = C.GetEntries()\n",
    "nEntries_p = B.GetEntries()\n",
    "\n"
   ]
  },
  {
   "cell_type": "markdown",
   "id": "736e484b",
   "metadata": {},
   "source": [
    "# W2"
   ]
  },
  {
   "cell_type": "markdown",
   "id": "e2d78935",
   "metadata": {},
   "source": [
    "#### Start by checking statistics in a dx, dy, coin cut with varying W2"
   ]
  },
  {
   "cell_type": "code",
   "execution_count": 23,
   "id": "a4099d4e",
   "metadata": {},
   "outputs": [],
   "source": [
    "granularity=50 # number of increments in W2\n",
    "W2top=2\n",
    "scaler = np.arange(1,granularity)\n",
    "W2array=np.empty(0)\n",
    "for i in range(0,len(scaler)):\n",
    "    W2array=np.append(W2array,W2top*scaler[i]/len(scaler))"
   ]
  },
  {
   "cell_type": "code",
   "execution_count": 25,
   "id": "584e2ea8",
   "metadata": {
    "scrolled": true
   },
   "outputs": [
    {
     "name": "stdout",
     "output_type": "stream",
     "text": [
      "Loops Completed 1/50 \n",
      "Loops Completed 2/50 \n",
      "Loops Completed 3/50 \n",
      "Loops Completed 4/50 \n",
      "Loops Completed 5/50 \n",
      "Loops Completed 6/50 \n",
      "Loops Completed 7/50 \n",
      "Loops Completed 8/50 \n",
      "Loops Completed 9/50 \n",
      "Loops Completed 10/50 \n",
      "Loops Completed 11/50 \n",
      "Loops Completed 12/50 \n",
      "Loops Completed 13/50 \n",
      "Loops Completed 14/50 \n",
      "Loops Completed 15/50 \n",
      "Loops Completed 16/50 \n",
      "Loops Completed 17/50 \n",
      "Loops Completed 18/50 \n",
      "Loops Completed 19/50 \n",
      "Loops Completed 20/50 \n",
      "Loops Completed 21/50 \n",
      "Loops Completed 22/50 \n",
      "Loops Completed 23/50 \n",
      "Loops Completed 24/50 \n",
      "Loops Completed 25/50 \n",
      "Loops Completed 26/50 \n",
      "Loops Completed 27/50 \n",
      "Loops Completed 28/50 \n",
      "Loops Completed 29/50 \n",
      "Loops Completed 30/50 \n",
      "Loops Completed 31/50 \n",
      "Loops Completed 32/50 \n",
      "Loops Completed 33/50 \n",
      "Loops Completed 34/50 \n",
      "Loops Completed 35/50 \n",
      "Loops Completed 36/50 \n",
      "Loops Completed 37/50 \n",
      "Loops Completed 38/50 \n",
      "Loops Completed 39/50 \n",
      "Loops Completed 40/50 \n",
      "Loops Completed 41/50 \n",
      "Loops Completed 42/50 \n",
      "Loops Completed 43/50 \n",
      "Loops Completed 44/50 \n",
      "Loops Completed 45/50 \n",
      "Loops Completed 46/50 \n",
      "Loops Completed 47/50 \n",
      "Loops Completed 48/50 \n",
      "Loops Completed 49/50 \n"
     ]
    }
   ],
   "source": [
    "Y=np.empty(0)\n",
    "for j in range(0,len(W2array)):\n",
    "    counts=0\n",
    "    \n",
    "    for i in range(nEntries_np):\n",
    "        C.GetEntry(i)\n",
    "        if IHWP_np[0] == 1:\n",
    "            helicity_np[0] *= -1\n",
    "        elif IHWP_np[0] == -1:\n",
    "            helicity_np[0] *= 1\n",
    "        else:\n",
    "            continue\n",
    "        #____________CUTS_______________________________      \n",
    "        ycut = dymin < dy_np[0] < dymax\n",
    "        bgycut=dybgmin<dy_np[0]<dybgmax\n",
    "        coin_cut = coinmin < coin_np[0] < coinmax\n",
    "        W2cut=W2min < W2_np[0] < W2array[j]\n",
    "        xcutn = dxmin < dx_np[0] < dxmax\n",
    "        #________________________________________________ \n",
    "        if coin_cut and W2cut and runnum_np[0] > 2165 and ycut:\n",
    "            counts+=1\n",
    "            #if helicity_np[0] == 1:\n",
    "            #    hdx_bg_data_plus.Fill(dx_np[0])\n",
    "            #if helicity_np[0] == -1:\n",
    "            #    hdx_bg_data_minus.Fill(dx_np[0])\n",
    "            \n",
    "    Y=np.append(Y,counts)\n",
    "    print(f'Loops Completed {j+1}/{len(W2array)+1} \\r',)"
   ]
  },
  {
   "cell_type": "code",
   "execution_count": 43,
   "id": "9425cfba",
   "metadata": {},
   "outputs": [
    {
     "data": {
      "image/png": "[encoded data removed]",
      "text/plain": [
       "<Figure size 600x500 with 1 Axes>"
      ]
     },
     "metadata": {},
     "output_type": "display_data"
    }
   ],
   "source": [
    "plt.figure(figsize=(6,5))\n",
    "plt.plot(W2array,Y,'.',color='dodgerblue',markersize=5)\n",
    "plt.title(f\"Events passing Quasi-Elastic Cuts With Varying $W^2$ \\n GEN{config}\")\n",
    "plt.ylabel(\"Entries\")\n",
    "plt.xlabel(\"$W^2$\")\n",
    "plt.grid()\n",
    "plt.savefig(\"../plots/cutselection/VaryW2.png\")\n",
    "np.save(f'CutSelectionArrays/Pass{pas}/VaryW2_W2{config}.npy',W2array)\n",
    "np.save(f'CutSelectionArrays/Pass{pas}/VaryW2_Y{config}.npy',Y)\n",
    "\n"
   ]
  },
  {
   "cell_type": "markdown",
   "id": "6cb121a3",
   "metadata": {},
   "source": [
    "# $\\Delta X$"
   ]
  },
  {
   "cell_type": "markdown",
   "id": "ab8bd2fe",
   "metadata": {},
   "source": [
    "# $\\Delta Y$"
   ]
  },
  {
   "cell_type": "markdown",
   "id": "00602d71",
   "metadata": {},
   "source": [
    "# $\\Delta Y$ Background"
   ]
  },
  {
   "cell_type": "markdown",
   "id": "76f11ecd",
   "metadata": {},
   "source": [
    "# Coincidence"
   ]
  },
  {
   "cell_type": "code",
   "execution_count": null,
   "id": "b3e27f9c",
   "metadata": {},
   "outputs": [],
   "source": []
  }
 ],
 "metadata": {
  "kernelspec": {
   "display_name": "Python 3 (ipykernel)",
   "language": "python",
   "name": "python3"
  },
  "language_info": {
   "codemirror_mode": {
    "name": "ipython",
    "version": 3
   },
   "file_extension": ".py",
   "mimetype": "text/x-python",
   "name": "python",
   "nbconvert_exporter": "python",
   "pygments_lexer": "ipython3",
   "version": "3.8.10"
  }
 },
 "nbformat": 4,
 "nbformat_minor": 5
}
