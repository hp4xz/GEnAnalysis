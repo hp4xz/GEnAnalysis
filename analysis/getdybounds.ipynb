{
 "cells": [
  {
   "cell_type": "code",
   "execution_count": 9,
   "id": "df1c2c67",
   "metadata": {},
   "outputs": [],
   "source": [
    "from IPython.display import Image, display\n",
    "import numpy as np\n",
    "import matplotlib.pyplot as plt\n",
    "import matplotlib.colors as mcolors\n",
    "import ROOT as r\n",
    "import array\n",
    "import os\n",
    "import sys\n",
    "#______________Add include directory_______________\n",
    "current_dir = os.getcwd()\n",
    "include_dir = os.path.join(current_dir, '../include')\n",
    "sys.path.insert(0, include_dir)\n",
    "#__________________________________________________\n",
    "\n",
    "from PLOTTING import *\n",
    "import CONFIG\n",
    "from UTILITIES import *\n"
   ]
  },
  {
   "cell_type": "markdown",
   "id": "49f26e80",
   "metadata": {},
   "source": [
    "# QuasiElastic Cuts"
   ]
  },
  {
   "cell_type": "code",
   "execution_count": 10,
   "id": "f86cab1c",
   "metadata": {},
   "outputs": [],
   "source": [
    "config=\"4\""
   ]
  },
  {
   "cell_type": "code",
   "execution_count": 11,
   "id": "be8b8cd3",
   "metadata": {},
   "outputs": [
    {
     "name": "stdout",
     "output_type": "stream",
     "text": [
      "W2min: -1\n",
      "W2max: 2\n",
      "dxmin: -0.303\n",
      "dxmax: 0.306\n",
      "dymin: -0.712\n",
      "dymax: 1.011\n",
      "dybgmin: -1.4\n",
      "dybgmax: 1.4\n",
      "Coin Min: 83.00159 Coin Max: 102.07001\n"
     ]
    }
   ],
   "source": [
    "W2min=CONFIG.Function_JSON(\"W2min\",f\"../config/cuts{config}.cfg\")\n",
    "W2max=CONFIG.Function_JSON(\"W2max\",f\"../config/cuts{config}.cfg\")\n",
    "dxmin=CONFIG.Function_JSON(\"dxmin\",f\"../config/cuts{config}.cfg\")\n",
    "dxmax=CONFIG.Function_JSON(\"dxmax\",f\"../config/cuts{config}.cfg\")\n",
    "dymin=CONFIG.Function_JSON(\"dymin\",f\"../config/cuts{config}.cfg\")\n",
    "dymax=CONFIG.Function_JSON(\"dymax\",f\"../config/cuts{config}.cfg\")\n",
    "dybgmin=CONFIG.Function_JSON(\"dybgmin\",f\"../config/cuts{config}.cfg\")\n",
    "dybgmax=CONFIG.Function_JSON(\"dybgmax\",f\"../config/cuts{config}.cfg\")\n",
    "coinmin=CONFIG.Function_JSON(\"coinmin\",f\"../config/cuts{config}.cfg\")\n",
    "coinmax=CONFIG.Function_JSON(\"coinmax\",f\"../config/cuts{config}.cfg\")\n",
    "\n",
    "print(f'W2min: {W2min}')\n",
    "print(f'W2max: {W2max}')\n",
    "print(f'dxmin: {dxmin}')\n",
    "print(f'dxmax: {dxmax}')\n",
    "print(f'dymin: {dymin}')\n",
    "print(f'dymax: {dymax}')\n",
    "print(f'dybgmin: {dybgmin}')\n",
    "print(f'dybgmax: {dybgmax}')\n",
    "print(f'Coin Min: {coinmin} Coin Max: {coinmax}')"
   ]
  },
  {
   "cell_type": "code",
   "execution_count": 12,
   "id": "31a039e2",
   "metadata": {},
   "outputs": [
    {
     "name": "stdout",
     "output_type": "stream",
     "text": [
      "Resolved Path: /home/research/GEn/GEn Data Analysis/outfiles/Pass1/QE_data_GEN4_sbs100p_nucleon_np_model2.root\n",
      "File Exists: True\n"
     ]
    }
   ],
   "source": [
    "\n",
    "fileDIR=(f\"../outfiles/Pass1/QE_data_GEN{config}_sbs100p_nucleon_np_model2.root\")\n",
    "resolved_path = os.path.abspath(fileDIR)\n",
    "print(f\"Resolved Path: {resolved_path}\")\n",
    "print(f\"File Exists: {os.path.exists(resolved_path)}\")\n",
    "\n",
    "\n",
    "def dxy(rootfile):\n",
    "    r.gErrorIgnoreLevel = r.kError  # Suppress Info and Warning messages\n",
    "    # Create a TChain and add the input ROOT file\n",
    "    chain = r.TChain(\"Tout\")\n",
    "    chain.Add(rootfile)\n",
    "    bins=150\n",
    "    # Create histograms\n",
    "    h2 = r.TH2F(\"h2\", \"dX vs dY\", bins, -4, 4, bins, -4, 4)\n",
    "    h3 = r.TH2F(\"h3\", \"dX vs dY 0<W2<1.3\", bins, -4, 4, bins, -4, 4)\n",
    "    hdx=r.TH1F(\"hdx\",\"$\\Delta X$; $\\Delta X$ (m); Entries\",bins,-4,4)\n",
    "    hdy=r.TH1F(\"hdy\",\"$\\Delta Y$; $\\Delta Y$ (m); Entries\",bins,-4,4)\n",
    "\n",
    "    # Define variables to hold branch values using arrays\n",
    "    dx = array.array('d', [0])\n",
    "    dy = array.array('d', [0])\n",
    "    W2 = array.array('d', [0])\n",
    "    coin = array.array('d', [0])\n",
    "\n",
    "    # Set branch addresses\n",
    "    chain.SetBranchStatus(\"*\", 0)\n",
    "    chain.SetBranchStatus(\"dx\", 1)\n",
    "    chain.SetBranchStatus(\"dy\", 1)\n",
    "    chain.SetBranchStatus(\"W2\", 1)\n",
    "    chain.SetBranchStatus(\"coin_time\", 1)\n",
    "\n",
    "    chain.SetBranchAddress(\"dx\", dx)\n",
    "    chain.SetBranchAddress(\"dy\", dy)\n",
    "    chain.SetBranchAddress(\"W2\", W2)\n",
    "    chain.SetBranchAddress(\"coin_time\", coin)\n",
    "\n",
    "    # Loop over all entries and fill histograms\n",
    "    nEntries = chain.GetEntries()\n",
    "    print(nEntries)\n",
    "    for i in range(nEntries):\n",
    "        chain.GetEntry(i)\n",
    "        h2.Fill(dy[0], dx[0])\n",
    "        W2cut=0 < W2[0] < 1\n",
    "        coincut=coinmin<coin[0]<coinmax\n",
    "        xcut=dxmin<dx[0]<dxmax\n",
    "        if W2cut and coincut:\n",
    "            h3.Fill(dy[0], dx[0])\n",
    "            hdx.Fill(dx[0])\n",
    "        if W2cut and coincut and xcut:\n",
    "            hdy.Fill(dy[0])\n",
    "\n",
    "    # Write histograms to the file\n",
    "    h2.Write()\n",
    "    h3.Write()\n",
    "\n",
    "    # Create a canvas and save the histogram as an image\n",
    "    c2 = r.TCanvas(\"c2\", \"dX vs dY\", 1000, 1000)\n",
    "    r.gStyle.SetPalette(r.kRainBow)\n",
    "    h2.Draw(\"colz\")\n",
    "    #c2.SaveAs(\"../plots/dxdy.png\")\n",
    "\n",
    "    # Create another canvas and save the second histogram as an image\n",
    "    c3 = r.TCanvas(\"c3\", \"dX vs dY 0<W2<1.3\", 1000, 1000)\n",
    "    h3.Draw(\"colz\")\n",
    "    r.gStyle.SetPalette(r.kRainBow)\n",
    "    #c3.SaveAs(\"../plots/dxdyCut.png\")\n",
    "\n",
    "    print(\"it worked\")\n",
    "    return h2, h3,Function_HIST2NP(hdx),Function_HIST2NP(hdy)\n",
    "# Example usage\n"
   ]
  },
  {
   "cell_type": "code",
   "execution_count": 13,
   "id": "6a87c4e9",
   "metadata": {},
   "outputs": [
    {
     "name": "stdout",
     "output_type": "stream",
     "text": [
      "8220490\n",
      "it worked\n"
     ]
    },
    {
     "name": "stderr",
     "output_type": "stream",
     "text": [
      "Error in <TROOT::WriteTObject>: The current directory (PyROOT) is not associated with a file. The object (h2) has not been written.\n",
      "Error in <TROOT::WriteTObject>: The current directory (PyROOT) is not associated with a file. The object (h3) has not been written.\n"
     ]
    }
   ],
   "source": [
    "h2,h3,hdx,hdy=dxy(fileDIR)"
   ]
  },
  {
   "cell_type": "code",
   "execution_count": 14,
   "id": "32056ccb",
   "metadata": {},
   "outputs": [
    {
     "data": {
      "image/png": "[encoded data removed]",
      "text/plain": [
       "<Figure size 640x480 with 1 Axes>"
      ]
     },
     "metadata": {},
     "output_type": "display_data"
    },
    {
     "name": "stdout",
     "output_type": "stream",
     "text": [
      "Mean: 0.0721, Standard Deviation (Sigma): 0.506579020727084\n",
      "Number of events within ±1.8 sigma: 3229.0\n",
      "dymin: -0.84\n",
      "dymax: 0.984\n"
     ]
    }
   ],
   "source": [
    "bin_centers,bin_contents=hdy\n",
    "sigcut=1.8\n",
    "import numpy as np\n",
    "import matplotlib.pyplot as plt\n",
    "from scipy.optimize import curve_fit\n",
    "def gaussian(x, amplitude, mean, stddev):\n",
    "    return amplitude * np.exp(-((x - mean) ** 2) / (2 * stddev ** 2))\n",
    "\n",
    "initial_guess = [max(bin_contents), bin_centers[np.argmax(bin_contents)], 1.0]\n",
    "\n",
    "popt, pcov = curve_fit(gaussian, bin_centers, bin_contents, p0=initial_guess)\n",
    "\n",
    "amplitude, mean, stddev = popt\n",
    "\n",
    "plt.bar(bin_centers, bin_contents, width=(bin_centers[1] - bin_centers[0]), align='center', alpha=0.5, color=\"dodgerblue\", label=\"$\\Delta Y$\")\n",
    "x_fit = np.linspace(min(bin_centers), max(bin_centers), 100)\n",
    "y_fit = gaussian(x_fit, *popt)\n",
    "plt.plot(x_fit, y_fit, color='grey', linewidth=4,alpha=.6, label='Gaussian Fit')\n",
    "plt.axvline(mean -sigcut * stddev, color='red', linewidth=4, label=f'$\\mu - {sigcut}\\sigma$')\n",
    "plt.axvline(mean + sigcut * stddev, color='red', linewidth=4, label=f'$\\mu + {sigcut}\\sigma$')\n",
    "\n",
    "plt.xlabel('$\\Delta Y$')\n",
    "plt.ylabel('Entries')\n",
    "plt.legend()\n",
    "plt.show()\n",
    "lower_bound = mean -sigcut * stddev\n",
    "upper_bound = mean + sigcut * stddev\n",
    "dymin=lower_bound\n",
    "dymax=upper_bound\n",
    "within_3sigma = np.sum(bin_contents[(bin_centers >= lower_bound) & (bin_centers <= upper_bound)])\n",
    "print(f\"Mean: {np.round(mean,4)}, Standard Deviation (Sigma): {stddev}\")\n",
    "print(f\"Number of events within ±{sigcut} sigma: {np.round(within_3sigma,4)}\")\n",
    "print(f'dymin: {np.round(lower_bound,3)}')\n",
    "print(f'dymax: {np.round(upper_bound,3)}')"
   ]
  },
  {
   "cell_type": "code",
   "execution_count": 8,
   "id": "910115d4",
   "metadata": {},
   "outputs": [
    {
     "data": {
      "text/plain": [
       "(-4.0, 2.0)"
      ]
     },
     "execution_count": 8,
     "metadata": {},
     "output_type": "execute_result"
    },
    {
     "data": {
      "image/png": "[encoded data removed]",
      "text/plain": [
       "<Figure size 640x480 with 1 Axes>"
      ]
     },
     "metadata": {},
     "output_type": "display_data"
    }
   ],
   "source": [
    "lw=1\n",
    "#____________Total Fit = SimP + SimN + Background___________________________________________________________\n",
    "bin_centers,bin_contents=hdy\n",
    "plt.bar(bin_centers, bin_contents, width=(bin_centers[1] - bin_centers[0]), align='center', alpha=0.5,color='orange',label=\"Total Fit = bg+simN+simP\")\n",
    "plt.plot(bin_centers, bin_contents,'--',color='black',linewidth=lw)\n",
    "plt.xlim((-4,2))\n",
    "#___________________________________________________________________________________________________________"
   ]
  }
 ],
 "metadata": {
  "kernelspec": {
   "display_name": "Python 3 (ipykernel)",
   "language": "python",
   "name": "python3"
  },
  "language_info": {
   "codemirror_mode": {
    "name": "ipython",
    "version": 3
   },
   "file_extension": ".py",
   "mimetype": "text/x-python",
   "name": "python",
   "nbconvert_exporter": "python",
   "pygments_lexer": "ipython3",
   "version": "3.8.10"
  }
 },
 "nbformat": 4,
 "nbformat_minor": 5
}
