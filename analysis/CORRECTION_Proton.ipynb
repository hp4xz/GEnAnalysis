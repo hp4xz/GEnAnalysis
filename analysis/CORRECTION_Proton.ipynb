{
 "cells": [
  {
   "cell_type": "code",
   "execution_count": 1,
   "id": "17efe473",
   "metadata": {},
   "outputs": [
    {
     "name": "stdout",
     "output_type": "stream",
     "text": [
      "Welcome to JupyROOT 6.26/06\n"
     ]
    }
   ],
   "source": [
    "import ROOT as r\n",
    "from math import *\n",
    "import array\n",
    "import os\n",
    "import sys\n",
    "import matplotlib.pyplot as plt\n",
    "import numpy as np\n",
    "import pandas as pd\n",
    "\n",
    "\n",
    "#______________Add include directory_______________\n",
    "current_dir = os.getcwd()\n",
    "include_dir = os.path.join(current_dir, '../include')\n",
    "sys.path.insert(0, include_dir)\n",
    "#__________________________________________________\n",
    "\n",
    "import CONFIG\n",
    "import DBPARSE"
   ]
  },
  {
   "cell_type": "code",
   "execution_count": 5,
   "id": "020ee35d",
   "metadata": {},
   "outputs": [],
   "source": [
    "pas=\"1\"\n",
    "config=\"3\"\n",
    "mup=2.793"
   ]
  },
  {
   "cell_type": "code",
   "execution_count": 6,
   "id": "1f0d5497",
   "metadata": {},
   "outputs": [],
   "source": [
    "Q2=CONFIG.Function_JSON(\"Q2\",f\"../config/cuts{config}.cfg\")"
   ]
  },
  {
   "cell_type": "markdown",
   "id": "fe96c054",
   "metadata": {},
   "source": [
    "<span style=\"font-size:1.5em;\">\n",
    "\\begin{equation}\n",
    "A_{\\perp} = -\\frac{G_{E}^n}{G_{M}^n} \\cdot \\frac{2\\sqrt{\\tau(\\tau+1)}\\tan{\\frac{\\theta}{2}}}{\\left(\\frac{G_{E}^n}{G_{M}^n}\\right)^2 + \\left(\\tau + 2\\tau(1+\\tau)\\tan^2\\frac{\\theta}{2}\\right)}\n",
    "\\end{equation}\n",
    "    </span>\n",
    "\n",
    "<span style=\"font-size:3.5em;\">\n",
    "\\begin{equation}\n",
    "A_p=P_{^3He}P_{beam}P_p A_{\\perp}(Q^2)\n",
    "\\end{equation}\n",
    "    </span>"
   ]
  },
  {
   "cell_type": "markdown",
   "id": "a10b2911",
   "metadata": {},
   "source": [
    "# Load proton lookup dat"
   ]
  },
  {
   "cell_type": "code",
   "execution_count": 7,
   "id": "1b0f669f",
   "metadata": {},
   "outputs": [
    {
     "name": "stdout",
     "output_type": "stream",
     "text": [
      "GEp/GMp: 0.0964\n"
     ]
    }
   ],
   "source": [
    "\n",
    "def load_data(file_path):\n",
    "    \"\"\"\n",
    "    Load the data from the given file path into a pandas DataFrame.\n",
    "    \"\"\"\n",
    "    columns = [\"Q2\", \"GEp/GD\", \"dGEp/GD\", \"dGEp_Par/GD\", \"GMp/mu_p/GD\", \"dGMp/mu_p/GD\", \"dGMp_Par/mu_p/GD\"]\n",
    "    data = pd.read_csv(file_path, delim_whitespace=True, comment='#', names=columns)\n",
    "    return data\n",
    "\n",
    "def find_closest_row(data, input_Q2):\n",
    "    \"\"\"\n",
    "    Find the row in the data with the Q2 value closest to the input_Q2.\n",
    "    \"\"\"\n",
    "    closest_row = data.iloc[(data['Q2'] - input_Q2).abs().argmin()]\n",
    "    return closest_row\n",
    "\n",
    "def main(input_Q2):\n",
    "    file_path = '../DB/proton_lookup.dat'\n",
    "    data = load_data(file_path)\n",
    "    closest_row = find_closest_row(data, input_Q2)\n",
    "    return closest_row\n",
    "\n",
    "\n",
    "\n",
    "row=main(Q2)\n",
    "row\n",
    "\n",
    "R=np.round(row[1]/row[4]/mup,4)\n",
    "print(f\"GEp/GMp: {R}\")"
   ]
  },
  {
   "cell_type": "markdown",
   "id": "0bb834d9",
   "metadata": {},
   "source": [
    "# Main"
   ]
  },
  {
   "cell_type": "code",
   "execution_count": 70,
   "id": "b3fd299e",
   "metadata": {},
   "outputs": [],
   "source": [
    "#in GeV^2\n",
    "m=.938\n",
    "if config==\"2\":\n",
    "    tau=Q2/(4*m**2)\n",
    "    theta=29.5*pi/180\n",
    "if config==\"3\":\n",
    "    tau=Q2/(4*m**2)\n",
    "    theta=36.5*pi/180\n",
    "if config==\"4\":\n",
    "    tau=Q2/(4*m**2)\n",
    "    theta=35*pi/180\n",
    "\n",
    "def Aperp(R, tau, theta):\n",
    "    tan_half_theta = np.tan(np.radians(theta) / 2)\n",
    "    numerator = -R * 2 * np.sqrt(tau * (tau + 1)) * tan_half_theta\n",
    "    denominator = R**2 + (tau + 2 * tau * (1 + tau) * tan_half_theta**2)\n",
    "    A_perp = numerator / denominator\n",
    "    return A_perp\n",
    "\n",
    "Ap=Aperp(R,tau,theta)\n",
    "P_p=-.04 # seamus thesis\n",
    "P_beam=CONFIG.Function_JSON(\"Pbeam\",f\"../config/cuts{config}.cfg\")\n",
    "P_target=CONFIG.Function_JSON(\"Ptarget\",f\"../config/cuts{config}.cfg\")\n",
    "\n",
    "Aphys=Ap*P_p*P_beam*P_target/100/100"
   ]
  },
  {
   "cell_type": "code",
   "execution_count": 73,
   "id": "78b8b47a",
   "metadata": {},
   "outputs": [
    {
     "data": {
      "text/plain": [
       "3.4069996556184517e-06"
      ]
     },
     "execution_count": 73,
     "metadata": {},
     "output_type": "execute_result"
    }
   ],
   "source": [
    "Aphys"
   ]
  },
  {
   "cell_type": "code",
   "execution_count": 74,
   "id": "3cfe61e8",
   "metadata": {},
   "outputs": [],
   "source": [
    "np.save(f'CorrectionArrays/Pass{pas}/Aproton{config}.npy',np.array(Aphys))"
   ]
  },
  {
   "cell_type": "code",
   "execution_count": null,
   "id": "860d8777",
   "metadata": {},
   "outputs": [],
   "source": []
  }
 ],
 "metadata": {
  "kernelspec": {
   "display_name": "Python 3 (ipykernel)",
   "language": "python",
   "name": "python3"
  },
  "language_info": {
   "codemirror_mode": {
    "name": "ipython",
    "version": 3
   },
   "file_extension": ".py",
   "mimetype": "text/x-python",
   "name": "python",
   "nbconvert_exporter": "python",
   "pygments_lexer": "ipython3",
   "version": "3.8.10"
  }
 },
 "nbformat": 4,
 "nbformat_minor": 5
}
