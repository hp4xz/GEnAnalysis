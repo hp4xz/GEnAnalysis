{
 "cells": [
  {
   "cell_type": "code",
   "execution_count": 40,
   "id": "a8dd1a9b",
   "metadata": {},
   "outputs": [],
   "source": [
    "from IPython.display import Image, display\n",
    "import numpy as np\n",
    "import matplotlib.pyplot as plt\n",
    "import matplotlib.colors as mcolors\n",
    "import ROOT as r\n",
    "import array\n",
    "import os\n",
    "import sys\n",
    "#______________Add include directory_______________\n",
    "current_dir = os.getcwd()\n",
    "include_dir = os.path.join(current_dir, '../include')\n",
    "sys.path.insert(0, include_dir)\n",
    "#__________________________________________________\n",
    "\n",
    "from PLOTTING import *\n",
    "import CONFIG\n",
    "from UTILITIES import *"
   ]
  },
  {
   "cell_type": "code",
   "execution_count": 41,
   "id": "36401705",
   "metadata": {},
   "outputs": [],
   "source": [
    "config=\"2\"\n"
   ]
  },
  {
   "cell_type": "code",
   "execution_count": 42,
   "id": "5d796eab",
   "metadata": {},
   "outputs": [
    {
     "name": "stdout",
     "output_type": "stream",
     "text": [
      "W2min: 0\n",
      "W2max: 1.5\n",
      "dxmin: -0.481\n",
      "dxmax: 0.498\n",
      "dymin: -0.822\n",
      "dymax: 0.8\n",
      "dybgmin: -1.4\n",
      "dybgmax: 1.4\n",
      "Coin Min: 95 Coin Max: 106\n"
     ]
    }
   ],
   "source": [
    "W2min=CONFIG.Function_JSON(\"W2min\",f\"../config/cuts{config}.cfg\")\n",
    "W2max=CONFIG.Function_JSON(\"W2max\",f\"../config/cuts{config}.cfg\")\n",
    "dxmin=CONFIG.Function_JSON(\"dxmin\",f\"../config/cuts{config}.cfg\")\n",
    "dxmax=CONFIG.Function_JSON(\"dxmax\",f\"../config/cuts{config}.cfg\")\n",
    "dymin=CONFIG.Function_JSON(\"dymin\",f\"../config/cuts{config}.cfg\")\n",
    "dymax=CONFIG.Function_JSON(\"dymax\",f\"../config/cuts{config}.cfg\")\n",
    "dybgmin=CONFIG.Function_JSON(\"dybgmin\",f\"../config/cuts{config}.cfg\")\n",
    "dybgmax=CONFIG.Function_JSON(\"dybgmax\",f\"../config/cuts{config}.cfg\")\n",
    "coinmin=CONFIG.Function_JSON(\"coinmin\",f\"../config/cuts{config}.cfg\")\n",
    "coinmax=CONFIG.Function_JSON(\"coinmax\",f\"../config/cuts{config}.cfg\")\n",
    "\n",
    "print(f'W2min: {W2min}')\n",
    "print(f'W2max: {W2max}')\n",
    "print(f'dxmin: {dxmin}')\n",
    "print(f'dxmax: {dxmax}')\n",
    "print(f'dymin: {dymin}')\n",
    "print(f'dymax: {dymax}')\n",
    "print(f'dybgmin: {dybgmin}')\n",
    "print(f'dybgmax: {dybgmax}')\n",
    "print(f'Coin Min: {coinmin} Coin Max: {coinmax}')"
   ]
  },
  {
   "cell_type": "code",
   "execution_count": 43,
   "id": "e6cbe22d",
   "metadata": {},
   "outputs": [
    {
     "name": "stdout",
     "output_type": "stream",
     "text": [
      "Resolved Path: /home/research/GEn/GEn Data Analysis/outfiles/Pass1/QE_data_GEN2_sbs100p_nucleon_np_model2.root\n",
      "File Exists: True\n"
     ]
    }
   ],
   "source": [
    "fileDIR=(f\"../outfiles/Pass1/QE_data_GEN{config}_sbs100p_nucleon_np_model2.root\")\n",
    "resolved_path = os.path.abspath(fileDIR)\n",
    "print(f\"Resolved Path: {resolved_path}\")\n",
    "print(f\"File Exists: {os.path.exists(resolved_path)}\")\n",
    "\n",
    "\n",
    "def dxy(rootfile):\n",
    "    r.gErrorIgnoreLevel = r.kError  # Suppress Info and Warning messages\n",
    "    # Create a TChain and add the input ROOT file\n",
    "    chain = r.TChain(\"Tout\")\n",
    "    chain.Add(rootfile)\n",
    "    bins=150\n",
    "    # Create histograms\n",
    "    h2 = r.TH2F(\"h2\", \"dX vs dY\", bins, -4, 4, bins, -4, 4)\n",
    "    h3 = r.TH2F(\"h3\", \"dX vs dY 0<W2<1.3\", bins, -4, 4, bins, -4, 4)\n",
    "    hdx=r.TH1F(\"hdx\",\"$\\Delta X$; $\\Delta X$ (m); Entries\",bins,-4,4)\n",
    "    hdy=r.TH1F(\"hdy\",\"$\\Delta Y$; $\\Delta Y$ (m); Entries\",bins,-4,4)\n",
    "\n",
    "    # Define variables to hold branch values using arrays\n",
    "    dx = array.array('d', [0])\n",
    "    dy = array.array('d', [0])\n",
    "    W2 = array.array('d', [0])\n",
    "    coin = array.array('d', [0])\n",
    "\n",
    "    # Set branch addresses\n",
    "    chain.SetBranchStatus(\"*\", 0)\n",
    "    chain.SetBranchStatus(\"dx\", 1)\n",
    "    chain.SetBranchStatus(\"dy\", 1)\n",
    "    chain.SetBranchStatus(\"W2\", 1)\n",
    "    chain.SetBranchStatus(\"coin_time\", 1)\n",
    "\n",
    "    chain.SetBranchAddress(\"dx\", dx)\n",
    "    chain.SetBranchAddress(\"dy\", dy)\n",
    "    chain.SetBranchAddress(\"W2\", W2)\n",
    "    chain.SetBranchAddress(\"coin_time\", coin)\n",
    "\n",
    "    # Loop over all entries and fill histograms\n",
    "    nEntries = chain.GetEntries()\n",
    "    print(nEntries)\n",
    "    for i in range(nEntries):\n",
    "        chain.GetEntry(i)\n",
    "        h2.Fill(dy[0], dx[0])\n",
    "        W2cut=W2min < W2[0] < W2max\n",
    "        coincut=coinmin<coin[0]<coinmax\n",
    "        if W2cut and coincut:\n",
    "            h3.Fill(dy[0], dx[0])\n",
    "            hdx.Fill(dx[0])\n",
    "            hdy.Fill(dy[0])\n",
    "\n",
    "    # Write histograms to the file\n",
    "    h2.Write()\n",
    "    h3.Write()\n",
    "\n",
    "    # Create a canvas and save the histogram as an image\n",
    "    c2 = r.TCanvas(\"c2\", \"dX vs dY\", 1000, 1000)\n",
    "    r.gStyle.SetPalette(r.kRainBow)\n",
    "    h2.Draw(\"colz\")\n",
    "    #c2.SaveAs(\"../plots/dxdy.png\")\n",
    "\n",
    "    # Create another canvas and save the second histogram as an image\n",
    "    c3 = r.TCanvas(\"c3\", \"dX vs dY 0<W2<1.3\", 1000, 1000)\n",
    "    h3.Draw(\"colz\")\n",
    "    r.gStyle.SetPalette(r.kRainBow)\n",
    "    #c3.SaveAs(\"../plots/dxdyCut.png\")\n",
    "\n",
    "    print(\"it worked\")\n",
    "    return h2, h3,Function_HIST2NP(hdx),Function_HIST2NP(hdy)\n",
    "# Example usage\n"
   ]
  },
  {
   "cell_type": "code",
   "execution_count": 44,
   "id": "2197b013",
   "metadata": {},
   "outputs": [
    {
     "name": "stdout",
     "output_type": "stream",
     "text": [
      "26002792\n",
      "it worked\n"
     ]
    },
    {
     "name": "stderr",
     "output_type": "stream",
     "text": [
      "Error in <TROOT::WriteTObject>: The current directory (PyROOT) is not associated with a file. The object (h2) has not been written.\n",
      "Error in <TROOT::WriteTObject>: The current directory (PyROOT) is not associated with a file. The object (h3) has not been written.\n"
     ]
    }
   ],
   "source": [
    "h2,h3,hdx,hdy=dxy(fileDIR)"
   ]
  },
  {
   "cell_type": "code",
   "execution_count": 45,
   "id": "e2351b4d",
   "metadata": {
    "scrolled": true
   },
   "outputs": [
    {
     "data": {
      "text/plain": [
       "array([ 5108.,  5774.,  6263.,  7087.,  8070.,  9134., 10310., 11737.,\n",
       "       13247., 14997., 17237., 19646., 22023., 25019., 27914., 31050.,\n",
       "       33992., 37361., 40735., 43461., 46555., 48205., 50271., 51396.,\n",
       "       51851., 52383., 50978., 49820., 48343., 45813., 43229., 40365.,\n",
       "       36971., 34216., 30948., 27887., 24947., 22600., 20038., 17852.,\n",
       "       16013., 14580., 12958., 11801., 10647.,  9689.,  8876.,  8248.,\n",
       "        7532.,  7214.,  6933.,  6713.,  6485.,  6286.,  6338.,  6352.,\n",
       "        6383.,  6568.,  6582.,  6863.,  7122.,  7545.,  7919.,  8449.,\n",
       "        8988.,  9733., 10391., 11155., 11904., 12186., 12841., 13572.,\n",
       "       14153., 14585., 14667., 14680., 14662., 14153., 13740., 13140.,\n",
       "       12477., 11808., 10799., 10160.,  9191.,  8519.,  7621.,  7110.,\n",
       "        6539.,  6158.,  5520.,  5029.,  4683.,  4139.,  3773.,  3560.,\n",
       "        3297.,  3088.,  2959.,  2629.,  2558.,  2404.,  2294.,  2078.,\n",
       "        1986.,  1758.,  1748.,  1603.,  1563.,  1440.,  1365.,  1250.,\n",
       "        1169.,  1102.,  1047.,   983.,   946.,   848.,   798.,   725.,\n",
       "         695.,   635.,   612.,   551.,   547.,   507.,   460.,   434.,\n",
       "         417.,   384.,   341.,   323.,   316.,   283.,   288.,   237.,\n",
       "         244.,   204.,   210.,   204.,   176.,   177.,   134.,   138.,\n",
       "         128.,   112.,   102.,    78.,   105.,    82.])"
      ]
     },
     "execution_count": 45,
     "metadata": {},
     "output_type": "execute_result"
    }
   ],
   "source": [
    "hdx[1]"
   ]
  },
  {
   "cell_type": "code",
   "execution_count": 46,
   "id": "556a31be",
   "metadata": {},
   "outputs": [],
   "source": [
    "x_edges, y_edges, bin_contents = Function_EXTRACTHIST(h3)"
   ]
  },
  {
   "cell_type": "code",
   "execution_count": 1,
   "id": "9442eeeb",
   "metadata": {
    "scrolled": true
   },
   "outputs": [
    {
     "ename": "NameError",
     "evalue": "name 'x_edges' is not defined",
     "output_type": "error",
     "traceback": [
      "\u001b[0;31m---------------------------------------------------------------------------\u001b[0m",
      "\u001b[0;31mNameError\u001b[0m                                 Traceback (most recent call last)",
      "Cell \u001b[0;32mIn [1], line 4\u001b[0m\n\u001b[1;32m      2\u001b[0m \u001b[38;5;28;01mimport\u001b[39;00m \u001b[38;5;21;01mnumpy\u001b[39;00m \u001b[38;5;28;01mas\u001b[39;00m \u001b[38;5;21;01mnp\u001b[39;00m\n\u001b[1;32m      3\u001b[0m countsmax\u001b[38;5;241m=\u001b[39m\u001b[38;5;241m600\u001b[39m\n\u001b[0;32m----> 4\u001b[0m x_centers \u001b[38;5;241m=\u001b[39m (\u001b[43mx_edges\u001b[49m[:\u001b[38;5;241m-\u001b[39m\u001b[38;5;241m1\u001b[39m] \u001b[38;5;241m+\u001b[39m x_edges[\u001b[38;5;241m1\u001b[39m:]) \u001b[38;5;241m/\u001b[39m \u001b[38;5;241m2\u001b[39m\n\u001b[1;32m      5\u001b[0m y_centers \u001b[38;5;241m=\u001b[39m (y_edges[:\u001b[38;5;241m-\u001b[39m\u001b[38;5;241m1\u001b[39m] \u001b[38;5;241m+\u001b[39m y_edges[\u001b[38;5;241m1\u001b[39m:]) \u001b[38;5;241m/\u001b[39m \u001b[38;5;241m2\u001b[39m\n\u001b[1;32m      7\u001b[0m \u001b[38;5;66;03m# Create the 3D histogram plot using plotly\u001b[39;00m\n",
      "\u001b[0;31mNameError\u001b[0m: name 'x_edges' is not defined"
     ]
    }
   ],
   "source": [
    "import plotly.graph_objects as go\n",
    "import numpy as np\n",
    "countsmax=600\n",
    "x_centers = (x_edges[:-1] + x_edges[1:]) / 2\n",
    "y_centers = (y_edges[:-1] + y_edges[1:]) / 2\n",
    "\n",
    "# Create the 3D histogram plot using plotly\n",
    "fig = go.Figure(data=[go.Surface(z=bin_contents.T, x=x_centers, y=y_centers, colorscale='Rainbow')])\n",
    "\n",
    "y_cube = [dxmin, dxmax, dxmax, dxmin, dxmin, dxmax, dxmax, dxmin]\n",
    "x_cube = [dymin, dymin, dymax, dymax, dymin, dymin, dymax, dymax]\n",
    "z_cube = [0, 0, 0, 0, countsmax, countsmax, countsmax, countsmax]\n",
    "\n",
    "# Define the vertices for each face of the cube\n",
    "vertices = [\n",
    "    [0, 1, 2, 3],  # Bottom face\n",
    "    [4, 5, 6, 7],  # Top face\n",
    "    [0, 1, 5, 4],  # Front face\n",
    "    [2, 3, 7, 6],  # Back face\n",
    "    [0, 3, 7, 4],  # Left face\n",
    "    [1, 2, 6, 5]   # Right face\n",
    "]\n",
    "\n",
    "# Create the faces of the cube using Mesh3d\n",
    "for face in vertices:\n",
    "    fig.add_trace(go.Mesh3d(\n",
    "        x=[x_cube[face[0]], x_cube[face[1]], x_cube[face[2]], x_cube[face[3]], x_cube[face[0]], x_cube[face[1]], x_cube[face[2]], x_cube[face[3]]],\n",
    "        y=[y_cube[face[0]], y_cube[face[1]], y_cube[face[2]], y_cube[face[3]], y_cube[face[0]], y_cube[face[1]], y_cube[face[2]], y_cube[face[3]]],\n",
    "        z=[z_cube[face[0]], z_cube[face[1]], z_cube[face[2]], z_cube[face[3]], z_cube[face[0]], z_cube[face[1]], z_cube[face[2]], z_cube[face[3]]],\n",
    "        opacity=0.4,\n",
    "        color='rgba(255,0,0,0.3)',\n",
    "        i=[0, 1, 2, 3, 0, 1, 2, 3],\n",
    "        j=[1, 2, 3, 0, 1, 2, 3, 0],\n",
    "        k=[2, 3, 0, 1, 2, 3, 0, 1],\n",
    "        name='cube'\n",
    "    ))\n",
    "\n",
    "    edges = [\n",
    "    [0, 1], [1, 2], [2, 3], [3, 0],  # Bottom edges\n",
    "    [4, 5], [5, 6], [6, 7], [7, 4],  # Top edges\n",
    "    [0, 4], [1, 5], [2, 6], [3, 7]   # Vertical edges\n",
    "]\n",
    "\n",
    "# Add edges using Scatter3d\n",
    "for edge in edges:\n",
    "    fig.add_trace(go.Scatter3d(\n",
    "        x=[x_cube[edge[0]], x_cube[edge[1]]],\n",
    "        y=[y_cube[edge[0]], y_cube[edge[1]]],\n",
    "        z=[z_cube[edge[0]], z_cube[edge[1]]],\n",
    "        mode='lines',\n",
    "        line=dict(color='black', width=5),\n",
    "        showlegend=False\n",
    "    ))\n",
    "    \n",
    "fig.update_layout(\n",
    "    title='3D Histogram of hdx vs hdy',\n",
    "    scene = dict(\n",
    "        xaxis_title='dY',\n",
    "        yaxis_title='dX',\n",
    "        zaxis_title='Counts'\n",
    "    ),\n",
    "    width=1200,  # Adjust the width here\n",
    "    height=800   # Adjust the height here\n",
    ")\n",
    "\n",
    "fig.show()"
   ]
  },
  {
   "cell_type": "code",
   "execution_count": 53,
   "id": "2eb06d1c",
   "metadata": {},
   "outputs": [],
   "source": [
    "dxmin=-.7\n",
    "dxmax=.8"
   ]
  },
  {
   "cell_type": "code",
   "execution_count": null,
   "id": "6aa00336",
   "metadata": {},
   "outputs": [],
   "source": []
  }
 ],
 "metadata": {
  "kernelspec": {
   "display_name": "Python 3 (ipykernel)",
   "language": "python",
   "name": "python3"
  },
  "language_info": {
   "codemirror_mode": {
    "name": "ipython",
    "version": 3
   },
   "file_extension": ".py",
   "mimetype": "text/x-python",
   "name": "python",
   "nbconvert_exporter": "python",
   "pygments_lexer": "ipython3",
   "version": "3.8.10"
  }
 },
 "nbformat": 4,
 "nbformat_minor": 5
}
