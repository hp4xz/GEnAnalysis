{
 "cells": [
  {
   "cell_type": "code",
   "execution_count": 14,
   "id": "f96167f9",
   "metadata": {},
   "outputs": [],
   "source": [
    "import pandas as pd\n",
    "from datetime import datetime, timedelta\n",
    "import ROOT as r\n",
    "import math\n",
    "import array\n",
    "import os\n",
    "import sys\n",
    "import matplotlib.pyplot as plt\n",
    "import numpy as np\n",
    "\n",
    "#______________Add include directory_______________\n",
    "current_dir = os.getcwd()\n",
    "include_dir = os.path.join(current_dir, '../include')\n",
    "sys.path.insert(0, include_dir)\n",
    "#__________________________________________________\n",
    "\n",
    "import CONFIG\n",
    "import DBPARSE\n",
    "import DBPARSEV2"
   ]
  },
  {
   "cell_type": "code",
   "execution_count": 15,
   "id": "a1e82aae",
   "metadata": {},
   "outputs": [],
   "source": [
    "data = pd.read_csv(\"../DB/RunDatesV3.csv\")\n",
    "\n",
    "# Extract the 'Run Number' column into an array\n",
    "run_numbers = data['Run'].values"
   ]
  },
  {
   "cell_type": "code",
   "execution_count": 16,
   "id": "5e7b0976",
   "metadata": {},
   "outputs": [],
   "source": [
    "runmin=2165\n",
    "runmax=4470\n",
    "he3Pol=np.empty(0)\n",
    "beamPol=np.empty(0)\n",
    "runnum=np.empty(0)\n",
    "for i in run_numbers:\n",
    "    if i<runmax and i>runmin:\n",
    "        beamPol=np.append(beamPol,DBPARSEV2.Function_RETURNBEAMPOL(i,\"../DB/RunDatesV3.csv\",\"../DB/Beam_pol.csv\"))\n",
    "        he3Pol=np.append(he3Pol,DBPARSEV2.Function_RETURNHE3POL(i,\"../DB/RunDatesV3.csv\",\"../DB/He3_pol.csv\"))"
   ]
  },
  {
   "cell_type": "code",
   "execution_count": 17,
   "id": "946b842d",
   "metadata": {},
   "outputs": [],
   "source": [
    "for i in run_numbers:\n",
    "    if i<runmax and i>runmin:\n",
    "        runnum=np.append(runnum,i)"
   ]
  },
  {
   "cell_type": "code",
   "execution_count": 18,
   "id": "54250779",
   "metadata": {},
   "outputs": [],
   "source": [
    "datahe3 = pd.DataFrame({\n",
    "    'Run Number': runnum,\n",
    "    'Polarization': he3Pol\n",
    "})\n",
    "\n",
    "# Save the DataFrame to a CSV file\n",
    "datahe3.to_csv('../DB/ProcessedHe3Pol.csv', index=False)\n"
   ]
  },
  {
   "cell_type": "code",
   "execution_count": 19,
   "id": "a5f647cb",
   "metadata": {},
   "outputs": [],
   "source": [
    "databeam = pd.DataFrame({\n",
    "    'Run Number': runnum,\n",
    "    'Polarization': beamPol\n",
    "})\n",
    "\n",
    "# Save the DataFrame to a CSV file\n",
    "databeam.to_csv('../DB/ProcessedBeamPol.csv', index=False)"
   ]
  },
  {
   "cell_type": "code",
   "execution_count": 21,
   "id": "1db28b41",
   "metadata": {},
   "outputs": [
    {
     "data": {
      "text/plain": [
       "41.16689357310548"
      ]
     },
     "execution_count": 21,
     "metadata": {},
     "output_type": "execute_result"
    }
   ],
   "source": [
    "DBPARSEV2.Function_RETURNPROCESSEDHE3POL(3201)"
   ]
  },
  {
   "cell_type": "code",
   "execution_count": null,
   "id": "a262ff2d",
   "metadata": {},
   "outputs": [],
   "source": []
  },
  {
   "cell_type": "code",
   "execution_count": null,
   "id": "958c951e",
   "metadata": {},
   "outputs": [],
   "source": []
  }
 ],
 "metadata": {
  "kernelspec": {
   "display_name": "Python 3 (ipykernel)",
   "language": "python",
   "name": "python3"
  },
  "language_info": {
   "codemirror_mode": {
    "name": "ipython",
    "version": 3
   },
   "file_extension": ".py",
   "mimetype": "text/x-python",
   "name": "python",
   "nbconvert_exporter": "python",
   "pygments_lexer": "ipython3",
   "version": "3.8.10"
  }
 },
 "nbformat": 4,
 "nbformat_minor": 5
}
