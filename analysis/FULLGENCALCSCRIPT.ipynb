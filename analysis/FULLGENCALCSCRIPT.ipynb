{
 "cells": [
  {
   "cell_type": "code",
   "execution_count": 28,
   "id": "590ec172",
   "metadata": {},
   "outputs": [],
   "source": [
    "import ROOT as r\n",
    "import math\n",
    "import array\n",
    "import os\n",
    "import sys\n",
    "import matplotlib.pyplot as plt\n",
    "import numpy as np\n",
    "from math import pi\n",
    "\n",
    "#______________Add include directory_______________\n",
    "current_dir = os.getcwd()\n",
    "include_dir = os.path.join(current_dir, '../include')\n",
    "sys.path.insert(0, include_dir)\n",
    "#__________________________________________________\n",
    "import ERROR\n",
    "import CONFIG\n",
    "import DBPARSE\n",
    "from ASYMMETRY import *\n",
    "from UTILITIES import *\n",
    "from SIMFITS import DistributionFits\n",
    "from ROOT import gStyle, TChain, TH1F, TCanvas, TLegend\n",
    "import CORRECTIONS\n",
    "import CALCULATE\n",
    "from joblib import Parallel, delayed\n",
    "import importlib\n",
    "#importlib.reload(ASYMMETRY)"
   ]
  },
  {
   "cell_type": "code",
   "execution_count": 29,
   "id": "f45c48d1",
   "metadata": {},
   "outputs": [],
   "source": [
    "pas=\"1\"\n",
    "config=\"3\""
   ]
  },
  {
   "cell_type": "code",
   "execution_count": 30,
   "id": "28df215d",
   "metadata": {},
   "outputs": [],
   "source": [
    "muN=1.9103 #minus"
   ]
  },
  {
   "cell_type": "code",
   "execution_count": 31,
   "id": "cf98333b",
   "metadata": {},
   "outputs": [],
   "source": [
    "import sys\n",
    "import re\n",
    "\n",
    "class Filter:\n",
    "    def __init__(self):\n",
    "        self.old_stderr = sys.stderr\n",
    "        sys.stderr = self\n",
    "\n",
    "    def write(self, message):\n",
    "        # Change the pattern here to match the specific ROOT errors\n",
    "        if not re.search(r\"Error in <TList::Clear>:\", message):\n",
    "            self.old_stderr.write(message)\n",
    "\n",
    "    def flush(self):\n",
    "        pass\n",
    "\n",
    "# Apply the filter\n",
    "filter = Filter()\n",
    "\n"
   ]
  },
  {
   "cell_type": "markdown",
   "id": "d374d058",
   "metadata": {},
   "source": [
    "# Set Config"
   ]
  },
  {
   "cell_type": "code",
   "execution_count": 32,
   "id": "3cdd94fd",
   "metadata": {},
   "outputs": [],
   "source": [
    "#in GeV^2\n",
    "m=.939565\n",
    "muN=-1.9103\n",
    "if config==\"2\":\n",
    "    Q2=3\n",
    "    tau=Q2/(4*m**2)\n",
    "    theta=29.5*pi/180\n",
    "if config==\"3\":\n",
    "    Q2=6.83\n",
    "    #Q2=6.62 #seans number\n",
    "    tau=Q2/(4*m**2)\n",
    "    theta=36.5*pi/180\n",
    "if config==\"4\":\n",
    "    Q2=9.82\n",
    "    tau=Q2/(4*m**2)\n",
    "    theta=35*pi/180"
   ]
  },
  {
   "cell_type": "code",
   "execution_count": 33,
   "id": "cf261428",
   "metadata": {},
   "outputs": [
    {
     "name": "stdout",
     "output_type": "stream",
     "text": [
      "W2min: 0\n",
      "W2max: 1.2\n",
      "dxmin: -0.4\n",
      "dxmax: 0.402\n",
      "dymin: -0.9895\n",
      "dymax: 0.9895\n",
      "dybgmin: -1.2\n",
      "dybgmax: 1.2\n",
      "Q2: 6.83\n",
      "Coin Min: 82 Coin Max: 106\n"
     ]
    }
   ],
   "source": [
    "W2min=CONFIG.Function_JSON(\"W2min\",f\"../config/cuts{config}.cfg\")\n",
    "W2max=CONFIG.Function_JSON(\"W2max\",f\"../config/cuts{config}.cfg\")\n",
    "dxmin=CONFIG.Function_JSON(\"dxmin\",f\"../config/cuts{config}.cfg\")\n",
    "dxmax=CONFIG.Function_JSON(\"dxmax\",f\"../config/cuts{config}.cfg\")\n",
    "dymin=CONFIG.Function_JSON(\"dymin\",f\"../config/cuts{config}.cfg\")\n",
    "dymax=CONFIG.Function_JSON(\"dymax\",f\"../config/cuts{config}.cfg\")\n",
    "dybgmin=CONFIG.Function_JSON(\"dybgmin\",f\"../config/cuts{config}.cfg\")\n",
    "dybgmax=CONFIG.Function_JSON(\"dybgmax\",f\"../config/cuts{config}.cfg\")\n",
    "coinmin=CONFIG.Function_JSON(\"coinmin\",f\"../config/cuts{config}.cfg\")\n",
    "coinmax=CONFIG.Function_JSON(\"coinmax\",f\"../config/cuts{config}.cfg\")\n",
    "Q2=CONFIG.Function_JSON(\"Q2\",f\"../config/cuts{config}.cfg\")\n",
    "print(f'W2min: {W2min}')\n",
    "print(f'W2max: {W2max}')\n",
    "print(f'dxmin: {dxmin}')\n",
    "print(f'dxmax: {dxmax}')\n",
    "print(f'dymin: {dymin}')\n",
    "print(f'dymax: {dymax}')\n",
    "print(f'dybgmin: {dybgmin}')\n",
    "print(f'dybgmax: {dybgmax}')\n",
    "print(f'Q2: {Q2}')\n",
    "print(f'Coin Min: {coinmin} Coin Max: {coinmax}')"
   ]
  },
  {
   "cell_type": "code",
   "execution_count": 34,
   "id": "30c018d9",
   "metadata": {},
   "outputs": [],
   "source": [
    "cut=\"w2\"\n",
    "value=[W2min,W2max]\n"
   ]
  },
  {
   "cell_type": "code",
   "execution_count": 35,
   "id": "8b3c6b8b",
   "metadata": {},
   "outputs": [],
   "source": [
    "def Function_APHYSSENS(config,cut,value):\n",
    "    import ROOT as r\n",
    "    import math\n",
    "    import array\n",
    "    import os\n",
    "    import sys\n",
    "    import matplotlib.pyplot as plt\n",
    "    import numpy as np\n",
    "\n",
    "    #______________Add include directory_______________\n",
    "    current_dir = os.getcwd()\n",
    "    include_dir = os.path.join(current_dir, '../include')\n",
    "    sys.path.insert(0, include_dir)\n",
    "    #__________________________________________________\n",
    "    import ERROR\n",
    "    import CONFIG\n",
    "    import DBPARSE\n",
    "    import ASYMMETRY \n",
    "    import UTILITIES \n",
    "    from SIMFITS import DistributionFits\n",
    "    from ROOT import gStyle, TChain, TH1F, TCanvas, TLegend\n",
    "    import CALCULATE\n",
    "    import CORRECTIONS\n",
    "    from joblib import Parallel, delayed\n",
    "    \n",
    "    dxmin=CONFIG.Function_JSON(\"dxmin\",f\"../config/cuts{config}.cfg\")\n",
    "    dxmax=CONFIG.Function_JSON(\"dxmax\",f\"../config/cuts{config}.cfg\")\n",
    "    lower_bound=dxmin\n",
    "    upper_bound=dxmax\n",
    "    Raw=ASYMMETRY.Function_ASYMMETRYSENS(config,cut,value)\n",
    "    print(\"Raw Asymmetry Calculated\")\n",
    "    \n",
    "    Fit=ASYMMETRY.Function_FITDXSENS(config,cut,value)\n",
    "    print(\"dx Histogram Fit Completed\")\n",
    "    \n",
    "    data,bg,totalFit,simp,simn=Fit\n",
    "    bin_centers,bin_contents=bg\n",
    "    numBG=np.sum(bin_contents[(bin_centers >= lower_bound) & (bin_centers <= upper_bound)])\n",
    "    bin_centers,bin_contents=data\n",
    "    numTotal=np.sum(bin_contents[(bin_centers >= lower_bound) & (bin_centers <= upper_bound)])\n",
    "    bin_centers,bin_contents=simp\n",
    "    numP=np.sum(bin_contents[(bin_centers >= lower_bound) & (bin_centers <= upper_bound)])\n",
    "    \n",
    "    accResult,bgResult,fp=CORRECTIONS.Function_ANALYZEROOTFILE(config,bg,simp,totalFit)\n",
    "    \n",
    "    bin_centers,bin_contents=simn\n",
    "    Y=np.sum(bin_contents[(bin_centers >= lower_bound) & (bin_centers <= upper_bound)])\n",
    "    TrueYield=Raw[3]\n",
    "    print(\"f A combinations Determined\")\n",
    "    \n",
    "    Phys=ASYMMETRY.Function_APHYS(config,pas,Raw,accResult,bgResult,fp)\n",
    "    print(\"Aphys Calculated\")\n",
    "    \n",
    "    weighted_A,weighted_A_E,fbackg,rawA,rawAE=Phys\n",
    "    print('Returned: Aphys, Aphys_E, fbg, cut, cutvalue')\n",
    "    R,RE=CALCULATE.Function_CALCGEN(config,weighted_A,weighted_A_E)\n",
    "    return weighted_A,weighted_A_E,fbackg,cut,value,Y,R,RE,rawA,rawAE,np.mean(Raw[1])"
   ]
  },
  {
   "cell_type": "code",
   "execution_count": 36,
   "id": "9ccd2a7c",
   "metadata": {},
   "outputs": [
    {
     "name": "stdout",
     "output_type": "stream",
     "text": [
      "Config: 3\n",
      "Raw Asymmetry Calculated\n",
      "GEN3\n",
      "dx Histogram Fit Completed\n",
      "f A combinations Determined\n",
      "fA Error:0.002503162538873578+-0.0009666109542987236\n",
      "f Error:0.5866+-0.006453923361466381\n",
      "Aphys Calculated\n",
      "Returned: Aphys, Aphys_E, fbg, cut, cutvalue\n"
     ]
    }
   ],
   "source": [
    "Results=Function_APHYSSENS(config,cut,value)"
   ]
  },
  {
   "cell_type": "code",
   "execution_count": 37,
   "id": "b880f590",
   "metadata": {},
   "outputs": [
    {
     "name": "stdout",
     "output_type": "stream",
     "text": [
      "Kin3 - muN GEN/GMN: 0.5617247598820028+/-0.3766043098397711\n"
     ]
    }
   ],
   "source": [
    "A=Results[0]\n",
    "AE=Results[1]\n",
    "\n",
    "R=abs(Results[6])\n",
    "RE=Results[7]\n",
    "\n",
    "print(f\"Kin{config} - muN GEN/GMN: {abs(R*muN)}+/-{abs(RE*muN)}\")\n",
    "\n",
    "np.save(f'SavedArrays/GEN{config}/Pass{pas}/GEGM.npy',R)\n",
    "np.save(f'SavedArrays/GEN{config}/Pass{pas}/GEGME.npy',RE)"
   ]
  },
  {
   "cell_type": "code",
   "execution_count": 38,
   "id": "95c39c22",
   "metadata": {},
   "outputs": [
    {
     "data": {
      "text/plain": [
       "-0.14193687734413604"
      ]
     },
     "execution_count": 38,
     "metadata": {},
     "output_type": "execute_result"
    }
   ],
   "source": [
    "A"
   ]
  },
  {
   "cell_type": "code",
   "execution_count": null,
   "id": "8db9111a",
   "metadata": {},
   "outputs": [],
   "source": []
  },
  {
   "cell_type": "code",
   "execution_count": null,
   "id": "e436f77b",
   "metadata": {},
   "outputs": [],
   "source": []
  }
 ],
 "metadata": {
  "kernelspec": {
   "display_name": "Python 3 (ipykernel)",
   "language": "python",
   "name": "python3"
  },
  "language_info": {
   "codemirror_mode": {
    "name": "ipython",
    "version": 3
   },
   "file_extension": ".py",
   "mimetype": "text/x-python",
   "name": "python",
   "nbconvert_exporter": "python",
   "pygments_lexer": "ipython3",
   "version": "3.8.10"
  }
 },
 "nbformat": 4,
 "nbformat_minor": 5
}
