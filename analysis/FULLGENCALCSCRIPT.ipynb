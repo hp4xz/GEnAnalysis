{
 "cells": [
  {
   "cell_type": "code",
   "execution_count": 1,
   "id": "590ec172",
   "metadata": {},
   "outputs": [
    {
     "name": "stdout",
     "output_type": "stream",
     "text": [
      "Welcome to JupyROOT 6.26/06\n"
     ]
    }
   ],
   "source": [
    "import ROOT as r\n",
    "import math\n",
    "import array\n",
    "import os\n",
    "import sys\n",
    "import matplotlib.pyplot as plt\n",
    "import numpy as np\n",
    "from math import pi\n",
    "\n",
    "#______________Add include directory_______________\n",
    "current_dir = os.getcwd()\n",
    "include_dir = os.path.join(current_dir, '../include')\n",
    "sys.path.insert(0, include_dir)\n",
    "#__________________________________________________\n",
    "import ERROR\n",
    "import CONFIG\n",
    "import DBPARSE\n",
    "from ASYMMETRY import *\n",
    "from UTILITIES import *\n",
    "from SIMFITS import DistributionFits\n",
    "from ROOT import gStyle, TChain, TH1F, TCanvas, TLegend\n",
    "import CORRECTIONS\n",
    "import CALCULATE\n",
    "from joblib import Parallel, delayed\n",
    "import importlib\n",
    "#importlib.reload(ASYMMETRY)"
   ]
  },
  {
   "cell_type": "code",
   "execution_count": 2,
   "id": "f45c48d1",
   "metadata": {},
   "outputs": [],
   "source": [
    "pas=\"1\"\n",
    "config=\"4\""
   ]
  },
  {
   "cell_type": "code",
   "execution_count": 3,
   "id": "28df215d",
   "metadata": {},
   "outputs": [],
   "source": [
    "muN=1.9103 #minus"
   ]
  },
  {
   "cell_type": "code",
   "execution_count": 4,
   "id": "e7f189aa",
   "metadata": {},
   "outputs": [],
   "source": [
    "def counts_within_ellipse(x_edges, y_edges, bin_contents, dxmin, dxmax, dymin, dymax):\n",
    "    # Calculate ellipse parameters\n",
    "    \n",
    "    x_center = (dxmin + dxmax) / 2\n",
    "    y_center = (dymin + dymax) / 2\n",
    "    a = (dxmax - dxmin) / 2\n",
    "    b = (dymax - dymin) / 2\n",
    "    \n",
    "    total_counts = 0\n",
    "\n",
    "    for i in range(len(x_edges) - 1):\n",
    "        \n",
    "        for j in range(len(y_edges) - 1):\n",
    "            # Calculate bin center\n",
    "            x_center_bin = (x_edges[i] + x_edges[i + 1]) / 2\n",
    "            y_center_bin = (y_edges[j] + y_edges[j + 1]) / 2\n",
    "            \n",
    "            # Check if bin center is within ellipse\n",
    "            if ((x_center_bin - x_center) / a) ** 2 + ((y_center_bin - y_center) / b) ** 2 <= 1:\n",
    "                total_counts += bin_contents[i][j]\n",
    "    #X, Y = np.meshgrid(x_edges, y_edges)\n",
    "    #plt.pcolormesh(X, Y, bin_contents.T, shading='auto')\n",
    "   # plt.colorbar(label='Counts')\n",
    "\n",
    "   ## Drawing the ellipse\n",
    "   # x_center = (dxmin + dxmax) / 2\n",
    "   # y_center = (dymin + dymax) / 2\n",
    "   # a = (dxmax - dxmin) / 2\n",
    "   # b = (dymax - dymin) / 2\n",
    "\n",
    "   # ellipse = Ellipse((x_center, y_center), width=2*a, height=2*b, edgecolor='r', facecolor='none', linewidth=2)\n",
    "   # plt.gca().add_patch(ellipse)\n",
    "   # plt.show()\n",
    "    return total_counts"
   ]
  },
  {
   "cell_type": "code",
   "execution_count": 5,
   "id": "cf98333b",
   "metadata": {},
   "outputs": [],
   "source": [
    "import sys\n",
    "import re\n",
    "\n",
    "class Filter:\n",
    "    def __init__(self):\n",
    "        self.old_stderr = sys.stderr\n",
    "        sys.stderr = self\n",
    "\n",
    "    def write(self, message):\n",
    "        # Change the pattern here to match the specific ROOT errors\n",
    "        if not re.search(r\"Error in <TList::Clear>:\", message):\n",
    "            self.old_stderr.write(message)\n",
    "\n",
    "    def flush(self):\n",
    "        pass\n",
    "\n",
    "# Apply the filter\n",
    "filter = Filter()\n",
    "\n"
   ]
  },
  {
   "cell_type": "markdown",
   "id": "d374d058",
   "metadata": {},
   "source": [
    "# Set Config"
   ]
  },
  {
   "cell_type": "code",
   "execution_count": 6,
   "id": "3cdd94fd",
   "metadata": {},
   "outputs": [],
   "source": [
    "#in GeV^2\n",
    "m=.939565\n",
    "muN=-1.9103\n",
    "if config==\"2\":\n",
    "    Q2=3\n",
    "    tau=Q2/(4*m**2)\n",
    "    theta=29.5*pi/180\n",
    "if config==\"3\":\n",
    "    Q2=6.83\n",
    "    #Q2=6.62 #seans number\n",
    "    tau=Q2/(4*m**2)\n",
    "    theta=36.5*pi/180\n",
    "if config==\"4\":\n",
    "    Q2=9.82\n",
    "    tau=Q2/(4*m**2)\n",
    "    theta=35*pi/180"
   ]
  },
  {
   "cell_type": "code",
   "execution_count": 7,
   "id": "cf261428",
   "metadata": {},
   "outputs": [
    {
     "name": "stdout",
     "output_type": "stream",
     "text": [
      "W2min: -1\n",
      "W2max: 1.9\n",
      "dxmin: -0.403\n",
      "dxmax: 0.406\n",
      "dymin: -0.98\n",
      "dymax: 0.98\n",
      "dybgmin: -1.3\n",
      "dybgmax: 1.2\n",
      "Q2: 9.82\n",
      "Coin Min: 81 Coin Max: 100\n"
     ]
    }
   ],
   "source": [
    "W2min=CONFIG.Function_JSON(\"W2min\",f\"../config/cuts{config}.cfg\")\n",
    "W2max=CONFIG.Function_JSON(\"W2max\",f\"../config/cuts{config}.cfg\")\n",
    "dxmin=CONFIG.Function_JSON(\"dxmin\",f\"../config/cuts{config}.cfg\")\n",
    "dxmax=CONFIG.Function_JSON(\"dxmax\",f\"../config/cuts{config}.cfg\")\n",
    "dymin=CONFIG.Function_JSON(\"dymin\",f\"../config/cuts{config}.cfg\")\n",
    "dymax=CONFIG.Function_JSON(\"dymax\",f\"../config/cuts{config}.cfg\")\n",
    "dybgmin=CONFIG.Function_JSON(\"dybgmin\",f\"../config/cuts{config}.cfg\")\n",
    "dybgmax=CONFIG.Function_JSON(\"dybgmax\",f\"../config/cuts{config}.cfg\")\n",
    "coinmin=CONFIG.Function_JSON(\"coinmin\",f\"../config/cuts{config}.cfg\")\n",
    "coinmax=CONFIG.Function_JSON(\"coinmax\",f\"../config/cuts{config}.cfg\")\n",
    "Q2=CONFIG.Function_JSON(\"Q2\",f\"../config/cuts{config}.cfg\")\n",
    "\n",
    "#  \"dxmin\"\t: -0.481,\n",
    "#  \"dxmax\"\t: 0.498, old gen2\n",
    "\n",
    "\n",
    "print(f'W2min: {W2min}')\n",
    "print(f'W2max: {W2max}')\n",
    "print(f'dxmin: {dxmin}')\n",
    "print(f'dxmax: {dxmax}')\n",
    "print(f'dymin: {dymin}')\n",
    "print(f'dymax: {dymax}')\n",
    "print(f'dybgmin: {dybgmin}')\n",
    "print(f'dybgmax: {dybgmax}')\n",
    "print(f'Q2: {Q2}')\n",
    "print(f'Coin Min: {coinmin} Coin Max: {coinmax}')"
   ]
  },
  {
   "cell_type": "code",
   "execution_count": 8,
   "id": "30c018d9",
   "metadata": {},
   "outputs": [],
   "source": [
    "cut=\"w2\"\n",
    "value=[W2min,W2max]\n"
   ]
  },
  {
   "cell_type": "code",
   "execution_count": 9,
   "id": "8b3c6b8b",
   "metadata": {},
   "outputs": [],
   "source": [
    "def Function_APHYSSENS(config,cut,value,cutstyle=0):\n",
    "    #cutstyle: 0 for rectangle, 1 for ellipse\n",
    "    import ROOT as r\n",
    "    import math\n",
    "    import array\n",
    "    import os\n",
    "    import sys\n",
    "    import matplotlib.pyplot as plt\n",
    "    import numpy as np\n",
    "\n",
    "    #______________Add include directory_______________\n",
    "    current_dir = os.getcwd()\n",
    "    include_dir = os.path.join(current_dir, '../include')\n",
    "    sys.path.insert(0, include_dir)\n",
    "    #__________________________________________________\n",
    "    import ERROR\n",
    "    import CONFIG\n",
    "    import DBPARSE\n",
    "    import ASYMMETRY \n",
    "    import UTILITIES \n",
    "    from SIMFITS import DistributionFits\n",
    "    from ROOT import gStyle, TChain, TH1F, TCanvas, TLegend\n",
    "    import CALCULATE\n",
    "    import CORRECTIONS\n",
    "    from joblib import Parallel, delayed\n",
    "    if cutstyle==0:    #cuts\n",
    "        W2min=CONFIG.Function_JSON(\"W2min\",f\"../config/cuts{config}.cfg\")\n",
    "        W2max=CONFIG.Function_JSON(\"W2max\",f\"../config/cuts{config}.cfg\")\n",
    "        dxmin=CONFIG.Function_JSON(\"dxmin\",f\"../config/cuts{config}.cfg\")\n",
    "        dxmax=CONFIG.Function_JSON(\"dxmax\",f\"../config/cuts{config}.cfg\")\n",
    "        dymin=CONFIG.Function_JSON(\"dymin\",f\"../config/cuts{config}.cfg\")\n",
    "        dymax=CONFIG.Function_JSON(\"dymax\",f\"../config/cuts{config}.cfg\")\n",
    "        dybgmin=CONFIG.Function_JSON(\"dybgmin\",f\"../config/cuts{config}.cfg\")\n",
    "        dybgmax=CONFIG.Function_JSON(\"dybgmax\",f\"../config/cuts{config}.cfg\")\n",
    "        coinmin=CONFIG.Function_JSON(\"coinmin\",f\"../config/cuts{config}.cfg\")\n",
    "        coinmax=CONFIG.Function_JSON(\"coinmax\",f\"../config/cuts{config}.cfg\")\n",
    "    if cutstyle==1:\n",
    "        W2min=CONFIG.Function_JSON(\"W2min\",f\"../config/cuts{config}ellipse.cfg\")\n",
    "        W2max=CONFIG.Function_JSON(\"W2max\",f\"../config/cuts{config}ellipse.cfg\")\n",
    "        dxmin=CONFIG.Function_JSON(\"dxmin\",f\"../config/cuts{config}ellipse.cfg\")\n",
    "        dxmax=CONFIG.Function_JSON(\"dxmax\",f\"../config/cuts{config}ellipse.cfg\")\n",
    "        dymin=CONFIG.Function_JSON(\"dymin\",f\"../config/cuts{config}ellipse.cfg\")\n",
    "        dymax=CONFIG.Function_JSON(\"dymax\",f\"../config/cuts{config}ellipse.cfg\")\n",
    "        dybgmin=CONFIG.Function_JSON(\"dybgmin\",f\"../config/cuts{config}ellipse.cfg\")\n",
    "        dybgmax=CONFIG.Function_JSON(\"dybgmax\",f\"../config/cuts{config}ellipse.cfg\")\n",
    "        coinmin=CONFIG.Function_JSON(\"coinmin\",f\"../config/cuts{config}ellipse.cfg\")\n",
    "        coinmax=CONFIG.Function_JSON(\"coinmax\",f\"../config/cuts{config}ellipse.cfg\")\n",
    "    #____________Varying Cut__________________\n",
    "    if cut==\"w2\":\n",
    "        W2max=value[1]\n",
    "        W2min=value[0]\n",
    "    elif cut==\"dy\":\n",
    "        dymax=value[1]\n",
    "        dymin=value[0]\n",
    "    elif cut==\"dx\":\n",
    "        dxmax=value[1]\n",
    "        dxmin=value[0]        \n",
    "    elif cut==\"coin\":\n",
    "        coinmin=value[1]\n",
    "        coinmax=value[0]\n",
    "    quasicut=[[coinmin,coinmax],[W2min,W2max],[dxmin,dxmax],[dymin,dymax]]\n",
    "    \n",
    "    \n",
    "    dxmin=CONFIG.Function_JSON(\"dxmin\",f\"../config/cuts{config}.cfg\")\n",
    "    dxmax=CONFIG.Function_JSON(\"dxmax\",f\"../config/cuts{config}.cfg\")\n",
    "    lower_bound=dxmin\n",
    "    upper_bound=dxmax\n",
    "    Raw=ASYMMETRY.Function_ASYMMETRYSENS(config,cut,value,cutstyle)\n",
    "    print(\"Raw Asymmetry Calculated\")\n",
    "    if cutstyle==0:\n",
    "        print(\"Corrections with rectangular cut.\")\n",
    "        Fit=ASYMMETRY.Function_FITDXSENS(config,cut,value)\n",
    "    \n",
    "    \n",
    "    \n",
    "        data,bg,totalFit,simp,simn=Fit\n",
    "        bin_centers,bin_contents=bg\n",
    "        numBG=np.sum(bin_contents[(bin_centers >= lower_bound) & (bin_centers <= upper_bound)])\n",
    "        bin_centers,bin_contents=totalFit\n",
    "        numTotal=np.sum(bin_contents[(bin_centers >= lower_bound) & (bin_centers <= upper_bound)])\n",
    "        bin_centers,bin_contents=simp\n",
    "        numP=np.sum(bin_contents[(bin_centers >= lower_bound) & (bin_centers <= upper_bound)])\n",
    "        bin_centers,bin_contents=simn\n",
    "        Y=np.sum(bin_contents[(bin_centers >= lower_bound) & (bin_centers <= upper_bound)])\n",
    "        print(\"dx Histogram Fit Completed\")\n",
    "        accResult,bgResult,fp=CORRECTIONS.Function_ANALYZEROOTFILE(config,bg,simp,totalFit)\n",
    "    if cutstyle==1:\n",
    "        print(\"Corrections with elliptical cut.\")\n",
    "        Fit=ASYMMETRY.Function_FITDXSENS2D(config,cut,value)\n",
    "        x_edges1, y_edges1, bin_contents1 = Fit[0] #data\n",
    "        x_edges2, y_edges2, bin_contents2 = Fit[2] #fit\n",
    "        x_edges3, y_edges3, bin_contents3 = Fit[4] #neutron\n",
    "        x_edges4, y_edges4, bin_contents4 = Fit[1] #background\n",
    "        x_edges5, y_edges5, bin_contents5 = Fit[3] #proton\n",
    "    \n",
    "        numTotal = counts_within_ellipse(x_edges1, y_edges1, bin_contents1, dxmin, dxmax, dymin, dymax)\n",
    "        Y = counts_within_ellipse(x_edges3, y_edges3, bin_contents3, dxmin, dxmax, dymin, dymax)\n",
    "        numBG = counts_within_ellipse(x_edges4, y_edges4, bin_contents4, dxmin, dxmax, dymin, dymax)\n",
    "        numP = counts_within_ellipse(x_edges5, y_edges5, bin_contents5, dxmin, dxmax, dymin, dymax)\n",
    "    \n",
    "        accResult,bgResult,fp=CORRECTIONS.Function_ANALYZEROOTFILE(config,numBG,numP,numTotal,cutstyle=1)\n",
    "    \n",
    "    \n",
    "    \n",
    "    \n",
    "    \n",
    "    #bin_centers,bin_contents=simn\n",
    "    #Y=np.sum(bin_contents[(bin_centers >= lower_bound) & (bin_centers <= upper_bound)])\n",
    "    TrueYield=Raw[3]\n",
    "    print(\"f A combinations Determined\")\n",
    "    \n",
    "    Phys=ASYMMETRY.Function_APHYS(config,pas,Raw,accResult,bgResult,fp)\n",
    "    print(\"Aphys Calculated\")\n",
    "    \n",
    "    weighted_A,weighted_A_E,fbackg,rawA,rawAE,totalSys,totalStat=Phys\n",
    "    print('Returned: Aphys, Aphys_E, fbg, cut, cutvalue')\n",
    "    R,RE=CALCULATE.Function_CALCGEN(config,weighted_A,weighted_A_E)\n",
    "    return weighted_A,weighted_A_E,fbackg,cut,value,Y,R,RE,rawA,rawAE,np.mean(Raw[1]),quasicut,totalSys,totalStat\n",
    "\n"
   ]
  },
  {
   "cell_type": "code",
   "execution_count": 10,
   "id": "9ccd2a7c",
   "metadata": {},
   "outputs": [
    {
     "name": "stdout",
     "output_type": "stream",
     "text": [
      "Config: 4\n",
      "Raw Asymmetry Calculated\n",
      "Corrections with rectangular cut.\n",
      "GEN4\n",
      "dx Histogram Fit Completed\n",
      "f A combinations Determined\n",
      "fA Error:0.0027120517730110844+-0.0014158513713036418\n",
      "f Error:0.8077+-0.009224517961227639\n",
      "Aphys Calculated\n",
      "Returned: Aphys, Aphys_E, fbg, cut, cutvalue\n"
     ]
    }
   ],
   "source": [
    "Results=Function_APHYSSENS(config,cut,value,0)"
   ]
  },
  {
   "cell_type": "code",
   "execution_count": null,
   "id": "c8a214e8",
   "metadata": {},
   "outputs": [],
   "source": []
  },
  {
   "cell_type": "code",
   "execution_count": 11,
   "id": "b880f590",
   "metadata": {},
   "outputs": [
    {
     "name": "stdout",
     "output_type": "stream",
     "text": [
      "Kin4 - muN GEN/GMN: 0.8928728043983359+/-0.5378854622415686\n"
     ]
    }
   ],
   "source": [
    "A=Results[0]\n",
    "AE=Results[1]\n",
    "rawA=Results[8]\n",
    "rawAE=Results[9]\n",
    "R=abs(Results[6])\n",
    "RE=Results[7]\n",
    "quasicut=Results[11]\n",
    "systematic=Results[12]\n",
    "statistical=Results[13]\n",
    "print(f\"Kin{config} - muN GEN/GMN: {abs(R*muN)}+/-{abs(RE*muN)}\")\n",
    "\n",
    "#np.save(f'SavedArrays/GEN{config}/Pass{pas}/GEGM.npy',R)\n",
    "#np.save(f'SavedArrays/GEN{config}/Pass{pas}/GEGME.npy',RE)"
   ]
  },
  {
   "cell_type": "code",
   "execution_count": 29,
   "id": "623ccc8a",
   "metadata": {},
   "outputs": [
    {
     "name": "stdout",
     "output_type": "stream",
     "text": [
      "GEN4\n",
      "Araw: -0.0113+-0.0081\n",
      "Aphys: -0.1878+-0.1079\n"
     ]
    }
   ],
   "source": [
    "print(f\"GEN{config}\")\n",
    "print(f\"Araw: {rawA:.4f}+-{rawAE:.4f}\")\n",
    "print(f\"Aphys: {A:.4f}+-{AE:.4f}\")\n"
   ]
  },
  {
   "cell_type": "code",
   "execution_count": 108,
   "id": "50509705",
   "metadata": {},
   "outputs": [
    {
     "name": "stdout",
     "output_type": "stream",
     "text": [
      "Cuts: Coin[95, 106] W2[0, 1.5] dX[-0.481, 0.498] dY[-0.822, 0.8]\n"
     ]
    }
   ],
   "source": [
    "print(f'Cuts: Coin{quasicut[0]} W2{quasicut[1]} dX{quasicut[2]} dY{quasicut[3]}')"
   ]
  },
  {
   "cell_type": "markdown",
   "id": "7dbed4a9",
   "metadata": {},
   "source": [
    "Kin2 - muN GEN/GMN: 0.4847315879194152+/-0.035786597796588764"
   ]
  },
  {
   "cell_type": "markdown",
   "id": "191bdbc2",
   "metadata": {},
   "source": [
    "Elliptical - Kin3 - muN GEN/GMN: 0.8171+/-0.1734"
   ]
  },
  {
   "cell_type": "markdown",
   "id": "49e1caee",
   "metadata": {},
   "source": [
    "Standard - Kin3 - muN GEN/GMN: 0.8075+/-0.1759"
   ]
  },
  {
   "cell_type": "markdown",
   "id": "0c7031de",
   "metadata": {},
   "source": [
    "Kin4 - muN GEN/GMN: 0.8928728043983359+/-0.5378854622415686"
   ]
  },
  {
   "cell_type": "code",
   "execution_count": 117,
   "id": "2d6128ab",
   "metadata": {},
   "outputs": [
    {
     "data": {
      "text/plain": [
       "0.2121959428449041"
      ]
     },
     "execution_count": 117,
     "metadata": {},
     "output_type": "execute_result"
    }
   ],
   "source": [
    ".17338/.817075"
   ]
  },
  {
   "cell_type": "code",
   "execution_count": 118,
   "id": "e3c71fa7",
   "metadata": {},
   "outputs": [
    {
     "data": {
      "text/plain": [
       "0.21779407029450376"
      ]
     },
     "execution_count": 118,
     "metadata": {},
     "output_type": "execute_result"
    }
   ],
   "source": [
    ".17586/.80746"
   ]
  },
  {
   "cell_type": "code",
   "execution_count": 110,
   "id": "4d1e0276",
   "metadata": {},
   "outputs": [],
   "source": [
    "GEGM4E=np.sum(np.load(f'SavedArrays/GEN4/Pass{pas}/GEGME.npy'))"
   ]
  },
  {
   "cell_type": "code",
   "execution_count": 111,
   "id": "1659bf67",
   "metadata": {},
   "outputs": [],
   "source": [
    "GEGM4E=np.sum(np.load(f'SavedArrays/GEN4/Pass{pas}/GEGME.npy'))"
   ]
  },
  {
   "cell_type": "code",
   "execution_count": 112,
   "id": "af0ea8db",
   "metadata": {},
   "outputs": [
    {
     "data": {
      "text/plain": [
       "0.2815711994145258"
      ]
     },
     "execution_count": 112,
     "metadata": {},
     "output_type": "execute_result"
    }
   ],
   "source": [
    "GEGM4E"
   ]
  },
  {
   "cell_type": "code",
   "execution_count": null,
   "id": "01b024c2",
   "metadata": {},
   "outputs": [],
   "source": []
  },
  {
   "cell_type": "markdown",
   "id": "c74f89c1",
   "metadata": {},
   "source": [
    "\\begin{equation}\n",
    "    a = A_{\\perp}\n",
    "\\end{equation}\n",
    "\n",
    "\\begin{equation}\n",
    "b = 2\\sqrt{\\tau(\\tau+1)}\\tan{\\frac{\\theta}{2}}\n",
    "\\end{equation}\n",
    "\n",
    "\\begin{equation}\n",
    "c = A_{\\perp} \\left(\\tau + 2\\tau(1+\\tau)\\tan^2\\frac{\\theta}{2}\\right)\n",
    "\\end{equation}\n"
   ]
  },
  {
   "cell_type": "code",
   "execution_count": 113,
   "id": "c001a936",
   "metadata": {},
   "outputs": [],
   "source": [
    "a=A\n",
    "b=2*(np.sqrt(tau*(tau+1))*np.tan(theta/2))\n",
    "c=A*(tau+2*tau*(1+tau)*np.tan(theta/2)**2)\n",
    "aE=AE\n",
    "cE=AE*(tau+2*tau*(1+tau)*np.tan(theta/2)**2)\n"
   ]
  },
  {
   "cell_type": "code",
   "execution_count": 114,
   "id": "b5d3daa8",
   "metadata": {},
   "outputs": [],
   "source": [
    "def RAT(a, b, c, aE, cE):\n",
    "    R = (-b + np.sqrt(b**2 - 4 * a * c)) / (2 * a)\n",
    "    \n",
    "    # Calculate the partial derivatives\n",
    "    p1=(-b**2)/np.sqrt(b**2-4*a*c)\n",
    "    p2=(2*a*c)/np.sqrt(b**2-4*a*c)\n",
    "    p3=b\n",
    "    partial_a = (p1+p2+p3)/(2*a**2)\n",
    "    partial_c = -1 / (np.sqrt(b**2 - 4 * a * c))\n",
    "    \n",
    "    # Calculate the propagated error\n",
    "    RE = np.sqrt((partial_a * aE)**2 + (partial_c * cE)**2)\n",
    "    \n",
    "    return R,RE\n"
   ]
  },
  {
   "cell_type": "code",
   "execution_count": 115,
   "id": "d21769c8",
   "metadata": {},
   "outputs": [
    {
     "name": "stdout",
     "output_type": "stream",
     "text": [
      "Cuts: Coin[95, 106] W2[0, 1.5] dX[-0.481, 0.498] dY[-0.822, 0.8]\n"
     ]
    }
   ],
   "source": [
    "print(f'Cuts: Coin{quasicut[0]} W2{quasicut[1]} dX{quasicut[2]} dY{quasicut[3]}')"
   ]
  },
  {
   "cell_type": "code",
   "execution_count": null,
   "id": "cdbb1253",
   "metadata": {},
   "outputs": [],
   "source": []
  },
  {
   "cell_type": "code",
   "execution_count": null,
   "id": "dc2a7c9d",
   "metadata": {},
   "outputs": [],
   "source": []
  },
  {
   "cell_type": "code",
   "execution_count": null,
   "id": "66319f68",
   "metadata": {},
   "outputs": [],
   "source": []
  },
  {
   "cell_type": "code",
   "execution_count": null,
   "id": "101e649b",
   "metadata": {},
   "outputs": [],
   "source": []
  },
  {
   "cell_type": "code",
   "execution_count": null,
   "id": "bf0c1eb2",
   "metadata": {},
   "outputs": [],
   "source": []
  },
  {
   "cell_type": "code",
   "execution_count": null,
   "id": "32c54f22",
   "metadata": {},
   "outputs": [],
   "source": []
  },
  {
   "cell_type": "code",
   "execution_count": null,
   "id": "aa9a1b32",
   "metadata": {},
   "outputs": [],
   "source": []
  }
 ],
 "metadata": {
  "kernelspec": {
   "display_name": "Python 3 (ipykernel)",
   "language": "python",
   "name": "python3"
  },
  "language_info": {
   "codemirror_mode": {
    "name": "ipython",
    "version": 3
   },
   "file_extension": ".py",
   "mimetype": "text/x-python",
   "name": "python",
   "nbconvert_exporter": "python",
   "pygments_lexer": "ipython3",
   "version": "3.8.10"
  }
 },
 "nbformat": 4,
 "nbformat_minor": 5
}
