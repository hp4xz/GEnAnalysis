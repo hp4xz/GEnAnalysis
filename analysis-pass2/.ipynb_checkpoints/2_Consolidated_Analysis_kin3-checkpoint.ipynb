{
 "cells": [
  {
   "cell_type": "code",
   "execution_count": 2,
   "id": "bfcfa0b2",
   "metadata": {},
   "outputs": [
    {
     "name": "stdout",
     "output_type": "stream",
     "text": [
      "Welcome to JupyROOT 6.26/06\n"
     ]
    }
   ],
   "source": [
    "import ROOT as r\n",
    "import math\n",
    "import array\n",
    "import os\n",
    "import sys\n",
    "import matplotlib.pyplot as plt\n",
    "import numpy as np\n",
    "from math import pi\n",
    "import pandas as pd\n",
    "\n",
    "#______________Add include directory_______________\n",
    "current_dir = os.getcwd()\n",
    "include_dir = os.path.join(current_dir, '../include')\n",
    "sys.path.insert(0, include_dir)\n",
    "#__________________________________________________\n",
    "import ERROR\n",
    "import CONFIG\n",
    "import DBPARSE\n",
    "from PXPY import *\n",
    "from ASYMMETRY import *\n",
    "from UTILITIES import *\n",
    "from SIMFITS import DistributionFits\n",
    "from ROOT import gStyle, TChain, TH1F, TCanvas, TLegend\n",
    "import CORRECTIONS\n",
    "import CALCULATE\n",
    "import GETFF\n",
    "from joblib import Parallel, delayed\n",
    "import importlib\n",
    "#importlib.reload(ASYMMETRY)"
   ]
  },
  {
   "cell_type": "code",
   "execution_count": 3,
   "id": "908f5996",
   "metadata": {},
   "outputs": [],
   "source": [
    "###############################################################################\n",
    "###############################################################################\n",
    "\n",
    "#NEEDS INELASTIC ASYMMETRY, NITROGEN CONTAMINATION\n",
    "\n",
    "###############################################################################\n",
    "###############################################################################"
   ]
  },
  {
   "cell_type": "code",
   "execution_count": 4,
   "id": "29a95212",
   "metadata": {},
   "outputs": [],
   "source": [
    "Pass=\"2\"\n",
    "config=\"3\"\n",
    "generic=np.load(f\"/media/research/TOSHIBA EXT/GEn/NumpyData/Pass{Pass}/GEN{config}/He3/final{1}.npz\")\n"
   ]
  },
  {
   "cell_type": "code",
   "execution_count": 5,
   "id": "d8019442",
   "metadata": {},
   "outputs": [
    {
     "name": "stdout",
     "output_type": "stream",
     "text": [
      "W2min: -1\n",
      "W2max: 2\n",
      "dxmin: -0.4\n",
      "dxmax: 0.4\n",
      "dymin: -0.5\n",
      "dymax: 0.5\n",
      "dybgmin: -1.3\n",
      "dybgmax: 1.2\n",
      "Q2: 6.83\n",
      "Coin Min: 121 Coin Max: 134\n"
     ]
    }
   ],
   "source": [
    "W2min=CONFIG.Function_JSON(\"W2min\",f\"../config/Pass{Pass}/cuts{config}.cfg\")\n",
    "W2max=CONFIG.Function_JSON(\"W2max\",f\"../config/Pass{Pass}/cuts{config}.cfg\")\n",
    "dxmin=CONFIG.Function_JSON(\"dxmin\",f\"../config/Pass{Pass}/cuts{config}.cfg\")\n",
    "dxmax=CONFIG.Function_JSON(\"dxmax\",f\"../config/Pass{Pass}/cuts{config}.cfg\")\n",
    "dymin=CONFIG.Function_JSON(\"dymin\",f\"../config/Pass{Pass}/cuts{config}.cfg\")\n",
    "dymax=CONFIG.Function_JSON(\"dymax\",f\"../config/Pass{Pass}/cuts{config}.cfg\")\n",
    "dybgmin=CONFIG.Function_JSON(\"dybgmin\",f\"../config/Pass{Pass}/cuts{config}.cfg\")\n",
    "dybgmax=CONFIG.Function_JSON(\"dybgmax\",f\"../config/Pass{Pass}/cuts{config}.cfg\")\n",
    "coinmin=CONFIG.Function_JSON(\"coinmin\",f\"../config/Pass{Pass}/cuts{config}.cfg\")\n",
    "coinmax=CONFIG.Function_JSON(\"coinmax\",f\"../config/Pass{Pass}/cuts{config}.cfg\")\n",
    "Q2=CONFIG.Function_JSON(\"Q2\",f\"../config/Pass{Pass}/cuts{config}.cfg\")\n",
    "\n",
    "#  \"dxmin\"\t: -0.481,\n",
    "#  \"dxmax\"\t: 0.498, old gen2\n",
    "\n",
    "\n",
    "print(f'W2min: {W2min}')\n",
    "print(f'W2max: {W2max}')\n",
    "print(f'dxmin: {dxmin}')\n",
    "print(f'dxmax: {dxmax}')\n",
    "print(f'dymin: {dymin}')\n",
    "print(f'dymax: {dymax}')\n",
    "print(f'dybgmin: {dybgmin}')\n",
    "print(f'dybgmax: {dybgmax}')\n",
    "print(f'Q2: {Q2}')\n",
    "print(f'Coin Min: {coinmin} Coin Max: {coinmax}')\n",
    "\n",
    "W2min=-1.9\n",
    "#dymin=-1\n",
    "#W2max=2"
   ]
  },
  {
   "cell_type": "code",
   "execution_count": 6,
   "id": "03d2eff1",
   "metadata": {},
   "outputs": [],
   "source": [
    "#in GeV^2\n",
    "m=.939565\n",
    "Mp=.938\n",
    "muN=-1.9103\n",
    "if config==\"2\":\n",
    "    Q2=3\n",
    "    tau=Q2/(4*m**2)\n",
    "    theta=29.5*pi/180\n",
    "if config==\"3\":\n",
    "    Q2=6.83\n",
    "    #Q2=6.62 #seans number\n",
    "    tau=Q2/(4*m**2)\n",
    "    theta=36.5*pi/180\n",
    "if config==\"4\":\n",
    "    Q2=9.82\n",
    "    tau=Q2/(4*m**2)\n",
    "    theta=35*pi/180"
   ]
  },
  {
   "cell_type": "markdown",
   "id": "e9e3a4ef",
   "metadata": {},
   "source": [
    "# Target Spin Direction"
   ]
  },
  {
   "cell_type": "code",
   "execution_count": 7,
   "id": "ef1bd16a",
   "metadata": {},
   "outputs": [],
   "source": [
    "if config==\"2\":\n",
    "    spintheta=59.34\n",
    "    spinphi=1.84\n",
    "if config==\"3\":\n",
    "    spintheta=70.94\n",
    "    spinphi=.51\n",
    "if config==\"4\":\n",
    "    spintheta=74.07\n",
    "    spinphi=.55\n",
    "\n",
    "\n",
    "\n"
   ]
  },
  {
   "cell_type": "code",
   "execution_count": null,
   "id": "afd291e4",
   "metadata": {},
   "outputs": [],
   "source": []
  },
  {
   "cell_type": "code",
   "execution_count": 8,
   "id": "44b09662",
   "metadata": {},
   "outputs": [
    {
     "name": "stdout",
     "output_type": "stream",
     "text": [
      "['nu', 'Q2', 'W2', 'vz', 'vx', 'vy', 'dx', 'dy', 'eSH', 'ePS', 'etheta', 'ephi', 'trP', 'fnucl', 'weight']\n",
      "['nu', 'Q2', 'W2', 'vz', 'vx', 'vy', 'dx', 'dy', 'eSH', 'ePS', 'etheta', 'trP', 'fnucl', 'weight', 'mc_sig', 'mc_sigOld', 'mc_sigPol', 'mc_BETA', 'mc_THETA']\n"
     ]
    }
   ],
   "source": [
    "\n",
    "fileNum=1\n",
    "simconfig=config\n",
    "if config==\"4a\" or config==\"4b\":\n",
    "    simconfig=\"4\"\n",
    "genericSim=np.load(f\"/media/research/TOSHIBA EXT/GEn/NumpySim/GEN{simconfig}/simulation0.npz\")\n",
    "genericSimIN=np.load(f\"/media/research/TOSHIBA EXT/GEn/NumpySim/GEN3/insimulation0.npz\")\n",
    "\n",
    "print(genericSim.files)\n",
    "print(genericSimIN.files)\n",
    "\n"
   ]
  },
  {
   "cell_type": "code",
   "execution_count": null,
   "id": "c41aa6fa",
   "metadata": {},
   "outputs": [],
   "source": []
  },
  {
   "cell_type": "code",
   "execution_count": 9,
   "id": "1fb214fb",
   "metadata": {},
   "outputs": [],
   "source": [
    "#%load_ext memory_profiler\n",
    "#%memit doit()\n"
   ]
  },
  {
   "cell_type": "code",
   "execution_count": 10,
   "id": "0e2e5a6b",
   "metadata": {},
   "outputs": [],
   "source": [
    "dataTarget = pd.read_csv('../DB/ProcessedHe3Pol.csv')\n",
    "dataBeam = pd.read_csv('../DB/ProcessedBeamPol.csv')\n",
    "target_run_num = dataTarget['Run Number'].to_numpy()\n",
    "target_pol = dataTarget['Polarization'].to_numpy()\n",
    "target_polE=dataTarget['Error'].to_numpy()\n",
    "beam_run_num = dataBeam['Run Number'].to_numpy()\n",
    "beam_pol = dataBeam['Polarization'].to_numpy()\n",
    "beam_polE=dataBeam['Error'].to_numpy()"
   ]
  },
  {
   "cell_type": "code",
   "execution_count": null,
   "id": "d0979523",
   "metadata": {},
   "outputs": [],
   "source": []
  },
  {
   "cell_type": "code",
   "execution_count": null,
   "id": "87860b28",
   "metadata": {},
   "outputs": [],
   "source": []
  },
  {
   "cell_type": "code",
   "execution_count": 11,
   "id": "8902e68f",
   "metadata": {
    "scrolled": true
   },
   "outputs": [
    {
     "name": "stdout",
     "output_type": "stream",
     "text": [
      "hehe\n"
     ]
    }
   ],
   "source": [
    "print(\"hehe\")"
   ]
  },
  {
   "cell_type": "code",
   "execution_count": 12,
   "id": "a2fd7ae1",
   "metadata": {},
   "outputs": [
    {
     "name": "stdout",
     "output_type": "stream",
     "text": [
      "NumPy array directory = /media/research/TOSHIBA EXT/GEn/NumpyData/Pass2/GEN3/He3\n",
      "Loading in file 0\n",
      "using grinch cut\n",
      "Loading in file 1\n",
      "using grinch cut\n",
      "Loading in file 2\n",
      "using grinch cut\n",
      "Loading in file 3\n",
      "using grinch cut\n",
      "Loading in file 4\n",
      "using grinch cut\n",
      "Loading in file 5\n",
      "using grinch cut\n",
      "Loading in file 6\n",
      "using grinch cut\n",
      "Loading in file 7\n",
      "using grinch cut\n",
      "Loading in file 8\n",
      "using grinch cut\n",
      "Loading in file 9\n",
      "using grinch cut\n",
      "Loading in file 10\n",
      "using grinch cut\n",
      "Loading in file 11\n",
      "using grinch cut\n",
      "Loading in file 12\n",
      "using grinch cut\n",
      "Loading in file 13\n",
      "using grinch cut\n",
      "Loading in file 14\n",
      "using grinch cut\n",
      "Loading in file 15\n",
      "using grinch cut\n",
      "Loading in file 16\n",
      "using grinch cut\n",
      "Loading in file 17\n",
      "using grinch cut\n",
      "Loading in file 18\n",
      "using grinch cut\n",
      "Loading in file 19\n",
      "using grinch cut\n",
      "Loading in file 20\n",
      "using grinch cut\n",
      "Loading in file 21\n",
      "using grinch cut\n",
      "Loading in file 22\n",
      "using grinch cut\n",
      "Loading in file 23\n",
      "using grinch cut\n",
      "Loading in file 24\n",
      "using grinch cut\n",
      "Loading in file 25\n",
      "using grinch cut\n",
      "Loading in file 26\n",
      "using grinch cut\n",
      "Loading in file 27\n",
      "using grinch cut\n",
      "Loading in file 28\n",
      "using grinch cut\n",
      "Loading in file 29\n",
      "using grinch cut\n",
      "Loading in file 30\n",
      "using grinch cut\n",
      "Loaded 31 files into genericMaster.\n",
      "CPU times: user 37.6 s, sys: 54.7 s, total: 1min 32s\n",
      "Wall time: 3min 7s\n"
     ]
    }
   ],
   "source": [
    "%%time\n",
    "if(len(generic[\"dx\"])<3000000):\n",
    "    \n",
    "    useGrinch=True\n",
    "\n",
    "    \n",
    "    genericMaster = {}\n",
    "    base_dir = f\"/media/research/TOSHIBA EXT/GEn/NumpyData/Pass{Pass}/GEN{config}/He3\"\n",
    "    i = 0\n",
    "    print(f\"NumPy array directory = {base_dir}\")\n",
    "    while os.path.exists(f\"{base_dir}/final{i}.npz\"):\n",
    "        print(f\"Loading in file {i}\")\n",
    "        #if i>10:            #GPS\n",
    "        #    break            #GPS\n",
    "        file_path = f\"{base_dir}/final{i}.npz\"\n",
    "        data = np.load(file_path)\n",
    "\n",
    "        cut=(data[\"ePS\"]>0.2)\n",
    "        if Pass==\"2\":\n",
    "            grinchcut=(data[\"grinch_clus_size\"]>=2)&(data[\"grinch_clus_trackindex\"]==0)\n",
    "            antigrinchcut=(data[\"grinch_clus_size\"]<2)|(data[\"grinch_clus_trackindex\"]!=0)\n",
    "            #pscut=(data[\"ePS\"]>0) #GPS\n",
    "            pscut=(data[\"ePS\"]>0.2)\n",
    "            if useGrinch:\n",
    "                print(\"using grinch cut\")\n",
    "                #cut=antigrinchcut  #ANTIG\n",
    "                cut=grinchcut\n",
    "            else:\n",
    "                print(\"using ps cut\")\n",
    "                cut=pscut\n",
    "        for key in data.files:\n",
    "            if key not in genericMaster:\n",
    "                cut_data = data[key][cut]\n",
    "                genericMaster[key] = cut_data\n",
    "\n",
    "            else:\n",
    "                cut_data = data[key][cut]\n",
    "                genericMaster[key] = np.concatenate((genericMaster[key], cut_data))\n",
    "\n",
    "        data.close()\n",
    "        i += 1\n",
    "\n",
    "    print(f\"Loaded {i} files into genericMaster.\")\n"
   ]
  },
  {
   "cell_type": "code",
   "execution_count": 13,
   "id": "1ba95849",
   "metadata": {},
   "outputs": [],
   "source": [
    "generic=genericMaster"
   ]
  },
  {
   "cell_type": "markdown",
   "id": "f3307d33",
   "metadata": {},
   "source": [
    "# Cuts"
   ]
  },
  {
   "cell_type": "markdown",
   "id": "cf14897c",
   "metadata": {},
   "source": [
    "### Making the correct helicity"
   ]
  },
  {
   "cell_type": "code",
   "execution_count": 14,
   "id": "aecbb83a",
   "metadata": {},
   "outputs": [],
   "source": [
    "IHWP_IN=np.where(generic[\"IHWP\"]==1)\n",
    "helicity=generic[\"helicity\"]\n",
    "helicity[IHWP_IN]*=-1"
   ]
  },
  {
   "cell_type": "markdown",
   "id": "ba95c9ee",
   "metadata": {},
   "source": [
    "### Cuts for data, bgsim, np sim "
   ]
  },
  {
   "cell_type": "code",
   "execution_count": 15,
   "id": "585486ce",
   "metadata": {},
   "outputs": [],
   "source": [
    "bbcalE=generic[\"eSH\"]+generic[\"ePS\"]\n",
    "gemP=generic[\"trP\"]\n",
    "\n",
    "wcut=(generic[\"W2\"] < W2max)&(generic[\"W2\"]>W2min) \n",
    "dycut=(generic[\"dy\"]<dymax)&(generic[\"dy\"]>dymin) \n",
    "dxcut=(generic[\"dx\"] < dxmax)&(generic[\"dx\"]>dxmin) \n",
    "coincut=(coinmin < generic[\"coin_time\"])&(generic[\"coin_time\"] < coinmax)\n",
    "epcut=abs(bbcalE/gemP-.95)<.25\n",
    "runnumcut=generic[\"runnum\"]>2165\n",
    "\n",
    "fullcut=wcut & dycut & dxcut & coincut&epcut&runnumcut\n",
    "fullcutfordx=wcut&dycut&coincut&epcut&runnumcut\n",
    "accidentalcut=wcut&dycut&dxcut&epcut&runnumcut\n",
    "\n",
    "\n",
    "anticoincut=(coinmin-8 > generic[\"coin_time\"])|(generic[\"coin_time\"] > coinmax+5)\n",
    "\n",
    "hpluscut=helicity==1\n",
    "hminuscut=helicity==-1\n",
    "\n",
    "bgcut=(genericSimIN[\"W2\"] < W2max)&(genericSimIN[\"W2\"]>W2min)\n",
    "antibgcut=(abs(generic[\"dy\"])>1.2)&wcut&coincut\n",
    "Simwcut=(genericSim[\"W2\"] < W2max)&(genericSim[\"W2\"]>W2min) \n",
    "Simdycut=(abs(genericSim[\"dy\"]) < 0.5) \n",
    "Simdxcut=(genericSim[\"dx\"] < dxmax)&(genericSim[\"dx\"]>dxmin) \n",
    "Simfullcut=Simwcut & Simdycut & Simdxcut\n",
    "\n",
    "InSimdxcut=(genericSimIN[\"dx\"] < dxmax)&(genericSimIN[\"dx\"]>dxmin)\n",
    "InSimdycut=(genericSimIN[\"dy\"] < dymax)&(genericSimIN[\"dy\"]>dymin)\n",
    "\n",
    "protoncut=genericSim[\"fnucl\"]==1\n",
    "neutroncut=genericSim[\"fnucl\"]==0\n",
    "weight=genericSim[\"weight\"]\n",
    "\n",
    "\n",
    "\n",
    "sigma=genericSimIN[\"mc_sig\"]\n",
    "sigmaold=genericSimIN[\"mc_sigOld\"]\n",
    "sigmapol=genericSimIN[\"mc_sigPol\"]\n",
    "THETA=genericSimIN[\"mc_THETA\"]\n",
    "BETA=genericSimIN[\"mc_BETA\"]\n",
    "Q2_in=genericSimIN[\"Q2\"]\n",
    "nu_in=genericSimIN[\"nu\"]\n",
    "W2_in=genericSimIN[\"W2\"]\n",
    "x_in  = Q2_in/(2.0*Mp*nu_in)\n",
    "dy_in=genericSimIN[\"dy\"]\n",
    "dx_in=genericSimIN[\"dx\"]\n",
    "\n",
    "dy_incut=(dy_in<dymax)&(dy_in>dymin)\n",
    "bgcut=(W2_in<W2max)&(W2_in>W2min)#&(abs(dy_in) < 0.5)#&(sigma<1e-39)##&(Q2<6.1)#\n",
    "sigmacut=(sigma>6e-39)\n",
    "goodsigmacut=sigma<.4e-37"
   ]
  },
  {
   "cell_type": "code",
   "execution_count": null,
   "id": "52cd2d33",
   "metadata": {},
   "outputs": [],
   "source": []
  },
  {
   "cell_type": "markdown",
   "id": "8345fb26",
   "metadata": {},
   "source": [
    "# Peak at Cut Variables"
   ]
  },
  {
   "cell_type": "code",
   "execution_count": 16,
   "id": "5f00a28f",
   "metadata": {},
   "outputs": [
    {
     "data": {
      "image/png": "[encoded data removed]",
      "text/plain": [
       "<Figure size 640x480 with 1 Axes>"
      ]
     },
     "metadata": {},
     "output_type": "display_data"
    }
   ],
   "source": [
    "d=plt.hist(bbcalE/gemP,bins=80,range=(0,2),color='dodgerblue')\n",
    "plt.axvline(1,color='black')\n",
    "plt.title(\"(SH+PS)/trackP\")\n",
    "epcut=abs(bbcalE/gemP-.95)<.25"
   ]
  },
  {
   "cell_type": "code",
   "execution_count": 17,
   "id": "42a987ad",
   "metadata": {},
   "outputs": [
    {
     "data": {
      "image/png": "[encoded data removed]",
      "text/plain": [
       "<Figure size 640x480 with 1 Axes>"
      ]
     },
     "metadata": {},
     "output_type": "display_data"
    }
   ],
   "source": [
    "d=plt.hist(generic[\"W2\"],bins=80,range=(-2,3),color='dodgerblue',histtype='step')\n",
    "d=plt.hist(generic[\"W2\"][dxcut],bins=80,range=(-2,3),color='red',label='dxcut',histtype='step')\n",
    "d=plt.hist(generic[\"W2\"][coincut],bins=80,range=(-2,3),color='orange',label='coincut',histtype='step')\n",
    "d=plt.hist(generic[\"W2\"][dycut],bins=80,range=(-2,3),color='green',label='dycut',histtype='step')\n",
    "d=plt.hist(generic[\"W2\"][dxcut&coincut&dycut],bins=80,range=(-2,3),color='black',label='fullcut',histtype='step')\n",
    "plt.legend(loc='upper left')\n",
    "plt.title(\"W2\")\n",
    "plt.yscale(\"log\")\n"
   ]
  },
  {
   "cell_type": "code",
   "execution_count": 18,
   "id": "d3f4ae51",
   "metadata": {},
   "outputs": [
    {
     "data": {
      "image/png": "[encoded data removed]",
      "text/plain": [
       "<Figure size 640x480 with 1 Axes>"
      ]
     },
     "metadata": {},
     "output_type": "display_data"
    }
   ],
   "source": [
    "d=plt.hist(generic[\"dy\"],bins=80,range=(-2,3),color='dodgerblue',histtype='step')\n",
    "d=plt.hist(generic[\"dy\"][dxcut],bins=80,range=(-2,3),color='red',label='dxcut',histtype='step')\n",
    "d=plt.hist(generic[\"dy\"][coincut],bins=80,range=(-2,3),color='orange',label='coincut',histtype='step')\n",
    "d=plt.hist(generic[\"dy\"][wcut],bins=80,range=(-2,3),color='green',label='wcut',histtype='step')\n",
    "d=plt.hist(generic[\"dy\"][dxcut&coincut&wcut],bins=80,range=(-2,3),color='black',label='fullcut',histtype='step')\n",
    "plt.legend(loc='upper left')\n",
    "plt.title(\"dy\")\n",
    "plt.yscale(\"log\")\n"
   ]
  },
  {
   "cell_type": "code",
   "execution_count": 19,
   "id": "e3916229",
   "metadata": {},
   "outputs": [
    {
     "data": {
      "image/png": "[encoded data removed]",
      "text/plain": [
       "<Figure size 640x480 with 1 Axes>"
      ]
     },
     "metadata": {},
     "output_type": "display_data"
    }
   ],
   "source": [
    "d=plt.hist(generic[\"dx\"],bins=80,range=(-4,3),color='dodgerblue',histtype='step')\n",
    "d=plt.hist(generic[\"dx\"][dycut],bins=80,range=(-4,3),color='red',label='dycut',histtype='step')\n",
    "d=plt.hist(generic[\"dx\"][coincut],bins=80,range=(-4,3),color='orange',label='coincut',histtype='step')\n",
    "d=plt.hist(generic[\"dx\"][wcut],bins=80,range=(-4,3),color='green',label='wcut',histtype='step')\n",
    "d=plt.hist(generic[\"dx\"][dycut&coincut&wcut],bins=80,range=(-4,3),color='black',label='fullcut',histtype='step')\n",
    "plt.legend(loc='upper left')\n",
    "plt.title(\"dx\")\n",
    "plt.yscale(\"log\")\n"
   ]
  },
  {
   "cell_type": "code",
   "execution_count": 20,
   "id": "18b3e42c",
   "metadata": {},
   "outputs": [
    {
     "data": {
      "image/png": "[encoded data removed]",
      "text/plain": [
       "<Figure size 640x480 with 1 Axes>"
      ]
     },
     "metadata": {},
     "output_type": "display_data"
    }
   ],
   "source": [
    "d=plt.hist(generic[\"coin_time\"]-130,bins=80,range=(-20,20),color='dodgerblue',histtype='step')\n",
    "d=plt.hist(generic[\"coin_time\"][dycut]-130,bins=80,range=(-20,20),color='red',label='dycut',histtype='step')\n",
    "d=plt.hist(generic[\"coin_time\"][dxcut]-130,bins=80,range=(-20,20),color='orange',label='dxcut',histtype='step')\n",
    "d=plt.hist(generic[\"coin_time\"][wcut]-130,bins=80,range=(-20,20),color='green',label='wcut',histtype='step')\n",
    "d=plt.hist(generic[\"coin_time\"][dycut&wcut&dxcut]-130,bins=80,range=(-20,20),color='black',label='fullcut',histtype='step')\n",
    "plt.legend(loc='upper left')\n",
    "plt.title(\"coin\")\n",
    "plt.yscale(\"log\")\n"
   ]
  },
  {
   "cell_type": "markdown",
   "id": "a061e4f7",
   "metadata": {},
   "source": [
    "# Entire Analysis"
   ]
  },
  {
   "cell_type": "code",
   "execution_count": 21,
   "id": "80553194",
   "metadata": {},
   "outputs": [],
   "source": [
    "\n",
    "def weighted_avg(values, errors):\n",
    "    values = np.asarray(values)\n",
    "    errors = np.asarray(errors)\n",
    "    \n",
    "    mask = (errors > 0) & np.isfinite(errors)\n",
    "    if not np.any(mask):\n",
    "        raise ValueError(\"No valid data points: all errors are zero, negative, or non-finite.\")\n",
    "\n",
    "    weights = 1 / errors[mask]**2\n",
    "    avg = np.sum(values[mask] * weights) / np.sum(weights)\n",
    "    err = np.sqrt(1 / np.sum(weights))\n",
    "    \n",
    "    return avg, err\n"
   ]
  },
  {
   "cell_type": "code",
   "execution_count": 22,
   "id": "6e4ea198",
   "metadata": {},
   "outputs": [],
   "source": [
    "\n",
    "if config==\"2\":\n",
    "    Lower=-5\n",
    "    Upper=2\n",
    "\n",
    "else:\n",
    "    Lower=-4\n",
    "    Upper=2.5\n",
    "\n",
    "def Function_Fitdx(wcut,dycut,dxcut,coincut,fullcutfordx,protoncut,\n",
    "                  neutroncut,Simwcut,Simdycut,bgcut,weight):\n",
    "    \n",
    "\n",
    "    counts_p, bin_edges = np.histogram(genericSim[\"dx\"][protoncut&Simwcut&Simdycut],   ####.065\n",
    "                                       bins=150, range=(Lower, Upper),\n",
    "                                       weights=weight[protoncut&Simwcut&Simdycut])\n",
    "\n",
    "    counts_n, _         = np.histogram(genericSim[\"dx\"][neutroncut&Simwcut&Simdycut],\n",
    "                                       bins=bin_edges,\n",
    "                                       weights=weight[neutroncut&Simwcut&Simdycut])\n",
    "    #bgcut:  [bgcut&(goodsigmacut)]\n",
    "    counts_bg,_         = np.histogram(dx_in[bgcut&(goodsigmacut)],\n",
    "                                       bins=bin_edges,weights=sigma[bgcut&(goodsigmacut)])\n",
    "    #counts_bg,_         = np.histogram(dx_in[bgcut&(goodsigmacut)],\n",
    "    #                                   bins=bin_edges,weights=sigmaold[bgcut&(goodsigmacut)])\n",
    "    #counts_bg,_         = np.histogram(generic[\"dx\"][antibgcut],\n",
    "    #                                   bins=bin_edges)\n",
    "\n",
    "    counts_data, _      = np.histogram(generic[\"dx\"][fullcutfordx], bins=bin_edges)\n",
    "\n",
    "\n",
    "    counts_p = counts_p.astype(float)\n",
    "    counts_n = counts_n.astype(float)\n",
    "    counts_bg = counts_bg.astype(float)\n",
    "    #counts_acc = counts_acc.astype(float)\n",
    "    counts_data = counts_data.astype(float)\n",
    "    bin_centers = (bin_edges[:-1] + bin_edges[1:]) / 2\n",
    "    shape=(\"from data\")\n",
    "    if config==\"2\":\n",
    "        shape=(\"pol2\")\n",
    "    fit_obj = DistributionFits(bg_shape_option=shape)\n",
    "    fit_obj.hdx_data = [bin_centers, counts_data]\n",
    "    fit_obj.hdx_sim_p = [bin_centers, counts_p]\n",
    "    fit_obj.hdx_sim_n = [bin_centers, counts_n]\n",
    "    fit_obj.hdx_bg_data = [bin_centers, counts_bg] \n",
    "    #fit_obj.hdx_acc_data = [bin_centers, counts_acc] \n",
    "\n",
    "\n",
    "    if shape==\"from data+acc\":\n",
    "        bg_fit, total_fit, sim_p_scaled, sim_n_scaled,pop0,pop1,pop2,pop3,scale,acc_fit= fit_obj.He3_fit_dists(True)\n",
    "    else:\n",
    "        bg_fit, total_fit, sim_p_scaled, sim_n_scaled,pop0,pop1,pop2,scale= fit_obj.He3_fit_dists(True)\n",
    "\n",
    "    return bg_fit,total_fit,sim_p_scaled,sim_n_scaled,bin_centers,counts_data\n",
    "def Function_Plotdx(bg_fit,total_fit,sim_p_scaled,sim_n_scaled,bin_centers,counts_data):\n",
    "    # Style config\n",
    "    import matplotlib.pyplot as plt\n",
    "    from matplotlib.lines import Line2D\n",
    "    from matplotlib.patches import Patch\n",
    "    fig, ax = plt.subplots(figsize=(10, 8))\n",
    "    lw = 1.4\n",
    "    l = 3\n",
    "    fs = 16\n",
    "    fw = 'bold'\n",
    "    a = 1  # transparency for bars\n",
    "    bin_width = bin_centers[1] - bin_centers[0]\n",
    "\n",
    "    # Optional override\n",
    "    if config == \"2\":\n",
    "        lw = 1\n",
    "        l = 3\n",
    "        typ = \"4th Order Poly\"\n",
    "    else:\n",
    "        typ = \"Background Data\"\n",
    "\n",
    "\n",
    "\n",
    "    # --------- Total Fit ---------hatch='///',\n",
    "    ax.bar(bin_centers, total_fit, width=bin_width, align='center', alpha=0.7, color='orange', label=\"MC Fit = MC + Background\")\n",
    "    ax.plot(bin_centers, total_fit, '--', color='black', linewidth=lw)\n",
    "\n",
    "    # --------- Inelastic ---------\n",
    "    ax.bar(bin_centers, bg_fit, width=bin_width, align='center', alpha=0.7, color='magenta', label=\"MC Inelastic\")\n",
    "    ax.plot(bin_centers, bg_fit, '--', color='black', linewidth=lw)\n",
    "\n",
    "    # --------- Accidental ---------\n",
    "    #ax.bar(bin_centers, acc_fit, width=bin_width, align='center', alpha=0.5, color='magenta', label=\"MC Inelastic\")\n",
    "    #ax.plot(bin_centers, acc_fit, '--', color='black', linewidth=lw)\n",
    "\n",
    "    # --------- Sim Proton ---------\n",
    "    ax.bar(bin_centers, sim_p_scaled, width=bin_width, align='center', alpha=0.7, color='red', label=\"MC Proton\")\n",
    "    ax.plot(bin_centers, sim_p_scaled, '--', color='black', linewidth=lw)\n",
    "\n",
    "    # --------- Sim Neutron ---------\n",
    "    ax.bar(bin_centers, sim_n_scaled, width=bin_width, align='center', alpha=0.7, color='dodgerblue', label=\"MC Neutron\")\n",
    "    ax.plot(bin_centers, sim_n_scaled, '--', color='black', linewidth=lw)\n",
    "\n",
    "    # --------- Data Line ---------\n",
    "    ax.bar(bin_centers, counts_data, width=bin_width, align='center', alpha=.01, color='white',label=\"Data\")\n",
    "    ax.plot(bin_centers, counts_data, '-', color='grey',alpha=.8, linewidth=l, label='Data')\n",
    "\n",
    "    # --------- Custom Legend ---------\n",
    "    legend_elements = [\n",
    "        Line2D([0], [0], color='grey', linewidth=3, linestyle='-', label='Data'),\n",
    "        Patch(facecolor='orange', edgecolor='black', linestyle='--', label='MC Fit = MC + Background', alpha=a),\n",
    "        Patch(facecolor='magenta', edgecolor='black', linestyle='--', label='MC Bosted Model', alpha=a),\n",
    "        Patch(facecolor='red', edgecolor='black', linestyle='--', label='MC Proton', alpha=a),\n",
    "        Patch(facecolor='dodgerblue', edgecolor='black', linestyle='--', label='MC Neutron', alpha=a)\n",
    "    ]\n",
    "    ax.legend(handles=legend_elements, loc='upper right', fontsize=fs)\n",
    "    # --------- Labels, ticks, etc. ---------\n",
    "    ax.set_title(f'Data/Simulation Comparison for GEN{config}: Δx (m)', fontsize=fs, fontweight=fw)\n",
    "    ax.set_xlabel(r'$\\Delta x$ (m)', fontsize=fs, fontweight=fw)\n",
    "    ax.set_ylabel('Entries', fontsize=fs, fontweight=fw)\n",
    "    ax.tick_params(axis='both', labelsize=fs-4)\n",
    "    plt.xticks(fontsize=fs-4, fontweight=fw)\n",
    "    plt.yticks(fontsize=fs-4, fontweight=fw)\n",
    "    plt.tight_layout()\n",
    "    #plt.yscale(\"log\")\n",
    "    plt.axvline(dxmin,color='black')\n",
    "    plt.axvline(dxmax,color='black')\n",
    "    # --------- Save and show ---------\n",
    "    #plt.savefig(f'../plots/DataSimPass{pas}GEN{config}.png')\n",
    "    plt.show()\n",
    "\n",
    "    # Optional: Check total counts\n",
    "    print(\"Total entries in fit:\", np.sum(total_fit))\n"
   ]
  },
  {
   "cell_type": "code",
   "execution_count": 23,
   "id": "b2a006f1",
   "metadata": {},
   "outputs": [],
   "source": [
    "\n",
    "def Function_Acc(W2min,W2max,coinmin,coinmax,dymin,dymax,dxmin,dxmax):\n",
    "    \n",
    "    accBinRange=100\n",
    "    #plt.figure(figsize=(8,6),dpi=200)\n",
    "    coin_hist,coin_edges=np.histogram(generic[\"coin_time\"][accidentalcut],\n",
    "                                      bins=200,range=(coinmin-accBinRange,coinmax+accBinRange))\n",
    "    coin_centers= (coin_edges[:-1] + coin_edges[1:]) / 2\n",
    "\n",
    "    \"\"\"d=plt.hist(generic[\"coin_time\"][accidentalcut],\n",
    "               bins=200,range=(coinmin-accBinRange,coinmax+accBinRange),color='orange',alpha=.4)\n",
    "    plt.plot(coin_centers, coin_hist,'--',color='black',linewidth=2)\n",
    "\n",
    "    plt.title(\"Cointime hcal-bbcal (ADC)\")\n",
    "\n",
    "    plt.axvline(coinmin,color='black')\n",
    "    plt.axvline(coinmax,color='black')\n",
    "    plt.axvspan(coinmin, coinmax, color='red', alpha=0.2)\n",
    "\n",
    "    plt.axvline(coinmin+20,color='black')\n",
    "    plt.axvline(coinmax+20,color='black')\n",
    "    plt.axvspan(coinmin+20, coinmax+20, color='dodgerblue', alpha=0.3)\n",
    "\n",
    "    plt.axvline(coinmin-20,color='black')\n",
    "    plt.axvline(coinmax-20,color='black')\n",
    "    plt.axvspan(coinmin-20, coinmax-20, color='dodgerblue', alpha=0.3)\n",
    "\"\"\"\n",
    "    outside_coin_right=(coin_centers >= coinmin+20) & (coin_centers <= coinmax+20)\n",
    "    outside_coin_left=(coin_centers >= coinmin-20) & (coin_centers <= coinmax-20)\n",
    "    inside_coin=(coin_centers >= coinmin) & (coin_centers <= coinmax)\n",
    "\n",
    "    outside_number=(np.sum(coin_hist[outside_coin_right])+np.sum(coin_hist[outside_coin_left]))/2\n",
    "    inside_number=(np.sum(coin_hist[inside_coin]))\n",
    "\n",
    "    f_acc=outside_number/inside_number\n",
    "    f_acc_error=f_acc * math.sqrt(1 / outside_number + 1 / inside_number)\n",
    "\n",
    "    plus_coin_hist,plus_coin_edges=np.histogram(generic[\"coin_time\"][accidentalcut&hpluscut],bins=100,range=(coinmin-30,coinmax+60))\n",
    "    minus_coin_hist,minus_coin_edges=np.histogram(generic[\"coin_time\"][accidentalcut&hminuscut],bins=100,range=(coinmin-30,coinmax+60))\n",
    "    \"\"\"plt.hist(generic[\"coin_time\"][wcut&dycut&dxcut&anticoincut],bins=100,\n",
    "            range=(coinmin-30,coinmax+60))\n",
    "    plt.hist(generic[\"coin_time\"][wcut&dycut&dxcut&coincut],bins=100,\n",
    "            range=(coinmin-30,coinmax+60))\"\"\"\n",
    "    coin_plus_total = np.sum(plus_coin_hist)\n",
    "    coin_minus_total = np.sum(minus_coin_hist)\n",
    "\n",
    "    A_acc=(coin_plus_total-coin_minus_total)/(coin_plus_total+coin_minus_total)\n",
    "    A_acc_error=2*math.sqrt(coin_plus_total * coin_minus_total) / (coin_plus_total + coin_minus_total)**(3/2)\n",
    "    #print(f\"N_plus: {coin_plus_total} N_minus: {coin_minus_total}\")\n",
    "    #print(f\"f_acc: {f_acc:.4f}+={f_acc_error:.4f} A_acc: {A_acc:.6f}+-{A_acc_error:.4f}\")\n",
    "    return f_acc,f_acc_error,A_acc,A_acc_error\n",
    "    \n"
   ]
  },
  {
   "cell_type": "code",
   "execution_count": 24,
   "id": "ba442251",
   "metadata": {},
   "outputs": [],
   "source": [
    "def Function_Proton(f_p,f_p_error):\n",
    "    mup=2.793\n",
    "    Q2=CONFIG.Function_JSON(\"Q2\",f\"../config/cuts{config}.cfg\")\n",
    "    def load_data(file_path):\n",
    "        \"\"\"\n",
    "        Load the data from the given file path into a pandas DataFrame.\n",
    "        \"\"\"\n",
    "        columns = [\"Q2\", \"GEp/GD\", \"dGEp/GD\", \"dGEp_Par/GD\", \"GMp/mu_p/GD\", \"dGMp/mu_p/GD\", \"dGMp_Par/mu_p/GD\"]\n",
    "        data = pd.read_csv(file_path, delim_whitespace=True, comment='#', names=columns)\n",
    "        return data\n",
    "    def find_closest_row(data, input_Q2):\n",
    "        \"\"\"\n",
    "        Find the row in the data with the Q2 value closest to the input_Q2.\n",
    "        \"\"\"\n",
    "        closest_row = data.iloc[(data['Q2'] - input_Q2).abs().argmin()]\n",
    "        return closest_row\n",
    "    def main(input_Q2):\n",
    "        file_path = '../DB/proton_lookup.dat'\n",
    "        data = load_data(file_path)\n",
    "        closest_row = find_closest_row(data, input_Q2)\n",
    "        return closest_row\n",
    "    row=main(Q2)\n",
    "    R=np.round(row[1]/row[4]/mup,4)\n",
    "\n",
    "\n",
    "    #in GeV^2\n",
    "\n",
    "    def Aperp(R, tau, theta):\n",
    "        tan_half_theta = np.tan(np.radians(theta) / 2)\n",
    "        numerator = -R * 2 * np.sqrt(tau * (tau + 1)) * tan_half_theta\n",
    "        denominator = R**2 + (tau + 2 * tau * (1 + tau) * tan_half_theta**2)\n",
    "        A_perp = numerator / denominator\n",
    "        return A_perp\n",
    "\n",
    "    Ap=Aperp(R,tau,theta)\n",
    "    P_p=-.04 # seamus thesis\n",
    "    P_beam=CONFIG.Function_JSON(\"Pbeam\",f\"../config/cuts{config}.cfg\")\n",
    "    P_target=CONFIG.Function_JSON(\"Ptarget\",f\"../config/cuts{config}.cfg\")\n",
    "\n",
    "    A_p=Ap*P_p*P_beam*P_target/100/100\n",
    "    #Aphys_p=Ap*P_p*P_beam*P_target/100/100\n",
    "    #print(f\"f_p: {f_p:.4f}+={f_p_error:.4f} A_p: {A_p:.7f}\")\n",
    "    return A_p"
   ]
  },
  {
   "cell_type": "code",
   "execution_count": 25,
   "id": "b197ba79",
   "metadata": {},
   "outputs": [],
   "source": [
    "def Function_N2():\n",
    "    hdx_sim_n=np.histogram(genericSim[\"dx\"],range=(-.4,.4),\n",
    "                       bins=100)\n",
    "    he3simfrac=np.sum(hdx_sim_n[0])/len(genericSim[\"dx\"])\n",
    "\n",
    "\n",
    "    #the sim fraction\n",
    "    n2simfrac=135874/268774\n",
    "\n",
    "    n2overhe3counts=n2simfrac/he3simfrac/14 # divide by 14 because nitrogen molecule has 14 times n\n",
    "\n",
    "    n2overhe3counts\n",
    "\n",
    "    1.5*14*n2overhe3counts\n",
    "    98.5\n",
    "\n",
    "    nAtoms=100\n",
    "    nN2=.015\n",
    "    nHe3=.985\n",
    "\n",
    "    f_n2=nN2*14/(14*nN2+nHe3)*n2overhe3counts\n",
    "    f_n2_error=.02*f_n2\n",
    "    return f_n2,f_n2_error"
   ]
  },
  {
   "cell_type": "code",
   "execution_count": 26,
   "id": "a3105308",
   "metadata": {},
   "outputs": [],
   "source": [
    "def DoItAll(W2min,W2max,coinmin,coinmax,dymin,dymax,dxmin,dxmax,printStats=True,printPlot=True):\n",
    "    #print(W2max)\n",
    "    bbcalE=generic[\"eSH\"]+generic[\"ePS\"]\n",
    "    gemP=generic[\"trP\"]\n",
    "    wcut=(generic[\"W2\"] < W2max)&(generic[\"W2\"]>W2min) \n",
    "    dycut=(generic[\"dy\"]<dymax)&(generic[\"dy\"]>dymin) \n",
    "    dxcut=(generic[\"dx\"] < dxmax)&(generic[\"dx\"]>dxmin) \n",
    "    coincut=(coinmin < generic[\"coin_time\"])&(generic[\"coin_time\"] < coinmax)\n",
    "    epcut=abs(bbcalE/gemP-.95)<.25\n",
    "    runnumcut=generic[\"runnum\"]>2165\n",
    "\n",
    "    fullcut=wcut&dycut&dxcut&coincut&epcut&runnumcut\n",
    "    fullcutfordx=wcut&dycut&coincut&epcut&runnumcut\n",
    "    accidentalcut=wcut&dycut&dxcut&epcut&runnumcut\n",
    "    weight=genericSim[\"weight\"]\n",
    "    bgcut=(W2_in<W2max)&(W2_in>W2min)\n",
    "    \n",
    "    \n",
    "    FitResult=Function_Fitdx(wcut,dycut,dxcut,\n",
    "                            coincut,fullcutfordx,protoncut,\n",
    "                            neutroncut,Simwcut,Simdycut,bgcut,weight)\n",
    "    if printPlot:\n",
    "        Function_Plotdx(FitResult[0],FitResult[1],FitResult[2],FitResult[3],FitResult[4],FitResult[5])\n",
    "    \n",
    "    \n",
    "    bg_fit=FitResult[0]\n",
    "    total_fit=FitResult[1]\n",
    "    sim_p_scaled=FitResult[2]\n",
    "    sim_n_scaled=FitResult[3]\n",
    "    bin_centers=FitResult[4]\n",
    "    counts_data=FitResult[5]\n",
    "    mask = (bin_centers >= dxmin) & (bin_centers <= dxmax)\n",
    "\n",
    "    # Sum the corresponding bin contents\n",
    "    N_p  = np.sum(sim_p_scaled[mask])\n",
    "    N_n  = np.sum(sim_n_scaled[mask])\n",
    "    N_bg = np.sum(bg_fit[mask])\n",
    "    N_total = np.sum(total_fit[mask])\n",
    "    N_total = np.sum(counts_data[mask])\n",
    "\n",
    "    \n",
    "\n",
    "\n",
    "    f_p=N_p/N_total\n",
    "    f_bg=N_bg/N_total\n",
    "    f_n=N_n/N_total\n",
    "    f_p_error=f_p * math.sqrt(1 / N_p + 1 / N_total)\n",
    "    f_bg_error=f_bg* math.sqrt(1 / N_bg + 1 / N_total)\n",
    "    f_n_error=f_n* math.sqrt(1 / N_n + 1 / N_total)\n",
    "    f_acc,f_acc_error,A_acc,A_acc_error=Function_Acc(W2min,W2max,coinmin,coinmax,dymin,dymax,dxmin,dxmax)\n",
    "    A_p=Function_Proton(f_p,f_p_error)\n",
    "    f_nitrogen,f_nitrogen_error=Function_N2()\n",
    "    #temp below\n",
    "    A_inelastic=.0035 \n",
    "    A_inelastic_error=.0005 \n",
    "    \n",
    "    \n",
    "#ARAW\n",
    "    N_minus_raw=len(np.where(helicity[fullcut]==-1)[0])\n",
    "    N_plus_raw=len(np.where(helicity[fullcut]==1)[0])\n",
    "    #SEAN JEFFAS KIN3: N_minus_raw=20336\n",
    "    #SEAN JEFFAS KIN3: N_plus_raw=21224\n",
    "    #SEAN JEFFAS fN=.29\n",
    "    #SEAN JEFFAS NEUTRONS: 12052.4\n",
    "    NEUTRONSSSSS=f_n*(N_minus_raw+N_plus_raw)\n",
    "    A_raw=(N_plus_raw-N_minus_raw)/(N_plus_raw+N_minus_raw)\n",
    "    A_raw_error=2*math.sqrt(N_plus_raw * N_minus_raw) / (N_plus_raw + N_minus_raw)**(3/2)\n",
    "    \n",
    "    \n",
    "    \n",
    "#FILTER HELICITY    \n",
    "    runs_filtered = generic[\"runnum\"][fullcut]\n",
    "    helicity_filtered = helicity[fullcut]\n",
    "    # Now apply the run number cut:\n",
    "    valid_runs = runs_filtered > 2165\n",
    "    runs_filtered = runs_filtered[valid_runs]\n",
    "    helicity_filtered = helicity_filtered[valid_runs]\n",
    "    \n",
    "#ARAW PER RUN\n",
    "    pluscut = helicity_filtered == 1\n",
    "    minuscut = helicity_filtered == -1\n",
    "    unique_runnum, run_idx = np.unique(runs_filtered, return_inverse=True)\n",
    "    N_plus_per_run = np.bincount(run_idx, weights=pluscut.astype(int))\n",
    "    N_minus_per_run = np.bincount(run_idx, weights=minuscut.astype(int))\n",
    "    \n",
    "   #CHECK FOR SAFE N VALUES\n",
    "    A_raw_per_run = np.full_like(N_plus_per_run, np.nan, dtype=float)\n",
    "    A_raw_error_per_run = np.full_like(N_plus_per_run, np.nan, dtype=float)\n",
    "    valid = (N_plus_per_run > 0) & (N_minus_per_run > 0)\n",
    "    denominator = (N_plus_per_run + N_minus_per_run)[valid]\n",
    "    A_raw_per_run[valid] = (N_plus_per_run[valid] - N_minus_per_run[valid]) / denominator\n",
    "    A_raw_error_per_run[valid] = 2 * np.sqrt(N_plus_per_run[valid] * N_minus_per_run[valid]) / denominator**1.5\n",
    "\n",
    "    \n",
    "    A_raw_per_run = (N_plus_per_run - N_minus_per_run) / (N_plus_per_run + N_minus_per_run)\n",
    "    A_raw_error_per_run = 2 * np.sqrt(N_plus_per_run * N_minus_per_run) / (N_plus_per_run + N_minus_per_run)**1.5\n",
    "    A_raw_error_per_run=A_raw_error_per_run[~np.isnan(A_raw_per_run)]\n",
    "    unique_runnum=unique_runnum[~np.isnan(A_raw_per_run)]\n",
    "    A_raw_per_run=A_raw_per_run[~np.isnan(A_raw_per_run)]\n",
    "    matching_pol_runs_i = np.searchsorted(target_run_num, unique_runnum)    \n",
    "    P_beam_per_run = beam_pol[matching_pol_runs_i]/100\n",
    "    P_beamE_per_run = beam_polE[matching_pol_runs_i]/100\n",
    "    P_target_per_run = target_pol[matching_pol_runs_i]/100\n",
    "    P_targetE_per_run = target_polE[matching_pol_runs_i]/100\n",
    "    weightedaverage,weightedaverageE=weighted_avg(A_raw_per_run,A_raw_error_per_run)\n",
    "    \n",
    "    \n",
    "    \n",
    "#APHYS \n",
    "    f_inelastic=f_bg-f_acc-f_nitrogen\n",
    "    f_inelastic_error=np.sqrt(f_acc_error**2+f_bg_error**2)\n",
    "    fA=f_acc*A_acc + f_inelastic*A_inelastic + f_p*A_p\n",
    "    f=f_acc+f_nitrogen+f_p+f_inelastic\n",
    "    P_neutron = 0.95 \n",
    "    A_corrected_per_run = (A_raw_per_run - fA) / (1 - f)\n",
    "    f_neutron=(1-f)\n",
    "    A_phys_per_run = A_corrected_per_run / (P_beam_per_run * P_target_per_run * P_neutron)\n",
    "    statistical_error_per_run=A_raw_error_per_run/(P_beam_per_run * P_target_per_run * P_neutron*f_neutron)\n",
    "    A_Phys_wavg,A_Phys_wavgE=weighted_avg(A_phys_per_run,statistical_error_per_run)\n",
    "    \n",
    "    \n",
    "#Target and Beam\n",
    "    P_target_avg,_ =weighted_avg(P_target_per_run,statistical_error_per_run)\n",
    "    P_beam_avg,_ =weighted_avg(P_beam_per_run,statistical_error_per_run)\n",
    "    P_target_error_avg,_ =weighted_avg(P_targetE_per_run,statistical_error_per_run)\n",
    "    P_beam_error_avg,_ =weighted_avg(P_beamE_per_run,statistical_error_per_run)\n",
    "    \n",
    "    #plt.hist(P_targetE_per_run/P_target_per_run*100,bins=30)\n",
    "    \n",
    "#Error prop\n",
    "\n",
    "    f1=f_acc\n",
    "    sig_f1=f_acc_error\n",
    "\n",
    "    A1=A_acc\n",
    "    sig_A1=A_acc_error\n",
    "\n",
    "    f2=f_p\n",
    "    sig_f2=f_p_error\n",
    "\n",
    "    A2=A_p\n",
    "    sig_A2=0\n",
    "\n",
    "    f3=f_inelastic\n",
    "    sig_f3=f_inelastic_error\n",
    "\n",
    "    A3=A_inelastic\n",
    "    sig_A3=A_inelastic_error\n",
    "\n",
    "    f4=f_nitrogen\n",
    "    sig_f4=f_nitrogen_error\n",
    "\n",
    "    Pb=P_beam_avg\n",
    "    sig_Pb=P_beam_error_avg\n",
    "    Pt=P_target_avg\n",
    "    sig_Pt=P_target_error_avg\n",
    "\n",
    "    Pn=P_neutron\n",
    "\n",
    "    P_total=Pb*Pt*Pn\n",
    "    sig_P_total=((sig_Pb*Pt*Pn)**2+(sig_Pt*Pb*Pn)**2)**(1/2)\n",
    "    fn=1-f1-f2-f3-f4\n",
    "\n",
    "    A = A_Phys_wavg\n",
    "    P=P_total\n",
    "    \n",
    "    dAdf1=((A*P-A1)/(P*fn)*sig_f1)**2\n",
    "    dAdf2=((A*P-A2)/(P*fn)*sig_f2)**2\n",
    "    dAdf3=((A*P-A3)/(P*fn)*sig_f3)**2\n",
    "    dAdf4=((A*P)/(P*fn)*sig_f4)**2\n",
    "\n",
    "    dAdA1=(f1/(P*fn)*sig_A1)**2\n",
    "    dAdA2=(f2/(P*fn)*sig_A2)**2\n",
    "    dAdA3=(f3/(P*fn)*sig_A3)**2\n",
    "\n",
    "    dAdP=(A/P**2*sig_P_total)**2\n",
    "\n",
    "    A_phys_sys_error=(dAdf1+dAdf2+dAdf3+dAdf4+dAdA1+dAdA2+dAdA3+dAdP)**(1/2)\n",
    "    A_phys_stat_error=A_Phys_wavgE\n",
    "    A_phys_comb_error=np.sqrt(A_phys_sys_error**2+A_phys_stat_error**2)\n",
    "\n",
    "    \n",
    "    total_var = dAdf1 + dAdf2 + dAdf3 + dAdf4 + dAdA1 + dAdA2 + dAdA3 + dAdP\n",
    "    rel_contribs = {\n",
    "        \"f_acc\": 100*dAdf1 / total_var,\n",
    "        \"f_p\": 100*dAdf2 / total_var,\n",
    "        \"f_inelastic\": 100*dAdf3 / total_var,\n",
    "        \"f_N2\": 100*dAdf4 / total_var,\n",
    "        \"A_acc\": 100*dAdA1 / total_var,\n",
    "        \"A_p\": 100*dAdA2 / total_var,\n",
    "        \"A_inelastic\": 100*dAdA3 / total_var,\n",
    "        \"P\": 100*dAdP / total_var\n",
    "    }\n",
    "\n",
    "    \"\"\"    print(\"A =\", A)\n",
    "    print(\"P =\", P)\n",
    "    print(\"σ_P =\", sig_P_total)\n",
    "    print(\"term =\", (A / P**2) * sig_P_total)\"\"\"\n",
    "\n",
    "    \n",
    "    \n",
    "    goodhel=(helicity[fullcut]==1) | (helicity[fullcut]==-1)\n",
    "    Q2_avg=np.mean(generic[\"Q2\"][fullcut][goodhel])\n",
    "    etheta_avg=np.mean(generic[\"etheta\"][fullcut][goodhel])\n",
    "    tau_avg=Q2_avg/(4*m**2)\n",
    "    epsilon_avg=1/(1+2*(1+tau_avg)*math.tan(etheta_avg/2)**2)\n",
    "    \n",
    "    \n",
    "    trPx = generic[\"trPx\"][fullcut][goodhel]\n",
    "    trPy = generic[\"trPy\"][fullcut][goodhel]\n",
    "    trPz = generic[\"trPz\"][fullcut][goodhel]\n",
    "    ebeam = generic[\"ebeam\"][fullcut][goodhel]\n",
    "    Px,Pz=compute_Px_Pz(trPx,trPy,trPz,ebeam,spintheta,spinphi)\n",
    "    Px_avg=np.mean(Px)\n",
    "    Pz_avg=np.mean(Pz)\n",
    "    \n",
    "    \n",
    "    \n",
    "    A=epsilon_avg/tau_avg*A_Phys_wavg\n",
    "    B=np.sqrt((2*epsilon_avg)*(1-epsilon_avg)/tau_avg)*Px_avg\n",
    "    C=A_Phys_wavg+np.sqrt(1-epsilon_avg**2)*Pz_avg\n",
    "\n",
    "    A_error_stat = (epsilon_avg / tau_avg) * A_phys_stat_error\n",
    "    C_error_stat = A_phys_stat_error\n",
    "    A_error_sys = (epsilon_avg / tau_avg) * A_phys_sys_error\n",
    "    C_error_sys = A_phys_sys_error\n",
    "\n",
    "    # Results\n",
    "    \n",
    "    ratio=(-B+np.sqrt(B**2-4*A*C))/(2*A)\n",
    "\n",
    "    discriminant = B**2 - 4*A*C\n",
    "    ratio_error_stat = np.sqrt(((C / (A * np.sqrt(discriminant)) + ratio / A)**2) * A_error_stat**2 + (C_error_stat**2 / discriminant))\n",
    "    ratio_error_sys = np.sqrt(((C / (A * np.sqrt(discriminant)) + ratio / A)**2) * A_error_sys**2 + (C_error_sys**2 / discriminant))\n",
    "    \n",
    "    if printStats:\n",
    "        print(f\"Total events in range ({dxmin}, {dxmax}):\")\n",
    "        print(f\"  Sim Proton:   {N_p:.2f}\")\n",
    "        print(f\"  Sim Neutron:  {N_n:.2f}\")\n",
    "        print(f\"  Background:   {N_bg:.2f}\")\n",
    "        print(f\"  Total:        {N_total:.2f}\")\n",
    "        print(f\"Fraction of events in range ({dxmin}, {dxmax}):\")\n",
    "        print(f\"   Proton Fraction: {f_p:.2f}\")\n",
    "        print(f\"   Background Fraction: {f_bg:.2f}\")\n",
    "        print(f\"   Neutron Fraction: {f_n:.2f}\") \n",
    "        print(\"__________________________________________________\")\n",
    "        print(f\"Target Weighted Avg: {P_target_avg:.3}+-{P_target_error_avg:.4f}  {P_target_error_avg/P_target_avg:.4f}%\")\n",
    "        print(f\"Beam Weighted Avg: {P_beam_avg:.3}+-{P_beam_error_avg:.4f}  {P_beam_error_avg/P_beam_avg:.4f}%\")\n",
    "\n",
    "        print(\"__________________________________________________\")\n",
    "        print(f\"epsilon = {epsilon_avg:.4f}\")\n",
    "        print(f\"tau_avg = {tau_avg:.4f}\")\n",
    "        print(f\"Q2 = {Q2_avg:.4f}\")\n",
    "        print(f\"Px: {Px_avg:.4f} Pz: {Pz_avg:.4f}\")\n",
    "        print(f\"A = {A:.5f} ± {A_error_stat:.5f} ± {A_error_sys:.5f}\")\n",
    "        print(f\"B = {B:.5f} (no propagated error)\")\n",
    "        print(f\"C = {C:.5f} ± {C_error_stat:.5f} ± {C_error_sys:.5f}\")\n",
    "\n",
    "        print(\"__________________________________________________\")\n",
    "\n",
    "        print(f\"N_plus: {N_plus_raw} N_minus: {N_minus_raw}\")\n",
    "        print(f\"A_raw: {A_raw:.4f}+={A_raw_error:.4f}\")\n",
    "        print(f\"A_raw_weighted: {weightedaverage:.3}+-{weightedaverageE:.4f}  {weightedaverageE/weightedaverage:.4f}%\")\n",
    "\n",
    "        print(\"__________________________________________________\")\n",
    "        print(f\"A_phys_weighted: {A_Phys_wavg:.3}\")\n",
    "        print(f\"A_phys_stat_error: {A_Phys_wavgE:.4f}  {A_Phys_wavgE/A_Phys_wavg*100:.4f}%\")\n",
    "        print(f\"A_phys_sys_error: {A_phys_sys_error:.4f}  {A_phys_sys_error/A_Phys_wavg*100:.4}%\")\n",
    "\n",
    "        print(f\"GEn/GMn*muN: {ratio*muN:.5f}+-{ratio_error_stat*muN:.5f}+-{ratio_error_sys*muN:.5f}\")\n",
    "\n",
    "    statdict = {\n",
    "        \"N_p\": N_p,\n",
    "        \"N_n\": N_n,\n",
    "        \"N_bg\": N_bg,\n",
    "        \"N_total\": N_total,\n",
    "        \"f_p\": f_p,\n",
    "        \"f_bg\": f_bg,\n",
    "        \"f_n\": f_n,\n",
    "        \"N_plus_raw\": N_plus_raw,\n",
    "        \"N_minus_raw\": N_minus_raw,\n",
    "        \"A_raw\": A_raw,\n",
    "        \"A_raw_rel_error\": A_raw_error / A_raw,\n",
    "        \"A_Phys_wavg\": A_Phys_wavg,\n",
    "        \"A_phys_rel_sys_error\": A_phys_sys_error / A_Phys_wavg,\n",
    "        \"GE/GM * muN\": ratio * muN,\n",
    "        \"GE/GM_stat_error\": abs(ratio_error_stat * muN),\n",
    "        \"GE/GM_sys_error\": abs(ratio_error_sys * muN)\n",
    "    }\n",
    "\n",
    "    \n",
    "    return rel_contribs,total_var, statdict,Q2_avg\n",
    "    "
   ]
  },
  {
   "cell_type": "code",
   "execution_count": 27,
   "id": "016ba017",
   "metadata": {
    "scrolled": false
   },
   "outputs": [
    {
     "data": {
      "image/png": "[encoded data removed]",
      "text/plain": [
       "<Figure size 1000x800 with 1 Axes>"
      ]
     },
     "metadata": {},
     "output_type": "display_data"
    },
    {
     "name": "stdout",
     "output_type": "stream",
     "text": [
      "Total entries in fit: 237612.4834227394\n",
      "Total events in range (-0.4, 0.4):\n",
      "  Sim Proton:   1054.08\n",
      "  Sim Neutron:  16957.17\n",
      "  Background:   15738.06\n",
      "  Total:        33711.00\n",
      "Fraction of events in range (-0.4, 0.4):\n",
      "   Proton Fraction: 0.03\n",
      "   Background Fraction: 0.47\n",
      "   Neutron Fraction: 0.50\n",
      "__________________________________________________\n",
      "Target Weighted Avg: 0.421+-0.0085  0.0202%\n",
      "Beam Weighted Avg: 0.865+-0.0008  0.0009%\n",
      "__________________________________________________\n",
      "epsilon = 0.6149\n",
      "tau_avg = 1.9170\n",
      "Q2 = 6.7692\n",
      "Px: 0.9908 Pz: -0.0367\n",
      "A = 0.07203 ± 0.01029 ± 0.00429\n",
      "B = 0.49248 (no propagated error)\n",
      "C = 0.19564 ± 0.03206 ± 0.01336\n",
      "__________________________________________________\n",
      "N_plus: 16888 N_minus: 15610\n",
      "A_raw: 0.0393+=0.0055\n",
      "A_raw_weighted: 0.0404+-0.0055  0.1362%\n",
      "__________________________________________________\n",
      "A_phys_weighted: 0.225\n",
      "A_phys_stat_error: 0.0321  14.2789%\n",
      "A_phys_sys_error: 0.0134  5.95%\n",
      "GEn/GMn*muN: 0.80898+--0.14219+--0.05926\n"
     ]
    }
   ],
   "source": [
    "rel_contribs,_,statdict,Q2_avg=DoItAll(W2min,W2max-.5,coinmin,coinmax,dymin,dymax,dxmin,dxmax)"
   ]
  },
  {
   "cell_type": "code",
   "execution_count": 54,
   "id": "aaa74aa6",
   "metadata": {
    "scrolled": false
   },
   "outputs": [
    {
     "name": "stdout",
     "output_type": "stream",
     "text": [
      "0\n"
     ]
    },
    {
     "name": "stderr",
     "output_type": "stream",
     "text": [
      "/tmp/ipykernel_8737/2479891078.py:95: RuntimeWarning: invalid value encountered in divide\n",
      "  A_raw_per_run = (N_plus_per_run - N_minus_per_run) / (N_plus_per_run + N_minus_per_run)\n",
      "/tmp/ipykernel_8737/2479891078.py:96: RuntimeWarning: invalid value encountered in divide\n",
      "  A_raw_error_per_run = 2 * np.sqrt(N_plus_per_run * N_minus_per_run) / (N_plus_per_run + N_minus_per_run)**1.5\n"
     ]
    },
    {
     "name": "stdout",
     "output_type": "stream",
     "text": [
      "1\n"
     ]
    },
    {
     "name": "stderr",
     "output_type": "stream",
     "text": [
      "/tmp/ipykernel_8737/2479891078.py:95: RuntimeWarning: invalid value encountered in divide\n",
      "  A_raw_per_run = (N_plus_per_run - N_minus_per_run) / (N_plus_per_run + N_minus_per_run)\n",
      "/tmp/ipykernel_8737/2479891078.py:96: RuntimeWarning: invalid value encountered in divide\n",
      "  A_raw_error_per_run = 2 * np.sqrt(N_plus_per_run * N_minus_per_run) / (N_plus_per_run + N_minus_per_run)**1.5\n"
     ]
    },
    {
     "name": "stdout",
     "output_type": "stream",
     "text": [
      "2\n",
      "3\n",
      "4\n",
      "5\n",
      "6\n",
      "7\n",
      "8\n",
      "9\n",
      "10\n",
      "11\n",
      "12\n",
      "13\n",
      "14\n",
      "15\n",
      "16\n",
      "17\n",
      "18\n",
      "19\n",
      "20\n"
     ]
    },
    {
     "name": "stderr",
     "output_type": "stream",
     "text": [
      "/tmp/ipykernel_8737/2479891078.py:44: RuntimeWarning: invalid value encountered in scalar divide\n",
      "  f_p=N_p/N_total\n",
      "/tmp/ipykernel_8737/2479891078.py:45: RuntimeWarning: invalid value encountered in scalar divide\n",
      "  f_bg=N_bg/N_total\n",
      "/tmp/ipykernel_8737/2479891078.py:46: RuntimeWarning: invalid value encountered in scalar divide\n",
      "  f_n=N_n/N_total\n",
      "/tmp/ipykernel_8737/2479891078.py:47: RuntimeWarning: divide by zero encountered in scalar divide\n",
      "  f_p_error=f_p * math.sqrt(1 / N_p + 1 / N_total)\n",
      "/tmp/ipykernel_8737/2479891078.py:48: RuntimeWarning: divide by zero encountered in scalar divide\n",
      "  f_bg_error=f_bg* math.sqrt(1 / N_bg + 1 / N_total)\n",
      "/tmp/ipykernel_8737/2479891078.py:49: RuntimeWarning: divide by zero encountered in scalar divide\n",
      "  f_n_error=f_n* math.sqrt(1 / N_n + 1 / N_total)\n"
     ]
    },
    {
     "name": "stdout",
     "output_type": "stream",
     "text": [
      "21\n"
     ]
    },
    {
     "name": "stderr",
     "output_type": "stream",
     "text": [
      "/tmp/ipykernel_8737/2479891078.py:44: RuntimeWarning: invalid value encountered in scalar divide\n",
      "  f_p=N_p/N_total\n",
      "/tmp/ipykernel_8737/2479891078.py:45: RuntimeWarning: invalid value encountered in scalar divide\n",
      "  f_bg=N_bg/N_total\n",
      "/tmp/ipykernel_8737/2479891078.py:46: RuntimeWarning: invalid value encountered in scalar divide\n",
      "  f_n=N_n/N_total\n",
      "/tmp/ipykernel_8737/2479891078.py:47: RuntimeWarning: divide by zero encountered in scalar divide\n",
      "  f_p_error=f_p * math.sqrt(1 / N_p + 1 / N_total)\n",
      "/tmp/ipykernel_8737/2479891078.py:48: RuntimeWarning: divide by zero encountered in scalar divide\n",
      "  f_bg_error=f_bg* math.sqrt(1 / N_bg + 1 / N_total)\n",
      "/tmp/ipykernel_8737/2479891078.py:49: RuntimeWarning: divide by zero encountered in scalar divide\n",
      "  f_n_error=f_n* math.sqrt(1 / N_n + 1 / N_total)\n"
     ]
    },
    {
     "name": "stdout",
     "output_type": "stream",
     "text": [
      "22\n"
     ]
    },
    {
     "name": "stderr",
     "output_type": "stream",
     "text": [
      "/tmp/ipykernel_8737/2479891078.py:44: RuntimeWarning: invalid value encountered in scalar divide\n",
      "  f_p=N_p/N_total\n",
      "/tmp/ipykernel_8737/2479891078.py:45: RuntimeWarning: invalid value encountered in scalar divide\n",
      "  f_bg=N_bg/N_total\n",
      "/tmp/ipykernel_8737/2479891078.py:46: RuntimeWarning: invalid value encountered in scalar divide\n",
      "  f_n=N_n/N_total\n",
      "/tmp/ipykernel_8737/2479891078.py:47: RuntimeWarning: divide by zero encountered in scalar divide\n",
      "  f_p_error=f_p * math.sqrt(1 / N_p + 1 / N_total)\n",
      "/tmp/ipykernel_8737/2479891078.py:48: RuntimeWarning: divide by zero encountered in scalar divide\n",
      "  f_bg_error=f_bg* math.sqrt(1 / N_bg + 1 / N_total)\n",
      "/tmp/ipykernel_8737/2479891078.py:49: RuntimeWarning: divide by zero encountered in scalar divide\n",
      "  f_n_error=f_n* math.sqrt(1 / N_n + 1 / N_total)\n"
     ]
    },
    {
     "name": "stdout",
     "output_type": "stream",
     "text": [
      "23\n"
     ]
    },
    {
     "name": "stderr",
     "output_type": "stream",
     "text": [
      "/tmp/ipykernel_8737/2479891078.py:44: RuntimeWarning: invalid value encountered in scalar divide\n",
      "  f_p=N_p/N_total\n",
      "/tmp/ipykernel_8737/2479891078.py:45: RuntimeWarning: invalid value encountered in scalar divide\n",
      "  f_bg=N_bg/N_total\n",
      "/tmp/ipykernel_8737/2479891078.py:46: RuntimeWarning: invalid value encountered in scalar divide\n",
      "  f_n=N_n/N_total\n",
      "/tmp/ipykernel_8737/2479891078.py:47: RuntimeWarning: divide by zero encountered in scalar divide\n",
      "  f_p_error=f_p * math.sqrt(1 / N_p + 1 / N_total)\n",
      "/tmp/ipykernel_8737/2479891078.py:48: RuntimeWarning: divide by zero encountered in scalar divide\n",
      "  f_bg_error=f_bg* math.sqrt(1 / N_bg + 1 / N_total)\n",
      "/tmp/ipykernel_8737/2479891078.py:49: RuntimeWarning: divide by zero encountered in scalar divide\n",
      "  f_n_error=f_n* math.sqrt(1 / N_n + 1 / N_total)\n"
     ]
    },
    {
     "name": "stdout",
     "output_type": "stream",
     "text": [
      "24\n"
     ]
    },
    {
     "name": "stderr",
     "output_type": "stream",
     "text": [
      "/tmp/ipykernel_8737/2479891078.py:44: RuntimeWarning: invalid value encountered in scalar divide\n",
      "  f_p=N_p/N_total\n",
      "/tmp/ipykernel_8737/2479891078.py:45: RuntimeWarning: invalid value encountered in scalar divide\n",
      "  f_bg=N_bg/N_total\n",
      "/tmp/ipykernel_8737/2479891078.py:46: RuntimeWarning: invalid value encountered in scalar divide\n",
      "  f_n=N_n/N_total\n",
      "/tmp/ipykernel_8737/2479891078.py:47: RuntimeWarning: divide by zero encountered in scalar divide\n",
      "  f_p_error=f_p * math.sqrt(1 / N_p + 1 / N_total)\n",
      "/tmp/ipykernel_8737/2479891078.py:48: RuntimeWarning: divide by zero encountered in scalar divide\n",
      "  f_bg_error=f_bg* math.sqrt(1 / N_bg + 1 / N_total)\n",
      "/tmp/ipykernel_8737/2479891078.py:49: RuntimeWarning: divide by zero encountered in scalar divide\n",
      "  f_n_error=f_n* math.sqrt(1 / N_n + 1 / N_total)\n"
     ]
    },
    {
     "name": "stdout",
     "output_type": "stream",
     "text": [
      "25\n"
     ]
    },
    {
     "name": "stderr",
     "output_type": "stream",
     "text": [
      "/tmp/ipykernel_8737/2479891078.py:44: RuntimeWarning: invalid value encountered in scalar divide\n",
      "  f_p=N_p/N_total\n",
      "/tmp/ipykernel_8737/2479891078.py:45: RuntimeWarning: invalid value encountered in scalar divide\n",
      "  f_bg=N_bg/N_total\n",
      "/tmp/ipykernel_8737/2479891078.py:46: RuntimeWarning: invalid value encountered in scalar divide\n",
      "  f_n=N_n/N_total\n",
      "/tmp/ipykernel_8737/2479891078.py:47: RuntimeWarning: divide by zero encountered in scalar divide\n",
      "  f_p_error=f_p * math.sqrt(1 / N_p + 1 / N_total)\n",
      "/tmp/ipykernel_8737/2479891078.py:48: RuntimeWarning: divide by zero encountered in scalar divide\n",
      "  f_bg_error=f_bg* math.sqrt(1 / N_bg + 1 / N_total)\n",
      "/tmp/ipykernel_8737/2479891078.py:49: RuntimeWarning: divide by zero encountered in scalar divide\n",
      "  f_n_error=f_n* math.sqrt(1 / N_n + 1 / N_total)\n"
     ]
    },
    {
     "name": "stdout",
     "output_type": "stream",
     "text": [
      "26\n"
     ]
    },
    {
     "name": "stderr",
     "output_type": "stream",
     "text": [
      "/tmp/ipykernel_8737/2479891078.py:44: RuntimeWarning: invalid value encountered in scalar divide\n",
      "  f_p=N_p/N_total\n",
      "/tmp/ipykernel_8737/2479891078.py:45: RuntimeWarning: invalid value encountered in scalar divide\n",
      "  f_bg=N_bg/N_total\n",
      "/tmp/ipykernel_8737/2479891078.py:46: RuntimeWarning: invalid value encountered in scalar divide\n",
      "  f_n=N_n/N_total\n",
      "/tmp/ipykernel_8737/2479891078.py:47: RuntimeWarning: divide by zero encountered in scalar divide\n",
      "  f_p_error=f_p * math.sqrt(1 / N_p + 1 / N_total)\n",
      "/tmp/ipykernel_8737/2479891078.py:48: RuntimeWarning: divide by zero encountered in scalar divide\n",
      "  f_bg_error=f_bg* math.sqrt(1 / N_bg + 1 / N_total)\n",
      "/tmp/ipykernel_8737/2479891078.py:49: RuntimeWarning: divide by zero encountered in scalar divide\n",
      "  f_n_error=f_n* math.sqrt(1 / N_n + 1 / N_total)\n"
     ]
    },
    {
     "name": "stdout",
     "output_type": "stream",
     "text": [
      "27\n"
     ]
    },
    {
     "name": "stderr",
     "output_type": "stream",
     "text": [
      "/tmp/ipykernel_8737/2479891078.py:44: RuntimeWarning: invalid value encountered in scalar divide\n",
      "  f_p=N_p/N_total\n",
      "/tmp/ipykernel_8737/2479891078.py:45: RuntimeWarning: invalid value encountered in scalar divide\n",
      "  f_bg=N_bg/N_total\n",
      "/tmp/ipykernel_8737/2479891078.py:46: RuntimeWarning: invalid value encountered in scalar divide\n",
      "  f_n=N_n/N_total\n",
      "/tmp/ipykernel_8737/2479891078.py:47: RuntimeWarning: divide by zero encountered in scalar divide\n",
      "  f_p_error=f_p * math.sqrt(1 / N_p + 1 / N_total)\n",
      "/tmp/ipykernel_8737/2479891078.py:48: RuntimeWarning: divide by zero encountered in scalar divide\n",
      "  f_bg_error=f_bg* math.sqrt(1 / N_bg + 1 / N_total)\n",
      "/tmp/ipykernel_8737/2479891078.py:49: RuntimeWarning: divide by zero encountered in scalar divide\n",
      "  f_n_error=f_n* math.sqrt(1 / N_n + 1 / N_total)\n"
     ]
    },
    {
     "name": "stdout",
     "output_type": "stream",
     "text": [
      "28\n"
     ]
    },
    {
     "name": "stderr",
     "output_type": "stream",
     "text": [
      "/tmp/ipykernel_8737/2479891078.py:44: RuntimeWarning: invalid value encountered in scalar divide\n",
      "  f_p=N_p/N_total\n",
      "/tmp/ipykernel_8737/2479891078.py:45: RuntimeWarning: invalid value encountered in scalar divide\n",
      "  f_bg=N_bg/N_total\n",
      "/tmp/ipykernel_8737/2479891078.py:46: RuntimeWarning: invalid value encountered in scalar divide\n",
      "  f_n=N_n/N_total\n",
      "/tmp/ipykernel_8737/2479891078.py:47: RuntimeWarning: divide by zero encountered in scalar divide\n",
      "  f_p_error=f_p * math.sqrt(1 / N_p + 1 / N_total)\n",
      "/tmp/ipykernel_8737/2479891078.py:48: RuntimeWarning: divide by zero encountered in scalar divide\n",
      "  f_bg_error=f_bg* math.sqrt(1 / N_bg + 1 / N_total)\n",
      "/tmp/ipykernel_8737/2479891078.py:49: RuntimeWarning: divide by zero encountered in scalar divide\n",
      "  f_n_error=f_n* math.sqrt(1 / N_n + 1 / N_total)\n"
     ]
    },
    {
     "name": "stdout",
     "output_type": "stream",
     "text": [
      "29\n"
     ]
    },
    {
     "name": "stderr",
     "output_type": "stream",
     "text": [
      "/tmp/ipykernel_8737/2479891078.py:44: RuntimeWarning: invalid value encountered in scalar divide\n",
      "  f_p=N_p/N_total\n",
      "/tmp/ipykernel_8737/2479891078.py:45: RuntimeWarning: invalid value encountered in scalar divide\n",
      "  f_bg=N_bg/N_total\n",
      "/tmp/ipykernel_8737/2479891078.py:46: RuntimeWarning: invalid value encountered in scalar divide\n",
      "  f_n=N_n/N_total\n",
      "/tmp/ipykernel_8737/2479891078.py:47: RuntimeWarning: divide by zero encountered in scalar divide\n",
      "  f_p_error=f_p * math.sqrt(1 / N_p + 1 / N_total)\n",
      "/tmp/ipykernel_8737/2479891078.py:48: RuntimeWarning: divide by zero encountered in scalar divide\n",
      "  f_bg_error=f_bg* math.sqrt(1 / N_bg + 1 / N_total)\n",
      "/tmp/ipykernel_8737/2479891078.py:49: RuntimeWarning: divide by zero encountered in scalar divide\n",
      "  f_n_error=f_n* math.sqrt(1 / N_n + 1 / N_total)\n"
     ]
    },
    {
     "name": "stdout",
     "output_type": "stream",
     "text": [
      "30\n"
     ]
    },
    {
     "name": "stderr",
     "output_type": "stream",
     "text": [
      "/tmp/ipykernel_8737/2479891078.py:44: RuntimeWarning: invalid value encountered in scalar divide\n",
      "  f_p=N_p/N_total\n",
      "/tmp/ipykernel_8737/2479891078.py:45: RuntimeWarning: invalid value encountered in scalar divide\n",
      "  f_bg=N_bg/N_total\n",
      "/tmp/ipykernel_8737/2479891078.py:46: RuntimeWarning: invalid value encountered in scalar divide\n",
      "  f_n=N_n/N_total\n",
      "/tmp/ipykernel_8737/2479891078.py:47: RuntimeWarning: divide by zero encountered in scalar divide\n",
      "  f_p_error=f_p * math.sqrt(1 / N_p + 1 / N_total)\n",
      "/tmp/ipykernel_8737/2479891078.py:48: RuntimeWarning: divide by zero encountered in scalar divide\n",
      "  f_bg_error=f_bg* math.sqrt(1 / N_bg + 1 / N_total)\n",
      "/tmp/ipykernel_8737/2479891078.py:49: RuntimeWarning: divide by zero encountered in scalar divide\n",
      "  f_n_error=f_n* math.sqrt(1 / N_n + 1 / N_total)\n"
     ]
    },
    {
     "name": "stdout",
     "output_type": "stream",
     "text": [
      "31\n"
     ]
    },
    {
     "name": "stderr",
     "output_type": "stream",
     "text": [
      "/tmp/ipykernel_8737/2479891078.py:44: RuntimeWarning: invalid value encountered in scalar divide\n",
      "  f_p=N_p/N_total\n",
      "/tmp/ipykernel_8737/2479891078.py:45: RuntimeWarning: invalid value encountered in scalar divide\n",
      "  f_bg=N_bg/N_total\n",
      "/tmp/ipykernel_8737/2479891078.py:46: RuntimeWarning: invalid value encountered in scalar divide\n",
      "  f_n=N_n/N_total\n",
      "/tmp/ipykernel_8737/2479891078.py:47: RuntimeWarning: divide by zero encountered in scalar divide\n",
      "  f_p_error=f_p * math.sqrt(1 / N_p + 1 / N_total)\n",
      "/tmp/ipykernel_8737/2479891078.py:48: RuntimeWarning: divide by zero encountered in scalar divide\n",
      "  f_bg_error=f_bg* math.sqrt(1 / N_bg + 1 / N_total)\n",
      "/tmp/ipykernel_8737/2479891078.py:49: RuntimeWarning: divide by zero encountered in scalar divide\n",
      "  f_n_error=f_n* math.sqrt(1 / N_n + 1 / N_total)\n"
     ]
    },
    {
     "name": "stdout",
     "output_type": "stream",
     "text": [
      "32\n"
     ]
    },
    {
     "name": "stderr",
     "output_type": "stream",
     "text": [
      "/tmp/ipykernel_8737/2479891078.py:44: RuntimeWarning: invalid value encountered in scalar divide\n",
      "  f_p=N_p/N_total\n",
      "/tmp/ipykernel_8737/2479891078.py:45: RuntimeWarning: invalid value encountered in scalar divide\n",
      "  f_bg=N_bg/N_total\n",
      "/tmp/ipykernel_8737/2479891078.py:46: RuntimeWarning: invalid value encountered in scalar divide\n",
      "  f_n=N_n/N_total\n",
      "/tmp/ipykernel_8737/2479891078.py:47: RuntimeWarning: divide by zero encountered in scalar divide\n",
      "  f_p_error=f_p * math.sqrt(1 / N_p + 1 / N_total)\n",
      "/tmp/ipykernel_8737/2479891078.py:48: RuntimeWarning: divide by zero encountered in scalar divide\n",
      "  f_bg_error=f_bg* math.sqrt(1 / N_bg + 1 / N_total)\n",
      "/tmp/ipykernel_8737/2479891078.py:49: RuntimeWarning: divide by zero encountered in scalar divide\n",
      "  f_n_error=f_n* math.sqrt(1 / N_n + 1 / N_total)\n"
     ]
    },
    {
     "name": "stdout",
     "output_type": "stream",
     "text": [
      "33\n"
     ]
    },
    {
     "name": "stderr",
     "output_type": "stream",
     "text": [
      "/tmp/ipykernel_8737/2479891078.py:44: RuntimeWarning: invalid value encountered in scalar divide\n",
      "  f_p=N_p/N_total\n",
      "/tmp/ipykernel_8737/2479891078.py:45: RuntimeWarning: invalid value encountered in scalar divide\n",
      "  f_bg=N_bg/N_total\n",
      "/tmp/ipykernel_8737/2479891078.py:46: RuntimeWarning: invalid value encountered in scalar divide\n",
      "  f_n=N_n/N_total\n",
      "/tmp/ipykernel_8737/2479891078.py:47: RuntimeWarning: divide by zero encountered in scalar divide\n",
      "  f_p_error=f_p * math.sqrt(1 / N_p + 1 / N_total)\n",
      "/tmp/ipykernel_8737/2479891078.py:48: RuntimeWarning: divide by zero encountered in scalar divide\n",
      "  f_bg_error=f_bg* math.sqrt(1 / N_bg + 1 / N_total)\n",
      "/tmp/ipykernel_8737/2479891078.py:49: RuntimeWarning: divide by zero encountered in scalar divide\n",
      "  f_n_error=f_n* math.sqrt(1 / N_n + 1 / N_total)\n"
     ]
    },
    {
     "name": "stdout",
     "output_type": "stream",
     "text": [
      "34\n"
     ]
    },
    {
     "name": "stderr",
     "output_type": "stream",
     "text": [
      "/tmp/ipykernel_8737/2479891078.py:44: RuntimeWarning: invalid value encountered in scalar divide\n",
      "  f_p=N_p/N_total\n",
      "/tmp/ipykernel_8737/2479891078.py:45: RuntimeWarning: invalid value encountered in scalar divide\n",
      "  f_bg=N_bg/N_total\n",
      "/tmp/ipykernel_8737/2479891078.py:46: RuntimeWarning: invalid value encountered in scalar divide\n",
      "  f_n=N_n/N_total\n",
      "/tmp/ipykernel_8737/2479891078.py:47: RuntimeWarning: divide by zero encountered in scalar divide\n",
      "  f_p_error=f_p * math.sqrt(1 / N_p + 1 / N_total)\n",
      "/tmp/ipykernel_8737/2479891078.py:48: RuntimeWarning: divide by zero encountered in scalar divide\n",
      "  f_bg_error=f_bg* math.sqrt(1 / N_bg + 1 / N_total)\n",
      "/tmp/ipykernel_8737/2479891078.py:49: RuntimeWarning: divide by zero encountered in scalar divide\n",
      "  f_n_error=f_n* math.sqrt(1 / N_n + 1 / N_total)\n"
     ]
    },
    {
     "name": "stdout",
     "output_type": "stream",
     "text": [
      "35\n"
     ]
    },
    {
     "name": "stderr",
     "output_type": "stream",
     "text": [
      "/tmp/ipykernel_8737/2479891078.py:44: RuntimeWarning: invalid value encountered in scalar divide\n",
      "  f_p=N_p/N_total\n",
      "/tmp/ipykernel_8737/2479891078.py:45: RuntimeWarning: invalid value encountered in scalar divide\n",
      "  f_bg=N_bg/N_total\n",
      "/tmp/ipykernel_8737/2479891078.py:46: RuntimeWarning: invalid value encountered in scalar divide\n",
      "  f_n=N_n/N_total\n",
      "/tmp/ipykernel_8737/2479891078.py:47: RuntimeWarning: divide by zero encountered in scalar divide\n",
      "  f_p_error=f_p * math.sqrt(1 / N_p + 1 / N_total)\n",
      "/tmp/ipykernel_8737/2479891078.py:48: RuntimeWarning: divide by zero encountered in scalar divide\n",
      "  f_bg_error=f_bg* math.sqrt(1 / N_bg + 1 / N_total)\n",
      "/tmp/ipykernel_8737/2479891078.py:49: RuntimeWarning: divide by zero encountered in scalar divide\n",
      "  f_n_error=f_n* math.sqrt(1 / N_n + 1 / N_total)\n"
     ]
    },
    {
     "name": "stdout",
     "output_type": "stream",
     "text": [
      "36\n"
     ]
    },
    {
     "name": "stderr",
     "output_type": "stream",
     "text": [
      "/tmp/ipykernel_8737/2479891078.py:44: RuntimeWarning: invalid value encountered in scalar divide\n",
      "  f_p=N_p/N_total\n",
      "/tmp/ipykernel_8737/2479891078.py:45: RuntimeWarning: invalid value encountered in scalar divide\n",
      "  f_bg=N_bg/N_total\n",
      "/tmp/ipykernel_8737/2479891078.py:46: RuntimeWarning: invalid value encountered in scalar divide\n",
      "  f_n=N_n/N_total\n",
      "/tmp/ipykernel_8737/2479891078.py:47: RuntimeWarning: divide by zero encountered in scalar divide\n",
      "  f_p_error=f_p * math.sqrt(1 / N_p + 1 / N_total)\n",
      "/tmp/ipykernel_8737/2479891078.py:48: RuntimeWarning: divide by zero encountered in scalar divide\n",
      "  f_bg_error=f_bg* math.sqrt(1 / N_bg + 1 / N_total)\n",
      "/tmp/ipykernel_8737/2479891078.py:49: RuntimeWarning: divide by zero encountered in scalar divide\n",
      "  f_n_error=f_n* math.sqrt(1 / N_n + 1 / N_total)\n"
     ]
    },
    {
     "name": "stdout",
     "output_type": "stream",
     "text": [
      "37\n"
     ]
    },
    {
     "name": "stderr",
     "output_type": "stream",
     "text": [
      "/tmp/ipykernel_8737/2479891078.py:44: RuntimeWarning: invalid value encountered in scalar divide\n",
      "  f_p=N_p/N_total\n",
      "/tmp/ipykernel_8737/2479891078.py:45: RuntimeWarning: invalid value encountered in scalar divide\n",
      "  f_bg=N_bg/N_total\n",
      "/tmp/ipykernel_8737/2479891078.py:46: RuntimeWarning: invalid value encountered in scalar divide\n",
      "  f_n=N_n/N_total\n",
      "/tmp/ipykernel_8737/2479891078.py:47: RuntimeWarning: divide by zero encountered in scalar divide\n",
      "  f_p_error=f_p * math.sqrt(1 / N_p + 1 / N_total)\n",
      "/tmp/ipykernel_8737/2479891078.py:48: RuntimeWarning: divide by zero encountered in scalar divide\n",
      "  f_bg_error=f_bg* math.sqrt(1 / N_bg + 1 / N_total)\n",
      "/tmp/ipykernel_8737/2479891078.py:49: RuntimeWarning: divide by zero encountered in scalar divide\n",
      "  f_n_error=f_n* math.sqrt(1 / N_n + 1 / N_total)\n"
     ]
    },
    {
     "name": "stdout",
     "output_type": "stream",
     "text": [
      "38\n"
     ]
    },
    {
     "name": "stderr",
     "output_type": "stream",
     "text": [
      "/tmp/ipykernel_8737/2479891078.py:44: RuntimeWarning: invalid value encountered in scalar divide\n",
      "  f_p=N_p/N_total\n",
      "/tmp/ipykernel_8737/2479891078.py:45: RuntimeWarning: invalid value encountered in scalar divide\n",
      "  f_bg=N_bg/N_total\n",
      "/tmp/ipykernel_8737/2479891078.py:46: RuntimeWarning: invalid value encountered in scalar divide\n",
      "  f_n=N_n/N_total\n",
      "/tmp/ipykernel_8737/2479891078.py:47: RuntimeWarning: divide by zero encountered in scalar divide\n",
      "  f_p_error=f_p * math.sqrt(1 / N_p + 1 / N_total)\n",
      "/tmp/ipykernel_8737/2479891078.py:48: RuntimeWarning: divide by zero encountered in scalar divide\n",
      "  f_bg_error=f_bg* math.sqrt(1 / N_bg + 1 / N_total)\n",
      "/tmp/ipykernel_8737/2479891078.py:49: RuntimeWarning: divide by zero encountered in scalar divide\n",
      "  f_n_error=f_n* math.sqrt(1 / N_n + 1 / N_total)\n"
     ]
    },
    {
     "name": "stdout",
     "output_type": "stream",
     "text": [
      "39\n"
     ]
    },
    {
     "name": "stderr",
     "output_type": "stream",
     "text": [
      "/tmp/ipykernel_8737/2479891078.py:44: RuntimeWarning: invalid value encountered in scalar divide\n",
      "  f_p=N_p/N_total\n",
      "/tmp/ipykernel_8737/2479891078.py:45: RuntimeWarning: invalid value encountered in scalar divide\n",
      "  f_bg=N_bg/N_total\n",
      "/tmp/ipykernel_8737/2479891078.py:46: RuntimeWarning: invalid value encountered in scalar divide\n",
      "  f_n=N_n/N_total\n",
      "/tmp/ipykernel_8737/2479891078.py:47: RuntimeWarning: divide by zero encountered in scalar divide\n",
      "  f_p_error=f_p * math.sqrt(1 / N_p + 1 / N_total)\n",
      "/tmp/ipykernel_8737/2479891078.py:48: RuntimeWarning: divide by zero encountered in scalar divide\n",
      "  f_bg_error=f_bg* math.sqrt(1 / N_bg + 1 / N_total)\n",
      "/tmp/ipykernel_8737/2479891078.py:49: RuntimeWarning: divide by zero encountered in scalar divide\n",
      "  f_n_error=f_n* math.sqrt(1 / N_n + 1 / N_total)\n"
     ]
    }
   ],
   "source": [
    "gen=[]\n",
    "gensys=[]\n",
    "genstat=[]\n",
    "araw=[]\n",
    "arawerror=[]\n",
    "cutindex=[]\n",
    "#w2scale\n",
    "#coinscale\n",
    "#dyscale\n",
    "#dxscale\n",
    "\n",
    "\n",
    "stepsize=20\n",
    "for i in range(0,stepsize):\n",
    "    print(i)\n",
    "    try: _,_,stats1,_=DoItAll(.87-i/10,.88+i/10,coinmin,coinmax,dymin,dymax,dxmin,0,False,False)\n",
    "    except:\n",
    "        continue\n",
    "    cutindex.append(i)\n",
    "    A=stats1['GE/GM * muN']\n",
    "    B=stats1['GE/GM_stat_error']\n",
    "    C=stats1['GE/GM_sys_error']\n",
    "    D=stats1['A_raw']\n",
    "    E=stats1['A_raw_rel_error']\n",
    "    gen.append(A)\n",
    "    gensys.append(B)\n",
    "    genstat.append(C)\n",
    "    araw.append(D)\n",
    "    arawerror.append(E)\n",
    "for i in range(stepsize,stepsize+20):\n",
    "    print(i)\n",
    "    try: _,_,stats2,_=DoItAll(.87-5/10,.88+5/10,coinmin,coinmax,dymin,dymax,dxmin+i/40,dxmax-i/40,False,False)\n",
    "    except:\n",
    "        continue\n",
    "    cutindex.append(i)\n",
    "    A=stats2['GE/GM * muN']\n",
    "    B=stats2['GE/GM_stat_error']\n",
    "    C=stats2['GE/GM_sys_error']\n",
    "    D=stats2['A_raw']\n",
    "    E=stats2['A_raw_rel_error']\n",
    "    gen.append(A)\n",
    "    gensys.append(B)\n",
    "    genstat.append(C)\n",
    "    araw.append(D)\n",
    "    arawerror.append(E)\n",
    "    \"\"\"_,_,stats3,_=DoItAll(W2min,W2max,coinmin,coinmax,dymin,dymax,dxmin+i/40,dxmax-i/40,False,False)\n",
    "    cutindex.append(i)\n",
    "    A=stats3['GE/GM * muN']\n",
    "    B=stats3['GE/GM_stat_error']\n",
    "    C=stats3['GE/GM_sys_error']\n",
    "    D=stats3['A_raw']\n",
    "    E=stats3['A_raw_rel_error']\n",
    "    gen.append(A)\n",
    "    gensys.append(B)\n",
    "    genstat.append(C)\n",
    "    araw.append(D)\n",
    "    arawerror.append(E)\n",
    "    _,_,stats4,_=DoItAll(W2min,W2max,coinmin,coinmax,dymin,dymax,dxmin+i/40,dxmax-i/40,False,False)\n",
    "    cutindex.append(i)\n",
    "    A=stats4['GE/GM * muN']\n",
    "    B=stats4['GE/GM_stat_error']\n",
    "    C=stats4['GE/GM_sys_error']\n",
    "    D=stats4['A_raw']\n",
    "    E=stats4['A_raw_rel_error']\n",
    "    gen.append(A)\n",
    "    gensys.append(B)\n",
    "    genstat.append(C)\n",
    "    araw.append(D)\n",
    "    arawerror.append(E)\"\"\""
   ]
  },
  {
   "cell_type": "code",
   "execution_count": 55,
   "id": "b90008d4",
   "metadata": {},
   "outputs": [
    {
     "data": {
      "text/plain": [
       "<ErrorbarContainer object of 3 artists>"
      ]
     },
     "execution_count": 55,
     "metadata": {},
     "output_type": "execute_result"
    },
    {
     "data": {
      "image/png": "[encoded data removed]",
      "text/plain": [
       "<Figure size 640x480 with 1 Axes>"
      ]
     },
     "metadata": {},
     "output_type": "display_data"
    }
   ],
   "source": [
    "plt.errorbar(cutindex,gen,genstat,fmt='o',linestyle='none')"
   ]
  },
  {
   "cell_type": "code",
   "execution_count": 56,
   "id": "248ce4e2",
   "metadata": {},
   "outputs": [
    {
     "data": {
      "text/plain": [
       "[<matplotlib.lines.Line2D at 0x7f1328627ee0>]"
      ]
     },
     "execution_count": 56,
     "metadata": {},
     "output_type": "execute_result"
    },
    {
     "data": {
      "image/png": "[encoded data removed]",
      "text/plain": [
       "<Figure size 640x480 with 1 Axes>"
      ]
     },
     "metadata": {},
     "output_type": "display_data"
    }
   ],
   "source": [
    "plt.plot(cutindex,np.array(arawerror),'.')"
   ]
  },
  {
   "cell_type": "code",
   "execution_count": null,
   "id": "28d3b3e3",
   "metadata": {},
   "outputs": [],
   "source": [
    "rel_contribs"
   ]
  },
  {
   "cell_type": "code",
   "execution_count": null,
   "id": "d5b7118f",
   "metadata": {},
   "outputs": [],
   "source": [
    "GEGM=statdict['GE/GM * muN']\n",
    "GEGMstat=statdict['GE/GM_stat_error']\n",
    "GEGMsys=statdict['GE/GM_sys_error']"
   ]
  },
  {
   "cell_type": "code",
   "execution_count": null,
   "id": "b0522626",
   "metadata": {},
   "outputs": [],
   "source": [
    "GEGME=np.sqrt(GEGMstat**2+GEGMsys**2)"
   ]
  },
  {
   "cell_type": "code",
   "execution_count": null,
   "id": "998e0474",
   "metadata": {},
   "outputs": [],
   "source": [
    "GEN2Data = {\n",
    "    'Q2': [Q2_avg],\n",
    "    'ExpName': ['GEn-II'],\n",
    "    'R': [GEGM ],\n",
    "    'R_err': [GEGME],\n",
    "    'GEn': [0],   # assuming GEn and GEn_err are present in the file\n",
    "    'GEn_err': [0]\n",
    "}"
   ]
  },
  {
   "cell_type": "code",
   "execution_count": null,
   "id": "d4d3d1d1",
   "metadata": {
    "scrolled": false
   },
   "outputs": [],
   "source": [
    "import numpy as np\n",
    "import pandas as pd\n",
    "import matplotlib.pyplot as plt\n",
    "from GETFF import Function_GETFF  # Assuming you have this imported somewhere\n",
    "\n",
    "# Load theory Q2 and GEn/GD ratio\n",
    "GEntheory = np.transpose(np.loadtxt('../DB/neutron_lookup.dat'))\n",
    "Q2t = np.sort(GEntheory[0])\n",
    "\n",
    "# Calculate GE/GM and uncertainties using GETFF\n",
    "GEGD, GEGDE, GMGD, GMGDE = [], [], [], []\n",
    "for q2 in Q2t:\n",
    "    GEGD.append(Function_GETFF(3, q2)[0])\n",
    "    GEGDE.append(Function_GETFF(3, q2)[1])\n",
    "    GMGD.append(Function_GETFF(4, q2)[0])\n",
    "    GMGDE.append(Function_GETFF(4, q2)[1])\n",
    "\n",
    "GEGD = np.array(GEGD)\n",
    "GEGDE = np.array(GEGDE)\n",
    "GMGD = np.array(GMGD)\n",
    "GMGDE = np.array(GMGDE)\n",
    "\n",
    "# Error propagation: GE/GM with uncertainty\n",
    "def eprop(GE, GEE, GM, GMM):\n",
    "    R = GE / GM\n",
    "    fractional_error = np.sqrt((GEE / GE)**2 + (GMM / GM)**2)\n",
    "    return R, R * fractional_error\n",
    "\n",
    "RatFit, RatFitE = eprop(GEGD, GEGDE, GMGD, GMGDE)\n",
    "\n",
    "# Load world data\n",
    "df = pd.read_csv(\"../DB/GEn_World_Data.csv\")\n",
    "mu_n = 1.91\n",
    "\n",
    "# Setup plot\n",
    "fig, ax = plt.subplots(figsize=(8, 6), dpi=200)\n",
    "marker_styles = ['o', 's', 'D', '^', 'v', '<', '>', 'p', '*', 'X', 'h', '8', 'P', '+', 'x', '|', '_']\n",
    "experiments = df[\"Experiment\"].unique()\n",
    "markers = {exp: marker_styles[i % len(marker_styles)] for i, exp in enumerate(experiments)}\n",
    "\n",
    "# Plot world data\n",
    "for exp in experiments:\n",
    "    subset = df[df[\"Experiment\"] == exp]\n",
    "    ax.errorbar(subset[\"Q2\"], mu_n * subset[\"GEn\"] / subset[\"GMn\"],\n",
    "                subset[\"RatE\"], fmt=markers[exp], label=exp)\n",
    "plt.errorbar(GEN2Data['Q2'],GEN2Data['R'],GEN2Data['R_err'],fmt='o',color='red',label='GEn-II')\n",
    "\n",
    "# Plot fit and shaded error band\n",
    "ax.plot(Q2t, RatFit, color='black', label='Arrington Fit 17')\n",
    "ax.fill_between(Q2t, RatFit - RatFitE, RatFit + RatFitE, color='gray', alpha=0.3)\n",
    "\n",
    "# Watermark and labels\n",
    "ax.text(0.5, 0.5, 'PRELIMINARY', fontsize=60, color='gray',\n",
    "        ha='center', va='center', alpha=0.2, transform=ax.transAxes)\n",
    "\n",
    "ax.set_xlim(0, 12)\n",
    "ax.set_ylim(-0.1, 1.3)\n",
    "ax.grid(True)\n",
    "ax.set_xlabel('$Q^2$ (GeV$^2$)', fontsize=16)\n",
    "ax.set_ylabel(r'$\\mu_N \\cdot G_{En} / G_{Mn}$', fontsize=16)\n",
    "ax.set_title('GEn-II Preliminary Results', fontsize=20)\n",
    "ax.legend(loc='upper left', fontsize=10, ncol=2)\n",
    "#plt.yscale(\"log\")\n",
    "plt.tight_layout()\n",
    "plt.savefig(\"PrelimResults.pdf\")\n",
    "plt.show()\n"
   ]
  },
  {
   "cell_type": "code",
   "execution_count": null,
   "id": "59ce1b87",
   "metadata": {},
   "outputs": [],
   "source": []
  },
  {
   "cell_type": "code",
   "execution_count": null,
   "id": "cf3f2675",
   "metadata": {},
   "outputs": [],
   "source": []
  },
  {
   "cell_type": "code",
   "execution_count": null,
   "id": "3f7a7de5",
   "metadata": {},
   "outputs": [],
   "source": []
  },
  {
   "cell_type": "code",
   "execution_count": null,
   "id": "00fbcc6a",
   "metadata": {},
   "outputs": [],
   "source": []
  },
  {
   "cell_type": "code",
   "execution_count": null,
   "id": "213f10f4",
   "metadata": {},
   "outputs": [],
   "source": []
  },
  {
   "cell_type": "code",
   "execution_count": null,
   "id": "ce51bccb",
   "metadata": {},
   "outputs": [],
   "source": []
  },
  {
   "cell_type": "code",
   "execution_count": null,
   "id": "b78979ed",
   "metadata": {},
   "outputs": [],
   "source": []
  },
  {
   "cell_type": "code",
   "execution_count": null,
   "id": "5e59b4b6",
   "metadata": {},
   "outputs": [],
   "source": []
  },
  {
   "cell_type": "code",
   "execution_count": null,
   "id": "15c3ac9b",
   "metadata": {},
   "outputs": [],
   "source": []
  },
  {
   "cell_type": "code",
   "execution_count": null,
   "id": "486eeb58",
   "metadata": {},
   "outputs": [],
   "source": []
  },
  {
   "cell_type": "code",
   "execution_count": null,
   "id": "af65878f",
   "metadata": {},
   "outputs": [],
   "source": []
  },
  {
   "cell_type": "code",
   "execution_count": null,
   "id": "3d92450e",
   "metadata": {},
   "outputs": [],
   "source": []
  },
  {
   "cell_type": "code",
   "execution_count": null,
   "id": "629b7338",
   "metadata": {},
   "outputs": [],
   "source": []
  },
  {
   "cell_type": "code",
   "execution_count": null,
   "id": "f5a0cd52",
   "metadata": {},
   "outputs": [],
   "source": []
  },
  {
   "cell_type": "code",
   "execution_count": null,
   "id": "91749e79",
   "metadata": {},
   "outputs": [],
   "source": []
  },
  {
   "cell_type": "code",
   "execution_count": null,
   "id": "a1d1affd",
   "metadata": {},
   "outputs": [],
   "source": []
  },
  {
   "cell_type": "code",
   "execution_count": null,
   "id": "ca4454d6",
   "metadata": {},
   "outputs": [],
   "source": []
  }
 ],
 "metadata": {
  "kernelspec": {
   "display_name": "Python 3 (ipykernel)",
   "language": "python",
   "name": "python3"
  },
  "language_info": {
   "codemirror_mode": {
    "name": "ipython",
    "version": 3
   },
   "file_extension": ".py",
   "mimetype": "text/x-python",
   "name": "python",
   "nbconvert_exporter": "python",
   "pygments_lexer": "ipython3",
   "version": "3.8.10"
  }
 },
 "nbformat": 4,
 "nbformat_minor": 5
}
