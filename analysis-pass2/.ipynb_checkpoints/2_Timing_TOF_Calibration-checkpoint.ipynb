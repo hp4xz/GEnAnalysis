{
 "cells": [
  {
   "cell_type": "code",
   "execution_count": 6,
   "id": "78d8e3d0",
   "metadata": {},
   "outputs": [
    {
     "name": "stdout",
     "output_type": "stream",
     "text": [
      "Welcome to JupyROOT 6.26/06\n"
     ]
    }
   ],
   "source": [
    "import ROOT as r\n",
    "import math\n",
    "import array\n",
    "import os\n",
    "import sys\n",
    "import matplotlib.pyplot as plt\n",
    "import numpy as np\n",
    "from math import pi\n",
    "import pandas as pd\n",
    "from scipy.optimize import curve_fit\n",
    "\n",
    "\n",
    "#______________Add include directory_______________\n",
    "current_dir = os.getcwd()\n",
    "include_dir = os.path.join(current_dir, '../include')\n",
    "sys.path.insert(0, include_dir)\n",
    "#__________________________________________________\n",
    "import ERROR\n",
    "import CONFIG\n",
    "import DBPARSE\n",
    "from PXPY import *\n",
    "from ASYMMETRY import *\n",
    "from UTILITIES import *\n",
    "from SIMFITS import DistributionFits\n",
    "from ROOT import gStyle, TChain, TH1F, TCanvas, TLegend\n",
    "import CORRECTIONS\n",
    "import CALCULATE\n",
    "import GETFF\n",
    "from joblib import Parallel, delayed\n",
    "import importlib\n",
    "#importlib.reload(ASYMMETRY)"
   ]
  },
  {
   "cell_type": "code",
   "execution_count": 7,
   "id": "12571214",
   "metadata": {},
   "outputs": [],
   "source": [
    "wL,wR,vscint,tmeanoffset=DBPARSE.parse_hodotdc_file(\"DB/timing/hododb.txt\")"
   ]
  },
  {
   "cell_type": "code",
   "execution_count": 8,
   "id": "e8a76581",
   "metadata": {},
   "outputs": [
    {
     "data": {
      "text/plain": [
       "array([ 2.0926    ,  2.21739   ,  2.39908   ,  1.74378   ,  2.38962   ,\n",
       "        1.1122    ,  1.17838   ,  0.68532   , -0.441944  ,  1.39366   ,\n",
       "        0.215405  ,  0.823796  ,  0.616725  , -0.0868784 ,  0.209355  ,\n",
       "        0.466797  ,  0.357984  ,  1.08044   ,  0.80869   , -0.39865   ,\n",
       "       -0.207042  ,  0.0642552 ,  0.276002  ,  0.66118   ,  0.77137   ,\n",
       "        0.795584  ,  1.28952   ,  1.25215   ,  1.12782   ,  1.47181   ,\n",
       "        5.28453   ,  1.19996   , -0.17287   , -1.06431   , -0.570802  ,\n",
       "       -1.49939   , -0.709017  , -1.06921   , -0.088849  , -0.103843  ,\n",
       "        0.10037   , -0.169916  , -1.06839   ,  0.191016  ,  0.219566  ,\n",
       "       -0.257358  , -0.15387   ,  0.533168  ,  0.0144567 , -0.397961  ,\n",
       "       -0.692803  , -1.11021   , -1.41229   , -0.802776  ,  0.00930221,\n",
       "       -0.674047  , -0.488252  , -1.10877   , -1.32628   , -1.37975   ,\n",
       "       -0.77328   ,  0.0977251 , -0.0681241 ,  1.22426   ,  0.630079  ,\n",
       "        0.585764  ,  1.28487   ,  0.591047  ,  1.01298   ,  1.63387   ,\n",
       "        1.68352   ,  2.36516   ,  2.66753   ,  4.03594   ,  3.12795   ,\n",
       "        3.07793   ,  2.93104   ,  2.43511   ,  2.20222   ,  3.07059   ,\n",
       "        2.69428   ,  4.25634   ,  4.48031   ,  4.84893   ,  3.92705   ,\n",
       "        5.28453   ,  5.28453   ,  5.28453   ,  5.28453   ,  5.28453   ])"
      ]
     },
     "execution_count": 8,
     "metadata": {},
     "output_type": "execute_result"
    }
   ],
   "source": [
    "tmeanoffset"
   ]
  },
  {
   "cell_type": "code",
   "execution_count": 9,
   "id": "39f4ea70",
   "metadata": {},
   "outputs": [],
   "source": [
    "import numpy as np\n",
    "\n",
    "def parse_flat_dat_file(filepath):\n",
    "    # Load all numerical values from the file\n",
    "    data = []\n",
    "    with open(filepath, 'r') as f:\n",
    "        for line in f:\n",
    "            line = line.strip()\n",
    "            if line:  # skip empty lines\n",
    "                data.append(float(line))\n",
    "\n",
    "    if len(data) < 360:\n",
    "        raise ValueError(\"File does not contain at least 360 values\")\n",
    "\n",
    "    w0map = np.array(data[:180])\n",
    "    wL = w0map[:90]\n",
    "    wR = w0map[90:180]\n",
    "    vscint = np.array(data[180:270])\n",
    "    tmean = np.array(data[270:360])\n",
    "\n",
    "    return wL, wR, vscint, tmean\n"
   ]
  },
  {
   "cell_type": "code",
   "execution_count": 10,
   "id": "352a5427",
   "metadata": {},
   "outputs": [],
   "source": [
    "garywL,garywR,garyvscint,garytmean=parse_flat_dat_file(\"DB/timing/testgar.txt\")"
   ]
  },
  {
   "cell_type": "code",
   "execution_count": 11,
   "id": "ff25f290",
   "metadata": {},
   "outputs": [
    {
     "data": {
      "text/plain": [
       "array([ 3.245476  ,  3.817756  ,  4.960007  ,  4.153459  ,  5.417065  ,\n",
       "        6.648987  ,  6.966994  ,  5.342591  ,  4.695072  ,  4.357128  ,\n",
       "        3.684721  ,  4.308691  ,  5.625579  ,  4.524625  ,  3.96566   ,\n",
       "        3.407435  ,  3.70494   ,  3.762776  ,  2.754397  ,  5.475436  ,\n",
       "        5.792941  ,  3.459375  ,  3.506312  ,  3.912076  ,  4.67567   ,\n",
       "        4.994784  ,  5.559863  ,  5.166462  ,  4.25918   ,  5.832684  ,\n",
       "        4.478691  ,  5.98306   ,  5.91522   ,  7.083066  ,  5.934792  ,\n",
       "        4.345657  ,  5.394957  ,  5.900603  ,  6.273275  ,  8.252207  ,\n",
       "        6.350285  ,  5.76137   ,  5.508479  ,  6.562213  ,  5.857332  ,\n",
       "        6.200724  ,  7.098547  ,  7.498555  ,  7.650677  ,  6.549729  ,\n",
       "        7.603401  ,  5.838858  ,  4.365164  ,  6.901078  ,  7.405365  ,\n",
       "        6.70354   ,  7.330563  ,  5.439794  ,  5.283895  ,  6.700199  ,\n",
       "        7.80866   ,  7.084243  ,  7.479489  ,  8.066714  ,  6.922873  ,\n",
       "        6.199535  ,  7.4536    ,  6.885864  ,  4.145779  ,  3.589823  ,\n",
       "        4.003448  ,  4.782864  ,  5.374858  ,  7.039545  ,  5.265409  ,\n",
       "        4.564034  ,  4.875746  ,  5.27765   ,  2.860726  , -0.398023  ,\n",
       "        3.365422  ,  5.378467  ,  1.768729  ,  0.70616   , -0.367766  ,\n",
       "       -0.507459  , -4.795609  ,  0.31147097,  0.311471  ,  0.31147099])"
      ]
     },
     "execution_count": 11,
     "metadata": {},
     "output_type": "execute_result"
    }
   ],
   "source": [
    "garywL-wL"
   ]
  },
  {
   "cell_type": "code",
   "execution_count": 12,
   "id": "5188ac94",
   "metadata": {},
   "outputs": [
    {
     "data": {
      "text/plain": [
       "array([6.080932, 5.766025, 5.8594  , 5.403161, 5.615134, 5.325873,\n",
       "       5.411462, 5.976851, 6.291161, 6.598302, 6.741268, 6.453328,\n",
       "       6.290924, 6.208636, 6.353555, 6.68641 , 6.271694, 6.22729 ,\n",
       "       6.225164, 5.540134, 5.617349, 6.302335, 6.374654, 6.477983,\n",
       "       6.287656, 6.057135, 5.913061, 5.959939, 6.020116, 6.020287,\n",
       "       6.564313, 5.908846, 5.921144, 5.371725, 6.15142 , 6.888425,\n",
       "       6.364283, 5.92945 , 5.977527, 5.631271, 6.126805, 6.219211,\n",
       "       6.203947, 6.037851, 6.037927, 5.724922, 5.420869, 5.610438,\n",
       "       6.028908, 6.0738  , 5.983184, 6.555372, 6.561059, 5.766495,\n",
       "       5.662469, 5.690753, 5.711094, 6.108688, 6.239534, 6.005062,\n",
       "       5.665103, 5.920989, 5.965972, 6.058395, 6.230779, 6.126128,\n",
       "       5.950051, 5.851543, 6.411158, 6.553676, 5.899796, 6.003905,\n",
       "       5.67766 , 5.757213, 6.156371, 6.410121, 6.679351, 5.822255,\n",
       "       5.80599 , 6.840313, 5.934256, 5.271356, 5.922999, 6.32372 ,\n",
       "       6.288148, 6.310843, 7.296273, 0.236973, 0.236973, 0.236973])"
      ]
     },
     "execution_count": 12,
     "metadata": {},
     "output_type": "execute_result"
    }
   ],
   "source": [
    "garywR-wR"
   ]
  },
  {
   "cell_type": "code",
   "execution_count": 13,
   "id": "1081ee10",
   "metadata": {},
   "outputs": [
    {
     "data": {
      "text/plain": [
       "array([-3.07771e-01, -3.19548e-01, -3.43288e-01, -3.30521e-01,\n",
       "       -3.15134e-01, -4.00682e-01, -3.85118e-01, -2.40789e-01,\n",
       "       -2.62394e-01, -2.12939e-01, -2.60152e-01, -3.12837e-01,\n",
       "       -3.56972e-01, -3.42708e-01, -2.79162e-01, -2.61293e-01,\n",
       "       -2.88405e-01, -3.06132e-01, -2.64008e-01, -4.35329e-01,\n",
       "       -4.25531e-01, -2.90137e-01, -2.50672e-01, -2.65075e-01,\n",
       "       -3.27995e-01, -3.32180e-01, -3.45760e-01, -3.31127e-01,\n",
       "       -2.82763e-01, -3.39194e-01, -2.95378e-01, -3.52185e-01,\n",
       "       -3.80380e-01, -4.32986e-01, -3.02177e-01, -2.59845e-01,\n",
       "       -2.69848e-01, -3.50770e-01, -3.21852e-01, -4.30186e-01,\n",
       "       -2.86690e-01, -2.68984e-01, -3.18418e-01, -3.35280e-01,\n",
       "       -2.94636e-01, -3.41700e-01, -3.91200e-01, -3.70434e-01,\n",
       "       -3.55043e-01, -3.27395e-01, -3.65456e-01, -2.72464e-01,\n",
       "       -2.39390e-01, -3.58129e-01, -3.61524e-01, -3.43751e-01,\n",
       "       -3.57669e-01, -2.95070e-01, -2.88238e-01, -3.56581e-01,\n",
       "       -3.85660e-01, -2.94227e-01, -3.02854e-01, -2.92660e-01,\n",
       "       -2.73374e-01, -2.50667e-01, -3.37212e-01, -3.67895e-01,\n",
       "       -2.48312e-01, -2.19472e-01, -2.88661e-01, -3.59459e-01,\n",
       "       -3.62532e-01, -3.78328e-01, -2.98369e-01, -2.51472e-01,\n",
       "       -3.15328e-01, -3.92658e-01, -3.47242e-01, -1.60752e-01,\n",
       "       -3.72123e-01, -5.25748e-01, -3.94088e-01, -3.51097e-01,\n",
       "       -3.72479e-01, -3.02266e-01, -6.25009e-02,  9.01402e-13,\n",
       "       -8.51901e-13,  7.07841e-13])"
      ]
     },
     "execution_count": 13,
     "metadata": {},
     "output_type": "execute_result"
    }
   ],
   "source": [
    "garyvscint"
   ]
  },
  {
   "cell_type": "code",
   "execution_count": 14,
   "id": "d06675bc",
   "metadata": {},
   "outputs": [
    {
     "data": {
      "text/plain": [
       "array([-0.426628 , -0.446936 , -0.463383 , -0.467229 , -0.462334 ,\n",
       "       -0.529515 , -0.51537  , -0.358149 , -0.378092 , -0.34798  ,\n",
       "       -0.391857 , -0.441521 , -0.485249 , -0.470273 , -0.415984 ,\n",
       "       -0.398698 , -0.422336 , -0.435678 , -0.397759 , -0.553835 ,\n",
       "       -0.548975 , -0.411854 , -0.372879 , -0.392533 , -0.442741 ,\n",
       "       -0.45343  , -0.469024 , -0.447754 , -0.404521 , -0.462743 ,\n",
       "       -0.415155 , -0.478407 , -0.510288 , -0.553174 , -0.422816 ,\n",
       "       -0.373295 , -0.385611 , -0.466099 , -0.439489 , -0.54481  ,\n",
       "       -0.411417 , -0.389504 , -0.434301 , -0.454028 , -0.419099 ,\n",
       "       -0.463267 , -0.506    , -0.488816 , -0.472201 , -0.445568 ,\n",
       "       -0.47676  , -0.391304 , -0.354859 , -0.471546 , -0.480952 ,\n",
       "       -0.460423 , -0.472924 , -0.414438 , -0.409099 , -0.471139 ,\n",
       "       -0.498153 , -0.414979 , -0.420397 , -0.417921 , -0.395166 ,\n",
       "       -0.371308 , -0.459919 , -0.483849 , -0.371458 , -0.340463 ,\n",
       "       -0.407254 , -0.473814 , -0.478705 , -0.498958 , -0.425994 ,\n",
       "       -0.375179 , -0.43553  , -0.510322 , -0.467538 , -0.281418 ,\n",
       "       -0.49602  , -0.641665 , -0.515383 , -0.469494 , -0.485345 ,\n",
       "       -0.422043 , -0.1822779, -0.119777 , -0.119777 , -0.119777 ])"
      ]
     },
     "execution_count": 14,
     "metadata": {},
     "output_type": "execute_result"
    }
   ],
   "source": [
    "garyvscint-vscint"
   ]
  },
  {
   "cell_type": "code",
   "execution_count": 15,
   "id": "a509c115",
   "metadata": {},
   "outputs": [],
   "source": [
    "import ROOT"
   ]
  },
  {
   "cell_type": "code",
   "execution_count": 16,
   "id": "f01c1c7e",
   "metadata": {},
   "outputs": [],
   "source": [
    "Pass=\"2\"\n",
    "config=\"2\"\n",
    "useGrinch=False\n",
    "base_dir = f\"/media/research/TOSHIBA EXT/GEn/NumpyData/Pass{Pass}/GEN{config}/Timing\"\n"
   ]
  },
  {
   "cell_type": "code",
   "execution_count": 17,
   "id": "f4081fb8",
   "metadata": {},
   "outputs": [
    {
     "name": "stdout",
     "output_type": "stream",
     "text": [
      "W2min: 0\n",
      "W2max: 1.5\n",
      "dxmin: -0.8\n",
      "dxmax: 0.8\n",
      "dymin: -0.822\n",
      "dymax: 0.8\n",
      "dybgmin: -1.4\n",
      "dybgmax: 1.4\n",
      "Q2: 3\n",
      "Coin Min: 128 Coin Max: 139\n"
     ]
    }
   ],
   "source": [
    "W2min=CONFIG.Function_JSON(\"W2min\",f\"../config/Pass{Pass}/cuts{config}.cfg\")\n",
    "W2max=CONFIG.Function_JSON(\"W2max\",f\"../config/Pass{Pass}/cuts{config}.cfg\")\n",
    "dxmin=CONFIG.Function_JSON(\"dxmin\",f\"../config/Pass{Pass}/cuts{config}.cfg\")\n",
    "dxmax=CONFIG.Function_JSON(\"dxmax\",f\"../config/Pass{Pass}/cuts{config}.cfg\")\n",
    "dymin=CONFIG.Function_JSON(\"dymin\",f\"../config/Pass{Pass}/cuts{config}.cfg\")\n",
    "dymax=CONFIG.Function_JSON(\"dymax\",f\"../config/Pass{Pass}/cuts{config}.cfg\")\n",
    "dybgmin=CONFIG.Function_JSON(\"dybgmin\",f\"../config/Pass{Pass}/cuts{config}.cfg\")\n",
    "dybgmax=CONFIG.Function_JSON(\"dybgmax\",f\"../config/Pass{Pass}/cuts{config}.cfg\")\n",
    "coinmin=CONFIG.Function_JSON(\"coinmin\",f\"../config/Pass{Pass}/cuts{config}.cfg\")\n",
    "coinmax=CONFIG.Function_JSON(\"coinmax\",f\"../config/Pass{Pass}/cuts{config}.cfg\")\n",
    "Q2=CONFIG.Function_JSON(\"Q2\",f\"../config/Pass{Pass}/cuts{config}.cfg\")\n",
    "\n",
    "#  \"dxmin\"\t: -0.481,\n",
    "#  \"dxmax\"\t: 0.498, old gen2\n",
    "\n",
    "\n",
    "print(f'W2min: {W2min}')\n",
    "print(f'W2max: {W2max}')\n",
    "print(f'dxmin: {dxmin}')\n",
    "print(f'dxmax: {dxmax}')\n",
    "print(f'dymin: {dymin}')\n",
    "print(f'dymax: {dymax}')\n",
    "print(f'dybgmin: {dybgmin}')\n",
    "print(f'dybgmax: {dybgmax}')\n",
    "print(f'Q2: {Q2}')\n",
    "print(f'Coin Min: {coinmin} Coin Max: {coinmax}')\n",
    "\n"
   ]
  },
  {
   "cell_type": "code",
   "execution_count": 18,
   "id": "b7407750",
   "metadata": {},
   "outputs": [],
   "source": [
    "etof0 = (1.96+3.0)/0.299792458\n",
    "c = 0.299792458\n",
    "zhodo = 1.854454\n",
    "Lbar_hodo = 0.6\n",
    "vscint_default = 0.16 \n",
    "wL_default = 0.3\n",
    "wR_default = 0.21\n",
    "vscint = np.full(90, vscint_default)\n",
    "wL = np.full(90, wL_default)\n",
    "wR = np.full(90, wR_default)\n",
    "Lbar_hodo = 0.6"
   ]
  },
  {
   "cell_type": "code",
   "execution_count": 19,
   "id": "9c1d51e1",
   "metadata": {},
   "outputs": [],
   "source": [
    "hodomeantime_gen2 = np.load(\"DB/timing/hodomeantime_offsets_gen2.npy\").astype(float)\n"
   ]
  },
  {
   "cell_type": "code",
   "execution_count": 20,
   "id": "87fb0b9c",
   "metadata": {},
   "outputs": [],
   "source": [
    "generic=np.load(f\"{base_dir}/timing0.npz\")\n"
   ]
  },
  {
   "cell_type": "code",
   "execution_count": 21,
   "id": "b7ac2dcf",
   "metadata": {},
   "outputs": [
    {
     "data": {
      "text/plain": [
       "2000000"
      ]
     },
     "execution_count": 21,
     "metadata": {},
     "output_type": "execute_result"
    }
   ],
   "source": [
    "len(generic[\"meantime\"])"
   ]
  },
  {
   "cell_type": "code",
   "execution_count": 22,
   "id": "f35b553b",
   "metadata": {},
   "outputs": [
    {
     "data": {
      "text/plain": [
       "'i=0\\nall_bars=[]\\nall_times=[]\\nwhile os.path.exists(f\"{base_dir}/timing{i}.npz\"):\\n    # load your i-th chunk here\\n    print(i)\\n    data = np.load(f\"{base_dir}/timing{i}.npz\")  # or .npy/.h5 depending on your format\\n\\n\\n    HODOraw = data[\"HODOtmean\"]\\n    bb_rftime = data[\"bb_rftime\"]\\n    primarybarid = np.transpose(data[\"barid\"])[0]\\n\\n    dtRF = HODOraw - bb_rftime\\n\\n\\n    all_bars.append(primarybarid)\\n    all_times.append(dtRF)\\n    i+=1\\nall_bars = np.concatenate(all_bars)\\nall_times = np.concatenate(all_times)'"
      ]
     },
     "execution_count": 22,
     "metadata": {},
     "output_type": "execute_result"
    }
   ],
   "source": [
    "\"\"\"i=0\n",
    "all_bars=[]\n",
    "all_times=[]\n",
    "while os.path.exists(f\"{base_dir}/timing{i}.npz\"):\n",
    "    # load your i-th chunk here\n",
    "    print(i)\n",
    "    data = np.load(f\"{base_dir}/timing{i}.npz\")  # or .npy/.h5 depending on your format\n",
    "\n",
    "\n",
    "    HODOraw = data[\"HODOtmean\"]\n",
    "    bb_rftime = data[\"bb_rftime\"]\n",
    "    primarybarid = np.transpose(data[\"barid\"])[0]\n",
    "\n",
    "    dtRF = HODOraw - bb_rftime\n",
    "\n",
    "\n",
    "    all_bars.append(primarybarid)\n",
    "    all_times.append(dtRF)\n",
    "    i+=1\n",
    "all_bars = np.concatenate(all_bars)\n",
    "all_times = np.concatenate(all_times)\"\"\"\n"
   ]
  },
  {
   "cell_type": "code",
   "execution_count": 23,
   "id": "3add8a28",
   "metadata": {},
   "outputs": [
    {
     "data": {
      "text/plain": [
       "'plt.figure(figsize=(10, 6))\\nh = plt.hist2d(bars, times, bins=[n_bars, bins_y], range=[[0, n_bars], list(y_range)], cmap=\\'viridis\\')\\nplt.colorbar(h[3], label=\\'Counts\\')\\nplt.xlabel(\"Primary Hodoscope Bar ID\")\\nplt.ylabel(r\"$t_\\\\mathrm{raw} - t_\\\\mathrm{RF}$ (ns)\")\\nplt.title(\"Timing Residual vs Bar ID\")\\nplt.tight_layout()\\nplt.show()'"
      ]
     },
     "execution_count": 23,
     "metadata": {},
     "output_type": "execute_result"
    }
   ],
   "source": [
    "\"\"\"plt.figure(figsize=(10, 6))\n",
    "h = plt.hist2d(bars, times, bins=[n_bars, bins_y], range=[[0, n_bars], list(y_range)], cmap='viridis')\n",
    "plt.colorbar(h[3], label='Counts')\n",
    "plt.xlabel(\"Primary Hodoscope Bar ID\")\n",
    "plt.ylabel(r\"$t_\\mathrm{raw} - t_\\mathrm{RF}$ (ns)\")\n",
    "plt.title(\"Timing Residual vs Bar ID\")\n",
    "plt.tight_layout()\n",
    "plt.show()\"\"\"\n"
   ]
  },
  {
   "cell_type": "code",
   "execution_count": 24,
   "id": "8ff6293e",
   "metadata": {},
   "outputs": [],
   "source": [
    "genericMaster = {}\n",
    "\n",
    "def doit():\n",
    "    base_dir = f\"/media/research/TOSHIBA EXT/GEn/NumpyData/Pass{Pass}/GEN{config}/Timing\"\n",
    "    i = 0\n",
    "    print(f\"NumPy array directory = {base_dir}\")\n",
    "    while os.path.exists(f\"{base_dir}/timing{i}.npz\"):\n",
    "        #if i >5:\n",
    "        #    break\n",
    "        print(f\"Loading in file {i}\")\n",
    "        file_path = f\"{base_dir}/timing{i}.npz\"\n",
    "        data = np.load(file_path)\n",
    "\n",
    "        for key in data.files:\n",
    "            if key not in genericMaster:\n",
    "                genericMaster[key] = data[key]\n",
    "            else:\n",
    "                genericMaster[key] = np.concatenate((genericMaster[key], data[key]))\n",
    "\n",
    "        data.close()\n",
    "        i += 1\n",
    "\n",
    "    print(f\"Loaded {i} files into genericMaster.\")\n"
   ]
  },
  {
   "cell_type": "code",
   "execution_count": 25,
   "id": "1bb10ee7",
   "metadata": {},
   "outputs": [],
   "source": [
    "%load_ext memory_profiler\n",
    "#%memit doit()\n"
   ]
  },
  {
   "cell_type": "code",
   "execution_count": 26,
   "id": "da02f453",
   "metadata": {},
   "outputs": [],
   "source": [
    "#runnum=generic[\"runnum\"]\n",
    "tleft=generic[\"tleft\"]\n",
    "tright=generic[\"tright\"]\n",
    "totleft=generic[\"totleft\"]\n",
    "totright=generic[\"totright\"]\n",
    "vpos=generic[\"vpos\"]\n",
    "barid=generic[\"barid\"]\n",
    "nbars=generic[\"nbars\"]\n",
    "bb_rftime=generic[\"bb_rftime\"]\n",
    "sbs_rftime=generic[\"sbs_rftime\"]\n",
    "hodo_rftime=generic[\"hodo_rftime\"]\n",
    "hcal_rftime=generic[\"hcal_rftime\"]\n",
    "HODOmeantime=generic[\"meantime\"]\n",
    "eblk=generic[\"cblke\"]\n",
    "idblk=generic[\"cblkid\"]\n",
    "timeblk=generic[\"cblktime\"]\n",
    "vz=generic[\"vz\"]\n",
    "pathl=generic[\"pathl\"]\n",
    "barid = np.where(barid == 0, -1, barid)  # Mask out bar 0 entirely\n",
    "tr_x=generic[\"tr_x\"]\n",
    "tr_y=generic[\"tr_y\"]\n",
    "tr_th=generic[\"tr_th\"]\n",
    "tr_ph=generic[\"tr_ph\"]\n",
    "HCALtw=generic[\"HCALtw\"]\n",
    "dx=generic[\"dx\"]\n",
    "dy=generic[\"dy\"]\n",
    "w2=generic[\"W2\"]\n",
    "cut=(dxmin<dx)&(dxmax>dx)&(dymin<dy)&(dymax>dy)&(W2min<w2)&(W2max>w2)"
   ]
  },
  {
   "cell_type": "code",
   "execution_count": 28,
   "id": "8a463a20",
   "metadata": {},
   "outputs": [
    {
     "data": {
      "text/plain": [
       "array([-156.48544, -138.20224, -123.7632 , ...,  141.48384,  150.76608,\n",
       "        151.51616])"
      ]
     },
     "execution_count": 28,
     "metadata": {},
     "output_type": "execute_result"
    }
   ],
   "source": [
    "np.unique(bb_rftime)"
   ]
  },
  {
   "cell_type": "code",
   "execution_count": 74,
   "id": "4f10c624",
   "metadata": {},
   "outputs": [
    {
     "data": {
      "image/png": "[encoded data removed]",
      "text/plain": [
       "<Figure size 640x480 with 1 Axes>"
      ]
     },
     "metadata": {},
     "output_type": "display_data"
    }
   ],
   "source": [
    "d=plt.hist(np.transpose(HODOmeantime)[0]-bb_rftime,bins=100,range=(-20,20),histtype='step')\n",
    "d=plt.hist(np.transpose(timeblk)[0]-hcal_rftime,bins=100,range=(-80,80),histtype='step')"
   ]
  },
  {
   "cell_type": "code",
   "execution_count": 75,
   "id": "92c7cac5",
   "metadata": {},
   "outputs": [
    {
     "data": {
      "text/plain": [
       "5"
      ]
     },
     "execution_count": 75,
     "metadata": {},
     "output_type": "execute_result"
    }
   ],
   "source": [
    "len(totleft[0])"
   ]
  },
  {
   "cell_type": "code",
   "execution_count": 76,
   "id": "c19ace1a",
   "metadata": {},
   "outputs": [],
   "source": [
    "runs_filtered = generic[\"runnum\"][cut]\n",
    "\n",
    "# Now apply the run number cut:\n",
    "valid_runs = runs_filtered > 2165\n",
    "runs_filtered = runs_filtered[valid_runs]\n",
    "unique_runnum, run_idx = np.unique(runs_filtered, return_inverse=True)\n"
   ]
  },
  {
   "cell_type": "markdown",
   "id": "57de3b01",
   "metadata": {},
   "source": [
    "# Run Number Dependance"
   ]
  },
  {
   "cell_type": "code",
   "execution_count": 29,
   "id": "ad64bf90",
   "metadata": {},
   "outputs": [
    {
     "name": "stdout",
     "output_type": "stream",
     "text": [
      "NumPy array directory = /media/research/TOSHIBA EXT/GEn/NumpyData/Pass2/GEN2/Timing\n",
      "Loading in file 0\n",
      "Loading in file 1\n",
      "Loading in file 2\n",
      "Loading in file 3\n",
      "Loaded 4 files into genericMaster.\n"
     ]
    }
   ],
   "source": [
    "runnum=[]\n",
    "tleft=[]\n",
    "tright=[]\n",
    "totleft=[]\n",
    "totright=[]\n",
    "vpos=[]\n",
    "barid=[]\n",
    "nbars=[]\n",
    "nblk=[]\n",
    "bb_rftime=[]\n",
    "sbs_rftime=[]\n",
    "hodo_rftime=[]\n",
    "hcal_rftime=[]\n",
    "HODOmeantime=[]\n",
    "eblk=[]\n",
    "idblk=[]\n",
    "timeblk=[]\n",
    "vz=[]\n",
    "pathl=[]\n",
    "tr_x=[]\n",
    "tr_y=[]\n",
    "tr_th=[]\n",
    "tr_ph=[]\n",
    "HCALtw=[]\n",
    "\n",
    "def Cut():\n",
    "    base_dir = f\"/media/research/TOSHIBA EXT/GEn/NumpyData/Pass{Pass}/GEN{config}/Timing\"\n",
    "    i = 0\n",
    "    print(f\"NumPy array directory = {base_dir}\")\n",
    "    while os.path.exists(f\"{base_dir}/timing{i}.npz\"):\n",
    "        \n",
    "        \n",
    "        if i>3: break\n",
    "            \n",
    "        print(f\"Loading in file {i}\")\n",
    "        file_path = f\"{base_dir}/timing{i}.npz\"\n",
    "        data = np.load(file_path)\n",
    "        \n",
    "        dx=data[\"dx\"]\n",
    "        dy=data[\"dy\"]\n",
    "        w2=data[\"W2\"]\n",
    "        cut=(dxmin<dx)&(dxmax>dx)&(dymin<dy)&(dymax>dy)&(W2min<w2)&(W2max>w2)\n",
    "        cut=(0<w2)&(2>w2)\n",
    "        \n",
    "        runnum.extend(data[\"runnum\"][cut])\n",
    "            \n",
    "        timeblk.extend(data[\"cblktime\"][cut])\n",
    "        HODOmeantime.extend(data[\"meantime\"][cut])\n",
    "        tleft.extend(data[\"tleft\"][cut])\n",
    "        tright.extend(data[\"tright\"][cut])\n",
    "        totleft.extend(data[\"totleft\"][cut])\n",
    "        totright.extend(data[\"totright\"][cut])\n",
    "        vpos.extend(data[\"vpos\"][cut])\n",
    "        barid.extend(data[\"barid\"][cut])\n",
    "        nbars.extend(data[\"nbars\"][cut])\n",
    "        nblk.extend(data[\"nblk\"][cut])\n",
    "        bb_rftime.extend(data[\"bb_rftime\"][cut])\n",
    "        sbs_rftime.extend(data[\"sbs_rftime\"][cut])\n",
    "        hodo_rftime.extend(data[\"hodo_rftime\"][cut])\n",
    "        hcal_rftime.extend(data[\"hcal_rftime\"][cut])\n",
    "        eblk.extend(data[\"cblke\"][cut])\n",
    "        idblk.extend(data[\"cblkid\"][cut])\n",
    "        vz.extend(data[\"vz\"][cut])\n",
    "        pathl.extend(data[\"pathl\"][cut])\n",
    "        tr_x.extend(data[\"tr_x\"][cut])\n",
    "        tr_y.extend(data[\"tr_y\"][cut])\n",
    "        tr_th.extend(data[\"tr_th\"][cut])\n",
    "        tr_ph.extend(data[\"tr_ph\"][cut])\n",
    "        HCALtw.extend(data[\"HCALtw\"][cut])\n",
    "        \n",
    "        i+=1\n",
    "\n",
    "    print(f\"Loaded {i} files into genericMaster.\")\n",
    "Cut()\n",
    "\n",
    "\n",
    "runnum=np.array(runnum)\n",
    "nbars=np.array(nbars)\n",
    "\n",
    "tleft=np.transpose(tleft)\n",
    "tright=np.transpose(tright)\n",
    "totleft=np.transpose(totleft)\n",
    "totright=np.transpose(totright)\n",
    "vpos=np.transpose(vpos)\n",
    "barid=np.transpose(barid)\n",
    "HODOmeantime=np.transpose(HODOmeantime)\n",
    "eblk=np.transpose(eblk)\n",
    "idblk=np.transpose(idblk)\n",
    "timeblk=np.transpose(timeblk)\n",
    "\n",
    "bb_rftime=np.array(bb_rftime)\n",
    "sbs_rftime=np.array(sbs_rftime)\n",
    "hodo_rftime=np.array(hodo_rftime)\n",
    "hcal_rftime=np.array(hcal_rftime)\n",
    "vz=np.array(vz)\n",
    "pathl=np.array(pathl)\n",
    "tr_x=np.array(tr_x)\n",
    "tr_y=np.array(tr_y)\n",
    "tr_th=np.array(tr_th)\n",
    "tr_ph=np.array(tr_ph)\n",
    "HCALtw=np.array(HCALtw)"
   ]
  },
  {
   "cell_type": "code",
   "execution_count": 30,
   "id": "e3bb4efa",
   "metadata": {},
   "outputs": [
    {
     "data": {
      "image/png": "[encoded data removed]",
      "text/plain": [
       "<Figure size 640x480 with 1 Axes>"
      ]
     },
     "metadata": {},
     "output_type": "display_data"
    }
   ],
   "source": [
    "#d=plt.hist(HODOmeantime[0]-hodo_rftime,bins=100,range=(-10,10),histtype='step')\n",
    "d=plt.hist(HODOmeantime[0]-bb_rftime,bins=100,range=(-20,20),histtype='step')"
   ]
  },
  {
   "cell_type": "code",
   "execution_count": 31,
   "id": "063b266f",
   "metadata": {},
   "outputs": [
    {
     "data": {
      "image/png": "[encoded data removed]",
      "text/plain": [
       "<Figure size 640x480 with 1 Axes>"
      ]
     },
     "metadata": {},
     "output_type": "display_data"
    }
   ],
   "source": [
    "d=plt.hist(timeblk[0]-hcal_rftime,bins=100,range=(-10,10),histtype='step')\n",
    "d=plt.hist(timeblk[0]-sbs_rftime,bins=100,range=(-10,10),histtype='step')"
   ]
  },
  {
   "cell_type": "code",
   "execution_count": 32,
   "id": "e6334d7c",
   "metadata": {},
   "outputs": [],
   "source": [
    "def ApplyHodoCorrection(nbars,barid,tleft,tright,totleft,totright,pathl,vz,tr_y,tr_x,tr_ph,tr_th,\n",
    "                       wL,wR,vscint,tmeanoffset):   \n",
    "    tmeanperevent=[]\n",
    "    for i in range(0,len(nbars)):\n",
    "        etof=pathl[i]/.299792458-etof0\n",
    "        yhodo = tr_y[i] + zhodo * tr_ph[i] \n",
    "        xhodo = tr_x[i] + zhodo * tr_th[i]\n",
    "        dLEFT = np.clip(Lbar_hodo / 2 - yhodo, 0, Lbar_hodo)\n",
    "        dRIGHT = np.clip(Lbar_hodo / 2 + yhodo, 0, Lbar_hodo)\n",
    "        tmeanperbar=[]\n",
    "        for j in range(0,nbars[i]):\n",
    "            b=int(barid[j][i])\n",
    "            tleft_corr = tleft[j][i] - etof - wL[b] * totleft[j][i] - dLEFT / vscint[b]\n",
    "            tright_corr = tright[j][i] - etof - wR[b] * totright[j][i] - dRIGHT / vscint[b]\n",
    "            tmeanperbar.append((tleft_corr+tright_corr)/2)\n",
    "        tmeanperevent.append(tmeanperbar)\n",
    "    return tmeanperevent\n",
    "\n",
    "testmean=ApplyHodoCorrection(nbars,barid,tleft,tright,totleft,totright,pathl,vz,tr_y,tr_x,tr_ph,tr_th,\n",
    "                            wL,wR,vscint,tmeanoffset)"
   ]
  },
  {
   "cell_type": "code",
   "execution_count": 33,
   "id": "8280a39f",
   "metadata": {},
   "outputs": [],
   "source": [
    "primarymean=[]\n",
    "nobars=0\n",
    "for i in range(0,len(testmean)):\n",
    "    if nbars[i]>0:\n",
    "        primarymean.append(testmean[i][0])\n",
    "    else:\n",
    "        nobars+=1"
   ]
  },
  {
   "cell_type": "code",
   "execution_count": 34,
   "id": "14d00b5d",
   "metadata": {},
   "outputs": [
    {
     "data": {
      "text/plain": [
       "0.7942828746577945"
      ]
     },
     "execution_count": 34,
     "metadata": {},
     "output_type": "execute_result"
    }
   ],
   "source": [
    "len(primarymean)/len(HODOmeantime[0])"
   ]
  },
  {
   "cell_type": "code",
   "execution_count": 35,
   "id": "433794ea",
   "metadata": {},
   "outputs": [
    {
     "data": {
      "text/plain": [
       "0.20571712534220557"
      ]
     },
     "execution_count": 35,
     "metadata": {},
     "output_type": "execute_result"
    }
   ],
   "source": [
    "nobars/len(testmean)"
   ]
  },
  {
   "cell_type": "code",
   "execution_count": 36,
   "id": "5fedccbf",
   "metadata": {},
   "outputs": [],
   "source": [
    "#d=plt.hist(primarymean,bins=100,alpha=.5)\n",
    "#d=plt.hist(HODOmeantime[0],bins=100,alpha=.5)"
   ]
  },
  {
   "cell_type": "code",
   "execution_count": null,
   "id": "fb649471",
   "metadata": {},
   "outputs": [],
   "source": [
    "cut=(abs(timeblk[0])<30)&(abs(HODOmeantime[0])<30)\n",
    "unique_runnum, run_idx = np.unique(runnum[cut], return_inverse=True)\n",
    "\n",
    "rawcoin=(timeblk[0]-rawHODO[0])\n",
    "coin=(timeblk[0]-HODOmeantime[0])\n",
    "coin=(HCALtw-HODOmeantime[0])\n",
    "\n",
    "plt.figure(figsize=(12, 6))\n",
    "plt.hist2d(run_idx, coin[cut], bins=[len(unique_runnum), 20],range=((0,len(unique_runnum)),(-10,10)), cmap='viridis')\n",
    "plt.colorbar(label=\"Counts\")\n",
    "plt.xlabel(\"Run Number\")\n",
    "plt.ylabel(\"Coincidence Time\")\n",
    "plt.title(\"sbs.hcal.clus_blk.tdctime[0]-bb.hodotdc.clus.bar.tdc.meantime[0]\")\n",
    "step = 10\n",
    "tick_indices = np.arange(0, len(unique_runnum), step)\n",
    "tick_labels = unique_runnum[tick_indices]\n",
    "\n",
    "plt.xticks(ticks=tick_indices, labels=tick_labels, rotation=45)\n",
    "plt.tight_layout()\n",
    "plt.show()"
   ]
  },
  {
   "cell_type": "code",
   "execution_count": 1,
   "id": "a1c2c5a8",
   "metadata": {},
   "outputs": [],
   "source": [
    "import numpy as np\n",
    "import matplotlib.pyplot as plt\n",
    "from scipy.optimize import curve_fit\n",
    "\n",
    "# Gaussian function\n",
    "def gaus(x, A, mu, sigma):\n",
    "    return A * np.exp(-(x - mu)**2 / (2 * sigma**2))\n",
    "\n",
    "# Main function\n",
    "def plot_gaus(data, bins=100, full_range=(-20, 20), fit_range=(-10, 10)):\n",
    "    lower, upper = fit_range\n",
    "\n",
    "    # Full histogram\n",
    "    counts, edges = np.histogram(data, bins=bins, range=full_range)\n",
    "    centers = (edges[:-1] + edges[1:]) / 2\n",
    "\n",
    "    # Mask for the fit range\n",
    "    fit_mask = (centers >= lower) & (centers <= upper)\n",
    "    x_fit = centers[fit_mask]\n",
    "    y_fit = counts[fit_mask]\n",
    "\n",
    "    # Initial guess: [amplitude, mean, sigma]\n",
    "    p0 = [np.max(y_fit), x_fit[np.argmax(y_fit)], 5]\n",
    "\n",
    "    # Gaussian fit\n",
    "    popt, _ = curve_fit(gaus, x_fit, y_fit, p0=p0)\n",
    "\n",
    "    # Plotting\n",
    "    plt.figure(figsize=(8, 5))\n",
    "    plt.hist(data, bins=bins, range=full_range, alpha=0.5, label='Data', color='skyblue')\n",
    "    xplot = np.linspace(fit_range[0], fit_range[1], 1000)\n",
    "    plt.plot(xplot, gaus(xplot, *popt), 'r--',label=f'Fit: μ={popt[1]:.2f}, σ={popt[2]:.2f}')\n",
    "    plt.axvline(lower, color='gray', linestyle='dotted', alpha=0.7)\n",
    "    plt.axvline(upper, color='gray', linestyle='dotted', alpha=0.7)\n",
    "    plt.xlabel(\"Coincidence Time\")\n",
    "    plt.ylabel(\"Counts\")\n",
    "    plt.legend()\n",
    "    #plt.grid(True)\n",
    "    #plt.tight_layout()\n",
    "\n",
    "    return popt  # Returns [A, mu, sigma]\n"
   ]
  },
  {
   "cell_type": "code",
   "execution_count": 2,
   "id": "44d493e4",
   "metadata": {},
   "outputs": [
    {
     "ename": "NameError",
     "evalue": "name 'coin' is not defined",
     "output_type": "error",
     "traceback": [
      "\u001b[0;31m---------------------------------------------------------------------------\u001b[0m",
      "\u001b[0;31mNameError\u001b[0m                                 Traceback (most recent call last)",
      "Cell \u001b[0;32mIn [2], line 1\u001b[0m\n\u001b[0;32m----> 1\u001b[0m plot_gaus(\u001b[43mcoin\u001b[49m[nbars\u001b[38;5;241m>\u001b[39m\u001b[38;5;241m0\u001b[39m],fit_range\u001b[38;5;241m=\u001b[39m(\u001b[38;5;241m-\u001b[39m\u001b[38;5;241m10\u001b[39m,\u001b[38;5;241m0\u001b[39m))\n\u001b[1;32m      2\u001b[0m plt\u001b[38;5;241m.\u001b[39mtitle(\u001b[38;5;124m\"\u001b[39m\u001b[38;5;124mHcal-hodo\u001b[39m\u001b[38;5;124m\"\u001b[39m)\n\u001b[1;32m      3\u001b[0m plot_gaus(rawcoin\u001b[38;5;241m-\u001b[39m\u001b[38;5;241m10\u001b[39m,fit_range\u001b[38;5;241m=\u001b[39m(\u001b[38;5;241m-\u001b[39m\u001b[38;5;241m10\u001b[39m,\u001b[38;5;241m10\u001b[39m))\n",
      "\u001b[0;31mNameError\u001b[0m: name 'coin' is not defined"
     ]
    }
   ],
   "source": [
    "plot_gaus(coin[nbars>0],fit_range=(-10,0))\n",
    "plt.title(\"Hcal-hodo\")\n",
    "plot_gaus(rawcoin-10,fit_range=(-10,10))\n",
    "\n"
   ]
  },
  {
   "cell_type": "code",
   "execution_count": null,
   "id": "b233a677",
   "metadata": {},
   "outputs": [],
   "source": []
  },
  {
   "cell_type": "code",
   "execution_count": null,
   "id": "cc7a37a6",
   "metadata": {},
   "outputs": [],
   "source": []
  },
  {
   "cell_type": "code",
   "execution_count": 233,
   "id": "aba304e1",
   "metadata": {},
   "outputs": [
    {
     "data": {
      "text/plain": [
       "Text(0.5, 1.0, 'RF Structure')"
      ]
     },
     "execution_count": 233,
     "metadata": {},
     "output_type": "execute_result"
    },
    {
     "data": {
      "image/png": "[encoded data removed]",
      "text/plain": [
       "<Figure size 640x480 with 1 Axes>"
      ]
     },
     "metadata": {},
     "output_type": "display_data"
    }
   ],
   "source": [
    "d=plt.hist(HODOmeantime[0]-bb_rftime,histtype='step',bins=100,range=(-10,10),color='black')\n",
    "plt.title(\"RF Structure\")"
   ]
  },
  {
   "cell_type": "code",
   "execution_count": 286,
   "id": "3c8a3f29",
   "metadata": {},
   "outputs": [
    {
     "data": {
      "image/png": "[encoded data removed]",
      "text/plain": [
       "<Figure size 1000x600 with 2 Axes>"
      ]
     },
     "metadata": {},
     "output_type": "display_data"
    }
   ],
   "source": [
    "n_bars=90\n",
    "bins_y=100\n",
    "y_range=(-6, 6)\n",
    "dtRF = HODOmeantime[0] - bb_rftime\n",
    "\n",
    "# Ensure valid data\n",
    "primarybarid = primarybarid.astype(int)\n",
    "valid = (\n",
    "    (primarybarid >= 0) & (primarybarid < n_bars) &\n",
    "    np.isfinite(dtRF) & (np.abs(dtRF) < abs(y_range[1]))\n",
    ")\n",
    "\n",
    "bars = primarybarid[valid]\n",
    "times = dtRF[valid]\n",
    "\n",
    "# Plot\n",
    "plt.figure(figsize=(10, 6))\n",
    "h = plt.hist2d(bars, times, bins=[n_bars, bins_y], range=[[0, n_bars], list(y_range)], cmap='viridis')\n",
    "plt.colorbar(h[3], label='Counts')\n",
    "plt.xlabel(\"Primary Hodoscope Bar ID\")\n",
    "plt.ylabel(r\"$t_\\mathrm{raw} - t_\\mathrm{RF}$ (ns)\")\n",
    "plt.title(\"Timing Residual vs Bar ID\")\n",
    "plt.tight_layout()\n",
    "#plt.plot(HODOmeantime)\n",
    "plt.show()\n"
   ]
  },
  {
   "cell_type": "code",
   "execution_count": null,
   "id": "6e41ca74",
   "metadata": {},
   "outputs": [],
   "source": []
  },
  {
   "cell_type": "code",
   "execution_count": null,
   "id": "6ab214d9",
   "metadata": {},
   "outputs": [],
   "source": []
  },
  {
   "cell_type": "code",
   "execution_count": 396,
   "id": "d2403113",
   "metadata": {},
   "outputs": [
    {
     "data": {
      "text/plain": [
       "5"
      ]
     },
     "execution_count": 396,
     "metadata": {},
     "output_type": "execute_result"
    }
   ],
   "source": [
    "len(barid)"
   ]
  },
  {
   "cell_type": "markdown",
   "id": "2b7b601f",
   "metadata": {},
   "source": [
    "# Meantime Offsets - Loop 1"
   ]
  },
  {
   "cell_type": "code",
   "execution_count": 411,
   "id": "40bad60f",
   "metadata": {},
   "outputs": [],
   "source": [
    "import numpy as np\n",
    "import sys\n",
    "\n",
    "def Loop1_partial(\n",
    "    tleft, tright, totleft, totright, barid, vpos, nbars,\n",
    "    vz, pathl, xtrack, ytrack, thtrack, phtrack,\n",
    "    wL, wR, vscint, etof0, zhodo, Lbar_hodo, MeanTimeOffsets,\n",
    "    ref_bar=44, n_bars_total=90,histograms=None\n",
    "):\n",
    "    c = 0.299792458  # Speed of light in ns/cm\n",
    "\n",
    "    Minternal = np.zeros((n_bars_total, n_bars_total))\n",
    "    binternal = np.zeros(n_bars_total)\n",
    "    nevent_vs_bar = np.zeros(n_bars_total)\n",
    "\n",
    "    n_events = len(nbars)\n",
    "    for i in range(n_events):\n",
    "        if i % 10000 == 0:\n",
    "            sys.stdout.write(f\"Loop 1: nevent = {i}, {i / n_events * 100:.2f}% complete\\r\")\n",
    "            sys.stdout.flush()\n",
    "\n",
    "        n = nbars[i]\n",
    "        if n < 2:\n",
    "            continue\n",
    "\n",
    "        yhodo = ytrack[i] + zhodo * phtrack[i]\n",
    "        xhodo = xtrack[i] + zhodo * thtrack[i]\n",
    "        etof = pathl[i] / c - etof0\n",
    "        tmean0 = None\n",
    "\n",
    "        for ibar in range(n):\n",
    "            IDHODO = int(barid[ibar, i])\n",
    "            if IDHODO < 0 or IDHODO >= n_bars_total:\n",
    "                continue\n",
    "\n",
    "            tleft_i = tleft[ibar, i]\n",
    "            tright_i = tright[ibar, i]\n",
    "            totleft_i = totleft[ibar, i]\n",
    "            totright_i = totright[ibar, i]\n",
    "            xpos_i = vpos[ibar, i]\n",
    "            vsc_i = vscint[IDHODO]\n",
    "\n",
    "            dLEFT = np.clip(Lbar_hodo / 2 - yhodo, 0, Lbar_hodo)\n",
    "            dRIGHT = np.clip(Lbar_hodo / 2 + yhodo, 0, Lbar_hodo)\n",
    "\n",
    "            tleft_corr_i = tleft_i - etof - MeanTimeOffsets[IDHODO] + wL[IDHODO] * totleft_i - dLEFT / vsc_i\n",
    "            tright_corr_i = tright_i - etof - MeanTimeOffsets[IDHODO] + wR[IDHODO] * totright_i - dRIGHT / vsc_i\n",
    "            tmeancorr_i = 0.5 * (tleft_corr_i + tright_corr_i)\n",
    "            tdiffcorr_i = tleft_corr_i - tright_corr_i\n",
    "            ypos_i = -0.5 * vsc_i * tdiffcorr_i\n",
    "\n",
    "            if ibar == 0:\n",
    "                tmean0 = tmeancorr_i\n",
    "\n",
    "            goodhit_i = (\n",
    "                6 <= totleft_i <= 35 and\n",
    "                6 <= totright_i <= 35 and\n",
    "                abs(totleft_i - totright_i) <= 10 and\n",
    "                abs(ypos_i - yhodo) <= 0.15 and\n",
    "                abs(xpos_i - xhodo) <= 0.06 and\n",
    "                abs(tmeancorr_i - tmean0) <= 10\n",
    "            )\n",
    "\n",
    "            if not goodhit_i:\n",
    "                continue\n",
    "\n",
    "            for jbar in range(ibar + 1, n):\n",
    "                IDHODO_j = int(barid[jbar, i])\n",
    "                if IDHODO_j < 0 or IDHODO_j >= n_bars_total:\n",
    "                    continue\n",
    "\n",
    "                tleft_j = tleft[jbar, i]\n",
    "                tright_j = tright[jbar, i]\n",
    "                totleft_j = totleft[jbar, i]\n",
    "                totright_j = totright[jbar, i]\n",
    "                xpos_j = vpos[jbar, i]\n",
    "                vsc_j = vscint[IDHODO_j]\n",
    "\n",
    "                tleft_corr_j = tleft_j - etof - MeanTimeOffsets[IDHODO_j] + wL[IDHODO_j] * totleft_j - dLEFT / vsc_j\n",
    "                tright_corr_j = tright_j - etof - MeanTimeOffsets[IDHODO_j] + wR[IDHODO_j] * totright_j - dRIGHT / vsc_j\n",
    "                tmeancorr_j = 0.5 * (tleft_corr_j + tright_corr_j)\n",
    "                tdiffcorr_j = tleft_corr_j - tright_corr_j\n",
    "                ypos_j = -0.5 * vsc_j * tdiffcorr_j\n",
    "\n",
    "                goodhit_j = (\n",
    "                    6 <= totleft_j <= 35 and\n",
    "                    6 <= totright_j <= 35 and\n",
    "                    abs(totleft_j - totright_j) <= 10 and\n",
    "                    abs(ypos_j - yhodo) <= 0.15 and\n",
    "                    abs(xpos_j - xhodo) <= 0.06 and\n",
    "                    abs(tmeancorr_j - tmean0) <= 10\n",
    "                )\n",
    "\n",
    "                if not goodhit_j:\n",
    "                    continue\n",
    "\n",
    "                t_i = tmeancorr_i\n",
    "                t_j = tmeancorr_j\n",
    "                if histograms is not None:\n",
    "                    key = (min(IDHODO, IDHODO_j), max(IDHODO, IDHODO_j))\n",
    "                    histograms[key].append(t_i - t_j)\n",
    "                binternal[IDHODO] += t_i - t_j\n",
    "                binternal[IDHODO_j] += t_j - t_i\n",
    "\n",
    "                Minternal[IDHODO, IDHODO] += 1.0\n",
    "                Minternal[IDHODO, IDHODO_j] += -1.0\n",
    "                Minternal[IDHODO_j, IDHODO] += -1.0\n",
    "                Minternal[IDHODO_j, IDHODO_j] += 1.0\n",
    "\n",
    "                nevent_vs_bar[IDHODO] += 1\n",
    "                nevent_vs_bar[IDHODO_j] += 1\n",
    "\n",
    "    return Minternal, binternal, nevent_vs_bar\n"
   ]
  },
  {
   "cell_type": "code",
   "execution_count": 413,
   "id": "768f827f",
   "metadata": {},
   "outputs": [
    {
     "data": {
      "text/plain": [
       "'Loop1_partial(\\n    tleft, tright, totleft, totright, barid, vpos, nbars,\\n    vz, pathl, tr_x, tr_y, tr_th, tr_ph,\\n    wL, wR, vscint, etof0, zhodo, Lbar_hodo, tmeanoffset,\\n    ref_bar=44, n_bars_total=90\\n)'"
      ]
     },
     "execution_count": 413,
     "metadata": {},
     "output_type": "execute_result"
    }
   ],
   "source": [
    "\"\"\"Loop1_partial(\n",
    "    tleft, tright, totleft, totright, barid, vpos, nbars,\n",
    "    vz, pathl, tr_x, tr_y, tr_th, tr_ph,\n",
    "    wL, wR, vscint, etof0, zhodo, Lbar_hodo, tmeanoffset,\n",
    "    ref_bar=44, n_bars_total=90\n",
    ")\"\"\""
   ]
  },
  {
   "cell_type": "code",
   "execution_count": 414,
   "id": "a33244a1",
   "metadata": {},
   "outputs": [],
   "source": [
    "from collections import defaultdict\n",
    "\n",
    "pairwise_residuals = defaultdict(list)  # key: (bar_i, bar_j), value: list of Δt_ij\n"
   ]
  },
  {
   "cell_type": "code",
   "execution_count": 416,
   "id": "497edcd0",
   "metadata": {
    "scrolled": true
   },
   "outputs": [
    {
     "name": "stdout",
     "output_type": "stream",
     "text": [
      "Processing chunk 0\n",
      "Processing chunk 100000, 98.67% complete\n",
      "Processing chunk 200000, 96.50% complete\n",
      "Processing chunk 300000, 95.57% complete\n",
      "Processing chunk 400000, 95.32% complete\n",
      "Processing chunk 500000, 95.60% complete\n",
      "Processing chunk 600000, 93.75% complete\n",
      "Processing chunk 700000, 92.58% complete\n",
      "Processing chunk 800000, 92.75% complete\n",
      "Processing chunk 900000, 93.37% complete\n",
      "Processing chunk 100000, 94.96% complete\n",
      "Processing chunk 110000, 94.91% complete\n",
      "Processing chunk 120000, 94.11% complete\n",
      "Processing chunk 130000, 93.10% complete\n",
      "Processing chunk 140000, 92.49% complete\n",
      "Processing chunk 150000, 92.08% complete\n",
      "Processing chunk 160000, 93.41% complete\n",
      "Processing chunk 170000, 95.06% complete\n",
      "Processing chunk 180000, 95.66% complete\n",
      "Processing chunk 190000, 95.48% complete\n",
      "Processing chunk 20000, 93.62% complete\n",
      "Processing chunk 21000, 92.50% complete\n",
      "Processing chunk 22000, 92.52% complete\n",
      "Processing chunk 23000, 94.27% complete\n",
      "Processing chunk 24000, 90.48% complete\n",
      "Processing chunk 25000, 91.00% complete\n",
      "Processing chunk 26000, 90.15% complete\n",
      "Processing chunk 27000, 89.52% complete\n",
      "Processing chunk 28000, 88.99% complete\n",
      "Processing chunk 29000, 99.88% complete\n",
      "Processing chunk 30000, 99.35% complete\n",
      "Bar 2 too low stats — regularizingplete\n",
      "Bar 86 too low stats — regularizing\n",
      "Bar 87 too low stats — regularizing\n",
      "Bar 88 too low stats — regularizing\n",
      "Bar 89 too low stats — regularizing\n",
      "Final offset[0] = 11.917153\n",
      "Final offset[1] = 10.790229\n",
      "Final offset[2] = 8.992839\n",
      "Final offset[3] = 13.921299\n",
      "Final offset[4] = 13.654147\n",
      "Final offset[5] = 12.601743\n",
      "Final offset[6] = 10.672452\n",
      "Final offset[7] = 12.202207\n",
      "Final offset[8] = 11.082493\n",
      "Final offset[9] = 11.816925\n",
      "Final offset[10] = 10.200132\n",
      "Final offset[11] = 10.902652\n",
      "Final offset[12] = 10.445766\n",
      "Final offset[13] = 9.211702\n",
      "Final offset[14] = 9.483697\n",
      "Final offset[15] = 8.290467\n",
      "Final offset[16] = 8.052820\n",
      "Final offset[17] = 9.209493\n",
      "Final offset[18] = 7.014747\n",
      "Final offset[19] = 6.316501\n",
      "Final offset[20] = 6.999469\n",
      "Final offset[21] = 5.371106\n",
      "Final offset[22] = 6.082375\n",
      "Final offset[23] = 6.357103\n",
      "Final offset[24] = 5.942423\n",
      "Final offset[25] = 5.835461\n",
      "Final offset[26] = 5.995398\n",
      "Final offset[27] = 5.496466\n",
      "Final offset[28] = 4.284665\n",
      "Final offset[29] = 5.179239\n",
      "Final offset[30] = 1.809052\n",
      "Final offset[31] = 4.391148\n",
      "Final offset[32] = 2.883295\n",
      "Final offset[33] = 1.075008\n",
      "Final offset[34] = 1.261201\n",
      "Final offset[35] = -0.275474\n",
      "Final offset[36] = 0.444479\n",
      "Final offset[37] = 0.019384\n",
      "Final offset[38] = 0.079578\n",
      "Final offset[39] = 0.764391\n",
      "Final offset[40] = -0.452189\n",
      "Final offset[41] = -0.174379\n",
      "Final offset[42] = -0.273449\n",
      "Final offset[43] = 0.486415\n",
      "Final offset[44] = 0.000000\n",
      "Final offset[45] = -0.734780\n",
      "Final offset[46] = -0.102171\n",
      "Final offset[47] = 0.448970\n",
      "Final offset[48] = -0.970468\n",
      "Final offset[49] = -1.214904\n",
      "Final offset[50] = -1.144805\n",
      "Final offset[51] = -1.937924\n",
      "Final offset[52] = -2.057588\n",
      "Final offset[53] = -1.677668\n",
      "Final offset[54] = -1.697216\n",
      "Final offset[55] = -2.630539\n",
      "Final offset[56] = -1.891168\n",
      "Final offset[57] = -2.404171\n",
      "Final offset[58] = -3.434900\n",
      "Final offset[59] = -2.187285\n",
      "Final offset[60] = -2.837719\n",
      "Final offset[61] = -2.506231\n",
      "Final offset[62] = -1.388870\n",
      "Final offset[63] = -0.038906\n",
      "Final offset[64] = -1.100493\n",
      "Final offset[65] = -0.523738\n",
      "Final offset[66] = -0.448276\n",
      "Final offset[67] = -0.920699\n",
      "Final offset[68] = -0.811625\n",
      "Final offset[69] = 0.013998\n",
      "Final offset[70] = 0.124387\n",
      "Final offset[71] = 0.314203\n",
      "Final offset[72] = 0.306051\n",
      "Final offset[73] = 1.409571\n",
      "Final offset[74] = 0.672097\n",
      "Final offset[75] = 1.088656\n",
      "Final offset[76] = -0.829146\n",
      "Final offset[77] = 0.452824\n",
      "Final offset[78] = -0.420947\n",
      "Final offset[79] = 1.011868\n",
      "Final offset[80] = 1.971694\n",
      "Final offset[81] = 3.539323\n",
      "Final offset[82] = 3.719112\n",
      "Final offset[83] = 5.920926\n",
      "Final offset[84] = 6.659557\n",
      "Final offset[85] = 7.293347\n",
      "Final offset[86] = 8.992839\n",
      "Final offset[87] = 8.992839\n",
      "Final offset[88] = 8.992839\n",
      "Final offset[89] = 8.992839\n"
     ]
    }
   ],
   "source": [
    "import numpy as np\n",
    "import os\n",
    "\n",
    "# Initialize total system\n",
    "n_bars = 90\n",
    "M_total = np.zeros((n_bars, n_bars))\n",
    "b_total = np.zeros(n_bars)\n",
    "nevents_total = np.zeros(n_bars)\n",
    "\n",
    "base_dir = f\"/media/research/TOSHIBA EXT/GEn/NumpyData/Pass{Pass}/GEN{config}/Timing\"\n",
    "i = 0\n",
    "\n",
    "while os.path.exists(f\"{base_dir}/timing{i}.npz\"):\n",
    "    print(f\"Processing chunk {i}\")\n",
    "    data = np.load(f\"{base_dir}/timing{i}.npz\")\n",
    "    cut=(data[\"W2\"]<2)&(data[\"W2\"]>0)\n",
    "    MeanTimeOffsets = np.zeros(n_bars)  # Pass dummy initial offsets\n",
    "    M, b, nev = Loop1_partial(np.transpose(data[\"tleft\"][cut]), np.transpose(data[\"tright\"][cut]), \n",
    "        np.transpose(data[\"totleft\"][cut]), np.transpose(data[\"totright\"][cut]), np.transpose(data[\"barid\"][cut]),\n",
    "        np.transpose(data[\"vpos\"][cut]), data[\"nbars\"][cut], data[\"vz\"][cut], data[\"pathl\"][cut],\n",
    "        data[\"tr_x\"][cut], data[\"tr_y\"][cut], data[\"tr_th\"][cut], data[\"tr_ph\"][cut],\n",
    "        wL, wR, vscint, etof0, zhodo, Lbar_hodo,\n",
    "        MeanTimeOffsets,  # dummy offset (only affects internal corrections per chunk)\n",
    "        ref_bar=44, n_bars_total=n_bars,histograms=pairwise_residuals\n",
    "    )\n",
    "\n",
    "    M_total += M\n",
    "    b_total += b\n",
    "    nevents_total += nev\n",
    "    i += 1\n",
    "\n",
    "# Post-pass regularization\n",
    "for i in range(n_bars):\n",
    "    if nevents_total[i] < 100:\n",
    "        print(f\"Bar {i} too low stats — regularizing\")\n",
    "        b_total[i] = 0.0\n",
    "        M_total[i, :] = 0.0\n",
    "        M_total[:, i] = 0.0\n",
    "        M_total[i, i] = 1.0\n",
    "\n",
    "# Solve system\n",
    "binternal = np.linalg.solve(M_total, b_total)\n",
    "\n",
    "# Apply correction to keep MeanTimeOffsets[ref_bar] fixed\n",
    "corr = -(MeanTimeOffsets[ref_bar] + binternal[ref_bar])\n",
    "offsets = binternal + corr\n",
    "\n",
    "# Update MeanTimeOffsets in place\n",
    "MeanTimeOffsets += offsets\n",
    "\n",
    "# Print\n",
    "for i in range(n_bars):\n",
    "    print(f\"(i, MeanTimeOffsets[i]) = ({i}, {MeanTimeOffsets[i]:.6f})\")\n",
    "\n"
   ]
  },
  {
   "cell_type": "code",
   "execution_count": 430,
   "id": "85249b67",
   "metadata": {},
   "outputs": [],
   "source": [
    "MeanTimeOffsets = np.zeros(n_bars)  # Now it's meaningful\n",
    "ref_bar=44\n",
    "# Solve the system\n",
    "binternal = np.linalg.solve(M_total, b_total)\n",
    "\n",
    "# C++: double corr = -(MeanTimeOffsets[ref_bar] + binternal(ref_bar));\n",
    "corr = -(MeanTimeOffsets[ref_bar] + binternal[ref_bar])\n",
    "\n",
    "# C++ loop: binternal[i] += corr; MeanTimeOffsets[i] += binternal[i];\n",
    "for i in range(n_bars):\n",
    "    binternal[i] += corr\n",
    "    MeanTimeOffsets[i] += binternal[i]\n",
    "\n"
   ]
  },
  {
   "cell_type": "code",
   "execution_count": 431,
   "id": "ab906995",
   "metadata": {},
   "outputs": [
    {
     "data": {
      "text/plain": [
       "array([11.91715339, 10.79022871,  8.99283912, 13.92129871, 13.65414663,\n",
       "       12.60174255, 10.67245185, 12.20220694, 11.0824925 , 11.81692458,\n",
       "       10.20013208, 10.90265187, 10.44576555,  9.21170179,  9.48369724,\n",
       "        8.29046725,  8.05282008,  9.20949263,  7.01474725,  6.31650061,\n",
       "        6.99946882,  5.37110626,  6.08237473,  6.35710299,  5.94242296,\n",
       "        5.83546126,  5.99539823,  5.49646568,  4.28466514,  5.17923871,\n",
       "        1.80905235,  4.39114762,  2.88329465,  1.07500784,  1.26120077,\n",
       "       -0.27547363,  0.44447895,  0.01938436,  0.07957769,  0.76439105,\n",
       "       -0.45218899, -0.17437868, -0.27344875,  0.48641498,  0.        ,\n",
       "       -0.7347795 , -0.10217063,  0.4489703 , -0.97046813, -1.21490398,\n",
       "       -1.14480509, -1.93792381, -2.05758773, -1.67766843, -1.69721648,\n",
       "       -2.63053883, -1.89116759, -2.4041712 , -3.43489977, -2.1872848 ,\n",
       "       -2.83771902, -2.506231  , -1.38887036, -0.0389062 , -1.10049342,\n",
       "       -0.52373766, -0.44827563, -0.92069863, -0.81162457,  0.01399792,\n",
       "        0.12438708,  0.31420294,  0.30605142,  1.40957077,  0.67209687,\n",
       "        1.08865569, -0.82914602,  0.45282381, -0.42094727,  1.01186787,\n",
       "        1.9716937 ,  3.53932264,  3.71911244,  5.92092623,  6.65955747,\n",
       "        7.29334704,  8.99283912,  8.99283912,  8.99283912,  8.99283912])"
      ]
     },
     "execution_count": 431,
     "metadata": {},
     "output_type": "execute_result"
    }
   ],
   "source": [
    "MeanTimeOffsets"
   ]
  },
  {
   "cell_type": "code",
   "execution_count": 432,
   "id": "1ed97092",
   "metadata": {},
   "outputs": [],
   "source": [
    "import matplotlib.pyplot as plt\n",
    "os.makedirs(\"pairwise_raw\", exist_ok=True)\n",
    "\n",
    "for (i, j), vals in pairwise_residuals.items():\n",
    "    if len(vals) < 100:\n",
    "        continue\n",
    "    plt.figure()\n",
    "    plt.hist(vals, bins=100, range=(-5, 5), alpha=0.75)\n",
    "    plt.title(f\"Raw Δtmean: bar {i} - bar {j}\")\n",
    "    plt.xlabel(\"Δt (ns)\")\n",
    "    plt.ylabel(\"Counts\")\n",
    "    plt.tight_layout()\n",
    "    plt.savefig(f\"pairwise_raw/dtmean_bar{i}_bar{j}.png\")\n",
    "    plt.close()\n"
   ]
  },
  {
   "cell_type": "code",
   "execution_count": 428,
   "id": "0e622f15",
   "metadata": {},
   "outputs": [
    {
     "data": {
      "text/plain": [
       "[<matplotlib.lines.Line2D at 0x7f3de4c9eeb0>]"
      ]
     },
     "execution_count": 428,
     "metadata": {},
     "output_type": "execute_result"
    },
    {
     "data": {
      "image/png": "[encoded data removed]",
      "text/plain": [
       "<Figure size 640x480 with 1 Axes>"
      ]
     },
     "metadata": {},
     "output_type": "display_data"
    }
   ],
   "source": [
    "plt.plot(MeanTimeOffsets,'.')"
   ]
  },
  {
   "cell_type": "code",
   "execution_count": null,
   "id": "33b51d35",
   "metadata": {},
   "outputs": [],
   "source": []
  },
  {
   "cell_type": "code",
   "execution_count": null,
   "id": "73e72b34",
   "metadata": {},
   "outputs": [],
   "source": []
  },
  {
   "cell_type": "code",
   "execution_count": 4,
   "id": "2db93e40",
   "metadata": {},
   "outputs": [
    {
     "ename": "NameError",
     "evalue": "name 'barid' is not defined",
     "output_type": "error",
     "traceback": [
      "\u001b[0;31m---------------------------------------------------------------------------\u001b[0m",
      "\u001b[0;31mNameError\u001b[0m                                 Traceback (most recent call last)",
      "Cell \u001b[0;32mIn [4], line 5\u001b[0m\n\u001b[1;32m      2\u001b[0m \u001b[38;5;28;01mimport\u001b[39;00m \u001b[38;5;21;01mmatplotlib\u001b[39;00m\u001b[38;5;21;01m.\u001b[39;00m\u001b[38;5;21;01mpyplot\u001b[39;00m \u001b[38;5;28;01mas\u001b[39;00m \u001b[38;5;21;01mplt\u001b[39;00m\n\u001b[1;32m      4\u001b[0m \u001b[38;5;66;03m# Flatten and filter valid barids (0 to 89)\u001b[39;00m\n\u001b[0;32m----> 5\u001b[0m valid_barids \u001b[38;5;241m=\u001b[39m \u001b[43mbarid\u001b[49m\n\u001b[1;32m      7\u001b[0m \u001b[38;5;66;03m# Count occurrences\u001b[39;00m\n\u001b[1;32m      8\u001b[0m unique_bars, counts \u001b[38;5;241m=\u001b[39m np\u001b[38;5;241m.\u001b[39munique(valid_barids, return_counts\u001b[38;5;241m=\u001b[39m\u001b[38;5;28;01mTrue\u001b[39;00m)\n",
      "\u001b[0;31mNameError\u001b[0m: name 'barid' is not defined"
     ]
    }
   ],
   "source": [
    "import numpy as np\n",
    "import matplotlib.pyplot as plt\n",
    "\n",
    "# Flatten and filter valid barids (0 to 89)\n",
    "valid_barids = barid\n",
    "\n",
    "# Count occurrences\n",
    "unique_bars, counts = np.unique(valid_barids, return_counts=True)\n",
    "\n",
    "# Plot histogram\n",
    "plt.figure(figsize=(10, 5))\n",
    "plt.bar(unique_bars, nev, width=0.8)\n",
    "plt.xlabel(\"Bar ID\")\n",
    "plt.ylabel(\"Occurrences\")\n",
    "plt.title(\"Bar ID Usage Across All Events\")\n",
    "plt.xticks(np.arange(0, 90, 5))\n",
    "plt.grid(True)\n",
    "plt.show()\n"
   ]
  },
  {
   "cell_type": "markdown",
   "id": "226ada2f",
   "metadata": {},
   "source": [
    "# Walk Corrections"
   ]
  },
  {
   "cell_type": "code",
   "execution_count": 456,
   "id": "4a3d0644",
   "metadata": {},
   "outputs": [],
   "source": [
    "import numpy as np\n",
    "\n",
    "def solve_walk_and_prop_corrections(\n",
    "    tleft, tright, totleft, totright, vpos, barid, nbars,\n",
    "    vz, pathl, xtrack, ytrack, thtrack, phtrack,\n",
    "    MeanTimeOffsets,\n",
    "    etof0=30.0, zhodo=1.8, Lbar_hodo=0.9,\n",
    "    n_bars=90, min_events_per_bar=50\n",
    "):\n",
    "    c = 0.299792458\n",
    "    nparams = 3 * n_bars  # t0, wL, wR per bar\n",
    "    Mhodo = np.zeros((nparams, nparams))\n",
    "    bhodo = np.zeros(nparams)\n",
    "    event_counts = np.zeros(n_bars)\n",
    "\n",
    "    for i in range(len(nbars)):\n",
    "        n = nbars[i]\n",
    "        if n < 1:\n",
    "            continue\n",
    "\n",
    "        yhodo = ytrack[i] + zhodo * phtrack[i]\n",
    "        xhodo = xtrack[i] + zhodo * thtrack[i]\n",
    "        etof = pathl[i] / c - etof0\n",
    "\n",
    "        for j in range(n):\n",
    "            b = int(barid[j, i])\n",
    "            if b < 0 or b >= n_bars:\n",
    "                continue\n",
    "\n",
    "            # Hit-level quantities\n",
    "            tL = tleft[j, i]\n",
    "            tR = tright[j, i]\n",
    "            TOTL = totleft[j, i]\n",
    "            TOTR = totright[j, i]\n",
    "            xpos = vpos[j, i]\n",
    "\n",
    "            # Geometry\n",
    "            dLEFT = np.clip(Lbar_hodo / 2 - yhodo, 0, Lbar_hodo)\n",
    "            dRIGHT = np.clip(Lbar_hodo / 2 + yhodo, 0, Lbar_hodo)\n",
    "\n",
    "            # Raw times corrected only for etof and offset\n",
    "            tL_corr = tL - etof - MeanTimeOffsets[b]\n",
    "            tR_corr = tR - etof - MeanTimeOffsets[b]\n",
    "\n",
    "            # Meantime + asymmetry\n",
    "            tmean = 0.5 * (tL_corr + tR_corr)\n",
    "            tdiff = tL_corr - tR_corr\n",
    "            ypos = -0.5 * dLEFT * tdiff\n",
    "\n",
    "            # Hit quality cuts\n",
    "            if not (\n",
    "                6 <= TOTL <= 35 and\n",
    "                6 <= TOTR <= 35 and\n",
    "                abs(TOTL - TOTR) <= 10 and\n",
    "                abs(ypos - yhodo) <= 0.15 and\n",
    "                abs(xpos - xhodo) <= 0.06\n",
    "            ):\n",
    "                continue\n",
    "\n",
    "            event_counts[b] += 1\n",
    "\n",
    "            # Matrix indices\n",
    "            i_t0 = b\n",
    "            i_wL = b + n_bars\n",
    "            i_wR = b + 2 * n_bars\n",
    "\n",
    "            # Left PMT\n",
    "            Mhodo[i_t0, i_t0] += 1\n",
    "            Mhodo[i_t0, i_wL] += -TOTL\n",
    "            Mhodo[i_wL, i_t0] += -TOTL\n",
    "            Mhodo[i_wL, i_wL] += TOTL**2\n",
    "            bhodo[i_t0] += tL_corr\n",
    "            bhodo[i_wL] += -tL_corr * TOTL\n",
    "\n",
    "            # Right PMT\n",
    "            Mhodo[i_t0, i_t0] += 1\n",
    "            Mhodo[i_t0, i_wR] += -TOTR\n",
    "            Mhodo[i_wR, i_t0] += -TOTR\n",
    "            Mhodo[i_wR, i_wR] += TOTR**2\n",
    "            bhodo[i_t0] += tR_corr\n",
    "            bhodo[i_wR] += -tR_corr * TOTR\n",
    "\n",
    "    # Regularize underpopulated bars\n",
    "    for b in range(n_bars):\n",
    "        if event_counts[b] < min_events_per_bar:\n",
    "            for idx in [b, b + n_bars, b + 2 * n_bars]:\n",
    "                Mhodo[idx, :] = 0\n",
    "                Mhodo[:, idx] = 0\n",
    "                Mhodo[idx, idx] = 1\n",
    "                bhodo[idx] = 0.0\n",
    "\n",
    "    # Solve\n",
    "    params = np.linalg.lstsq(Mhodo, bhodo, rcond=None)[0]\n",
    "    t0 = params[0:n_bars]\n",
    "    wL = params[n_bars:2*n_bars]\n",
    "    wR = params[2*n_bars:3*n_bars]\n",
    "    vscint = np.full(n_bars, 0.13)  # placeholder for now\n",
    "\n",
    "    return t0, wL, wR, vscint, event_counts\n"
   ]
  },
  {
   "cell_type": "code",
   "execution_count": 457,
   "id": "3d48e2f2",
   "metadata": {},
   "outputs": [],
   "source": [
    "HODOt0, HODOwL, HODOwR, vscint_fixed, event_counts = solve_walk_and_prop_corrections(\n",
    "    tleft, tright, totleft, totright, vpos, barid, nbars,\n",
    "    vz, pathl, tr_x, tr_y, tr_th, tr_ph,\n",
    "    offsets,\n",
    "    etof0\n",
    ")\n"
   ]
  },
  {
   "cell_type": "code",
   "execution_count": 461,
   "id": "d4221944",
   "metadata": {},
   "outputs": [],
   "source": [
    "def apply_final_hodo_corrections(\n",
    "    tleft, tright, totleft, totright, vpos, barid, nbars,\n",
    "    pathl, MeanTimeOffsets, wL, wR, vscint,\n",
    "    etof0=30.0, c=0.299792458, Lbar_hodo=0.9, zhodo=1.8,\n",
    "    xtrack=None, ytrack=None, thtrack=None, phtrack=None\n",
    "):\n",
    "    \"\"\"\n",
    "    Applies all final hodoscope corrections (walk, propagation, etof, t0 offset) to each hit\n",
    "    and returns a per-event final corrected mean time using the primary bar (bar 0 in each event).\n",
    "    \"\"\"\n",
    "    n_events = len(nbars)\n",
    "    HODO_final = np.full(n_events, np.nan)\n",
    "\n",
    "    for i in range(n_events):\n",
    "        if nbars[i] < 1:\n",
    "            continue\n",
    "\n",
    "        b = int(barid[0][i])  # primary bar only\n",
    "        if b < 0 or b >= len(wL):\n",
    "            continue\n",
    "\n",
    "        # Pull values\n",
    "        tL = tleft[0][i]\n",
    "        tR = tright[0][i]\n",
    "        TOTL = totleft[0][i]\n",
    "        TOTR = totright[0][i]\n",
    "        vsc = vscint[b]\n",
    "\n",
    "        # Optional: get geometry from track projection\n",
    "        if xtrack is not None and ytrack is not None and thtrack is not None and phtrack is not None:\n",
    "            yhodo = ytrack[i] + zhodo * phtrack[i]\n",
    "            dLEFT = np.clip(Lbar_hodo / 2 - yhodo, 0, Lbar_hodo)\n",
    "            dRIGHT = np.clip(Lbar_hodo / 2 + yhodo, 0, Lbar_hodo)\n",
    "        else:\n",
    "            # Fallback if no track info: symmetric prop distances\n",
    "            dLEFT = dRIGHT = Lbar_hodo / 2\n",
    "\n",
    "        etof = pathl[i] / c - etof0\n",
    "\n",
    "        # Apply all corrections\n",
    "        tL_corr = tL - etof + wL[b]*TOTL - MeanTimeOffsets[b] - dLEFT / vsc\n",
    "        tR_corr = tR - etof + wR[b]*TOTR - MeanTimeOffsets[b] - dRIGHT / vsc\n",
    "        HODO_final[i] = 0.5 * (tL_corr + tR_corr)\n",
    "\n",
    "    return HODO_final\n"
   ]
  },
  {
   "cell_type": "code",
   "execution_count": 462,
   "id": "7ede4ce7",
   "metadata": {},
   "outputs": [],
   "source": [
    "HODO_final = apply_final_hodo_corrections(\n",
    "    tleft, tright, totleft, totright, vpos, barid, nbars,\n",
    "    pathl, offsets, HODOwL, HODOwR, vscint_fixed,\n",
    "    xtrack=tr_x, ytrack=tr_y, thtrack=tr_th, phtrack=tr_ph\n",
    ")\n"
   ]
  },
  {
   "cell_type": "code",
   "execution_count": 467,
   "id": "3de55901",
   "metadata": {},
   "outputs": [
    {
     "data": {
      "text/plain": [
       "0"
      ]
     },
     "execution_count": 467,
     "metadata": {},
     "output_type": "execute_result"
    }
   ],
   "source": [
    "len(HODO_final)-len(timeblk[0])"
   ]
  },
  {
   "cell_type": "code",
   "execution_count": 471,
   "id": "bed91530",
   "metadata": {},
   "outputs": [
    {
     "data": {
      "image/png": "[encoded data removed]",
      "text/plain": [
       "<Figure size 640x480 with 1 Axes>"
      ]
     },
     "metadata": {},
     "output_type": "display_data"
    }
   ],
   "source": [
    "d=plt.hist(HCALtw-HODO_final,bins=100,range=(-20,20))"
   ]
  },
  {
   "cell_type": "code",
   "execution_count": 290,
   "id": "3cacf276",
   "metadata": {},
   "outputs": [
    {
     "data": {
      "image/png": "[encoded data removed]",
      "text/plain": [
       "<Figure size 640x480 with 1 Axes>"
      ]
     },
     "metadata": {},
     "output_type": "display_data"
    }
   ],
   "source": [
    "d=plt.hist(HCALtw[cut]-HODO_final[cut]+18,histtype='step',bins=100,linewidth=2,range=(-20,20),color='black')\n",
    "d=plt.hist(HCALtw[cut]-HODO_final[cut]+18,bins=100,linewidth=.5,range=(-20,20),color='dodgerblue',alpha=.4)\n",
    "\n",
    "d=plt.hist(tdctimeblk[cut]-HODOraw[cut],histtype='step',bins=100,linewidth=2,range=(-20,20),color='black')\n",
    "d=plt.hist(tdctimeblk[cut]-HODOraw[cut],bins=100,linewidth=.5,range=(-20,20),color='red',alpha=.4)"
   ]
  },
  {
   "cell_type": "code",
   "execution_count": null,
   "id": "615e2979",
   "metadata": {},
   "outputs": [],
   "source": []
  },
  {
   "cell_type": "code",
   "execution_count": null,
   "id": "54b02872",
   "metadata": {},
   "outputs": [],
   "source": []
  },
  {
   "cell_type": "code",
   "execution_count": null,
   "id": "c733e4fc",
   "metadata": {},
   "outputs": [],
   "source": []
  },
  {
   "cell_type": "code",
   "execution_count": null,
   "id": "33a9856d",
   "metadata": {},
   "outputs": [],
   "source": []
  },
  {
   "cell_type": "code",
   "execution_count": null,
   "id": "175fdad1",
   "metadata": {},
   "outputs": [],
   "source": []
  },
  {
   "cell_type": "code",
   "execution_count": null,
   "id": "08ce3145",
   "metadata": {},
   "outputs": [],
   "source": []
  },
  {
   "cell_type": "code",
   "execution_count": null,
   "id": "f92b94fd",
   "metadata": {},
   "outputs": [],
   "source": []
  },
  {
   "cell_type": "code",
   "execution_count": null,
   "id": "1c751538",
   "metadata": {},
   "outputs": [],
   "source": []
  },
  {
   "cell_type": "code",
   "execution_count": null,
   "id": "472cba63",
   "metadata": {},
   "outputs": [],
   "source": []
  },
  {
   "cell_type": "code",
   "execution_count": null,
   "id": "b88e1fb4",
   "metadata": {},
   "outputs": [],
   "source": []
  },
  {
   "cell_type": "code",
   "execution_count": null,
   "id": "076e560c",
   "metadata": {},
   "outputs": [],
   "source": []
  },
  {
   "cell_type": "code",
   "execution_count": null,
   "id": "89e00e08",
   "metadata": {},
   "outputs": [],
   "source": []
  },
  {
   "cell_type": "code",
   "execution_count": null,
   "id": "925c1950",
   "metadata": {},
   "outputs": [],
   "source": []
  },
  {
   "cell_type": "code",
   "execution_count": null,
   "id": "080975fd",
   "metadata": {},
   "outputs": [],
   "source": []
  },
  {
   "cell_type": "markdown",
   "id": "d62229b5",
   "metadata": {},
   "source": [
    "# RF Offsets"
   ]
  },
  {
   "cell_type": "code",
   "execution_count": null,
   "id": "6516be6f",
   "metadata": {},
   "outputs": [],
   "source": []
  },
  {
   "cell_type": "code",
   "execution_count": 258,
   "id": "629ab1df",
   "metadata": {},
   "outputs": [],
   "source": [
    "def compute_rf_offsets_loop2(\n",
    "    tleft, tright, totleft, totright, vpos, barid, nbars,\n",
    "    vz, pathl, xtrack, ytrack, thtrack, phtrack,\n",
    "    MeanTimeOffsets,\n",
    "    bb_rftime,\n",
    "    etof0, zhodo, Lbar_hodo,wL_default, wR_default, vscint_default,\n",
    "    bunch_spacing=160.321,\n",
    "    c=0.299792458,\n",
    "    \n",
    "):\n",
    "    \"\"\"\n",
    "    Loop 2: Use default wL, wR, vscint and MeanTimeOffsets (from Loop 1)\n",
    "    to calculate t_HODO - RF per bar and return for histogramming.\n",
    "    \"\"\"\n",
    "    dtRF_list = []\n",
    "    barid_list = []\n",
    "    globalcut=(abs(bb_trigtime)<1e5)&(abs(bb_rftime<1e5))\n",
    "\n",
    "    for i in range(len(nbars)):\n",
    "        if not globalcut[i]:\n",
    "            continue\n",
    "        n = nbars[i]\n",
    "        if n < 1 or not np.isfinite(bb_rftime[i]) or not np.isfinite(pathl[i]):\n",
    "            continue\n",
    "\n",
    "        RF_corr = bb_rftime[i] + vz[i] / c\n",
    "        etof = pathl[i] / c - etof0\n",
    "        yhodo = ytrack[i] + zhodo * phtrack[i]\n",
    "        xhodo = xtrack[i] + zhodo * thtrack[i]\n",
    "\n",
    "        dLEFT = np.clip(Lbar_hodo / 2 - yhodo, 0, Lbar_hodo)\n",
    "        dRIGHT = np.clip(Lbar_hodo / 2 + yhodo, 0, Lbar_hodo)\n",
    "\n",
    "        tmean0 = None\n",
    "        for j in range(n):\n",
    "            \n",
    "            b = int(barid[i, j])\n",
    "            if b < 0 or b >= 90:\n",
    "                continue\n",
    "\n",
    "            tL = tleft[i, j]\n",
    "            tR = tright[i, j]\n",
    "            TOTL = totleft[i, j]\n",
    "            TOTR = totright[i, j]\n",
    "            xpos = vpos[i, j]\n",
    "\n",
    "            # Use defaults\n",
    "            wL = wL_default\n",
    "            wR = wR_default\n",
    "            vsc = vscint_default\n",
    "\n",
    "            # Corrections\n",
    "            tL_corr = tL - etof + wL * TOTL - MeanTimeOffsets[b] - dLEFT / vsc\n",
    "            tR_corr = tR - etof + wR * TOTR - MeanTimeOffsets[b] - dRIGHT / vsc\n",
    "            tHODO = 0.5 * (tL_corr + tR_corr)\n",
    "            tdiff = tL_corr - tR_corr\n",
    "            ypos = -0.5 * vsc * tdiff\n",
    "\n",
    "            if tmean0 is None and np.isfinite(tHODO):\n",
    "                tmean0 = tHODO\n",
    "\n",
    "\n",
    "            good = (\n",
    "                6 <= TOTL <= 35 and\n",
    "                6 <= TOTR <= 35 and\n",
    "                abs(TOTL - TOTR) <= 10 and\n",
    "                abs(ypos - yhodo) <= 0.15 and\n",
    "                abs(xpos - xhodo) <= 0.06 and\n",
    "                abs(tHODO - tmean0) <= 10\n",
    "            )\n",
    "\n",
    "            if good:\n",
    "                dtRF = tHODO - RF_corr\n",
    "                dtRF_wrapped = dtRF - bunch_spacing * (np.floor(dtRF / bunch_spacing) + 0.5)\n",
    "                dtRF_list.extend([dtRF_wrapped, dtRF_wrapped - bunch_spacing, dtRF_wrapped + bunch_spacing])\n",
    "                barid_list.extend([b, b, b])\n",
    "\n",
    "    return np.array(barid_list), np.array(dtRF_list)\n"
   ]
  },
  {
   "cell_type": "code",
   "execution_count": null,
   "id": "ece12b10",
   "metadata": {},
   "outputs": [],
   "source": []
  },
  {
   "cell_type": "code",
   "execution_count": 259,
   "id": "cccfb275",
   "metadata": {},
   "outputs": [],
   "source": [
    "barids_rf, dt_rf = compute_rf_offsets_loop2(\n",
    "    tleft, tright, totleft, totright, vpos, barid, nbars,\n",
    "    vz, pathl, tr_x, tr_y, tr_th, tr_ph,\n",
    "    offsets,\n",
    "    sbs_rftime,\n",
    "    etof0, zhodo, Lbar_hodo,wL_default, wR_default, vscint_default,\n",
    "    bunch_spacing=160.321,\n",
    "    c=0.299792458,\n",
    "    \n",
    ")\n",
    "\n"
   ]
  },
  {
   "cell_type": "code",
   "execution_count": 260,
   "id": "cdf08c4e",
   "metadata": {},
   "outputs": [],
   "source": [
    "def plot_dtRF_histogram(barids, dtRF, nbars=90, range_ns=(-480, 480)):\n",
    "    plt.figure(figsize=(10, 6))\n",
    "    plt.hist2d(barids, dtRF, bins=[nbars, 150], range=[[-0.5, nbars - 0.5], list(range_ns)], cmap='viridis')\n",
    "    plt.xlabel(\"Bar ID\")\n",
    "    plt.ylabel(\"t_HODO - RF (ns)\")\n",
    "    plt.title(\"Hodoscope Timing Residuals after Loop 1\")\n",
    "    plt.colorbar(label=\"Counts\")\n",
    "    plt.tight_layout()\n",
    "    plt.show()\n"
   ]
  },
  {
   "cell_type": "code",
   "execution_count": 261,
   "id": "8720f3fc",
   "metadata": {},
   "outputs": [
    {
     "data": {
      "image/png": "[encoded data removed]",
      "text/plain": [
       "<Figure size 1000x600 with 2 Axes>"
      ]
     },
     "metadata": {},
     "output_type": "display_data"
    }
   ],
   "source": [
    "plot_dtRF_histogram(barids_rf, dt_rf)\n"
   ]
  },
  {
   "cell_type": "code",
   "execution_count": 295,
   "id": "31b762e7",
   "metadata": {},
   "outputs": [
    {
     "ename": "ValueError",
     "evalue": "operands could not be broadcast together with shapes (1724164,) (3069867,) ",
     "output_type": "error",
     "traceback": [
      "\u001b[0;31m---------------------------------------------------------------------------\u001b[0m",
      "\u001b[0;31mValueError\u001b[0m                                Traceback (most recent call last)",
      "Cell \u001b[0;32mIn [295], line 1\u001b[0m\n\u001b[0;32m----> 1\u001b[0m d\u001b[38;5;241m=\u001b[39mplt\u001b[38;5;241m.\u001b[39mhist(\u001b[43mHODOraw\u001b[49m\u001b[38;5;241;43m-\u001b[39;49m\u001b[43mdt_rf\u001b[49m,bins\u001b[38;5;241m=\u001b[39m\u001b[38;5;241m100\u001b[39m)\n",
      "\u001b[0;31mValueError\u001b[0m: operands could not be broadcast together with shapes (1724164,) (3069867,) "
     ]
    }
   ],
   "source": [
    "d=plt.hist(dt_rf,bins=100)"
   ]
  },
  {
   "cell_type": "code",
   "execution_count": null,
   "id": "6810c7f7",
   "metadata": {},
   "outputs": [],
   "source": []
  },
  {
   "cell_type": "code",
   "execution_count": 263,
   "id": "a3ab9b21",
   "metadata": {},
   "outputs": [],
   "source": [
    "import numpy as np\n",
    "import matplotlib.pyplot as plt\n",
    "from scipy.signal import find_peaks\n",
    "from scipy.optimize import curve_fit\n",
    "from matplotlib.backends.backend_pdf import PdfPages\n",
    "\n",
    "def gaussian(x, A, mu, sigma):\n",
    "    return A * np.exp(-(x - mu) ** 2 / (2 * sigma ** 2))\n",
    "\n",
    "def extract_rf_offsets_with_plots(barids_rf, dt_rf, nbars=90, bins=150, dt_range=(-480, 480), entries_threshold=500, ref_bar=44, output_pdf=\"RFoffsets_debug.pdf\"):\n",
    "    \"\"\"\n",
    "    Extracts RF offsets per bar by fitting gaussians to dt_RF distributions.\n",
    "    Saves plots of each bar's spectrum and fitted gaussian into a PDF.\n",
    "    \"\"\"\n",
    "    # Create histograms for each bar\n",
    "    bin_edges = np.linspace(*dt_range, bins + 1)\n",
    "    bin_centers = 0.5 * (bin_edges[:-1] + bin_edges[1:])\n",
    "    hists = [np.histogram(dt_rf[barids_rf == b], bins=bin_edges)[0] for b in range(nbars)]\n",
    "\n",
    "    RFoffsets = np.full(nbars, np.nan)\n",
    "    dRFoffsets = np.full(nbars, np.nan)\n",
    "\n",
    "    with PdfPages(output_pdf) as pdf:\n",
    "        xtest = None\n",
    "\n",
    "        for direction in [\"right\", \"left\"]:\n",
    "            bar_range = range(ref_bar + 1, nbars) if direction == \"right\" else range(ref_bar - 1, -1, -1)\n",
    "\n",
    "            if direction == \"right\":\n",
    "                # Fit reference bar first\n",
    "                y = hists[ref_bar]\n",
    "                if np.sum(y) < entries_threshold:\n",
    "                    continue\n",
    "\n",
    "                peaks, _ = find_peaks(y, height=np.max(y)*0.3)\n",
    "                if len(peaks) == 0:\n",
    "                    continue\n",
    "\n",
    "                ref_peak_idx = peaks[np.argmin(np.abs(bin_centers[peaks]))]\n",
    "                xtest = bin_centers[ref_peak_idx]\n",
    "\n",
    "                # Fit gaussian\n",
    "                try:\n",
    "                    popt, pcov = curve_fit(gaussian, bin_centers[ref_peak_idx-5:ref_peak_idx+6], y[ref_peak_idx-5:ref_peak_idx+6], p0=[y[ref_peak_idx], xtest, 2.0])\n",
    "                    RFoffsets[ref_bar] = popt[1]\n",
    "                    dRFoffsets[ref_bar] = np.sqrt(np.diag(pcov))[1]\n",
    "                except Exception as e:\n",
    "                    print(f\"Ref bar {ref_bar} fit failed: {e}\")\n",
    "                    continue\n",
    "\n",
    "                # Plot\n",
    "                fig, ax = plt.subplots()\n",
    "                ax.plot(bin_centers, y, label=f'Bar {ref_bar}')\n",
    "                ax.plot(bin_centers, gaussian(bin_centers, *popt), label='Gaussian Fit')\n",
    "                ax.set_title(f'RF Offset Fit - Bar {ref_bar}')\n",
    "                ax.legend()\n",
    "                pdf.savefig(fig)\n",
    "                plt.close()\n",
    "\n",
    "            for bar in bar_range:\n",
    "                y = hists[bar]\n",
    "                if np.sum(y) < entries_threshold:\n",
    "                    continue\n",
    "\n",
    "                peaks, _ = find_peaks(y, height=np.max(y)*0.3)\n",
    "                if len(peaks) == 0 or xtest is None:\n",
    "                    continue\n",
    "\n",
    "                best_idx = peaks[np.argmin(np.abs(bin_centers[peaks] - xtest))]\n",
    "                xpeak_best = bin_centers[best_idx]\n",
    "\n",
    "                try:\n",
    "                    window = (max(0, best_idx - 5), min(len(bin_centers), best_idx + 6))\n",
    "                    popt, pcov = curve_fit(gaussian, bin_centers[window[0]:window[1]], y[window[0]:window[1]], p0=[y[best_idx], xpeak_best, 2.0])\n",
    "                    RFoffsets[bar] = popt[1]\n",
    "                    dRFoffsets[bar] = np.sqrt(np.diag(pcov))[1]\n",
    "                    xtest = popt[1]\n",
    "                except Exception as e:\n",
    "                    print(f\"Bar {bar} fit failed: {e}\")\n",
    "                    continue\n",
    "\n",
    "                # Plot\n",
    "                fig, ax = plt.subplots()\n",
    "                ax.plot(bin_centers, y, label=f'Bar {bar}')\n",
    "                ax.plot(bin_centers, gaussian(bin_centers, *popt), label='Gaussian Fit')\n",
    "                ax.set_title(f'RF Offset Fit - Bar {bar}')\n",
    "                ax.legend()\n",
    "                pdf.savefig(fig)\n",
    "                plt.close()\n",
    "\n",
    "    return RFoffsets, dRFoffsets\n"
   ]
  },
  {
   "cell_type": "code",
   "execution_count": 264,
   "id": "866f6a88",
   "metadata": {},
   "outputs": [
    {
     "name": "stdout",
     "output_type": "stream",
     "text": [
      "Ref bar 44 fit failed: Optimal parameters not found: Number of calls to function has reached maxfev = 800.\n",
      "Bar 43 fit failed: Optimal parameters not found: Number of calls to function has reached maxfev = 800.\n",
      "Bar 41 fit failed: Optimal parameters not found: Number of calls to function has reached maxfev = 800.\n",
      "Bar 40 fit failed: Optimal parameters not found: Number of calls to function has reached maxfev = 800.\n",
      "Bar 39 fit failed: Optimal parameters not found: Number of calls to function has reached maxfev = 800.\n",
      "Bar 37 fit failed: Optimal parameters not found: Number of calls to function has reached maxfev = 800.\n",
      "Bar 31 fit failed: Optimal parameters not found: Number of calls to function has reached maxfev = 800.\n",
      "Bar 29 fit failed: Optimal parameters not found: Number of calls to function has reached maxfev = 800.\n",
      "Bar 16 fit failed: Optimal parameters not found: Number of calls to function has reached maxfev = 800.\n",
      "Bar 13 fit failed: Optimal parameters not found: Number of calls to function has reached maxfev = 800.\n",
      "Bar 10 fit failed: Optimal parameters not found: Number of calls to function has reached maxfev = 800.\n",
      "Bar 9 fit failed: Optimal parameters not found: Number of calls to function has reached maxfev = 800.\n"
     ]
    }
   ],
   "source": [
    "RFoffsets, dRFoffsets = extract_rf_offsets_with_plots(\n",
    "    barids_rf, dt_rf,\n",
    "    ref_bar=44,\n",
    "    output_pdf=\"RFoffsets_debug.pdf\"\n",
    ")\n"
   ]
  },
  {
   "cell_type": "code",
   "execution_count": null,
   "id": "7f650656",
   "metadata": {},
   "outputs": [],
   "source": []
  }
 ],
 "metadata": {
  "kernelspec": {
   "display_name": "Python 3 (ipykernel)",
   "language": "python",
   "name": "python3"
  },
  "language_info": {
   "codemirror_mode": {
    "name": "ipython",
    "version": 3
   },
   "file_extension": ".py",
   "mimetype": "text/x-python",
   "name": "python",
   "nbconvert_exporter": "python",
   "pygments_lexer": "ipython3",
   "version": "3.8.10"
  }
 },
 "nbformat": 4,
 "nbformat_minor": 5
}
