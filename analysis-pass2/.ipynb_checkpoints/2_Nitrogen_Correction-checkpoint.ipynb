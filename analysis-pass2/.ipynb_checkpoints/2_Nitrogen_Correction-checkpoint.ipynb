{
 "cells": [
  {
   "cell_type": "code",
   "execution_count": 48,
   "id": "ae07c19a",
   "metadata": {},
   "outputs": [],
   "source": [
    "import ROOT as r\n",
    "import math\n",
    "import array\n",
    "import os\n",
    "import sys\n",
    "import matplotlib.pyplot as plt\n",
    "import numpy as np\n",
    "from math import pi\n",
    "import pandas as pd\n",
    "\n",
    "#______________Add include directory_______________\n",
    "current_dir = os.getcwd()\n",
    "include_dir = os.path.join(current_dir, '../include')\n",
    "sys.path.insert(0, include_dir)\n",
    "#__________________________________________________\n",
    "import ERROR\n",
    "import CONFIG\n",
    "import DBPARSE\n",
    "from PXPY import *\n",
    "from ASYMMETRY import *\n",
    "from UTILITIES import *\n",
    "from SIMFITS import DistributionFits\n",
    "from ROOT import gStyle, TChain, TH1F, TCanvas, TLegend\n",
    "import CORRECTIONS\n",
    "import CALCULATE\n",
    "import GETFF\n",
    "from joblib import Parallel, delayed\n",
    "import importlib\n",
    "#importlib.reload(ASYMMETRY)"
   ]
  },
  {
   "cell_type": "code",
   "execution_count": 59,
   "id": "29f89460",
   "metadata": {},
   "outputs": [],
   "source": [
    "def torr_to_atm(torr):\n",
    "    return torr / 760.0\n"
   ]
  },
  {
   "cell_type": "code",
   "execution_count": 60,
   "id": "5ecfe344",
   "metadata": {},
   "outputs": [
    {
     "name": "stdout",
     "output_type": "stream",
     "text": [
      "0.015123251165889407 0.015465076262624035 0.016231434243619784\n"
     ]
    }
   ],
   "source": [
    "Hunter=torr_to_atm(90.8)/7.9\n",
    "Windmill=torr_to_atm(90.7)/7.55\n",
    "Fringe=torr_to_atm(90.1)/7.25\n",
    "Chicago=torr_to_atm(91.3)/7.44\n",
    "Donya=torr_to_atm(92.7)/7.43\n",
    "Christin=torr_to_atm(89.8)/7.38\n",
    "\n",
    "kin2=Hunter\n",
    "kin3=(Hunter+Windmill)/2\n",
    "kin4=(Fringe+Chicago+Donya+Christin)/4\n",
    "\n",
    "print(kin2,kin3,kin4)"
   ]
  },
  {
   "cell_type": "code",
   "execution_count": 42,
   "id": "58806741",
   "metadata": {},
   "outputs": [
    {
     "name": "stdout",
     "output_type": "stream",
     "text": [
      "Fraction of weights in |dx| < 0.5 region - 3He: 0.1496\n",
      "Fraction of weights in |dx| < 0.5 region - N2: 0.3165\n",
      "0.15117995979395407\n",
      "fN2 0.02656718958722205\n"
     ]
    }
   ],
   "source": [
    "\n",
    "simconfig=\"2\"\n",
    "genericSim=np.load(f\"/media/research/TOSHIBA EXT/GEn/NumpySim/GEN{simconfig}/simulation0.npz\")\n",
    "genericSimN2=np.load(f\"/media/research/TOSHIBA EXT/GEn/NumpySim/GEN{simconfig}/simulationN20.npz\")\n",
    "\n",
    "\n",
    "\n",
    "\n",
    "protoncut=genericSim[\"fnucl\"]==1\n",
    "neutroncut=genericSim[\"fnucl\"]==0\n",
    "protoncutN2=genericSimN2[\"fnucl\"]==1\n",
    "neutroncutN2=genericSimN2[\"fnucl\"]==0\n",
    "weight=genericSim[\"weight\"]\n",
    "weightN2=genericSimN2[\"weight\"]\n",
    "\n",
    "\n",
    "total_weight = np.sum(weight)\n",
    "\n",
    "region_weight = np.sum(weight[(neutroncut) & (np.abs(genericSim[\"dx\"]) < 0.5)])\n",
    "\n",
    "ratio3He = region_weight / total_weight\n",
    "print(f\"Fraction of weights in |dx| < 0.5 region - 3He: {ratio3He:.4f}\")\n",
    "\n",
    "total_weight = np.sum(weightN2)\n",
    "\n",
    "region_weight = np.sum(weightN2[(neutroncutN2) & (np.abs(genericSimN2[\"dx\"]) < 0.5)])\n",
    "\n",
    "ratioN2 = region_weight / total_weight\n",
    "print(f\"Fraction of weights in |dx| < 0.5 region - N2: {ratioN2:.4f}\")\n",
    "\n",
    "\n",
    "print(ratioN2/ratio3He/14)\n",
    "print(\"fN2\",14*kin2/(14*kin2+(1-kin2))*ratioN2/ratio3He/14)\n",
    "\n"
   ]
  },
  {
   "cell_type": "code",
   "execution_count": null,
   "id": "46c82fd0",
   "metadata": {},
   "outputs": [],
   "source": []
  },
  {
   "cell_type": "code",
   "execution_count": 43,
   "id": "9db5682c",
   "metadata": {},
   "outputs": [
    {
     "data": {
      "text/plain": [
       "Text(0.5, 1.0, 'He3')"
      ]
     },
     "execution_count": 43,
     "metadata": {},
     "output_type": "execute_result"
    },
    {
     "data": {
      "image/png": "[encoded data removed]",
      "text/plain": [
       "<Figure size 640x480 with 1 Axes>"
      ]
     },
     "metadata": {},
     "output_type": "display_data"
    }
   ],
   "source": [
    "d=plt.hist(genericSim[\"dx\"][protoncut],bins=100,range=(-5,3),\n",
    "           color='red',alpha=.5,weights=weight[protoncut])\n",
    "d=plt.hist(genericSim[\"dx\"][neutroncut],bins=100,range=(-5,3),\n",
    "           color='blue',alpha=.5,weights=weight[neutroncut])\n",
    "\n",
    "plt.title(\"He3\")\n"
   ]
  },
  {
   "cell_type": "code",
   "execution_count": 44,
   "id": "5a66c4f2",
   "metadata": {},
   "outputs": [
    {
     "data": {
      "text/plain": [
       "Text(0.5, 1.0, 'N2')"
      ]
     },
     "execution_count": 44,
     "metadata": {},
     "output_type": "execute_result"
    },
    {
     "data": {
      "image/png": "[encoded data removed]",
      "text/plain": [
       "<Figure size 640x480 with 1 Axes>"
      ]
     },
     "metadata": {},
     "output_type": "display_data"
    }
   ],
   "source": [
    "d=plt.hist(genericSimN2[\"dx\"][protoncutN2],bins=100,range=(-5,3),\n",
    "           color='red',alpha=.5,weights=weightN2[protoncutN2])\n",
    "d=plt.hist(genericSimN2[\"dx\"][neutroncutN2],bins=100,range=(-5,3),\n",
    "           color='blue',alpha=.5,weights=weightN2[neutroncutN2])\n",
    "\n",
    "plt.title(\"N2\")"
   ]
  },
  {
   "cell_type": "code",
   "execution_count": 62,
   "id": "b0313813",
   "metadata": {},
   "outputs": [
    {
     "name": "stdout",
     "output_type": "stream",
     "text": [
      "Fraction of weights in |dx| < 0.5 region - 3He: 0.1571\n",
      "Fraction of weights in |dx| < 0.5 region - N2: 0.2975\n",
      "0.13525806604862672\n",
      "fN2 0.024382803407552025\n"
     ]
    }
   ],
   "source": [
    "\n",
    "simconfig=\"3\"\n",
    "genericSim=np.load(f\"/media/research/TOSHIBA EXT/GEn/NumpySim/GEN{simconfig}/simulation0.npz\")\n",
    "genericSimN2=np.load(f\"/media/research/TOSHIBA EXT/GEn/NumpySim/GEN{simconfig}/simulationN20.npz\")\n",
    "\n",
    "\n",
    "\n",
    "\n",
    "protoncut=genericSim[\"fnucl\"]==1\n",
    "neutroncut=genericSim[\"fnucl\"]==0\n",
    "protoncutN2=genericSimN2[\"fnucl\"]==1\n",
    "neutroncutN2=genericSimN2[\"fnucl\"]==0\n",
    "weight=genericSim[\"weight\"]\n",
    "weightN2=genericSimN2[\"weight\"]\n",
    "\n",
    "\n",
    "total_weight = np.sum(weight)\n",
    "\n",
    "region_weight = np.sum(weight[(neutroncut) & (np.abs(genericSim[\"dx\"]) < 0.5)])\n",
    "\n",
    "ratio3He = region_weight / total_weight\n",
    "print(f\"Fraction of weights in |dx| < 0.5 region - 3He: {ratio3He:.4f}\")\n",
    "\n",
    "total_weight = np.sum(weightN2)\n",
    "\n",
    "region_weight = np.sum(weightN2[(neutroncutN2) & (np.abs(genericSimN2[\"dx\"]) < 0.5)])\n",
    "\n",
    "ratioN2 = region_weight / total_weight\n",
    "print(f\"Fraction of weights in |dx| < 0.5 region - N2: {ratioN2:.4f}\")\n",
    "\n",
    "\n",
    "print(ratioN2/ratio3He/14)\n",
    "print(\"fN2\",14*kin3/(14*kin3+(1-kin3))*ratioN2/ratio3He/14)\n",
    "\n"
   ]
  },
  {
   "cell_type": "code",
   "execution_count": 63,
   "id": "2736bf29",
   "metadata": {},
   "outputs": [
    {
     "name": "stdout",
     "output_type": "stream",
     "text": [
      "Fraction of weights in |dx| < 0.5 region - 3He: 0.1562\n",
      "Fraction of weights in |dx| < 0.5 region - N2: 0.2892\n",
      "0.13225524051119633\n",
      "fN2 0.024817074160603175\n"
     ]
    }
   ],
   "source": [
    "\n",
    "simconfig=\"4\"\n",
    "genericSim=np.load(f\"/media/research/TOSHIBA EXT/GEn/NumpySim/GEN{simconfig}/simulation0.npz\")\n",
    "genericSimN2=np.load(f\"/media/research/TOSHIBA EXT/GEn/NumpySim/GEN{simconfig}/simulationN20.npz\")\n",
    "\n",
    "\n",
    "\n",
    "\n",
    "protoncut=genericSim[\"fnucl\"]==1\n",
    "neutroncut=genericSim[\"fnucl\"]==0\n",
    "protoncutN2=genericSimN2[\"fnucl\"]==1\n",
    "neutroncutN2=genericSimN2[\"fnucl\"]==0\n",
    "weight=genericSim[\"weight\"]\n",
    "weightN2=genericSimN2[\"weight\"]\n",
    "\n",
    "\n",
    "total_weight = np.sum(weight)\n",
    "\n",
    "region_weight = np.sum(weight[(neutroncut) & (np.abs(genericSim[\"dx\"]) < 0.5)])\n",
    "\n",
    "ratio3He = region_weight / total_weight\n",
    "print(f\"Fraction of weights in |dx| < 0.5 region - 3He: {ratio3He:.4f}\")\n",
    "\n",
    "total_weight = np.sum(weightN2)\n",
    "\n",
    "region_weight = np.sum(weightN2[(neutroncutN2) & (np.abs(genericSimN2[\"dx\"]) < 0.5)])\n",
    "\n",
    "ratioN2 = region_weight / total_weight\n",
    "print(f\"Fraction of weights in |dx| < 0.5 region - N2: {ratioN2:.4f}\")\n",
    "\n",
    "\n",
    "print(ratioN2/ratio3He/14)\n",
    "print(\"fN2\",14*kin4/(14*kin4+(1-kin4))*ratioN2/ratio3He/14)\n",
    "\n"
   ]
  },
  {
   "cell_type": "code",
   "execution_count": 56,
   "id": "f740116c",
   "metadata": {},
   "outputs": [],
   "source": [
    "Hunter=torr_to_atm(90.8)/7.9\n",
    "Windmill=torr_to_atm(90.7)/7.55\n",
    "Fringe=torr_to_atm(90.1)/7.25\n",
    "Chicago=torr_to_atm(91.3)/7.44\n",
    "Donya=torr_to_atm(92.7)/7.43\n",
    "Christin=torr_to_atm(89.8)/7.38\n",
    "\n",
    "kin2=Hunter\n",
    "kin3=(Hunter+Windmill)/2\n",
    "kin4=(Fringe+Chicago+Donya+Christin)/4\n",
    "\n",
    "print(kin2,kin3,kin4)"
   ]
  },
  {
   "cell_type": "code",
   "execution_count": null,
   "id": "19402748",
   "metadata": {},
   "outputs": [],
   "source": []
  }
 ],
 "metadata": {
  "kernelspec": {
   "display_name": "Python 3 (ipykernel)",
   "language": "python",
   "name": "python3"
  },
  "language_info": {
   "codemirror_mode": {
    "name": "ipython",
    "version": 3
   },
   "file_extension": ".py",
   "mimetype": "text/x-python",
   "name": "python",
   "nbconvert_exporter": "python",
   "pygments_lexer": "ipython3",
   "version": "3.8.10"
  }
 },
 "nbformat": 4,
 "nbformat_minor": 5
}
