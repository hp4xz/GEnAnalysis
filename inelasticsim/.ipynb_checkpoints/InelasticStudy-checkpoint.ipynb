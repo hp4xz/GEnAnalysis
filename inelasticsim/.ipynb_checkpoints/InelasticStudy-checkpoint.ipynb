{
 "cells": [
  {
   "cell_type": "code",
   "execution_count": 1,
   "id": "12887726",
   "metadata": {},
   "outputs": [
    {
     "name": "stdout",
     "output_type": "stream",
     "text": [
      "Welcome to JupyROOT 6.26/06\n"
     ]
    }
   ],
   "source": [
    "import ROOT as r\n",
    "import math\n",
    "import array\n",
    "import os\n",
    "import sys\n",
    "import pandas as pd\n",
    "\n",
    "import matplotlib.pyplot as plt\n",
    "import numpy as np\n",
    "\n",
    "#______________Add include directory_______________\n",
    "current_dir = os.getcwd()\n",
    "include_dir = os.path.join(current_dir, '../include')\n",
    "sys.path.insert(0, include_dir)\n",
    "#__________________________________________________\n",
    "\n",
    "import CONFIG\n",
    "import DBPARSE\n",
    "from UTILITIES import *\n",
    "from SIMFITS2D import DistributionFits2D\n",
    "from ROOT import gStyle, TChain, TH1F, TCanvas, TLegend\n"
   ]
  },
  {
   "cell_type": "code",
   "execution_count": 2,
   "id": "9b82db12",
   "metadata": {},
   "outputs": [],
   "source": [
    "csv_file='../outfiles/file.csv'\n",
    "\n",
    "df = pd.read_csv(csv_file) "
   ]
  },
  {
   "cell_type": "code",
   "execution_count": 3,
   "id": "d14c32fa",
   "metadata": {
    "scrolled": true
   },
   "outputs": [
    {
     "name": "stdout",
     "output_type": "stream",
     "text": [
      "Q2              0.270000\n",
      "X               0.163000\n",
      "F2_Inelastic    0.741732\n",
      "FL_Inelastic    0.255288\n",
      "F1_Inelastic    2.280583\n",
      "G1_Inelastic   -0.024442\n",
      "G2_Inelastic    0.197914\n",
      "F2_QE           0.002317\n",
      "FL_QE           0.124165\n",
      "F1_QE          -0.371302\n",
      "G1_QE          -0.001082\n",
      "G2_QE          -0.000218\n",
      "F2_IpQE         0.744050\n",
      "FL_IpQE         0.379452\n",
      "F1_IpQE         1.909281\n",
      "G1_IpQE        -0.025524\n",
      "G2_IpQE         0.197696\n",
      "Name: 351162, dtype: float64\n",
      "CPU times: user 9.57 ms, sys: 1.6 ms, total: 11.2 ms\n",
      "Wall time: 9.75 ms\n"
     ]
    }
   ],
   "source": [
    "%%time\n",
    "#-chatgpt is beautiful------------#\n",
    "def find_closest_row(df, target_q2, target_x):\n",
    "       \n",
    "    closest_q2 = df['Q2'].iloc[(df['Q2'] - target_q2).abs().argmin()]    \n",
    "    filtered_df = df[df['Q2'] == closest_q2]    \n",
    "    closest_x = filtered_df['X'].iloc[(filtered_df['X'] - target_x).abs().argmin()]    \n",
    "    closest_row = filtered_df[(filtered_df['X'] == closest_x)].iloc[0]    \n",
    "    return closest_row\n",
    "\n",
    "target_q2 = 0.266\n",
    "target_x = 0.1626\n",
    "\n",
    "row = find_closest_row(df, target_q2, target_x)\n",
    "print(row)\n",
    "#-chatgpt is beautiful------------#\n"
   ]
  },
  {
   "cell_type": "code",
   "execution_count": 4,
   "id": "ffc59982",
   "metadata": {},
   "outputs": [],
   "source": [
    "#Inelastic Plus Quasi\n",
    "#F1=row[-3]\n",
    "#F2=row[-5]\n"
   ]
  },
  {
   "cell_type": "code",
   "execution_count": 5,
   "id": "c1c663b2",
   "metadata": {},
   "outputs": [],
   "source": [
    "#NeutronMass\n",
    "M=.939"
   ]
  },
  {
   "cell_type": "markdown",
   "id": "70b28fe4",
   "metadata": {},
   "source": [
    "# Unpolarized Cross Section"
   ]
  },
  {
   "cell_type": "markdown",
   "id": "aa7a2af6",
   "metadata": {},
   "source": [
    "$$\n",
    "\\displaystyle \\frac{d^2 \\sigma}{d\\Omega dE'} = \\frac{d^2 \\sigma_{Mott}}{d\\Omega} \\cdot \\left( \\frac{F_2(x, Q^2)}{\\nu} + \\frac{2}{M} \\tan^2\\frac{\\theta}{2} F_1(x, Q^2) \\right)\n",
    "$$\n",
    "\n",
    "$$\n",
    "\\displaystyle \\frac{d^2\\sigma_{Mott}}{d\\Omega} = \\left(\\frac{\\alpha \\cos\\left(\\frac{\\theta}{2}\\right)}{2E \\sin^2\\left(\\frac{\\theta}{2}\\right)}\\right)^2\n",
    "$$"
   ]
  },
  {
   "cell_type": "code",
   "execution_count": 6,
   "id": "0b94bd6a",
   "metadata": {},
   "outputs": [],
   "source": [
    "theta=3.14"
   ]
  },
  {
   "cell_type": "code",
   "execution_count": 7,
   "id": "02593b32",
   "metadata": {},
   "outputs": [
    {
     "data": {
      "text/plain": [
       "0.0007963267107332633"
      ]
     },
     "execution_count": 7,
     "metadata": {},
     "output_type": "execute_result"
    }
   ],
   "source": [
    "np.cos(theta / 2)"
   ]
  },
  {
   "cell_type": "code",
   "execution_count": 8,
   "id": "b7e55fc7",
   "metadata": {},
   "outputs": [],
   "source": [
    "#MOTT CROSS SECTION\n",
    "\n",
    "def Function_MOTT(E, theta):\n",
    "    alpha = 1 / 137  # Fine-structure constant\n",
    "    cos_theta_half = np.cos(theta / 2)\n",
    "    sin_theta_half = np.sin(theta / 2)\n",
    "    sigma_mott = (alpha * cos_theta_half / (2 * E * sin_theta_half**2))**2\n",
    "    \n",
    "    return sigma_mott\n",
    "\n",
    "#POLARIZED CROSS SECTION\n",
    "\n",
    "def Function_UPCS(row,theta,E,nu,QE):\n",
    "    #row = find_closest_row(df, Q2, X)\n",
    "    #print(row)\n",
    "    #print(f'X:{X} Q2:{Q2} theta:{theta} E:{E} nu:{nu}')\n",
    "    #Inelastic - not sure if right\n",
    "    if QE:\n",
    "        F1=row[9]\n",
    "        F2=row[7]    \n",
    "    else:\n",
    "        F1=row[4]\n",
    "        F2=row[2]   \n",
    "    term1 = F2/ nu\n",
    "    term2 = (2 / M) * np.tan(theta / 2)**2 * F1\n",
    "    sigma = Function_MOTT(E,theta) * (term1 + term2)\n",
    "    #print(F1,F2,QE)\n",
    "    return sigma"
   ]
  },
  {
   "cell_type": "code",
   "execution_count": 9,
   "id": "97c2c392",
   "metadata": {},
   "outputs": [],
   "source": [
    "#BJORKEN FROM Q2 and W2\n",
    "\n",
    "def Function_BJX(Q2,W2):\n",
    "    return Q2/(Q2+W2-M**2)"
   ]
  },
  {
   "cell_type": "code",
   "execution_count": null,
   "id": "366362b8",
   "metadata": {},
   "outputs": [],
   "source": []
  },
  {
   "cell_type": "markdown",
   "id": "dc94e564",
   "metadata": {},
   "source": [
    "# Polarized Cross Section"
   ]
  },
  {
   "cell_type": "markdown",
   "id": "a346285d",
   "metadata": {},
   "source": [
    "$$\\begin{equation}\n",
    "\\frac{d^2\\sigma_{\\uparrow,s}}{d\\Omega \\, dE'} - \\frac{d^2\\sigma_{\\uparrow,-s}}{d\\Omega \\, dE'} = -\\frac{4\\alpha^2}{Q^2} \\frac{E'}{E}\n",
    "\\left\\{\n",
    "\\left[ E \\cos \\beta + E' \\cos \\Theta \\right] M^2 g_1 + 2 E E' \\left[ \\cos \\Theta - \\cos \\beta \\right] M^3 g_2\n",
    "\\right\\}\n",
    "\\end{equation}\n",
    "$$"
   ]
  },
  {
   "cell_type": "code",
   "execution_count": 10,
   "id": "9acfa55f",
   "metadata": {},
   "outputs": [],
   "source": [
    "#only true if P is (M,0,0,0)"
   ]
  },
  {
   "cell_type": "code",
   "execution_count": 11,
   "id": "4aa3a6b3",
   "metadata": {},
   "outputs": [
    {
     "data": {
      "text/plain": [
       "Q2              0.270000\n",
       "X               0.163000\n",
       "F2_Inelastic    0.741732\n",
       "FL_Inelastic    0.255288\n",
       "F1_Inelastic    2.280583\n",
       "G1_Inelastic   -0.024442\n",
       "G2_Inelastic    0.197914\n",
       "F2_QE           0.002317\n",
       "FL_QE           0.124165\n",
       "F1_QE          -0.371302\n",
       "G1_QE          -0.001082\n",
       "G2_QE          -0.000218\n",
       "F2_IpQE         0.744050\n",
       "FL_IpQE         0.379452\n",
       "F1_IpQE         1.909281\n",
       "G1_IpQE        -0.025524\n",
       "G2_IpQE         0.197696\n",
       "Name: 351162, dtype: float64"
      ]
     },
     "execution_count": 11,
     "metadata": {},
     "output_type": "execute_result"
    }
   ],
   "source": [
    "row"
   ]
  },
  {
   "cell_type": "code",
   "execution_count": 12,
   "id": "15da85af",
   "metadata": {},
   "outputs": [],
   "source": [
    "def Function_beta(theta):\n",
    "    return np.arcsin((1-np.cos(theta))/np.sqrt(2*(1-np.cos(theta))))\n",
    "def Function_theta(theta):\n",
    "    return theta - np.arcsin((1-np.cos(theta))/np.sqrt(2*(1-np.cos(theta))))"
   ]
  },
  {
   "cell_type": "code",
   "execution_count": 13,
   "id": "0142e276",
   "metadata": {},
   "outputs": [],
   "source": [
    "def Function_PCS(row,Q2, Ef, Ei, beta, theta,QE):\n",
    "    # Constants\n",
    "    \n",
    "    alpha = 1/137  # Fine-structure constant\n",
    "    if QE:\n",
    "        g1=row[10]\n",
    "        g2=row[11]    \n",
    "    else:\n",
    "        g1=row[5]\n",
    "        g2=row[6]   \n",
    "\n",
    "    part1 = Ei * np.cos(beta) + Ef * np.cos(theta)\n",
    "    part2 = np.cos(theta) - np.cos(beta)\n",
    "    result = - (4 * alpha**2 / Q2) * (Ef / Ei) * (part1 * M**2*g1 + 2 * Ei * Ef * part2 * M**3*g2)\n",
    "    \n",
    "    return result"
   ]
  },
  {
   "cell_type": "code",
   "execution_count": 14,
   "id": "8bd765b7",
   "metadata": {},
   "outputs": [
    {
     "data": {
      "text/plain": [
       "0.3384843162806229"
      ]
     },
     "execution_count": 14,
     "metadata": {},
     "output_type": "execute_result"
    }
   ],
   "source": [
    "theta=.6769686325612457\n",
    "Function_theta(theta)\n"
   ]
  },
  {
   "cell_type": "code",
   "execution_count": 15,
   "id": "f10141fb",
   "metadata": {},
   "outputs": [
    {
     "data": {
      "text/plain": [
       "0.3384843162806228"
      ]
     },
     "execution_count": 15,
     "metadata": {},
     "output_type": "execute_result"
    }
   ],
   "source": [
    "Function_beta(theta)"
   ]
  },
  {
   "cell_type": "code",
   "execution_count": 16,
   "id": "4e35b394",
   "metadata": {},
   "outputs": [
    {
     "data": {
      "text/plain": [
       "4.963106539295982e-06"
      ]
     },
     "execution_count": 16,
     "metadata": {},
     "output_type": "execute_result"
    }
   ],
   "source": [
    "Function_PCS(row,1,1,1,1,1,False)"
   ]
  },
  {
   "cell_type": "code",
   "execution_count": null,
   "id": "3e8f74f9",
   "metadata": {},
   "outputs": [],
   "source": []
  },
  {
   "cell_type": "code",
   "execution_count": 17,
   "id": "7634ae99",
   "metadata": {},
   "outputs": [],
   "source": [
    "row=find_closest_row(df,target_q2,target_x)"
   ]
  },
  {
   "cell_type": "code",
   "execution_count": 18,
   "id": "28fa9c91",
   "metadata": {},
   "outputs": [
    {
     "name": "stdout",
     "output_type": "stream",
     "text": [
      "CPU times: user 1e+03 ns, sys: 1 µs, total: 2 µs\n",
      "Wall time: 3.34 µs\n"
     ]
    },
    {
     "data": {
      "text/plain": [
       "Q2              0.270000\n",
       "X               0.163000\n",
       "F2_Inelastic    0.741732\n",
       "FL_Inelastic    0.255288\n",
       "F1_Inelastic    2.280583\n",
       "G1_Inelastic   -0.024442\n",
       "G2_Inelastic    0.197914\n",
       "F2_QE           0.002317\n",
       "FL_QE           0.124165\n",
       "F1_QE          -0.371302\n",
       "G1_QE          -0.001082\n",
       "G2_QE          -0.000218\n",
       "F2_IpQE         0.744050\n",
       "FL_IpQE         0.379452\n",
       "F1_IpQE         1.909281\n",
       "G1_IpQE        -0.025524\n",
       "G2_IpQE         0.197696\n",
       "Name: 351162, dtype: float64"
      ]
     },
     "execution_count": 18,
     "metadata": {},
     "output_type": "execute_result"
    }
   ],
   "source": [
    "%%time\n",
    "row"
   ]
  },
  {
   "cell_type": "code",
   "execution_count": 19,
   "id": "fa87eda8",
   "metadata": {},
   "outputs": [
    {
     "name": "stdout",
     "output_type": "stream",
     "text": [
      "CPU times: user 36 µs, sys: 35 µs, total: 71 µs\n",
      "Wall time: 73.2 µs\n"
     ]
    },
    {
     "data": {
      "text/plain": [
       "0.0004255172751882749"
      ]
     },
     "execution_count": 19,
     "metadata": {},
     "output_type": "execute_result"
    }
   ],
   "source": [
    "%%time\n",
    "Function_UPCS(row,1,1,1,False)"
   ]
  },
  {
   "cell_type": "code",
   "execution_count": null,
   "id": "381a91b4",
   "metadata": {},
   "outputs": [],
   "source": []
  },
  {
   "cell_type": "code",
   "execution_count": null,
   "id": "5596d376",
   "metadata": {},
   "outputs": [],
   "source": []
  },
  {
   "cell_type": "code",
   "execution_count": null,
   "id": "626d0c5e",
   "metadata": {},
   "outputs": [],
   "source": []
  },
  {
   "cell_type": "code",
   "execution_count": 20,
   "id": "7d2e1c23",
   "metadata": {},
   "outputs": [],
   "source": [
    "#Experimental"
   ]
  },
  {
   "cell_type": "code",
   "execution_count": null,
   "id": "04827641",
   "metadata": {},
   "outputs": [],
   "source": []
  },
  {
   "cell_type": "code",
   "execution_count": null,
   "id": "b35ec5a5",
   "metadata": {},
   "outputs": [],
   "source": []
  },
  {
   "cell_type": "code",
   "execution_count": 21,
   "id": "2570d47b",
   "metadata": {},
   "outputs": [],
   "source": [
    "pas=\"1\"\n",
    "config=\"3\""
   ]
  },
  {
   "cell_type": "code",
   "execution_count": 22,
   "id": "694e47c2",
   "metadata": {},
   "outputs": [
    {
     "name": "stdout",
     "output_type": "stream",
     "text": [
      "W2min: -0.5\n",
      "W2max: 1.7\n",
      "dxmin: -0.4\n",
      "dxmax: 0.4\n",
      "dymin: -0.5\n",
      "dymax: 0.5\n",
      "dybgmin: -1.3\n",
      "dybgmax: 1.2\n",
      "nBins: 100\n",
      "Coin Min: 88 Coin Max: 100\n"
     ]
    }
   ],
   "source": [
    "W2min=CONFIG.Function_JSON(\"W2min\",f\"../config/cuts{config}.cfg\")\n",
    "W2max=CONFIG.Function_JSON(\"W2max\",f\"../config/cuts{config}.cfg\")\n",
    "dxmin=CONFIG.Function_JSON(\"dxmin\",f\"../config/cuts{config}.cfg\")\n",
    "dxmax=CONFIG.Function_JSON(\"dxmax\",f\"../config/cuts{config}.cfg\")\n",
    "dymin=CONFIG.Function_JSON(\"dymin\",f\"../config/cuts{config}.cfg\")\n",
    "dymax=CONFIG.Function_JSON(\"dymax\",f\"../config/cuts{config}.cfg\")\n",
    "dybgmin=CONFIG.Function_JSON(\"dybgmin\",f\"../config/cuts{config}.cfg\")\n",
    "dybgmax=CONFIG.Function_JSON(\"dybgmax\",f\"../config/cuts{config}.cfg\")\n",
    "coinmin=CONFIG.Function_JSON(\"coinmin\",f\"../config/cuts{config}.cfg\")\n",
    "coinmax=CONFIG.Function_JSON(\"coinmax\",f\"../config/cuts{config}.cfg\")\n",
    "nBins=CONFIG.Function_JSON(\"nBins\",f\"../config/cuts{config}.cfg\")\n",
    "\n",
    "#kin3\n",
    "#dymin=-.7895\n",
    "#dymax=.7895\n",
    "#W2max=1.2\n",
    "#dybgmin=-1.2\n",
    "#dybgmax=1.2\n",
    "#dxmin=-.5\n",
    "#dxmax=.5\n",
    "print(f'W2min: {W2min}')\n",
    "print(f'W2max: {W2max}')\n",
    "print(f'dxmin: {dxmin}')\n",
    "print(f'dxmax: {dxmax}')\n",
    "print(f'dymin: {dymin}')\n",
    "print(f'dymax: {dymax}')\n",
    "print(f'dybgmin: {dybgmin}')\n",
    "print(f'dybgmax: {dybgmax}')\n",
    "print(f'nBins: {nBins}')\n",
    "#nBins=150\n",
    "print(f'Coin Min: {coinmin} Coin Max: {coinmax}')"
   ]
  },
  {
   "cell_type": "code",
   "execution_count": 23,
   "id": "fdc6547e",
   "metadata": {},
   "outputs": [],
   "source": [
    "def CompareUPCS(config):\n",
    "    electronEnergyInterval=11-.5\n",
    "\n",
    "    r.gErrorIgnoreLevel = r.kError  # Suppress Info and Warning messages\n",
    "    gStyle.SetOptStat(0)\n",
    "    gStyle.SetOptFit(1)\n",
    "\n",
    "    #_____bring in config values______#\n",
    "    coinVector = CONFIG.Function_JSON(\"GEN\" + config, \"../config/coin.cfg\")\n",
    "    he3spot = CONFIG.Function_JSON(\"GEN\" + config + \"He3\", \"../config/spotsize.cfg\")\n",
    "    he3spotsim = CONFIG.Function_JSON(\"GEN\" + config + \"He3sim\", \"../config/spotsize.cfg\")\n",
    "    \n",
    "    # Set coincidence cut and spot cut values\n",
    "    coinSigma = 2.5\n",
    "    coin_low = coinVector[0] - coinSigma * coinVector[1]\n",
    "    coin_high = coinVector[0] + coinSigma * coinVector[1]\n",
    "\n",
    "    \n",
    "    #-------------------------------------\n",
    "    \n",
    "    rootfileIn=f\"../outfiles/Pass1/QE_Insim_GEN{config}_sbs100p_nucleon_np_model2.root\"\n",
    "    D = TChain(\"Tout\")\n",
    "    D.Add(rootfileIn)\n",
    "    \n",
    "    dx,dy,W2,weight=array.array('d', [0]), array.array('d', [0]),array.array('d', [0]), array.array('d', [0])\n",
    "    Q2,E,theta=array.array('d', [0]),array.array('d', [0]),array.array('d', [0])\n",
    "    px,py,pz=array.array('d', [0]),array.array('d', [0]),array.array('d', [0])\n",
    "    MC_sig,nu=array.array('d', [0]),array.array('d', [0])\n",
    "    \n",
    "    # Disable all branches initially\n",
    "    D.SetBranchStatus(\"*\", 0)\n",
    "\n",
    "    # Enable specific branches\n",
    "    branches = [\"dx\", \"dy\", \"W2\", \"helicity\", \"IHWP\", \"runnum\", \"coinCut\", \"coin_time\"]\n",
    "    b2 = [\"dx\", \"dy\", \"W2\",\"Q2\",\"etheta\",\"ebeam\",\"nu\",\"trPx\",\"trPy\",\"trPz\",\"mc_sig\"]\n",
    "    for branch in b2:\n",
    "        D.SetBranchStatus(branch, 1)\n",
    "    D.SetBranchStatus(\"weight\", 1)\n",
    "\n",
    "    # Set branch addresses\n",
    "    D.SetBranchAddress(\"dx\", dx)\n",
    "    D.SetBranchAddress(\"dy\", dy)\n",
    "    D.SetBranchAddress(\"W2\", W2)\n",
    "    D.SetBranchAddress(\"Q2\", Q2)\n",
    "    D.SetBranchAddress(\"etheta\", theta)\n",
    "    D.SetBranchAddress(\"ebeam\", E)\n",
    "    D.SetBranchAddress(\"nu\", nu)\n",
    "    D.SetBranchAddress(\"trPx\", px)\n",
    "    D.SetBranchAddress(\"trPy\", py)\n",
    "    D.SetBranchAddress(\"trPz\", pz)\n",
    "    D.SetBranchAddress(\"mc_sig\",MC_sig)\n",
    "    \n",
    "    D.SetBranchAddress(\"weight\", weight)\n",
    "    \n",
    "    # Assuming the variables are already defined or loaded from the ROOT file\n",
    "    nbins = 10  \n",
    "    xmin, xmax = -.1,.1\n",
    "    # Add appropriate ymin and ymax\n",
    "\n",
    "   \n",
    "        \n",
    "    \n",
    "    #hdx_bg_data_minus = r.TH2F(\"hdx_bg_data_minus\", \"\", nbins, xmin, xmax, nbins, ymin, ymax)\n",
    "    hupcsCalcQEArray=np.empty(0)\n",
    "    hupcsCalcINArray=np.empty(0)\n",
    "    hpcsCalcQEArray=np.empty(0)\n",
    "    hpcsCalcINArray=np.empty(0)\n",
    "    hdxCalc=r.TH1F(\"hdx\",\"dx\",100,-4,4)\n",
    "    hdxSim=r.TH1F(\"hdx\",\"dx\",100,-4,4)\n",
    "\n",
    "    hpcsSimArray=np.empty(0)\n",
    "\n",
    "    e=0\n",
    "    nEntries_In = D.GetEntries()\n",
    "    print(f'Total Entries: {nEntries_In}')\n",
    "    #for i in range(nEntries_In):\n",
    "    for i in range(0,40000):\n",
    "        D.GetEntry(i)\n",
    "        #row = find_closest_row(df, Q2[0], X) \n",
    "        #print(row)\n",
    "        #print('Found Row and Bjorken')\n",
    "        #COOLPROGRESSTRACKER___________________________________________________________________________   \n",
    "        if i % 100 == 0 or i == nEntries_In - 1:\n",
    "            progress = f'Processing entry {i + 1}/{nEntries_In} ({(i + 1) / nEntries_In * 100:.2f}%)\\r'\n",
    "            sys.stdout.write(progress)\n",
    "            sys.stdout.flush()\n",
    "        #______________________________________________________________________________________________   \n",
    "            \n",
    "        try:\n",
    "            X=Function_BJX(Q2[0],W2[0])\n",
    "            row = find_closest_row(df, Q2[0], X) \n",
    "            #print(row[0], Q2[0],theta[0])\n",
    "           \n",
    "            #print(\"past the row\")\n",
    "            #Unpolarized Cross Section\n",
    "            qeUP=Function_UPCS(row,theta[0],E[0],nu[0],True)\n",
    "            inUP=Function_UPCS(row,theta[0],E[0],nu[0],False)\n",
    "            #polarized Cross Section\n",
    "            BETA=Function_beta(theta[0])\n",
    "            THETA=Function_theta(theta[0])\n",
    "\n",
    "            \n",
    "            qeP=Function_PCS(row,Q2[0], nu[0]-E[0], E[0], BETA, THETA,True)\n",
    "            inP=Function_PCS(row,Q2[0], nu[0]-E[0], E[0], BETA, THETA,False)\n",
    "        \n",
    "            hupcsCalcQEArray=np.append(hupcsCalcQEArray,qeUP)\n",
    "            hupcsCalcINArray=np.append(hupcsCalcINArray,inUP)\n",
    "            #\n",
    "            hpcsCalcQEArray=np.append(hpcsCalcQEArray,qeP)\n",
    "            hpcsCalcINArray=np.append(hpcsCalcINArray,inP)\n",
    "            \n",
    "            hpcsSimArray=np.append(hpcsSimArray,MC_sig[0])\n",
    "            \n",
    "            \n",
    "            hdxCalc.Fill(dx[0],inUP)\n",
    "            hdxSim.Fill(dx[0],MC_sig[0])\n",
    "        except:\n",
    "            e+=1\n",
    "            print(f\"Encountered Error number : {e}\")\n",
    "\n",
    "    return Function_HIST2NP(hdxCalc),Function_HIST2NP(hdxSim),hpcsSimArray,hupcsCalcQEArray,hupcsCalcINArray,hpcsCalcQEArray,hpcsCalcINArray\n",
    "    "
   ]
  },
  {
   "cell_type": "code",
   "execution_count": 72,
   "id": "7740ecd7",
   "metadata": {},
   "outputs": [],
   "source": [
    "def q2x(config):\n",
    "    electronEnergyInterval=11-.5\n",
    "\n",
    "    r.gErrorIgnoreLevel = r.kError  # Suppress Info and Warning messages\n",
    "    gStyle.SetOptStat(0)\n",
    "    gStyle.SetOptFit(1)\n",
    "\n",
    "    #_____bring in config values______#\n",
    "    coinVector = CONFIG.Function_JSON(\"GEN\" + config, \"../config/coin.cfg\")\n",
    "    he3spot = CONFIG.Function_JSON(\"GEN\" + config + \"He3\", \"../config/spotsize.cfg\")\n",
    "    he3spotsim = CONFIG.Function_JSON(\"GEN\" + config + \"He3sim\", \"../config/spotsize.cfg\")\n",
    "    \n",
    "    # Set coincidence cut and spot cut values\n",
    "    coinSigma = 2.5\n",
    "    coin_low = coinVector[0] - coinSigma * coinVector[1]\n",
    "    coin_high = coinVector[0] + coinSigma * coinVector[1]\n",
    "\n",
    "    \n",
    "    #-------------------------------------\n",
    "    \n",
    "    rootfileIn=f\"../outfiles/Pass1/QE_sim_GEN{config}_sbs100p_nucleon_np_model2.root\"\n",
    "    D = TChain(\"Tout\")\n",
    "    D.Add(rootfileIn)\n",
    "    \n",
    "    dx,dy,W2,weight=array.array('d', [0]), array.array('d', [0]),array.array('d', [0]), array.array('d', [0])\n",
    "    Q2,E,theta=array.array('d', [0]),array.array('d', [0]),array.array('d', [0])\n",
    "    px,py,pz=array.array('d', [0]),array.array('d', [0]),array.array('d', [0])\n",
    "    MC_sig,nu=array.array('d', [0]),array.array('d', [0])\n",
    "    \n",
    "    # Disable all branches initially\n",
    "    D.SetBranchStatus(\"*\", 0)\n",
    "\n",
    "    # Enable specific branches\n",
    "    branches = [\"dx\", \"dy\", \"W2\", \"helicity\", \"IHWP\", \"runnum\", \"coinCut\", \"coin_time\"]\n",
    "    b2 = [\"dx\", \"dy\", \"W2\",\"Q2\",\"etheta\",\"ebeam\",\"nu\",\"trPx\",\"trPy\",\"trPz\",\"mc_sig\"]\n",
    "    for branch in b2:\n",
    "        D.SetBranchStatus(branch, 1)\n",
    "    D.SetBranchStatus(\"weight\", 1)\n",
    "\n",
    "    # Set branch addresses\n",
    "    #D.SetBranchAddress(\"dx\", dx)\n",
    "    #D.SetBranchAddress(\"dy\", dy)\n",
    "    D.SetBranchAddress(\"W2\", W2)\n",
    "    D.SetBranchAddress(\"Q2\", Q2)\n",
    "    #D.SetBranchAddress(\"etheta\", theta)\n",
    "    #D.SetBranchAddress(\"ebeam\", E)\n",
    "    D.SetBranchAddress(\"nu\", nu)\n",
    "    #D.SetBranchAddress(\"trPx\", px)\n",
    "    #D.SetBranchAddress(\"trPy\", py)\n",
    "    #D.SetBranchAddress(\"trPz\", pz)\n",
    "    #D.SetBranchAddress(\"mc_sig\",MC_sig)\n",
    "    \n",
    "    #D.SetBranchAddress(\"weight\", weight)\n",
    "    \n",
    "    # Assuming the variables are already defined or loaded from the ROOT file\n",
    "    nbins = 10  \n",
    "    xmin, xmax = -.1,.1\n",
    "    # Add appropriate ymin and ymax\n",
    "\n",
    "   \n",
    "        \n",
    "    q2array=[]\n",
    "    xarray=[]\n",
    "    #hdx_bg_data_minus = r.TH2F(\"hdx_bg_data_minus\", \"\", nbins, xmin, xmax, nbins, ymin, ymax)\n",
    "    hupcsCalcQEArray=np.empty(0)\n",
    "    hupcsCalcINArray=np.empty(0)\n",
    "    hpcsCalcQEArray=np.empty(0)\n",
    "    hpcsCalcINArray=np.empty(0)\n",
    "    hq2=r.TH1F(\"hq2\",\"q2\",100,0,12)\n",
    "    hx=r.TH1F(\"hx\",\"x\",100,0,12)\n",
    "    hq2x=r.TH2F(\"hxq\",\"xq\",100,0,2,100,0,12)\n",
    "    hq2xV2=r.TH2F(\"hxq\",\"xq\",100,0,2,100,0,12)\n",
    "    hpcsSimArray=np.empty(0)\n",
    "\n",
    "    e=0\n",
    "    nEntries_In = D.GetEntries()\n",
    "    print(f'Total Entries: {nEntries_In}')\n",
    "    for i in range(nEntries_In):\n",
    "    #for i in range(0,40000):\n",
    "        D.GetEntry(i)\n",
    "        #row = find_closest_row(df, Q2[0], X) \n",
    "        #print(row)\n",
    "        #print('Found Row and Bjorken')\n",
    "        #COOLPROGRESSTRACKER___________________________________________________________________________   \n",
    "        if i % 100 == 0 or i == nEntries_In - 1:\n",
    "            progress = f'Processing entry {i + 1}/{nEntries_In} ({(i + 1) / nEntries_In * 100:.2f}%)\\r'\n",
    "            sys.stdout.write(progress)\n",
    "            sys.stdout.flush()\n",
    "        #______________________________________________________________________________________________   \n",
    "            \n",
    "        hq2.Fill(Q2[0])\n",
    "        hx.Fill(Function_BJX(Q2[0],W2[0]))\n",
    "        q2array.append(Q2[0])\n",
    "        xarray.append(Function_BJX(Q2[0],W2[0]))\n",
    "        hq2x.Fill(Function_BJX(Q2[0],W2[0]),Q2[0])\n",
    "        hq2xV2.Fill(Q2[0]/(2*M*nu[0]),Q2[0])\n",
    "    q2arraynp=np.array(q2array)\n",
    "    xarraynp=np.array(xarray)\n",
    "    return Function_HIST2NP(hx),Function_HIST2NP(hq2),q2array,xarray,Function_2DHIST2NP(hq2x),Function_2DHIST2NP(hq2xV2)\n",
    "    "
   ]
  },
  {
   "cell_type": "code",
   "execution_count": 73,
   "id": "b4762c56",
   "metadata": {},
   "outputs": [
    {
     "name": "stdout",
     "output_type": "stream",
     "text": [
      "Total Entries: 450806\n",
      "Processing entry 299901/450806 (66.53%)\r"
     ]
    },
    {
     "name": "stderr",
     "output_type": "stream",
     "text": [
      "IOPub message rate exceeded.\n",
      "The notebook server will temporarily stop sending output\n",
      "to the client in order to avoid crashing it.\n",
      "To change this limit, set the config variable\n",
      "`--NotebookApp.iopub_msg_rate_limit`.\n",
      "\n",
      "Current values:\n",
      "NotebookApp.iopub_msg_rate_limit=1000.0 (msgs/sec)\n",
      "NotebookApp.rate_limit_window=3.0 (secs)\n",
      "\n"
     ]
    }
   ],
   "source": [
    "save2=q2x(\"4\")"
   ]
  },
  {
   "cell_type": "code",
   "execution_count": null,
   "id": "c9df7bb3",
   "metadata": {},
   "outputs": [],
   "source": []
  },
  {
   "cell_type": "code",
   "execution_count": 74,
   "id": "618498c4",
   "metadata": {},
   "outputs": [
    {
     "data": {
      "image/png": "[encoded data removed]",
      "text/plain": [
       "<Figure size 800x600 with 2 Axes>"
      ]
     },
     "metadata": {},
     "output_type": "display_data"
    }
   ],
   "source": [
    "bin_centers_x, bin_centers_y, xq2=save2[-1]\n",
    "X, Y = np.meshgrid(bin_centers_x, bin_centers_y)\n",
    "\n",
    "# Plotting the 2D histogram\n",
    "plt.figure(figsize=(8, 6))\n",
    "plt.pcolormesh(X, Y, xq2.T, shading='auto', cmap='viridis')\n",
    "plt.colorbar()\n",
    "\n",
    "# Labeling the plot\n",
    "plt.xlabel('X')\n",
    "plt.ylabel('Q2')\n",
    "plt.title('Q2 vs X')\n",
    "\n",
    "# Show the plot\n",
    "plt.show()"
   ]
  },
  {
   "cell_type": "code",
   "execution_count": null,
   "id": "f548b00d",
   "metadata": {},
   "outputs": [],
   "source": [
    " bin_centers,bin_contents=save2[0]\n",
    "plt.plot(bin_centers, bin_contents,'-',color='grey',linewidth=1,label='Data')"
   ]
  },
  {
   "cell_type": "code",
   "execution_count": 45,
   "id": "0151d259",
   "metadata": {},
   "outputs": [
    {
     "data": {
      "text/plain": [
       "[<matplotlib.lines.Line2D at 0x7f58c0fdccd0>]"
      ]
     },
     "execution_count": 45,
     "metadata": {},
     "output_type": "execute_result"
    },
    {
     "data": {
      "image/png": "[encoded data removed]",
      "text/plain": [
       "<Figure size 640x480 with 1 Axes>"
      ]
     },
     "metadata": {},
     "output_type": "display_data"
    }
   ],
   "source": [
    "#___________________________________________________________________________________________________________\n",
    "bin_centers,bin_contents=save2[1]\n",
    "plt.plot(bin_centers, bin_contents,'-',color='grey',linewidth=1,label='Data')"
   ]
  },
  {
   "cell_type": "code",
   "execution_count": 52,
   "id": "c23242d3",
   "metadata": {},
   "outputs": [
    {
     "data": {
      "text/plain": [
       "3589.467226600973"
      ]
     },
     "execution_count": 52,
     "metadata": {},
     "output_type": "execute_result"
    }
   ],
   "source": [
    "q2array=save2[2]\n",
    "xarray=save2[3]\n",
    "np.max(xarray)\n",
    "np.max(q2array)"
   ]
  },
  {
   "cell_type": "code",
   "execution_count": 48,
   "id": "60867a27",
   "metadata": {},
   "outputs": [
    {
     "data": {
      "text/plain": [
       "<matplotlib.collections.PathCollection at 0x7f58c0cf2520>"
      ]
     },
     "execution_count": 48,
     "metadata": {},
     "output_type": "execute_result"
    },
    {
     "data": {
      "image/png": "[encoded data removed]",
      "text/plain": [
       "<Figure size 640x480 with 1 Axes>"
      ]
     },
     "metadata": {},
     "output_type": "display_data"
    }
   ],
   "source": [
    "plt.scatter(q2array,xarray)"
   ]
  },
  {
   "cell_type": "code",
   "execution_count": 32,
   "id": "27819cf2",
   "metadata": {},
   "outputs": [
    {
     "data": {
      "image/png": "[encoded data removed]",
      "text/plain": [
       "<Figure size 640x480 with 2 Axes>"
      ]
     },
     "metadata": {},
     "output_type": "display_data"
    }
   ],
   "source": [
    "plt.hist2d(xarray, q2array, bins=50, cmap='viridis')  # You can adjust bins and cmap as needed\n",
    "\n",
    "# Add color bar\n",
    "plt.colorbar(label='Counts')\n",
    "\n",
    "# Labels for axes\n",
    "plt.xlabel('x')\n",
    "plt.ylabel('Q^2')\n",
    "\n",
    "# Show plot\n",
    "plt.show()"
   ]
  },
  {
   "cell_type": "code",
   "execution_count": 75,
   "id": "d682edcd",
   "metadata": {},
   "outputs": [
    {
     "name": "stdout",
     "output_type": "stream",
     "text": [
      "Total Entries: 523952\n",
      "Processing entry 39901/523952 (7.62%)\r"
     ]
    },
    {
     "name": "stderr",
     "output_type": "stream",
     "text": [
      "Error in <THashList::Delete>: A list is accessing an object (0x1e17a050) already deleted (list name = THashList)\n"
     ]
    }
   ],
   "source": [
    "save=CompareUPCS(\"4\")\n"
   ]
  },
  {
   "cell_type": "code",
   "execution_count": 76,
   "id": "b110fa3f",
   "metadata": {},
   "outputs": [],
   "source": [
    "centersS,contentsS=save[1]\n",
    "centersC,contentsC=save[0]\n",
    "simArray=save[2]\n",
    "calcQEArray=save[3]\n",
    "calcINArray=save[4]\n",
    "calcQEArrayPol=save[5]\n",
    "calcINArrayPol=save[6]"
   ]
  },
  {
   "cell_type": "code",
   "execution_count": 77,
   "id": "d207ea70",
   "metadata": {},
   "outputs": [
    {
     "ename": "NameError",
     "evalue": "name 'electronEnergyInterval' is not defined",
     "output_type": "error",
     "traceback": [
      "\u001b[0;31m---------------------------------------------------------------------------\u001b[0m",
      "\u001b[0;31mNameError\u001b[0m                                 Traceback (most recent call last)",
      "Cell \u001b[0;32mIn [77], line 1\u001b[0m\n\u001b[0;32m----> 1\u001b[0m polarizedRightUnits\u001b[38;5;241m=\u001b[39m\u001b[43melectronEnergyInterval\u001b[49m\u001b[38;5;241m*\u001b[39mhbarc\u001b[38;5;241m*\u001b[39mcalcINArray\u001b[38;5;241m*\u001b[39m\u001b[38;5;241m1e33\u001b[39m\n\u001b[1;32m      2\u001b[0m unpolarizedRightUnits\u001b[38;5;241m=\u001b[39melectronEnergyInterval\u001b[38;5;241m*\u001b[39mhbarc\u001b[38;5;241m*\u001b[39mcalcINArrayPol\u001b[38;5;241m*\u001b[39m\u001b[38;5;241m1e33\u001b[39m\n",
      "\u001b[0;31mNameError\u001b[0m: name 'electronEnergyInterval' is not defined"
     ]
    }
   ],
   "source": [
    "polarizedRightUnits=electronEnergyInterval*hbarc*calcINArray*1e33\n",
    "unpolarizedRightUnits=electronEnergyInterval*hbarc*calcINArrayPol*1e33"
   ]
  },
  {
   "cell_type": "code",
   "execution_count": null,
   "id": "98f25fa4",
   "metadata": {},
   "outputs": [],
   "source": [
    "plt.plot(unpolarizedRightUnits,polarizedRightUnits,'.',color='red',alpha=.5)\n",
    "plt.yscale('log')\n",
    "plt.xscale('log')\n",
    "plt.ylabel('Polarized Xsec (nb/sr)')\n",
    "plt.xlabel('Upolarized Xsec (nb/sr)')\n",
    "plt.title(\"Polarized vs Unpolarized Xsections\")\n",
    "#plt.ylim(1e-6,1)"
   ]
  },
  {
   "cell_type": "code",
   "execution_count": null,
   "id": "29695b05",
   "metadata": {},
   "outputs": [],
   "source": [
    "d=plt.hist(calcINArrayPol/calcINArray,bins=200,range=(-1,1),color='dodgerblue')\n",
    "plt.title(\"Polarized/Unpolarized Cross Section Histogram\")\n",
    "plt.xlabel(\"Ratio\")\n"
   ]
  },
  {
   "cell_type": "code",
   "execution_count": null,
   "id": "537a8e58",
   "metadata": {},
   "outputs": [],
   "source": []
  },
  {
   "cell_type": "code",
   "execution_count": null,
   "id": "1528982f",
   "metadata": {},
   "outputs": [],
   "source": [
    "#calcQEArray"
   ]
  },
  {
   "cell_type": "code",
   "execution_count": null,
   "id": "466ac466",
   "metadata": {},
   "outputs": [],
   "source": [
    "#calcINArray"
   ]
  },
  {
   "cell_type": "code",
   "execution_count": null,
   "id": "eb986e64",
   "metadata": {},
   "outputs": [],
   "source": [
    "#plt.bar(centersS, contentsS, width=(centersS[1] - centersS[0]), align='center', alpha=0.5, color=\"dodgerblue\", label=\"Simulated\")\n",
    "#plt.title(\"Dx weighted with calculated Cross Section\")\n",
    "#plt.bar(centersC, contentsC, width=(centersC[1] - centersC[0]), align='center', alpha=0.5, color=\"red\", label=\"Calculated\")\n",
    "#plt.title(\"Dx weighted with calculated and simulated Cross Section\")\n",
    "#plt.legend(loc='upper right')\n",
    "\n"
   ]
  },
  {
   "cell_type": "code",
   "execution_count": null,
   "id": "54d0f737",
   "metadata": {},
   "outputs": [],
   "source": [
    "hbarc=3.88*10**(-28)"
   ]
  },
  {
   "cell_type": "code",
   "execution_count": null,
   "id": "1a9d3daf",
   "metadata": {},
   "outputs": [],
   "source": []
  },
  {
   "cell_type": "code",
   "execution_count": null,
   "id": "047516dd",
   "metadata": {},
   "outputs": [],
   "source": [
    "\n",
    "binsize=50\n",
    "plt.figure(figsize=(10,5))\n",
    "plt.suptitle('Calculated Polarized vs Unpolarized Xsec', fontsize=30)\n",
    "\n",
    "plt.subplot(1,2,1)\n",
    "#plt.xlim(0,1e-30)\n",
    "x=plt.hist(calcINArrayPol*100000,color='red',alpha=.8,bins=binsize,range=(0,1),label='MC_sigma')\n",
    "plt.legend(loc='upper right')\n",
    "plt.xlabel(\"Polarized Cross Section\")\n",
    "plt.subplot(1,2,2)\n",
    "\n",
    "y=plt.hist(calcINArray*100000,color='magenta',alpha=.6,bins=binsize,range=(0,1),label='Calculated Sigma')\n",
    "plt.legend(loc='upper right')\n",
    "plt.xlabel(\"Unpolarized Cross Section\")\n"
   ]
  },
  {
   "cell_type": "code",
   "execution_count": null,
   "id": "bf4f6d36",
   "metadata": {},
   "outputs": [],
   "source": [
    "pol=x[0]"
   ]
  },
  {
   "cell_type": "code",
   "execution_count": null,
   "id": "6d0c8f92",
   "metadata": {},
   "outputs": [],
   "source": [
    "unpol=y[0]"
   ]
  },
  {
   "cell_type": "code",
   "execution_count": null,
   "id": "3b40fb77",
   "metadata": {},
   "outputs": [],
   "source": [
    "pol"
   ]
  },
  {
   "cell_type": "code",
   "execution_count": null,
   "id": "c29e9c97",
   "metadata": {},
   "outputs": [],
   "source": [
    "unpol"
   ]
  },
  {
   "cell_type": "code",
   "execution_count": null,
   "id": "99f9132e",
   "metadata": {},
   "outputs": [],
   "source": [
    "pol[1]/unpol[1]"
   ]
  },
  {
   "cell_type": "code",
   "execution_count": null,
   "id": "f57d342a",
   "metadata": {},
   "outputs": [],
   "source": [
    "pol[1]"
   ]
  },
  {
   "cell_type": "code",
   "execution_count": null,
   "id": "4e60ce51",
   "metadata": {},
   "outputs": [],
   "source": [
    "unpol[1]"
   ]
  },
  {
   "cell_type": "code",
   "execution_count": null,
   "id": "dee9a38f",
   "metadata": {
    "scrolled": false
   },
   "outputs": [],
   "source": [
    "totalCalc=calcQEArray*hbarc+calcINArray*hbarc\n",
    "binsize=50\n",
    "plt.figure(figsize=(10,5))\n",
    "plt.suptitle('MC sigma vs Calculated Sigma', fontsize=30)\n",
    "\n",
    "plt.subplot(1,2,1)\n",
    "x=plt.hist(simArray,color='red',alpha=.8,bins=binsize,label='MC_sigma')\n",
    "plt.legend(loc='upper right')\n",
    "plt.xlabel(\"Unpolarized Cross Section\")\n",
    "plt.subplot(1,2,2)\n",
    "x=plt.hist(calcQEArray*hbarc+calcINArray*hbarc,color='dodgerblue',alpha=.6,bins=binsize,range=(0,1e-32),label='Calculated Sigma')\n",
    "plt.legend(loc='upper right')\n",
    "plt.xlabel(\"Unpolarized Cross Section\")\n",
    "x=plt.hist(calcINArray*hbarc,color='magenta',alpha=.6,bins=binsize,range=(0,1e-32),label='Calculated Sigma')\n",
    "plt.legend(loc='upper right')\n",
    "plt.xlabel(\"Unpolarized Cross Section\")\n"
   ]
  },
  {
   "cell_type": "code",
   "execution_count": null,
   "id": "8a55b5ec",
   "metadata": {},
   "outputs": [],
   "source": [
    "electronEnergyInterval=11-.5\n",
    "InelasticCalculated=electronEnergyInterval*calcINArray*hbarc\n",
    "\n",
    "ratio = InelasticCalculated / simArray\n",
    "\n",
    "# Create a mask to filter out -inf, inf, NaN, and 0s from both arrays\n",
    "mask = np.isfinite(ratio) & (simArray != 0) & (InelasticCalculated != 0)\n",
    "\n",
    "# Apply the mask to both arrays\n",
    "filtered_totalCalc = InelasticCalculated[mask]\n",
    "filtered_simArray = simArray[mask]\n",
    "# Now you can safely plot the histogram of the ratio\n",
    "\n",
    "filteredRat=filtered_totalCalc/filtered_simArray\n",
    "filteredRat=filteredRat[filteredRat<15]\n",
    "bin_contents=plt.hist(filteredRat,bins=70,color='dodgerblue',label=\"Calculated/Simulated\",alpha=.5)\n",
    "bin_Contents=bin_contents[0]\n",
    "bin_centers=.5*(bin_contents[1][:-1]+bin_contents[1][1:])\n",
    "\n",
    "#plt.plot(bin_centers, bin_Contents,'--',color='black',linewidth=1.5)\n",
    "\n",
    "plt.title(\"Ratio of Calculated to Simulated Unpolarized Cross Section\")\n",
    "plt.xlabel(\"Ratio\")\n",
    "plt.ylabel(\"Counts\")\n",
    "#plt.axvline(x=3, color='black', linestyle='-', linewidth=2)\n",
    "plt.show()"
   ]
  },
  {
   "cell_type": "code",
   "execution_count": null,
   "id": "ae13d394",
   "metadata": {},
   "outputs": [],
   "source": []
  },
  {
   "cell_type": "code",
   "execution_count": null,
   "id": "1e0dcc64",
   "metadata": {},
   "outputs": [],
   "source": []
  },
  {
   "cell_type": "code",
   "execution_count": null,
   "id": "5005a787",
   "metadata": {},
   "outputs": [],
   "source": [
    "filteredRat=filtered_totalCalc/filtered_simArray\n",
    "filteredRat=filteredRat[filteredRat<4]"
   ]
  },
  {
   "cell_type": "code",
   "execution_count": null,
   "id": "6b0cdd91",
   "metadata": {},
   "outputs": [],
   "source": []
  },
  {
   "cell_type": "code",
   "execution_count": null,
   "id": "e2fba88d",
   "metadata": {},
   "outputs": [],
   "source": [
    "x=plt.hist(electronEnergyInterval*filteredRat,bins=100,color='dodgerblue',label=\"Calculated/Simulated\")\n",
    "plt.title(\"Ratio of Calculated to Simulated Unpolarized Cross Section\")\n",
    "plt.axvline(x=3, color='red', linestyle='--', linewidth=2)\n",
    "plt.xlabel(\"Ratio\")"
   ]
  },
  {
   "cell_type": "code",
   "execution_count": null,
   "id": "45e85566",
   "metadata": {},
   "outputs": [],
   "source": [
    "plt.plot(simArray,totalCalc,'.',color='dodgerblue',alpha=.5)\n",
    "plt.yscale('log')\n",
    "plt.xscale('log')"
   ]
  },
  {
   "cell_type": "code",
   "execution_count": null,
   "id": "497f6da0",
   "metadata": {},
   "outputs": [],
   "source": [
    "import seaborn as sns\n",
    "\n",
    "log_simArray = np.log10(polarizedRightUnits)\n",
    "log_totalCalc = np.log10(unpolarizedRightUnits)\n",
    "\n",
    "plt.figure(figsize=(8, 6),dpi=300)\n",
    "kde=sns.kdeplot(x=log_totalCalc, y=log_simArray, cmap='viridis', fill=True)\n",
    "\n",
    "# Label the axes with the original scale\n",
    "\n",
    "#\n",
    "plt.xlim(-3,0)\n",
    "#\n",
    "plt.ylim(-3,2)\n",
    "cbar = plt.colorbar(kde.collections[-1], ax=plt.gca())\n",
    "cbar.set_label('Density')\n",
    "\n",
    "# Label the axes with the original scale\n",
    "plt.xlabel('log10(UnPolarized) nb/sr')\n",
    "plt.ylabel('log10(Polarized) nb/sr')\n",
    "plt.title('2D KDE Plot Polarized vs Unpolarized XSec Logarithmic Axes')\n",
    "\n",
    "# Add a simple legend (though in this case, it may not be necessary)\n",
    "plt.plot([], [], ' ', label='Sim vs Calculation')\n",
    "plt.legend()\n",
    "# Show the plot\n",
    "plt.show()"
   ]
  },
  {
   "cell_type": "code",
   "execution_count": null,
   "id": "96398750",
   "metadata": {},
   "outputs": [],
   "source": []
  },
  {
   "cell_type": "code",
   "execution_count": null,
   "id": "7958a80f",
   "metadata": {},
   "outputs": [],
   "source": []
  },
  {
   "cell_type": "code",
   "execution_count": null,
   "id": "9a568446",
   "metadata": {},
   "outputs": [],
   "source": []
  }
 ],
 "metadata": {
  "kernelspec": {
   "display_name": "Python 3 (ipykernel)",
   "language": "python",
   "name": "python3"
  },
  "language_info": {
   "codemirror_mode": {
    "name": "ipython",
    "version": 3
   },
   "file_extension": ".py",
   "mimetype": "text/x-python",
   "name": "python",
   "nbconvert_exporter": "python",
   "pygments_lexer": "ipython3",
   "version": "3.8.10"
  }
 },
 "nbformat": 4,
 "nbformat_minor": 5
}
