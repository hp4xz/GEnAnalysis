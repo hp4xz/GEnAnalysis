{
 "cells": [
  {
   "cell_type": "code",
   "execution_count": 49,
   "id": "11e95f04",
   "metadata": {
    "scrolled": false
   },
   "outputs": [],
   "source": [
    "import numpy as np\n",
    "import matplotlib.pyplot as plt\n",
    "from matplotlib.backends.backend_pdf import PdfPages\n",
    "\n",
    "def parse_offset_file(filepath):\n",
    "    \"\"\"Parses a .dat file with multiple named arrays into a dict.\"\"\"\n",
    "    arrays = {}\n",
    "    with open(filepath, \"r\") as f:\n",
    "        lines = f.readlines()\n",
    "\n",
    "    current_key = None\n",
    "    current_vals = []\n",
    "    for line in lines:\n",
    "        if \"=\" in line:\n",
    "            if current_key is not None:\n",
    "                arrays[current_key] = np.array(current_vals, dtype=float)\n",
    "            current_key = line.split(\"=\")[0].strip()\n",
    "            current_vals = []\n",
    "        else:\n",
    "            current_vals.extend([float(x) for x in line.strip().split()])\n",
    "    \n",
    "    # Add the last array\n",
    "    if current_key is not None:\n",
    "        arrays[current_key] = np.array(current_vals, dtype=float)\n",
    "\n",
    "    return arrays\n",
    "\n",
    "def plot_residuals_to_pdf(file1, file2, output_pdf):\n",
    "    data1 = parse_offset_file(file1)\n",
    "    data2 = parse_offset_file(file2)\n",
    "\n",
    "    with PdfPages(output_pdf) as pdf:\n",
    "        for key in data1:\n",
    "            if key in data2:\n",
    "                if data1[key].shape != data2[key].shape:\n",
    "                    print(f\"Skipping {key}: shape mismatch\")\n",
    "                    continue\n",
    "                residual = data1[key] - data2[key]\n",
    "\n",
    "                plt.figure(figsize=(10, 4))\n",
    "                plt.plot(residual, marker='o', linestyle='-', markersize=3)\n",
    "                plt.title(f\"Residuals for {key}\")\n",
    "                plt.xlabel(\"Index\")\n",
    "                plt.ylabel(\"Residual (File1 - File2)\")\n",
    "                plt.grid(True)\n",
    "                plt.tight_layout()\n",
    "                pdf.savefig()\n",
    "                plt.close()\n",
    "            else:\n",
    "                print(f\"Key {key} not found in second file.\")\n",
    "\n",
    "# Replace with actual file paths\n",
    "file1 = \"GEN3_He3_vimukthi_0514_rm_RF_2cofGEN3_He3_vimukthi_0514_rm_RF_2.dat\"\n",
    "file2 = \"GEN3_He3_vimukthi_0514_2cofGEN3_He3_vimukthi_0514_2.dat\"\n",
    "output_pdf = \"residuals_output.pdf\"\n",
    "\n",
    "plot_residuals_to_pdf(file1, file2, output_pdf)\n"
   ]
  },
  {
   "cell_type": "code",
   "execution_count": null,
   "id": "ca1cd194",
   "metadata": {},
   "outputs": [],
   "source": []
  }
 ],
 "metadata": {
  "kernelspec": {
   "display_name": "Python 3 (ipykernel)",
   "language": "python",
   "name": "python3"
  },
  "language_info": {
   "codemirror_mode": {
    "name": "ipython",
    "version": 3
   },
   "file_extension": ".py",
   "mimetype": "text/x-python",
   "name": "python",
   "nbconvert_exporter": "python",
   "pygments_lexer": "ipython3",
   "version": "3.8.10"
  }
 },
 "nbformat": 4,
 "nbformat_minor": 5
}
