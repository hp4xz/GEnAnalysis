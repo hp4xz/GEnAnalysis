{
 "cells": [
  {
   "cell_type": "code",
   "execution_count": 8,
   "id": "fdd10f87",
   "metadata": {},
   "outputs": [],
   "source": [
    "import ROOT as r\n",
    "import math\n",
    "import array\n",
    "import os\n",
    "import sys\n",
    "import pandas as pd\n",
    "\n",
    "import matplotlib.pyplot as plt\n",
    "import matplotlib.colors as mcolors\n",
    "from matplotlib.backends.backend_pdf import PdfPages\n",
    "\n",
    "from scipy.optimize import minimize\n",
    "from scipy.signal import find_peaks\n",
    "\n",
    "import numpy as np\n",
    "from scipy.optimize import curve_fit\n",
    "\n",
    "#______________Add include directory_______________\n",
    "current_dir = os.getcwd()\n",
    "include_dir = os.path.join(current_dir, '../include')\n",
    "sys.path.insert(0, include_dir)\n",
    "#__________________________________________________\n",
    "\n",
    "import CONFIG\n",
    "import DBPARSE\n",
    "from UTILITIES import *\n",
    "from SIMFITS2D import DistributionFits2D\n",
    "from ROOT import gStyle, TChain, TH1F, TCanvas, TLegend\n"
   ]
  },
  {
   "cell_type": "code",
   "execution_count": 9,
   "id": "c7999124",
   "metadata": {},
   "outputs": [
    {
     "name": "stdout",
     "output_type": "stream",
     "text": [
      "W2min: -0.5\n",
      "W2max: 1.7\n",
      "dxmin: -0.4\n",
      "dxmax: 0.4\n",
      "dymin: -0.5\n",
      "dymax: 0.5\n",
      "dybgmin: -1.3\n",
      "dybgmax: 1.2\n",
      "Coin Min: 88 Coin Max: 100\n"
     ]
    }
   ],
   "source": [
    "pas=\"1\"\n",
    "config=\"3\"\n",
    "\n",
    "W2min=CONFIG.Function_JSON(\"W2min\",f\"../config/cuts{config}.cfg\")\n",
    "W2max=CONFIG.Function_JSON(\"W2max\",f\"../config/cuts{config}.cfg\")\n",
    "dxmin=CONFIG.Function_JSON(\"dxmin\",f\"../config/cuts{config}.cfg\")\n",
    "dxmax=CONFIG.Function_JSON(\"dxmax\",f\"../config/cuts{config}.cfg\")\n",
    "dymin=CONFIG.Function_JSON(\"dymin\",f\"../config/cuts{config}.cfg\")\n",
    "dymax=CONFIG.Function_JSON(\"dymax\",f\"../config/cuts{config}.cfg\")\n",
    "dybgmin=CONFIG.Function_JSON(\"dybgmin\",f\"../config/cuts{config}.cfg\")\n",
    "dybgmax=CONFIG.Function_JSON(\"dybgmax\",f\"../config/cuts{config}.cfg\")\n",
    "coinmin=CONFIG.Function_JSON(\"coinmin\",f\"../config/cuts{config}.cfg\")\n",
    "coinmax=CONFIG.Function_JSON(\"coinmax\",f\"../config/cuts{config}.cfg\")\n",
    "#dymin=-.984\n",
    "#dymax=.9\n",
    "#W2max=1.75\n",
    "#dybgmin=-1.2\n",
    "#dybgmax=1.2\n",
    "#dxmin=-2\n",
    "#dxmax=1\n",
    "print(f'W2min: {W2min}')\n",
    "print(f'W2max: {W2max}')\n",
    "print(f'dxmin: {dxmin}')\n",
    "print(f'dxmax: {dxmax}')\n",
    "print(f'dymin: {dymin}')\n",
    "print(f'dymax: {dymax}')\n",
    "print(f'dybgmin: {dybgmin}')\n",
    "print(f'dybgmax: {dybgmax}')\n",
    "print(f'Coin Min: {coinmin} Coin Max: {coinmax}')"
   ]
  },
  {
   "cell_type": "code",
   "execution_count": 10,
   "id": "578c2f6c",
   "metadata": {
    "scrolled": false
   },
   "outputs": [
    {
     "name": "stdout",
     "output_type": "stream",
     "text": [
      "Branches in tree 'Tout':\n",
      "runnum\n",
      "WCut\n",
      "pCut\n",
      "nCut\n",
      "fiduCut\n",
      "coinCut\n",
      "ebeam\n",
      "nu\n",
      "Q2\n",
      "W2\n",
      "dpel\n",
      "ephi\n",
      "etheta\n",
      "pcentral\n",
      "vz\n",
      "vx\n",
      "vy\n",
      "xtgt\n",
      "ytgt\n",
      "thtgt\n",
      "phtgt\n",
      "thetabend\n",
      "xfp\n",
      "yfp\n",
      "thfp\n",
      "phfp\n",
      "trP\n",
      "trPx\n",
      "trPy\n",
      "trPz\n",
      "ePS\n",
      "xPS\n",
      "eSH\n",
      "xSH\n",
      "ySH\n",
      "eHCAL\n",
      "xHCAL\n",
      "yHCAL\n",
      "xHCAL_exp\n",
      "yHCAL_exp\n",
      "dx\n",
      "dy\n",
      "ngrinch_hits\n",
      "xGRINCH\n",
      "yGRINCH\n",
      "coin_time\n",
      "hcal_time\n",
      "bbcal_time\n",
      "BPMAx\n",
      "BPMAy\n",
      "Rasterx\n",
      "Rastery\n",
      "Raster2x\n",
      "Raster2y\n",
      "helicity\n",
      "IHWP\n",
      "pblkid\n",
      "tdc\n",
      "atime\n",
      "nblk\n",
      "mag\n",
      "run\n",
      "tar\n",
      "cblkid\n",
      "cblkatime\n",
      "cblktime\n",
      "cblke\n",
      "nclus\n",
      "cid\n",
      "cx\n",
      "cy\n",
      "catime\n",
      "hodoTimes\n",
      "hodoIDs\n",
      "hodoTOT\n",
      "nbars\n",
      "meanTOT\n",
      "trigger\n",
      "triggerID\n",
      "NdataTriggerID\n",
      "hodoClusMean\n"
     ]
    },
    {
     "name": "stderr",
     "output_type": "stream",
     "text": [
      "Error in <THashList::Delete>: A list is accessing an object (0x3b31b5f0) already deleted (list name = THashList)\n"
     ]
    }
   ],
   "source": [
    "import ROOT as r\n",
    "\n",
    "\n",
    "def list_branches(rootfile_path, tree_name=\"Tout\"):\n",
    "    # Open the ROOT file\n",
    "    root_file = r.TFile.Open(rootfile_path)\n",
    "    \n",
    "    # Check if the file was successfully opened\n",
    "    if not root_file or root_file.IsZombie():\n",
    "        print(f\"Error: Could not open ROOT file '{rootfile_path}'.\")\n",
    "        return\n",
    "    \n",
    "    # Access the TTree\n",
    "    tree = root_file.Get(tree_name)\n",
    "    \n",
    "    # Check if the tree exists\n",
    "    if not tree:\n",
    "        print(f\"Error: Tree '{tree_name}' not found in file '{rootfile_path}'.\")\n",
    "        root_file.Close()\n",
    "        return\n",
    "    \n",
    "    # Get the list of branches\n",
    "    branch_list = tree.GetListOfBranches()\n",
    "    \n",
    "    # Print all branch names\n",
    "    print(f\"Branches in tree '{tree_name}':\")\n",
    "    for branch in branch_list:\n",
    "        print(branch.GetName())\n",
    "    \n",
    "    # Close the ROOT file\n",
    "    root_file.Close()\n",
    "\n",
    "# Example usage\n",
    "rootfile_path = \"../outfiles/HCal_data_GEN3_sbs100p_nucleon_np_model1.root\"\n",
    "list_branches(rootfile_path)\n"
   ]
  },
  {
   "cell_type": "code",
   "execution_count": 11,
   "id": "a771819b",
   "metadata": {},
   "outputs": [
    {
     "name": "stdout",
     "output_type": "stream",
     "text": [
      "['hodoTimes', 'hodoIDs', 'hodoTOT', 'nbars', 'hodoClusMean']\n",
      "['trigger', 'triggerID', 'NdataTriggerID']\n",
      "['nu', 'Q2', 'W2', 'vz', 'vx', 'vy', 'dx', 'dy', 'eSH', 'ePS', 'etheta', 'trP', 'coin_time']\n",
      "['nu', 'Q2', 'W2', 'vz', 'vx', 'vy', 'dx', 'dy', 'eSH', 'ePS', 'etheta', 'trP']\n",
      "['nu', 'Q2', 'W2', 'vz', 'vx', 'vy', 'dx', 'dy', 'eSH', 'ePS', 'etheta', 'trP']\n"
     ]
    }
   ],
   "source": [
    "hodo=np.load(f\"/media/research/TOSHIBA EXT/GEn/NumpyData/GEN{config}/HCal_data/hodo1.npz\")\n",
    "trigger=np.load(f\"/media/research/TOSHIBA EXT/GEn/NumpyData/GEN{config}/HCal_data/trigger1.npz\")\n",
    "generic=np.load(f\"/media/research/TOSHIBA EXT/GEn/NumpyData/GEN{config}/HCal_data/generic1.npz\")\n",
    "elasticSim=np.load(f\"/media/research/TOSHIBA EXT/GEn/NumpySim/GEN{config}/simulation0.npz\")\n",
    "inelasticSim=np.load(f\"/media/research/TOSHIBA EXT/GEn/NumpySim/GEN{config}/insimulation0.npz\")\n",
    "#hcal=np.load(f\"media/research/TOSHIBA EXT/GEn/NumpyData/GEN{config}/HCal_data/hcal.npz\")\n",
    "print(hodo.files)\n",
    "print(trigger.files)\n",
    "print(generic.files)\n",
    "print(elasticSim.files)\n",
    "print(inelasticSim.files)"
   ]
  },
  {
   "cell_type": "code",
   "execution_count": 12,
   "id": "9e186962",
   "metadata": {},
   "outputs": [],
   "source": [
    "preshower=generic['ePS']\n",
    "WW=generic['W2']"
   ]
  },
  {
   "cell_type": "code",
   "execution_count": 13,
   "id": "c47e3d68",
   "metadata": {},
   "outputs": [
    {
     "data": {
      "image/png": "[encoded data removed]",
      "text/plain": [
       "<Figure size 640x480 with 1 Axes>"
      ]
     },
     "metadata": {},
     "output_type": "display_data"
    }
   ],
   "source": [
    "pshist=plt.hist(preshower[np.where(WW<2)],bins=100,range=(0,2))"
   ]
  },
  {
   "cell_type": "code",
   "execution_count": 14,
   "id": "80032e56",
   "metadata": {},
   "outputs": [],
   "source": [
    "features = elasticSim.files\n",
    "\n",
    "# Combine all feature arrays into a single 2D array for each dataset\n",
    "generic_data = np.column_stack([generic[key] for key in features])\n",
    "elastic_data = np.column_stack([elasticSim[key] for key in features])\n",
    "inelastic_data = np.column_stack([inelasticSim[key] for key in features])\n",
    "\n",
    "# Add labels to the datasets\n",
    "elastic_labels = np.ones((elastic_data.shape[0], 1))  # 1 for elastic\n",
    "inelastic_labels = np.zeros((inelastic_data.shape[0], 1))  # 0 for inelastic\n",
    "\n",
    "# Add labels as the last column\n",
    "elastic_data_with_labels = np.hstack((elastic_data, elastic_labels))\n",
    "inelastic_data_with_labels = np.hstack((inelastic_data, inelastic_labels))\n",
    "\n",
    "# Combine labeled datasets\n",
    "labeled_data = np.vstack((elastic_data_with_labels, inelastic_data_with_labels))\n",
    "\n",
    "# If you need to work with generic data:\n",
    "# It will remain unlabeled if not being used for training\n",
    "# If labels for generic data exist, they can be added similarly\n",
    "# generic_labels = ... (if available)\n",
    "# generic_data_with_labels = np.hstack((generic_data, generic_labels))\n",
    "\n",
    "# Optional: Shuffle the combined dataset\n",
    "np.random.shuffle(labeled_data)\n",
    "\n",
    "# Separate features (X) and labels (y)\n",
    "X = labeled_data[:, :-1]  # All columns except the last one (features)\n",
    "y = labeled_data[:, -1]   # The last column (labels)"
   ]
  },
  {
   "cell_type": "code",
   "execution_count": null,
   "id": "dc345c50",
   "metadata": {},
   "outputs": [],
   "source": []
  },
  {
   "cell_type": "code",
   "execution_count": 15,
   "id": "4b4eb8dd",
   "metadata": {},
   "outputs": [],
   "source": [
    "from sklearn.model_selection import train_test_split\n",
    "\n",
    "# Split the data into training (80%) and testing (20%) sets\n",
    "X_train, X_test, y_train, y_test = train_test_split(X, y, test_size=0.2, random_state=42)\n"
   ]
  },
  {
   "cell_type": "code",
   "execution_count": 16,
   "id": "d8563107",
   "metadata": {},
   "outputs": [
    {
     "data": {
      "text/html": [
       "<style>#sk-container-id-1 {color: black;background-color: white;}#sk-container-id-1 pre{padding: 0;}#sk-container-id-1 div.sk-toggleable {background-color: white;}#sk-container-id-1 label.sk-toggleable__label {cursor: pointer;display: block;width: 100%;margin-bottom: 0;padding: 0.3em;box-sizing: border-box;text-align: center;}#sk-container-id-1 label.sk-toggleable__label-arrow:before {content: \"▸\";float: left;margin-right: 0.25em;color: #696969;}#sk-container-id-1 label.sk-toggleable__label-arrow:hover:before {color: black;}#sk-container-id-1 div.sk-estimator:hover label.sk-toggleable__label-arrow:before {color: black;}#sk-container-id-1 div.sk-toggleable__content {max-height: 0;max-width: 0;overflow: hidden;text-align: left;background-color: #f0f8ff;}#sk-container-id-1 div.sk-toggleable__content pre {margin: 0.2em;color: black;border-radius: 0.25em;background-color: #f0f8ff;}#sk-container-id-1 input.sk-toggleable__control:checked~div.sk-toggleable__content {max-height: 200px;max-width: 100%;overflow: auto;}#sk-container-id-1 input.sk-toggleable__control:checked~label.sk-toggleable__label-arrow:before {content: \"▾\";}#sk-container-id-1 div.sk-estimator input.sk-toggleable__control:checked~label.sk-toggleable__label {background-color: #d4ebff;}#sk-container-id-1 div.sk-label input.sk-toggleable__control:checked~label.sk-toggleable__label {background-color: #d4ebff;}#sk-container-id-1 input.sk-hidden--visually {border: 0;clip: rect(1px 1px 1px 1px);clip: rect(1px, 1px, 1px, 1px);height: 1px;margin: -1px;overflow: hidden;padding: 0;position: absolute;width: 1px;}#sk-container-id-1 div.sk-estimator {font-family: monospace;background-color: #f0f8ff;border: 1px dotted black;border-radius: 0.25em;box-sizing: border-box;margin-bottom: 0.5em;}#sk-container-id-1 div.sk-estimator:hover {background-color: #d4ebff;}#sk-container-id-1 div.sk-parallel-item::after {content: \"\";width: 100%;border-bottom: 1px solid gray;flex-grow: 1;}#sk-container-id-1 div.sk-label:hover label.sk-toggleable__label {background-color: #d4ebff;}#sk-container-id-1 div.sk-serial::before {content: \"\";position: absolute;border-left: 1px solid gray;box-sizing: border-box;top: 0;bottom: 0;left: 50%;z-index: 0;}#sk-container-id-1 div.sk-serial {display: flex;flex-direction: column;align-items: center;background-color: white;padding-right: 0.2em;padding-left: 0.2em;position: relative;}#sk-container-id-1 div.sk-item {position: relative;z-index: 1;}#sk-container-id-1 div.sk-parallel {display: flex;align-items: stretch;justify-content: center;background-color: white;position: relative;}#sk-container-id-1 div.sk-item::before, #sk-container-id-1 div.sk-parallel-item::before {content: \"\";position: absolute;border-left: 1px solid gray;box-sizing: border-box;top: 0;bottom: 0;left: 50%;z-index: -1;}#sk-container-id-1 div.sk-parallel-item {display: flex;flex-direction: column;z-index: 1;position: relative;background-color: white;}#sk-container-id-1 div.sk-parallel-item:first-child::after {align-self: flex-end;width: 50%;}#sk-container-id-1 div.sk-parallel-item:last-child::after {align-self: flex-start;width: 50%;}#sk-container-id-1 div.sk-parallel-item:only-child::after {width: 0;}#sk-container-id-1 div.sk-dashed-wrapped {border: 1px dashed gray;margin: 0 0.4em 0.5em 0.4em;box-sizing: border-box;padding-bottom: 0.4em;background-color: white;}#sk-container-id-1 div.sk-label label {font-family: monospace;font-weight: bold;display: inline-block;line-height: 1.2em;}#sk-container-id-1 div.sk-label-container {text-align: center;}#sk-container-id-1 div.sk-container {/* jupyter's `normalize.less` sets `[hidden] { display: none; }` but bootstrap.min.css set `[hidden] { display: none !important; }` so we also need the `!important` here to be able to override the default hidden behavior on the sphinx rendered scikit-learn.org. See: https://github.com/scikit-learn/scikit-learn/issues/21755 */display: inline-block !important;position: relative;}#sk-container-id-1 div.sk-text-repr-fallback {display: none;}</style><div id=\"sk-container-id-1\" class=\"sk-top-container\"><div class=\"sk-text-repr-fallback\"><pre>RandomForestClassifier(random_state=42)</pre><b>In a Jupyter environment, please rerun this cell to show the HTML representation or trust the notebook. <br />On GitHub, the HTML representation is unable to render, please try loading this page with nbviewer.org.</b></div><div class=\"sk-container\" hidden><div class=\"sk-item\"><div class=\"sk-estimator sk-toggleable\"><input class=\"sk-toggleable__control sk-hidden--visually\" id=\"sk-estimator-id-1\" type=\"checkbox\" checked><label for=\"sk-estimator-id-1\" class=\"sk-toggleable__label sk-toggleable__label-arrow\">RandomForestClassifier</label><div class=\"sk-toggleable__content\"><pre>RandomForestClassifier(random_state=42)</pre></div></div></div></div></div>"
      ],
      "text/plain": [
       "RandomForestClassifier(random_state=42)"
      ]
     },
     "execution_count": 16,
     "metadata": {},
     "output_type": "execute_result"
    }
   ],
   "source": [
    "from sklearn.ensemble import RandomForestClassifier\n",
    "\n",
    "# Create a Random Forest model\n",
    "model = RandomForestClassifier(n_estimators=100, random_state=42)\n",
    "\n",
    "# Train the model on the training set\n",
    "model.fit(X_train, y_train)\n"
   ]
  },
  {
   "cell_type": "code",
   "execution_count": 17,
   "id": "3ddacec7",
   "metadata": {},
   "outputs": [
    {
     "name": "stdout",
     "output_type": "stream",
     "text": [
      "              precision    recall  f1-score   support\n",
      "\n",
      "         0.0       0.78      0.76      0.77     14804\n",
      "         1.0       0.93      0.94      0.94     52995\n",
      "\n",
      "    accuracy                           0.90     67799\n",
      "   macro avg       0.85      0.85      0.85     67799\n",
      "weighted avg       0.90      0.90      0.90     67799\n",
      "\n",
      "AUC-ROC: 0.9415936051942315\n"
     ]
    }
   ],
   "source": [
    "from sklearn.metrics import classification_report, roc_auc_score\n",
    "\n",
    "# Predict on the test set\n",
    "y_pred = model.predict(X_test)\n",
    "y_proba = model.predict_proba(X_test)[:, 1]  # Probability for the \"elastic\" class\n",
    "\n",
    "# Print evaluation metrics\n",
    "print(classification_report(y_test, y_pred))\n",
    "print(\"AUC-ROC:\", roc_auc_score(y_test, y_proba))\n"
   ]
  },
  {
   "cell_type": "code",
   "execution_count": 18,
   "id": "1248336b",
   "metadata": {},
   "outputs": [],
   "source": [
    "generic=np.load(f\"/media/research/TOSHIBA EXT/GEn/NumpyData/GEN{config}/HCal_data/generic1.npz\")\n"
   ]
  },
  {
   "cell_type": "code",
   "execution_count": 19,
   "id": "889551a2",
   "metadata": {},
   "outputs": [
    {
     "name": "stdout",
     "output_type": "stream",
     "text": [
      "Starting File 0\n",
      "Starting File 1\n",
      "Starting File 2\n",
      "Starting File 3\n",
      "Starting File 4\n",
      "Starting File 5\n",
      "Starting File 6\n",
      "Starting File 7\n",
      "Starting File 8\n",
      "Starting File 9\n",
      "Starting File 10\n",
      "Starting File 11\n",
      "Starting File 12\n"
     ]
    }
   ],
   "source": [
    "stacked=np.empty(0)\n",
    "coin=np.empty(0)\n",
    "for i in range(0,13):  \n",
    "    print(f\"Starting File {i}\")\n",
    "    generic=np.load(f\"/media/research/TOSHIBA EXT/GEn/NumpyData/GEN{config}/HCal_data/generic{i}.npz\")\n",
    "\n",
    "    # Assume `actual_data` is a NumPy array with the same feature columns as X\n",
    "    actual_data = np.column_stack([generic[key] for key in elasticSim.files])\n",
    "    coin=np.append(coin,generic['coin_time'])\n",
    "    # Predict probabilities\n",
    "    elastic_probabilities = model.predict_proba(actual_data)[:, 1]\n",
    "\n",
    "    # Save the results if needed\n",
    "    generic_with_probabilities = np.hstack((actual_data, elastic_probabilities.reshape(-1, 1)))\n",
    "    stacked=np.append(stacked,generic_with_probabilities)\n",
    "    # Save to a file for inspection\n",
    "np.save(f\"/media/research/TOSHIBA EXT/GEn/ML/GEN{config}/genericWithProb{i}.npz\", stacked)\n"
   ]
  },
  {
   "cell_type": "code",
   "execution_count": 20,
   "id": "a6099032",
   "metadata": {},
   "outputs": [],
   "source": [
    "newStacked=stacked.reshape(25361701,13)"
   ]
  },
  {
   "cell_type": "code",
   "execution_count": 21,
   "id": "365a1edc",
   "metadata": {},
   "outputs": [
    {
     "name": "stdout",
     "output_type": "stream",
     "text": [
      "['nu', 'Q2', 'W2', 'vz', 'vx', 'vy', 'dx', 'dy', 'eSH', 'ePS', 'etheta', 'trP', 'coin_time']\n"
     ]
    }
   ],
   "source": [
    "print(generic.files)"
   ]
  },
  {
   "cell_type": "code",
   "execution_count": 22,
   "id": "f38fe315",
   "metadata": {},
   "outputs": [],
   "source": [
    "newData=np.transpose(newStacked)"
   ]
  },
  {
   "cell_type": "code",
   "execution_count": 23,
   "id": "ee533cae",
   "metadata": {},
   "outputs": [],
   "source": [
    "dx=newData[6]\n",
    "dy=newData[7]\n",
    "w2=newData[2]\n",
    "prob=newData[-1]\n",
    "trP=newData[-2]\n",
    "coinTime=coin"
   ]
  },
  {
   "cell_type": "markdown",
   "id": "5e667776",
   "metadata": {},
   "source": [
    "# Possible background construction"
   ]
  },
  {
   "cell_type": "code",
   "execution_count": 26,
   "id": "b3f009f1",
   "metadata": {},
   "outputs": [
    {
     "data": {
      "image/png": "[encoded data removed]",
      "text/plain": [
       "<Figure size 800x500 with 1 Axes>"
      ]
     },
     "metadata": {},
     "output_type": "display_data"
    },
    {
     "data": {
      "image/png": "[encoded data removed]",
      "text/plain": [
       "<Figure size 800x500 with 1 Axes>"
      ]
     },
     "metadata": {},
     "output_type": "display_data"
    }
   ],
   "source": [
    "masknocut=np.where((coin > coinmin) & (coin < coinmax) & (w2<W2max) &(w2>W2min) & (prob>0/10))\n",
    "figure=plt.figure(figsize=(8,5))\n",
    "    \n",
    "plt.xlabel(\"$\\Delta$X m\")\n",
    "    \n",
    "plt.title(\"$\\Delta$X With Varying ML Elastic Cuts\")\n",
    "cut=plt.hist(dx[masknocut],bins=80,range=(-4,4),color='dodgerblue')\n",
    "\n",
    "maskcut=np.where((coin > coinmin) & (coin < coinmax) & (w2<W2max) &(w2>W2min) & (prob>9/10))\n",
    "figure=plt.figure(figsize=(8,5))\n",
    "    \n",
    "plt.xlabel(\"$\\Delta$X m\")\n",
    "    \n",
    "plt.title(\"$\\Delta$X With Varying ML Elastic Cuts\")\n",
    "nocut=plt.hist(dx[maskcut],bins=80,range=(-4,4),color='dodgerblue')\n"
   ]
  },
  {
   "cell_type": "code",
   "execution_count": null,
   "id": "c9281b9b",
   "metadata": {},
   "outputs": [],
   "source": []
  },
  {
   "cell_type": "code",
   "execution_count": 29,
   "id": "df44b39a",
   "metadata": {},
   "outputs": [
    {
     "data": {
      "text/plain": [
       "array([-3.2900e+02, -4.1200e+02, -4.8300e+02, -5.7500e+02, -7.6300e+02,\n",
       "       -7.9200e+02, -9.9800e+02, -1.0790e+03, -1.3510e+03, -1.4850e+03,\n",
       "       -1.7780e+03, -2.0730e+03, -2.3290e+03, -2.5920e+03, -2.9230e+03,\n",
       "       -3.4720e+03, -3.8820e+03, -4.4730e+03, -4.9060e+03, -5.7960e+03,\n",
       "       -6.7840e+03, -8.0490e+03, -9.4210e+03, -1.0864e+04, -1.2517e+04,\n",
       "       -1.2329e+04, -1.1842e+04, -1.0791e+04, -9.8880e+03, -8.5210e+03,\n",
       "       -7.7420e+03, -7.1640e+03, -6.5690e+03, -6.1710e+03, -6.0560e+03,\n",
       "       -5.9410e+03, -5.7970e+03, -5.6740e+03, -5.5650e+03, -5.4400e+03,\n",
       "       -5.3320e+03, -4.9940e+03, -4.4700e+03, -4.0260e+03, -3.6480e+03,\n",
       "       -3.3720e+03, -3.2380e+03, -2.9540e+03, -2.7790e+03, -2.4460e+03,\n",
       "       -2.1780e+03, -1.8190e+03, -1.6220e+03, -1.3680e+03, -1.2920e+03,\n",
       "       -1.0220e+03, -8.5000e+02, -7.5500e+02, -6.2000e+02, -5.4200e+02,\n",
       "       -3.7900e+02, -3.2500e+02, -2.5600e+02, -2.3300e+02, -1.7600e+02,\n",
       "       -1.2800e+02, -7.6000e+01, -5.4000e+01, -4.4000e+01, -2.2000e+01,\n",
       "       -1.3000e+01, -7.0000e+00,  0.0000e+00,  0.0000e+00,  0.0000e+00,\n",
       "        0.0000e+00,  0.0000e+00,  0.0000e+00,  0.0000e+00,  0.0000e+00])"
      ]
     },
     "execution_count": 29,
     "metadata": {},
     "output_type": "execute_result"
    }
   ],
   "source": [
    "nocut[0]-cut[0]"
   ]
  },
  {
   "cell_type": "code",
   "execution_count": null,
   "id": "0337d394",
   "metadata": {
    "scrolled": false
   },
   "outputs": [],
   "source": [
    "for i in range(0,10):\n",
    "    mask=np.where((coin > coinmin) & (coin < coinmax) & (w2<W2max) &(w2>W2min) & (prob>i/10))\n",
    "    figure=plt.figure(figsize=(8,5))\n",
    "    \n",
    "    plt.xlabel(\"$\\Delta$X m\")\n",
    "    \n",
    "    plt.title(\"$\\Delta$X With Varying ML Elastic Cuts\")\n",
    "    dxhist=plt.hist(dx[mask],bins=80,range=(-4,4),color='dodgerblue')\n",
    "    plt.text(1,np.max(dxhist[0])/1.5,f\"Cuts: {W2min}<W2<{W2max} \\n {coinmin}<coincidence<{coinmax} \\n ElasticProbability>{i/10}\")\n"
   ]
  },
  {
   "cell_type": "code",
   "execution_count": null,
   "id": "8ff7796d",
   "metadata": {},
   "outputs": [],
   "source": []
  },
  {
   "cell_type": "code",
   "execution_count": 31,
   "id": "078190a8",
   "metadata": {},
   "outputs": [
    {
     "data": {
      "text/plain": [
       "Text(1, 9308.666666666666, 'Cuts: -0.5<W2<1.7 \\n 88<coincidence<100 \\n ElasticProbability>1.2')"
      ]
     },
     "execution_count": 31,
     "metadata": {},
     "output_type": "execute_result"
    },
    {
     "data": {
      "image/png": "[encoded data removed]",
      "text/plain": [
       "<Figure size 800x500 with 1 Axes>"
      ]
     },
     "metadata": {},
     "output_type": "display_data"
    },
    {
     "data": {
      "image/png": "[encoded data removed]",
      "text/plain": [
       "<Figure size 800x500 with 1 Axes>"
      ]
     },
     "metadata": {},
     "output_type": "display_data"
    }
   ],
   "source": [
    "mask=np.where((coin > coinmin) & (coin < coinmax) & (w2<W2max) &(w2>W2min) & (prob>0/10))\n",
    "figure=plt.figure(figsize=(8,5))\n",
    "    \n",
    "plt.xlabel(\"$\\Delta$X m\")\n",
    "    \n",
    "plt.title(\"$\\Delta$X With Varying ML Elastic Cuts\")\n",
    "allHist=plt.hist(dx[mask],bins=80,range=(-4,4),color='dodgerblue')\n",
    "plt.text(1,np.max(allHist[0])/1.5,f\"Cuts: {W2min}<W2<{W2max} \\n {coinmin}<coincidence<{coinmax} \\n ElasticProbability>{i/10}\")\n",
    "\n",
    "\n",
    "\n",
    "\n",
    "mask=np.where((coin > coinmin) & (coin < coinmax) & (w2<W2max) &(w2>W2min) & (prob>9/10))\n",
    "figure=plt.figure(figsize=(8,5))\n",
    "\n",
    "plt.xlabel(\"$\\Delta$X m\")\n",
    "\n",
    "plt.title(\"$\\Delta$X With Varying ML Elastic Cuts\")\n",
    "elasticHist=plt.hist(dx[mask],bins=80,range=(-4,4),color='dodgerblue')\n",
    "plt.text(1,np.max(elasticHist[0])/1.5,f\"Cuts: {W2min}<W2<{W2max} \\n {coinmin}<coincidence<{coinmax} \\n ElasticProbability>{i/10}\")\n"
   ]
  },
  {
   "cell_type": "code",
   "execution_count": 33,
   "id": "2dc890f6",
   "metadata": {},
   "outputs": [
    {
     "data": {
      "image/png": "[encoded data removed]",
      "text/plain": [
       "<Figure size 800x500 with 1 Axes>"
      ]
     },
     "metadata": {},
     "output_type": "display_data"
    }
   ],
   "source": [
    "subtracted_bins = allHist[0] - elasticHist[0]\n",
    "\n",
    "# Plot the subtracted histogram\n",
    "figure = plt.figure(figsize=(8, 5))\n",
    "plt.bar(allHist[1][:-1], subtracted_bins, width=(allHist[1][1] - allHist[1][0]), color='green', alpha=0.7, label=\"Subtracted Hist\")\n",
    "plt.xlabel(\"$\\Delta$X m\")\n",
    "plt.ylabel(\"Counts\")\n",
    "plt.title(\"Subtracted $\\Delta$X Histogram\")\n",
    "plt.legend()\n",
    "plt.show()"
   ]
  },
  {
   "cell_type": "code",
   "execution_count": null,
   "id": "6bbd19cc",
   "metadata": {},
   "outputs": [],
   "source": []
  },
  {
   "cell_type": "code",
   "execution_count": null,
   "id": "370122b5",
   "metadata": {},
   "outputs": [],
   "source": [
    "mask=np.where((coin > coinmin) & (coin < coinmax) & (dxmin<dx)&(dxmax>dx)&(dymin<dy)&(dymax>dy))\n",
    "mask2=np.where((coin > coinmin) & (coin < coinmax) & (dxmin<dx)&(dxmax>dx)&(dymin<dy)&(dymax>dy)&(prob>.9))\n",
    "plt.title(\"W2 with Elastic prob>.9\")\n",
    "plt.xlabel(\"W2 (GeV)\")\n",
    "w2hist=plt.hist(w2[mask],bins=80,color='dodgerblue',alpha=.5)\n",
    "w2hist=plt.hist(w2,bins=80,color='magenta',alpha=.2)\n",
    "\n",
    "w2hist=plt.hist(w2[mask2],bins=80,color='red',alpha=.5)\n",
    "#plt.ylim(0,100000)\n",
    "plt.yscale('log')"
   ]
  },
  {
   "cell_type": "code",
   "execution_count": null,
   "id": "cb1dcee4",
   "metadata": {},
   "outputs": [],
   "source": [
    "coinhist=plt.hist(coinTime[np.where(prob>.9)],bins=80,range=(50,120),color='dodgerblue')\n",
    "plt.title(\"Coin with Elastic prob>.9\")\n",
    "plt.xlabel(\"Coin (GeV)\")"
   ]
  },
  {
   "cell_type": "code",
   "execution_count": null,
   "id": "e7464a25",
   "metadata": {},
   "outputs": [],
   "source": [
    "from matplotlib.backends.backend_pdf import PdfPages\n",
    "with PdfPages('elastic_cuts_plots.pdf') as pdf:\n",
    "    for i in range(0, 10):\n",
    "        mask = np.where((coin > coinmin) & (coin < coinmax) & \n",
    "                        (w2 < W2max) & (w2 > W2min) & \n",
    "                        (prob > i / 10))\n",
    "        \n",
    "        figure = plt.figure(figsize=(8, 5))\n",
    "        plt.xlabel(\"$\\Delta$X m\")\n",
    "        plt.title(\"$\\Delta$X With Varying ML Elastic Cuts\")\n",
    "        \n",
    "        # Create the histogram\n",
    "        dxhist = plt.hist(dx[mask], bins=80, range=(-4, 4), color='dodgerblue')\n",
    "        \n",
    "        # Add text annotations\n",
    "        plt.text(1, np.max(dxhist[0]) / 1.5, \n",
    "                 f\"Cuts: {W2min}<W2<{W2max} \\n {coinmin}<coincidence<{coinmax} \\n ElasticProbability>{i / 10}\")\n",
    "        \n",
    "        # Save the current figure to the PDF\n",
    "        pdf.savefig(figure)\n",
    "        plt.close(figure)  # Close the figure to free memory\n"
   ]
  },
  {
   "cell_type": "markdown",
   "id": "465d9b1b",
   "metadata": {},
   "source": [
    "# ML Plots"
   ]
  },
  {
   "cell_type": "code",
   "execution_count": null,
   "id": "b85ea8db",
   "metadata": {},
   "outputs": [],
   "source": [
    "from sklearn.metrics import confusion_matrix, ConfusionMatrixDisplay\n",
    "\n",
    "# Generate confusion matrix\n",
    "cm = confusion_matrix(y_test, y_pred)\n",
    "disp = ConfusionMatrixDisplay(confusion_matrix=cm, display_labels=['Inelastic (0)', 'Elastic (1)'])\n",
    "disp.plot(cmap='Blues')\n",
    "plt.title('Confusion Matrix')\n",
    "plt.show()\n"
   ]
  },
  {
   "cell_type": "code",
   "execution_count": null,
   "id": "f8bf7ae5",
   "metadata": {},
   "outputs": [],
   "source": [
    "from sklearn.metrics import roc_curve, auc\n",
    "\n",
    "# Compute ROC curve and AUC\n",
    "fpr, tpr, _ = roc_curve(y_test, y_proba)\n",
    "roc_auc = auc(fpr, tpr)\n",
    "\n",
    "plt.figure(figsize=(10, 6))\n",
    "plt.plot(fpr, tpr, label=f'ROC curve (area = {roc_auc:.2f})', linewidth=2)\n",
    "plt.plot([0, 1], [0, 1], 'k--', label='Random Guess')\n",
    "plt.xlabel('False Positive Rate')\n",
    "plt.ylabel('True Positive Rate')\n",
    "plt.title('Receiver Operating Characteristic (ROC)')\n",
    "plt.legend(loc='lower right')\n",
    "plt.grid()\n",
    "plt.show()\n"
   ]
  },
  {
   "cell_type": "code",
   "execution_count": null,
   "id": "4b2bb662",
   "metadata": {},
   "outputs": [],
   "source": [
    "from sklearn.metrics import precision_recall_curve\n",
    "\n",
    "precision, recall, _ = precision_recall_curve(y_test, y_proba)\n",
    "\n",
    "plt.figure(figsize=(10, 6))\n",
    "plt.plot(recall, precision, label='Precision-Recall curve', linewidth=2)\n",
    "plt.xlabel('Recall')\n",
    "plt.ylabel('Precision')\n",
    "plt.title('Precision-Recall Curve')\n",
    "plt.legend(loc='upper right')\n",
    "plt.grid()\n",
    "plt.show()\n"
   ]
  },
  {
   "cell_type": "code",
   "execution_count": null,
   "id": "77c0538e",
   "metadata": {},
   "outputs": [],
   "source": []
  }
 ],
 "metadata": {
  "kernelspec": {
   "display_name": "Python 3 (ipykernel)",
   "language": "python",
   "name": "python3"
  },
  "language_info": {
   "codemirror_mode": {
    "name": "ipython",
    "version": 3
   },
   "file_extension": ".py",
   "mimetype": "text/x-python",
   "name": "python",
   "nbconvert_exporter": "python",
   "pygments_lexer": "ipython3",
   "version": "3.8.10"
  }
 },
 "nbformat": 4,
 "nbformat_minor": 5
}
